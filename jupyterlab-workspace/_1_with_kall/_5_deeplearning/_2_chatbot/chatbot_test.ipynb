{
 "cells": [
  {
   "cell_type": "markdown",
   "metadata": {},
   "source": [
    "# <저장되어있는 것에서 대답해주는 ENG chatbot>"
   ]
  },
  {
   "cell_type": "markdown",
   "metadata": {},
   "source": [
    "## 1.\n",
    "### yaml 포멧 파일을 불러옴\n",
    "- docs 에 dict type으로 저장(key값 두개)\n",
    "\n",
    "### conversation 처리\n",
    "- conv의 구조. 질문,답,답,답...\n",
    "- 2일때는 질문,답"
   ]
  },
  {
   "cell_type": "code",
   "execution_count": 94,
   "metadata": {},
   "outputs": [],
   "source": [
    "import os\n",
    "import yaml\n",
    "\n",
    "dir_path = './raw_data'\n",
    "files_list = os.listdir(dir_path + os.sep)\n",
    "\n",
    "questions = list()\n",
    "answers = list()\n",
    "for filepath in files_list:\n",
    "    stream = open( dir_path + os.sep + filepath , 'rb')\n",
    "    docs = yaml.safe_load(stream)\n",
    "    conversations = docs['conversations']\n",
    "    for con in conversations:\n",
    "        if len( con ) > 2 :\n",
    "            questions.append(con[0])\n",
    "            replies = con[ 1 : ]\n",
    "            ans = ''\n",
    "            for rep in replies:\n",
    "                ans += ' ' + rep\n",
    "            answers.append( ans )\n",
    "        elif len( con )> 1:\n",
    "            questions.append(con[0])\n",
    "            answers.append(con[1])"
   ]
  },
  {
   "cell_type": "code",
   "execution_count": 95,
   "metadata": {},
   "outputs": [],
   "source": [
    "# 질문 / 답변 각각 텍스트 파일 저장\n",
    "\n",
    "import numpy as np\n",
    "\n",
    "np.savetxt(\"./data/questions.csv\", questions, delimiter=\",\", fmt='%s')\n",
    "np.savetxt(\"./data/answers.csv\", answers, delimiter=\",\", fmt='%s')"
   ]
  },
  {
   "cell_type": "code",
   "execution_count": 96,
   "metadata": {},
   "outputs": [],
   "source": [
    "# 질문 파일 로드\n",
    "\n",
    "with open(\"./data/questions.csv\", 'r') as f:\n",
    "    questions_load = f.read().splitlines()"
   ]
  },
  {
   "cell_type": "code",
   "execution_count": 98,
   "metadata": {},
   "outputs": [],
   "source": [
    "# 답변 파일 로드\n",
    "\n",
    "with open(\"./data/answers.csv\", 'r') as f:\n",
    "    answers_load = f.read().splitlines()"
   ]
  },
  {
   "cell_type": "code",
   "execution_count": 99,
   "metadata": {},
   "outputs": [
    {
     "name": "stdout",
     "output_type": "stream",
     "text": [
      "첫번째 질문 : What is AI? \n",
      " 첫번째 답변 : Artificial Intelligence is the branch of engineering and science devoted to constructing machines that think.\n",
      "\n",
      "두번째 질문 : What is AI? \n",
      " 두번째 답변 : AI is the field of science which concerns itself with building hardware and software that replicates the functions of the human mind.\n"
     ]
    }
   ],
   "source": [
    "# 파일 확인\n",
    "\n",
    "print('첫번째 질문 : {} \\n 첫번째 답변 : {}\\n'.format(questions_load[0],answers_load[0]))\n",
    "print('두번째 질문 : {} \\n 두번째 답변 : {}'.format(questions_load[1],answers_load[1]))"
   ]
  },
  {
   "cell_type": "markdown",
   "metadata": {},
   "source": [
    "## preparing input data for the encoder\n",
    "\n",
    "The Encoder model will be fed input data which are preprocessed English sentences.\n",
    "The preprocessing is done as follows:\n",
    "\n",
    "- Tokenizing the English sentences\n",
    "- Determining the maximum length of the English sentence that's max_input_length\n",
    "- Padding the *tokenized_eng_lines* to the max_input_length\n",
    "- Determining the vocabulary size (num_eng_tokens) for English words"
   ]
  },
  {
   "cell_type": "markdown",
   "metadata": {},
   "source": [
    "![Encoder-Decoder](./image/RNN.PNG)"
   ]
  },
  {
   "cell_type": "markdown",
   "metadata": {},
   "source": [
    "## Encoder preprocessing\n",
    "- tokenizing\n",
    "- max length of sentence\n",
    "- padding\n",
    "- 전체 단어 갯수"
   ]
  },
  {
   "cell_type": "code",
   "execution_count": 100,
   "metadata": {},
   "outputs": [
    {
     "name": "stderr",
     "output_type": "stream",
     "text": [
      "Using TensorFlow backend.\n"
     ]
    }
   ],
   "source": [
    "from keras import preprocessing\n",
    "import numpy as np"
   ]
  },
  {
   "cell_type": "code",
   "execution_count": 104,
   "metadata": {},
   "outputs": [],
   "source": [
    "## 문장 토크나이징 및 벡터화\n",
    "\n",
    "tokenizer = preprocessing.text.Tokenizer()\n",
    "tokenizer.fit_on_texts(questions_load)\n",
    "tokenized_questions = tokenizer.texts_to_sequences(questions_load)"
   ]
  },
  {
   "cell_type": "code",
   "execution_count": 114,
   "metadata": {},
   "outputs": [
    {
     "name": "stdout",
     "output_type": "stream",
     "text": [
      "questions max length is 22\n"
     ]
    }
   ],
   "source": [
    "## 최대길이 문장의 길이 확인 --> input 텐서 생성 maxlen 활용\n",
    "\n",
    "max_input_length = max([len(token_seq) for token_seq in tokenized_questions])\n",
    "print('questions max length is {}'.format(max_input_length))"
   ]
  },
  {
   "cell_type": "code",
   "execution_count": 29,
   "metadata": {},
   "outputs": [
    {
     "name": "stdout",
     "output_type": "stream",
     "text": [
      "Encoder input data shape --> (523, 22)\n"
     ]
    },
    {
     "data": {
      "text/plain": [
       "array([  4,   3, 109,   0,   0,   0,   0,   0,   0,   0,   0,   0,   0,\n",
       "         0,   0,   0,   0,   0,   0,   0,   0,   0])"
      ]
     },
     "execution_count": 29,
     "metadata": {},
     "output_type": "execute_result"
    }
   ],
   "source": [
    "## pad_sentences로 입력 텐서 생성\n",
    "\n",
    "## padding : padding위치\n",
    "padded_questions = preprocessing.sequence.pad_sequences(tokenized_questions, maxlen = max_input_length, padding='post')\n",
    "encoder_input = np.array(padded_questions)\n",
    "print('Encoder input data shape --> {}'.format(encoder_input.shape))\n",
    "encoder_input[0]"
   ]
  },
  {
   "cell_type": "code",
   "execution_count": 138,
   "metadata": {},
   "outputs": [
    {
     "name": "stdout",
     "output_type": "stream",
     "text": [
      "Number of questions tokens = 470\n"
     ]
    }
   ],
   "source": [
    "## word_index로 전체 데이터의 딕셔너리 생성 및 전체 단어 수 확인\n",
    "\n",
    "questions_word_dict = tokenizer.word_index\n",
    "\n",
    "# embedding input_dim에는 전체 단어 수 + 1 <-- 0을 인덱스로 사용하지 않음 (470개 : 1~471)\n",
    "num_questions_tokens = len(questions_word_dict)\n",
    "print('Number of questions tokens = {}'.format(num_questions_tokens))"
   ]
  },
  {
   "cell_type": "markdown",
   "metadata": {},
   "source": [
    "## Preparing input data for the Decoder\n",
    "\n",
    "The Decoder model will be fed the preprocessed 'answers'.\n",
    "The preprocessing steps are similar to the ones which are above.\n",
    "This one step is carried out before the other steps.\n",
    "\n",
    "- Append < Start > tag at the first position in each answer sentence.\n",
    "- Append < End > tag at the last position in each answer sentence."
   ]
  },
  {
   "cell_type": "markdown",
   "metadata": {},
   "source": [
    "### a2 function이 더 좋음"
   ]
  },
  {
   "cell_type": "code",
   "execution_count": 179,
   "metadata": {},
   "outputs": [],
   "source": [
    "def a1():\n",
    "    ans = list()\n",
    "\n",
    "    for i in range(len(answers_load)):\n",
    "        ans.append('<START>' + answers_load[i] + '<END>')\n",
    "def a2():\n",
    "    ans = ['<START>'+answer+'<END>' for answer in answers_load]"
   ]
  },
  {
   "cell_type": "code",
   "execution_count": 180,
   "metadata": {},
   "outputs": [
    {
     "name": "stdout",
     "output_type": "stream",
     "text": [
      "148 µs ± 3.07 µs per loop (mean ± std. dev. of 7 runs, 10000 loops each)\n",
      "92.6 µs ± 2.37 µs per loop (mean ± std. dev. of 7 runs, 10000 loops each)\n"
     ]
    }
   ],
   "source": [
    "%timeit a1()\n",
    "%timeit a2()"
   ]
  },
  {
   "cell_type": "code",
   "execution_count": 183,
   "metadata": {},
   "outputs": [],
   "source": [
    "ans = ['<START>'+answer+'<END>' for answer in answers_load]"
   ]
  },
  {
   "cell_type": "code",
   "execution_count": 271,
   "metadata": {},
   "outputs": [
    {
     "name": "stdout",
     "output_type": "stream",
     "text": [
      "answers max length is 74\n",
      "Decoder input data shape --> (523, 74)\n",
      "Number of answers tokens = 1559\n"
     ]
    }
   ],
   "source": [
    "tokenizer1 = preprocessing.text.Tokenizer()\n",
    "tokenizer1.fit_on_texts(ans)\n",
    "tokenized_ans = tokenizer1.texts_to_sequences(ans)\n",
    "\n",
    "max_output_length = max([len(token_seq) for token_seq in tokenized_ans])\n",
    "print('answers max length is {}'.format(max_output_length))\n",
    "\n",
    "padded_ans = preprocessing.sequence.pad_sequences(tokenized_ans, maxlen=max_output_length,\n",
    "                                                 padding='post')\n",
    "decoder_input = np.array(padded_ans)\n",
    "print('Decoder input data shape --> {}'.format(decoder_input.shape))\n",
    "\n",
    "ans_word_dict = tokenizer1.word_index\n",
    "num_ans_tokens = len(ans_word_dict)\n",
    "print('Number of answers tokens = {}'.format(num_ans_tokens))"
   ]
  },
  {
   "cell_type": "markdown",
   "metadata": {},
   "source": [
    "## Preparing target data for the Decoder\n",
    "\n",
    "- Take a copy of tokenized_ans nad modify it like this\n",
    "\n",
    "    1. Remove the < Start > tag which we appended earlier\n",
    "    2. Convert the padded_ans to one-hot vectors"
   ]
  },
  {
   "cell_type": "code",
   "execution_count": 295,
   "metadata": {},
   "outputs": [
    {
     "data": {
      "text/plain": [
       "(523, 74, 1560)"
      ]
     },
     "execution_count": 295,
     "metadata": {},
     "output_type": "execute_result"
    }
   ],
   "source": [
    "decoder_target.shape"
   ]
  },
  {
   "cell_type": "code",
   "execution_count": 285,
   "metadata": {},
   "outputs": [
    {
     "name": "stdout",
     "output_type": "stream",
     "text": [
      "Decoder target data shape -> (523, 74, 1560)\n"
     ]
    }
   ],
   "source": [
    "decoder_target = [token_seq[1:] for token_seq in tokenized_ans]\n",
    "    \n",
    "padded_ans1 = preprocessing.sequence.pad_sequences(decoder_target ,maxlen=max_output_length, padding='post')\n",
    "\n",
    "# 1~1559까지 있었으나 padding을 넣으면서 0~1559, num_ans_tokens+1\n",
    "onehot_ans = utils.to_categorical(padded_ans1, num_ans_tokens+1)\n",
    "decoder_target= np.array(onehot_ans)\n",
    "print( 'Decoder target data shape -> {}'.format( decoder_target.shape ))"
   ]
  },
  {
   "cell_type": "code",
   "execution_count": 16,
   "metadata": {},
   "outputs": [
    {
     "data": {
      "text/plain": [
       "array([[0., 0., 0., ..., 0., 0., 0.],\n",
       "       [0., 0., 0., ..., 0., 0., 0.],\n",
       "       [0., 0., 0., ..., 0., 0., 0.],\n",
       "       ...,\n",
       "       [1., 0., 0., ..., 0., 0., 0.],\n",
       "       [1., 0., 0., ..., 0., 0., 0.],\n",
       "       [1., 0., 0., ..., 0., 0., 0.]], dtype=float32)"
      ]
     },
     "execution_count": 16,
     "metadata": {},
     "output_type": "execute_result"
    }
   ],
   "source": [
    "onehot_ans[0]"
   ]
  },
  {
   "cell_type": "markdown",
   "metadata": {},
   "source": [
    "## Defining Model"
   ]
  },
  {
   "cell_type": "code",
   "execution_count": 298,
   "metadata": {},
   "outputs": [],
   "source": [
    "from keras.models import Sequential, Model\n",
    "from keras import layers"
   ]
  },
  {
   "cell_type": "markdown",
   "metadata": {},
   "source": [
    "[Masking and Padding](https://www.tensorflow.org/beta/guide/keras/masking_and_padding)  \n",
    "[return_sequences, return_state](https://keras.io/layers/recurrent/)"
   ]
  },
  {
   "cell_type": "code",
   "execution_count": 299,
   "metadata": {},
   "outputs": [],
   "source": [
    "# mask_zero = True : 0으로 된값은 고려하지 않아도 됨\n",
    "# function 형으로 짜서 encode와 decode를 분리할 수 있음"
   ]
  },
  {
   "cell_type": "code",
   "execution_count": 300,
   "metadata": {},
   "outputs": [
    {
     "name": "stdout",
     "output_type": "stream",
     "text": [
      "Model: \"model_1\"\n",
      "__________________________________________________________________________________________________\n",
      "Layer (type)                    Output Shape         Param #     Connected to                     \n",
      "==================================================================================================\n",
      "input_1 (InputLayer)            (None, None)         0                                            \n",
      "__________________________________________________________________________________________________\n",
      "input_2 (InputLayer)            (None, None)         0                                            \n",
      "__________________________________________________________________________________________________\n",
      "embedding_1 (Embedding)         (None, None, 256)    120320      input_1[0][0]                    \n",
      "__________________________________________________________________________________________________\n",
      "embedding_2 (Embedding)         (None, None, 256)    399104      input_2[0][0]                    \n",
      "__________________________________________________________________________________________________\n",
      "lstm_1 (LSTM)                   [(None, 128), (None, 197120      embedding_1[0][0]                \n",
      "__________________________________________________________________________________________________\n",
      "lstm_2 (LSTM)                   [(None, None, 128),  197120      embedding_2[0][0]                \n",
      "                                                                 lstm_1[0][1]                     \n",
      "                                                                 lstm_1[0][2]                     \n",
      "__________________________________________________________________________________________________\n",
      "dense_1 (Dense)                 (None, None, 1559)   201111      lstm_2[0][0]                     \n",
      "==================================================================================================\n",
      "Total params: 1,114,775\n",
      "Trainable params: 1,114,775\n",
      "Non-trainable params: 0\n",
      "__________________________________________________________________________________________________\n"
     ]
    }
   ],
   "source": [
    "# return_sequences : hidden state\n",
    "# return_state : cell state\n",
    "encoder_inputs = layers.Input(shape=(None, ))\n",
    "encoder_embedding = layers.Embedding(num_questions_tokens, 256, mask_zero=True)(encoder_inputs)\n",
    "encoder_outputs, state_h, state_c = layers.LSTM(128, return_state=True)(encoder_embedding)\n",
    "encoder_states = [state_h, state_c]\n",
    "\n",
    "decoder_inputs = layers.Input(shape=(None,  ))\n",
    "decoder_embedding = layers.Embedding(num_ans_tokens, 256, mask_zero=True) (decoder_inputs)\n",
    "decoder_lstm = layers.LSTM(128, return_state=True, return_sequences=True)\n",
    "decoder_outputs , d_state_h , d_state_c = decoder_lstm(decoder_embedding, initial_state=encoder_states)\n",
    "decoder_dense = layers.Dense(num_ans_tokens, activation= 'softmax') \n",
    "output = decoder_dense(decoder_outputs)\n",
    "\n",
    "model = Model([encoder_inputs, decoder_inputs], output )\n",
    "model.compile(optimizer='rmsprop', loss='categorical_crossentropy', metrics=['accuracy'])\n",
    "\n",
    "model.summary()"
   ]
  },
  {
   "cell_type": "code",
   "execution_count": 20,
   "metadata": {
    "scrolled": true
   },
   "outputs": [
    {
     "name": "stdout",
     "output_type": "stream",
     "text": [
      "WARNING:tensorflow:From C:\\Users\\GIGABYTE\\Anaconda3\\lib\\site-packages\\keras\\backend\\tensorflow_backend.py:986: The name tf.assign_add is deprecated. Please use tf.compat.v1.assign_add instead.\n",
      "\n",
      "Epoch 1/300\n",
      "523/523 [==============================] - 8s 15ms/step - loss: 7.3254 - acc: 0.1051\n",
      "Epoch 2/300\n",
      "523/523 [==============================] - 1s 3ms/step - loss: 6.3323 - acc: 0.0705\n",
      "Epoch 3/300\n",
      "523/523 [==============================] - 1s 3ms/step - loss: 5.7594 - acc: 0.0712\n",
      "Epoch 4/300\n",
      "523/523 [==============================] - 1s 3ms/step - loss: 5.6801 - acc: 0.1307\n",
      "Epoch 5/300\n",
      "523/523 [==============================] - 1s 3ms/step - loss: 5.6497 - acc: 0.0941\n",
      "Epoch 6/300\n",
      "523/523 [==============================] - 1s 3ms/step - loss: 5.6252 - acc: 0.0911\n",
      "Epoch 7/300\n",
      "523/523 [==============================] - 1s 3ms/step - loss: 5.5957 - acc: 0.0881\n",
      "Epoch 8/300\n",
      "523/523 [==============================] - 1s 3ms/step - loss: 5.5644 - acc: 0.1037\n",
      "Epoch 9/300\n",
      "523/523 [==============================] - 1s 3ms/step - loss: 5.5407 - acc: 0.0952\n",
      "Epoch 10/300\n",
      "523/523 [==============================] - 1s 3ms/step - loss: 5.5019 - acc: 0.0929\n",
      "Epoch 11/300\n",
      "523/523 [==============================] - 1s 3ms/step - loss: 5.4680 - acc: 0.1025\n",
      "Epoch 12/300\n",
      "523/523 [==============================] - 1s 3ms/step - loss: 5.4249 - acc: 0.1043\n",
      "Epoch 13/300\n",
      "523/523 [==============================] - 1s 3ms/step - loss: 5.3969 - acc: 0.1082\n",
      "Epoch 14/300\n",
      "523/523 [==============================] - 1s 3ms/step - loss: 5.3555 - acc: 0.1141\n",
      "Epoch 15/300\n",
      "523/523 [==============================] - 1s 3ms/step - loss: 5.3271 - acc: 0.1234\n",
      "Epoch 16/300\n",
      "523/523 [==============================] - 1s 3ms/step - loss: 5.2904 - acc: 0.1362\n",
      "Epoch 17/300\n",
      "523/523 [==============================] - 1s 3ms/step - loss: 5.2566 - acc: 0.1351\n",
      "Epoch 18/300\n",
      "523/523 [==============================] - 1s 3ms/step - loss: 5.2268 - acc: 0.1415\n",
      "Epoch 19/300\n",
      "523/523 [==============================] - 1s 3ms/step - loss: 5.1909 - acc: 0.1521\n",
      "Epoch 20/300\n",
      "523/523 [==============================] - 1s 3ms/step - loss: 5.1647 - acc: 0.1505\n",
      "Epoch 21/300\n",
      "523/523 [==============================] - 1s 3ms/step - loss: 5.1249 - acc: 0.1511\n",
      "Epoch 22/300\n",
      "523/523 [==============================] - 1s 3ms/step - loss: 5.1033 - acc: 0.1538\n",
      "Epoch 23/300\n",
      "523/523 [==============================] - 1s 3ms/step - loss: 5.0653 - acc: 0.1561\n",
      "Epoch 24/300\n",
      "523/523 [==============================] - 1s 3ms/step - loss: 5.0338 - acc: 0.1627\n",
      "Epoch 25/300\n",
      "523/523 [==============================] - 1s 3ms/step - loss: 4.9959 - acc: 0.1692\n",
      "Epoch 26/300\n",
      "523/523 [==============================] - 1s 3ms/step - loss: 4.9606 - acc: 0.1725\n",
      "Epoch 27/300\n",
      "523/523 [==============================] - 1s 3ms/step - loss: 4.9284 - acc: 0.1747\n",
      "Epoch 28/300\n",
      "523/523 [==============================] - 1s 3ms/step - loss: 4.9014 - acc: 0.1748\n",
      "Epoch 29/300\n",
      "523/523 [==============================] - 1s 3ms/step - loss: 4.8624 - acc: 0.1805\n",
      "Epoch 30/300\n",
      "523/523 [==============================] - 1s 3ms/step - loss: 4.8323 - acc: 0.1803\n",
      "Epoch 31/300\n",
      "523/523 [==============================] - 1s 3ms/step - loss: 4.8043 - acc: 0.1852\n",
      "Epoch 32/300\n",
      "523/523 [==============================] - 1s 3ms/step - loss: 4.7665 - acc: 0.1861\n",
      "Epoch 33/300\n",
      "523/523 [==============================] - 1s 3ms/step - loss: 4.7365 - acc: 0.1886\n",
      "Epoch 34/300\n",
      "523/523 [==============================] - 1s 3ms/step - loss: 4.7028 - acc: 0.1866\n",
      "Epoch 35/300\n",
      "523/523 [==============================] - 1s 3ms/step - loss: 4.6713 - acc: 0.1914\n",
      "Epoch 36/300\n",
      "523/523 [==============================] - 1s 3ms/step - loss: 4.6341 - acc: 0.1987\n",
      "Epoch 37/300\n",
      "523/523 [==============================] - 1s 3ms/step - loss: 4.5961 - acc: 0.2008\n",
      "Epoch 38/300\n",
      "523/523 [==============================] - 1s 3ms/step - loss: 4.5711 - acc: 0.2007\n",
      "Epoch 39/300\n",
      "523/523 [==============================] - 1s 3ms/step - loss: 4.5281 - acc: 0.2078\n",
      "Epoch 40/300\n",
      "523/523 [==============================] - 1s 3ms/step - loss: 4.5046 - acc: 0.2053\n",
      "Epoch 41/300\n",
      "523/523 [==============================] - 1s 3ms/step - loss: 4.4662 - acc: 0.2087\n",
      "Epoch 42/300\n",
      "523/523 [==============================] - 1s 3ms/step - loss: 4.4371 - acc: 0.2102\n",
      "Epoch 43/300\n",
      "523/523 [==============================] - 1s 3ms/step - loss: 4.3829 - acc: 0.2168\n",
      "Epoch 44/300\n",
      "523/523 [==============================] - 1s 3ms/step - loss: 4.3701 - acc: 0.2128\n",
      "Epoch 45/300\n",
      "523/523 [==============================] - 1s 3ms/step - loss: 4.3345 - acc: 0.2210\n",
      "Epoch 46/300\n",
      "523/523 [==============================] - 1s 3ms/step - loss: 4.3080 - acc: 0.2248\n",
      "Epoch 47/300\n",
      "523/523 [==============================] - 1s 3ms/step - loss: 4.2629 - acc: 0.2369\n",
      "Epoch 48/300\n",
      "523/523 [==============================] - 2s 3ms/step - loss: 4.2310 - acc: 0.2401\n",
      "Epoch 49/300\n",
      "523/523 [==============================] - 3s 5ms/step - loss: 4.2130 - acc: 0.2424\n",
      "Epoch 50/300\n",
      "523/523 [==============================] - 3s 5ms/step - loss: 4.1717 - acc: 0.2552\n",
      "Epoch 51/300\n",
      "523/523 [==============================] - 3s 5ms/step - loss: 4.1446 - acc: 0.2558\n",
      "Epoch 52/300\n",
      "523/523 [==============================] - 3s 5ms/step - loss: 4.1173 - acc: 0.2554\n",
      "Epoch 53/300\n",
      "523/523 [==============================] - 3s 5ms/step - loss: 4.0716 - acc: 0.2659\n",
      "Epoch 54/300\n",
      "523/523 [==============================] - 3s 5ms/step - loss: 4.0420 - acc: 0.2736\n",
      "Epoch 55/300\n",
      "523/523 [==============================] - 3s 5ms/step - loss: 4.0267 - acc: 0.2673\n",
      "Epoch 56/300\n",
      "523/523 [==============================] - 3s 5ms/step - loss: 3.9807 - acc: 0.2734\n",
      "Epoch 57/300\n",
      "523/523 [==============================] - 3s 5ms/step - loss: 3.9511 - acc: 0.2746\n",
      "Epoch 58/300\n",
      "523/523 [==============================] - 3s 5ms/step - loss: 3.9297 - acc: 0.2812\n",
      "Epoch 59/300\n",
      "523/523 [==============================] - 3s 5ms/step - loss: 3.9025 - acc: 0.2774\n",
      "Epoch 60/300\n",
      "523/523 [==============================] - 3s 5ms/step - loss: 3.8643 - acc: 0.2835\n",
      "Epoch 61/300\n",
      "523/523 [==============================] - 3s 5ms/step - loss: 3.8389 - acc: 0.2840\n",
      "Epoch 62/300\n",
      "523/523 [==============================] - 3s 5ms/step - loss: 3.8156 - acc: 0.2849\n",
      "Epoch 63/300\n",
      "523/523 [==============================] - 3s 5ms/step - loss: 3.7865 - acc: 0.2895\n",
      "Epoch 64/300\n",
      "523/523 [==============================] - 3s 5ms/step - loss: 3.7544 - acc: 0.2929\n",
      "Epoch 65/300\n",
      "523/523 [==============================] - 3s 5ms/step - loss: 3.7275 - acc: 0.2967\n",
      "Epoch 66/300\n",
      "523/523 [==============================] - 3s 5ms/step - loss: 3.7100 - acc: 0.3003\n",
      "Epoch 67/300\n",
      "523/523 [==============================] - 3s 5ms/step - loss: 3.6678 - acc: 0.3006\n",
      "Epoch 68/300\n",
      "523/523 [==============================] - 3s 5ms/step - loss: 3.6481 - acc: 0.3049\n",
      "Epoch 69/300\n",
      "523/523 [==============================] - 3s 5ms/step - loss: 3.6171 - acc: 0.3100\n",
      "Epoch 70/300\n",
      "523/523 [==============================] - 3s 5ms/step - loss: 3.5872 - acc: 0.3119\n",
      "Epoch 71/300\n",
      "523/523 [==============================] - 3s 5ms/step - loss: 3.5537 - acc: 0.3190\n",
      "Epoch 72/300\n",
      "523/523 [==============================] - 3s 5ms/step - loss: 3.5251 - acc: 0.3181\n",
      "Epoch 73/300\n",
      "523/523 [==============================] - 3s 5ms/step - loss: 3.5108 - acc: 0.3219\n",
      "Epoch 74/300\n",
      "523/523 [==============================] - 3s 5ms/step - loss: 3.4781 - acc: 0.3238\n",
      "Epoch 75/300\n",
      "523/523 [==============================] - 3s 5ms/step - loss: 3.4523 - acc: 0.3259\n",
      "Epoch 76/300\n",
      "523/523 [==============================] - 3s 5ms/step - loss: 3.4250 - acc: 0.3295\n",
      "Epoch 77/300\n",
      "523/523 [==============================] - 3s 5ms/step - loss: 3.4055 - acc: 0.3290\n",
      "Epoch 78/300\n",
      "523/523 [==============================] - 3s 5ms/step - loss: 3.3871 - acc: 0.3340\n",
      "Epoch 79/300\n",
      "523/523 [==============================] - 3s 5ms/step - loss: 3.3438 - acc: 0.3410\n",
      "Epoch 80/300\n",
      "523/523 [==============================] - 3s 5ms/step - loss: 3.3230 - acc: 0.3430\n",
      "Epoch 81/300\n",
      "523/523 [==============================] - 3s 5ms/step - loss: 3.3091 - acc: 0.3460\n",
      "Epoch 82/300\n",
      "523/523 [==============================] - 3s 5ms/step - loss: 3.2621 - acc: 0.3537\n",
      "Epoch 83/300\n",
      "523/523 [==============================] - 3s 5ms/step - loss: 3.2447 - acc: 0.3556\n",
      "Epoch 84/300\n",
      "523/523 [==============================] - 3s 5ms/step - loss: 3.2162 - acc: 0.3593\n",
      "Epoch 85/300\n",
      "523/523 [==============================] - 3s 5ms/step - loss: 3.2052 - acc: 0.3567\n",
      "Epoch 86/300\n",
      "523/523 [==============================] - 3s 5ms/step - loss: 3.1613 - acc: 0.3667\n",
      "Epoch 87/300\n",
      "523/523 [==============================] - 3s 5ms/step - loss: 3.1436 - acc: 0.3687\n",
      "Epoch 88/300\n",
      "523/523 [==============================] - 3s 5ms/step - loss: 3.1110 - acc: 0.3724\n",
      "Epoch 89/300\n",
      "523/523 [==============================] - 3s 5ms/step - loss: 3.0905 - acc: 0.3760\n",
      "Epoch 90/300\n",
      "523/523 [==============================] - 3s 5ms/step - loss: 3.0750 - acc: 0.3782\n",
      "Epoch 91/300\n",
      "523/523 [==============================] - 3s 5ms/step - loss: 3.0397 - acc: 0.3835\n",
      "Epoch 92/300\n",
      "523/523 [==============================] - 3s 5ms/step - loss: 3.0212 - acc: 0.3826\n",
      "Epoch 93/300\n",
      "523/523 [==============================] - 3s 5ms/step - loss: 2.9858 - acc: 0.3906\n",
      "Epoch 94/300\n",
      "523/523 [==============================] - 3s 5ms/step - loss: 2.9653 - acc: 0.3948\n",
      "Epoch 95/300\n",
      "523/523 [==============================] - 3s 5ms/step - loss: 2.9388 - acc: 0.3993\n",
      "Epoch 96/300\n",
      "523/523 [==============================] - 3s 5ms/step - loss: 2.9115 - acc: 0.4008\n",
      "Epoch 97/300\n",
      "523/523 [==============================] - 3s 5ms/step - loss: 2.9046 - acc: 0.4044\n",
      "Epoch 98/300\n",
      "523/523 [==============================] - 3s 5ms/step - loss: 2.8624 - acc: 0.4075\n",
      "Epoch 99/300\n",
      "523/523 [==============================] - 3s 5ms/step - loss: 2.8461 - acc: 0.4116\n",
      "Epoch 100/300\n",
      "523/523 [==============================] - 3s 5ms/step - loss: 2.8050 - acc: 0.4179\n",
      "Epoch 101/300\n",
      "523/523 [==============================] - 3s 5ms/step - loss: 2.7831 - acc: 0.4217\n",
      "Epoch 102/300\n",
      "523/523 [==============================] - 3s 5ms/step - loss: 2.7699 - acc: 0.4237\n",
      "Epoch 103/300\n",
      "523/523 [==============================] - 3s 5ms/step - loss: 2.7450 - acc: 0.4322\n",
      "Epoch 104/300\n",
      "523/523 [==============================] - 3s 5ms/step - loss: 2.7175 - acc: 0.4359\n",
      "Epoch 105/300\n",
      "523/523 [==============================] - 3s 5ms/step - loss: 2.6943 - acc: 0.4376\n",
      "Epoch 106/300\n",
      "523/523 [==============================] - 3s 5ms/step - loss: 2.6711 - acc: 0.4403\n",
      "Epoch 107/300\n",
      "523/523 [==============================] - 3s 5ms/step - loss: 2.6421 - acc: 0.4476\n",
      "Epoch 108/300\n",
      "523/523 [==============================] - 3s 5ms/step - loss: 2.6234 - acc: 0.4521\n",
      "Epoch 109/300\n",
      "523/523 [==============================] - 3s 5ms/step - loss: 2.5950 - acc: 0.4591\n",
      "Epoch 110/300\n",
      "523/523 [==============================] - 3s 5ms/step - loss: 2.5716 - acc: 0.4620\n",
      "Epoch 111/300\n",
      "523/523 [==============================] - 3s 5ms/step - loss: 2.5723 - acc: 0.4633\n",
      "Epoch 112/300\n",
      "523/523 [==============================] - 3s 5ms/step - loss: 2.5210 - acc: 0.4712\n",
      "Epoch 113/300\n",
      "523/523 [==============================] - 3s 5ms/step - loss: 2.5009 - acc: 0.4772\n",
      "Epoch 114/300\n",
      "523/523 [==============================] - 3s 5ms/step - loss: 2.4737 - acc: 0.4817\n",
      "Epoch 115/300\n",
      "523/523 [==============================] - 3s 5ms/step - loss: 2.4594 - acc: 0.4832\n",
      "Epoch 116/300\n",
      "523/523 [==============================] - 3s 5ms/step - loss: 2.4321 - acc: 0.4891\n",
      "Epoch 117/300\n",
      "523/523 [==============================] - 3s 5ms/step - loss: 2.4037 - acc: 0.4952\n",
      "Epoch 118/300\n",
      "523/523 [==============================] - 3s 5ms/step - loss: 2.3853 - acc: 0.4981\n",
      "Epoch 119/300\n",
      "523/523 [==============================] - 3s 5ms/step - loss: 2.3583 - acc: 0.5068\n",
      "Epoch 120/300\n",
      "523/523 [==============================] - 2s 5ms/step - loss: 2.3311 - acc: 0.5128\n",
      "Epoch 121/300\n",
      "523/523 [==============================] - 2s 5ms/step - loss: 2.3345 - acc: 0.5147\n",
      "Epoch 122/300\n",
      "523/523 [==============================] - 2s 5ms/step - loss: 2.2899 - acc: 0.5223\n",
      "Epoch 123/300\n",
      "523/523 [==============================] - 2s 5ms/step - loss: 2.2671 - acc: 0.5312\n",
      "Epoch 124/300\n",
      "523/523 [==============================] - 2s 5ms/step - loss: 2.2523 - acc: 0.5331\n",
      "Epoch 125/300\n",
      "523/523 [==============================] - 2s 5ms/step - loss: 2.2339 - acc: 0.5344\n",
      "Epoch 126/300\n",
      "523/523 [==============================] - 2s 5ms/step - loss: 2.2043 - acc: 0.5426\n",
      "Epoch 127/300\n",
      "523/523 [==============================] - 2s 5ms/step - loss: 2.1874 - acc: 0.5455\n",
      "Epoch 128/300\n",
      "523/523 [==============================] - 2s 5ms/step - loss: 2.1569 - acc: 0.5538\n",
      "Epoch 129/300\n",
      "523/523 [==============================] - 2s 5ms/step - loss: 2.1375 - acc: 0.5600\n",
      "Epoch 130/300\n",
      "523/523 [==============================] - 2s 5ms/step - loss: 2.1250 - acc: 0.5593\n",
      "Epoch 131/300\n",
      "523/523 [==============================] - 2s 5ms/step - loss: 2.0910 - acc: 0.5670\n",
      "Epoch 132/300\n",
      "523/523 [==============================] - 2s 5ms/step - loss: 2.0617 - acc: 0.5768\n",
      "Epoch 133/300\n",
      "523/523 [==============================] - 2s 5ms/step - loss: 2.0549 - acc: 0.5761\n",
      "Epoch 134/300\n",
      "523/523 [==============================] - 2s 5ms/step - loss: 2.0211 - acc: 0.5871\n",
      "Epoch 135/300\n",
      "523/523 [==============================] - 2s 5ms/step - loss: 2.0046 - acc: 0.5877\n",
      "Epoch 136/300\n",
      "523/523 [==============================] - 2s 5ms/step - loss: 1.9941 - acc: 0.5891\n",
      "Epoch 137/300\n",
      "523/523 [==============================] - 2s 5ms/step - loss: 1.9670 - acc: 0.5981\n",
      "Epoch 138/300\n",
      "523/523 [==============================] - 3s 5ms/step - loss: 1.9420 - acc: 0.6065\n",
      "Epoch 139/300\n",
      "523/523 [==============================] - 2s 5ms/step - loss: 1.9216 - acc: 0.6086\n",
      "Epoch 140/300\n",
      "523/523 [==============================] - 2s 5ms/step - loss: 1.9106 - acc: 0.6106\n",
      "Epoch 141/300\n",
      "523/523 [==============================] - 2s 5ms/step - loss: 1.8864 - acc: 0.6147\n",
      "Epoch 142/300\n",
      "523/523 [==============================] - 2s 5ms/step - loss: 1.8666 - acc: 0.6205\n",
      "Epoch 143/300\n",
      "523/523 [==============================] - 2s 5ms/step - loss: 1.8349 - acc: 0.6256\n",
      "Epoch 144/300\n",
      "523/523 [==============================] - 2s 5ms/step - loss: 1.8437 - acc: 0.6237\n",
      "Epoch 145/300\n",
      "523/523 [==============================] - 2s 5ms/step - loss: 1.8002 - acc: 0.6303\n",
      "Epoch 146/300\n",
      "523/523 [==============================] - 2s 5ms/step - loss: 1.7898 - acc: 0.6380\n",
      "Epoch 147/300\n",
      "523/523 [==============================] - 2s 5ms/step - loss: 1.7624 - acc: 0.6429\n",
      "Epoch 148/300\n",
      "523/523 [==============================] - 2s 5ms/step - loss: 1.7479 - acc: 0.6486\n",
      "Epoch 149/300\n",
      "523/523 [==============================] - 2s 5ms/step - loss: 1.7289 - acc: 0.6545\n",
      "Epoch 150/300\n",
      "523/523 [==============================] - 2s 5ms/step - loss: 1.7081 - acc: 0.6589\n",
      "Epoch 151/300\n",
      "523/523 [==============================] - 2s 5ms/step - loss: 1.6889 - acc: 0.6592\n",
      "Epoch 152/300\n",
      "523/523 [==============================] - 2s 5ms/step - loss: 1.6784 - acc: 0.6591\n",
      "Epoch 153/300\n",
      "523/523 [==============================] - 2s 5ms/step - loss: 1.6533 - acc: 0.6708\n",
      "Epoch 154/300\n",
      "523/523 [==============================] - 2s 5ms/step - loss: 1.6287 - acc: 0.6741\n",
      "Epoch 155/300\n",
      "523/523 [==============================] - 2s 5ms/step - loss: 1.6124 - acc: 0.6763\n",
      "Epoch 156/300\n",
      "523/523 [==============================] - 2s 5ms/step - loss: 1.5929 - acc: 0.6810\n",
      "Epoch 157/300\n",
      "523/523 [==============================] - 2s 5ms/step - loss: 1.5804 - acc: 0.6865\n",
      "Epoch 158/300\n",
      "523/523 [==============================] - 2s 5ms/step - loss: 1.5642 - acc: 0.6889\n",
      "Epoch 159/300\n",
      "523/523 [==============================] - 2s 5ms/step - loss: 1.5355 - acc: 0.6947\n",
      "Epoch 160/300\n",
      "523/523 [==============================] - 2s 5ms/step - loss: 1.5187 - acc: 0.6984\n",
      "Epoch 161/300\n",
      "523/523 [==============================] - 2s 5ms/step - loss: 1.5138 - acc: 0.6993\n",
      "Epoch 162/300\n",
      "523/523 [==============================] - 2s 5ms/step - loss: 1.4927 - acc: 0.7025\n",
      "Epoch 163/300\n",
      "523/523 [==============================] - 2s 5ms/step - loss: 1.4764 - acc: 0.7109\n",
      "Epoch 164/300\n",
      "523/523 [==============================] - 2s 5ms/step - loss: 1.4423 - acc: 0.7177\n",
      "Epoch 165/300\n",
      "523/523 [==============================] - 2s 5ms/step - loss: 1.4400 - acc: 0.7175\n",
      "Epoch 166/300\n",
      "523/523 [==============================] - 2s 5ms/step - loss: 1.4195 - acc: 0.7221\n",
      "Epoch 167/300\n",
      "523/523 [==============================] - 2s 5ms/step - loss: 1.4148 - acc: 0.7253\n",
      "Epoch 168/300\n",
      "523/523 [==============================] - 2s 5ms/step - loss: 1.3881 - acc: 0.7282\n",
      "Epoch 169/300\n",
      "523/523 [==============================] - 2s 5ms/step - loss: 1.3730 - acc: 0.7376\n",
      "Epoch 170/300\n",
      "523/523 [==============================] - 2s 5ms/step - loss: 1.3626 - acc: 0.7361\n",
      "Epoch 171/300\n",
      "523/523 [==============================] - 2s 5ms/step - loss: 1.3477 - acc: 0.7399\n",
      "Epoch 172/300\n",
      "523/523 [==============================] - 2s 5ms/step - loss: 1.3211 - acc: 0.7457\n",
      "Epoch 173/300\n",
      "523/523 [==============================] - 2s 5ms/step - loss: 1.3174 - acc: 0.7459\n",
      "Epoch 174/300\n",
      "523/523 [==============================] - 2s 5ms/step - loss: 1.2949 - acc: 0.7503\n",
      "Epoch 175/300\n",
      "523/523 [==============================] - 2s 5ms/step - loss: 1.2771 - acc: 0.7553\n",
      "Epoch 176/300\n",
      "523/523 [==============================] - 2s 5ms/step - loss: 1.2696 - acc: 0.7574\n",
      "Epoch 177/300\n",
      "523/523 [==============================] - 2s 5ms/step - loss: 1.2602 - acc: 0.7565\n",
      "Epoch 178/300\n",
      "523/523 [==============================] - 2s 5ms/step - loss: 1.2307 - acc: 0.7715\n",
      "Epoch 179/300\n",
      "523/523 [==============================] - 2s 5ms/step - loss: 1.2161 - acc: 0.7722\n",
      "Epoch 180/300\n",
      "523/523 [==============================] - 2s 5ms/step - loss: 1.2065 - acc: 0.7765\n",
      "Epoch 181/300\n",
      "523/523 [==============================] - 2s 5ms/step - loss: 1.1885 - acc: 0.7801\n",
      "Epoch 182/300\n",
      "523/523 [==============================] - 3s 5ms/step - loss: 1.1810 - acc: 0.7819\n",
      "Epoch 183/300\n",
      "523/523 [==============================] - 2s 5ms/step - loss: 1.1599 - acc: 0.7856\n",
      "Epoch 184/300\n",
      "523/523 [==============================] - 2s 5ms/step - loss: 1.1518 - acc: 0.7853\n",
      "Epoch 185/300\n",
      "523/523 [==============================] - 2s 5ms/step - loss: 1.1289 - acc: 0.7935\n",
      "Epoch 186/300\n",
      "523/523 [==============================] - 2s 5ms/step - loss: 1.1264 - acc: 0.7919\n",
      "Epoch 187/300\n",
      "523/523 [==============================] - 2s 5ms/step - loss: 1.1117 - acc: 0.7926\n",
      "Epoch 188/300\n",
      "523/523 [==============================] - 2s 5ms/step - loss: 1.0964 - acc: 0.8024\n",
      "Epoch 189/300\n",
      "523/523 [==============================] - 2s 5ms/step - loss: 1.0731 - acc: 0.8050\n",
      "Epoch 190/300\n",
      "523/523 [==============================] - 2s 5ms/step - loss: 1.0766 - acc: 0.8040\n",
      "Epoch 191/300\n",
      "523/523 [==============================] - 2s 5ms/step - loss: 1.0499 - acc: 0.8094\n",
      "Epoch 192/300\n",
      "523/523 [==============================] - 2s 5ms/step - loss: 1.0392 - acc: 0.8097\n",
      "Epoch 193/300\n",
      "523/523 [==============================] - 2s 5ms/step - loss: 1.0312 - acc: 0.8126\n",
      "Epoch 194/300\n",
      "523/523 [==============================] - 2s 5ms/step - loss: 1.0242 - acc: 0.8117\n",
      "Epoch 195/300\n",
      "523/523 [==============================] - 2s 5ms/step - loss: 1.0009 - acc: 0.8169\n",
      "Epoch 196/300\n",
      "523/523 [==============================] - 2s 5ms/step - loss: 0.9943 - acc: 0.8223\n",
      "Epoch 197/300\n",
      "523/523 [==============================] - 2s 5ms/step - loss: 0.9826 - acc: 0.8211\n",
      "Epoch 198/300\n",
      "523/523 [==============================] - 2s 5ms/step - loss: 0.9668 - acc: 0.8249\n",
      "Epoch 199/300\n",
      "523/523 [==============================] - 2s 5ms/step - loss: 0.9490 - acc: 0.8295\n",
      "Epoch 200/300\n",
      "523/523 [==============================] - 2s 5ms/step - loss: 0.9502 - acc: 0.8283\n",
      "Epoch 201/300\n",
      "523/523 [==============================] - 2s 5ms/step - loss: 0.9311 - acc: 0.8326\n",
      "Epoch 202/300\n",
      "523/523 [==============================] - 2s 5ms/step - loss: 0.9159 - acc: 0.8372\n",
      "Epoch 203/300\n",
      "523/523 [==============================] - 2s 5ms/step - loss: 0.9077 - acc: 0.8380\n",
      "Epoch 204/300\n",
      "523/523 [==============================] - 2s 5ms/step - loss: 0.9038 - acc: 0.8355\n",
      "Epoch 205/300\n",
      "523/523 [==============================] - 2s 5ms/step - loss: 0.8911 - acc: 0.8417\n",
      "Epoch 206/300\n",
      "523/523 [==============================] - 2s 5ms/step - loss: 0.8782 - acc: 0.8415\n",
      "Epoch 207/300\n",
      "523/523 [==============================] - 2s 5ms/step - loss: 0.8529 - acc: 0.8492\n",
      "Epoch 208/300\n",
      "523/523 [==============================] - 2s 5ms/step - loss: 0.8531 - acc: 0.8472\n",
      "Epoch 209/300\n",
      "523/523 [==============================] - 2s 5ms/step - loss: 0.8509 - acc: 0.8451\n",
      "Epoch 210/300\n",
      "523/523 [==============================] - 2s 5ms/step - loss: 0.8350 - acc: 0.8503\n",
      "Epoch 211/300\n",
      "523/523 [==============================] - 2s 5ms/step - loss: 0.8167 - acc: 0.8515\n",
      "Epoch 212/300\n",
      "523/523 [==============================] - 2s 5ms/step - loss: 0.8089 - acc: 0.8533\n",
      "Epoch 213/300\n",
      "523/523 [==============================] - 2s 5ms/step - loss: 0.8079 - acc: 0.8533\n",
      "Epoch 214/300\n",
      "523/523 [==============================] - 2s 5ms/step - loss: 0.7973 - acc: 0.8588\n",
      "Epoch 215/300\n",
      "523/523 [==============================] - 2s 5ms/step - loss: 0.7784 - acc: 0.8614\n",
      "Epoch 216/300\n",
      "523/523 [==============================] - 2s 5ms/step - loss: 0.7662 - acc: 0.8659\n",
      "Epoch 217/300\n",
      "523/523 [==============================] - 2s 5ms/step - loss: 0.7620 - acc: 0.8643\n",
      "Epoch 218/300\n",
      "523/523 [==============================] - 2s 5ms/step - loss: 0.7515 - acc: 0.8705\n",
      "Epoch 219/300\n",
      "523/523 [==============================] - 2s 5ms/step - loss: 0.7315 - acc: 0.8736\n",
      "Epoch 220/300\n",
      "523/523 [==============================] - 2s 5ms/step - loss: 0.7361 - acc: 0.8718\n",
      "Epoch 221/300\n",
      "523/523 [==============================] - 2s 5ms/step - loss: 0.7309 - acc: 0.8722\n",
      "Epoch 222/300\n",
      "523/523 [==============================] - 2s 5ms/step - loss: 0.7152 - acc: 0.8717\n",
      "Epoch 223/300\n",
      "523/523 [==============================] - 2s 5ms/step - loss: 0.7027 - acc: 0.8777\n",
      "Epoch 224/300\n",
      "523/523 [==============================] - 2s 5ms/step - loss: 0.6941 - acc: 0.8758\n",
      "Epoch 225/300\n",
      "523/523 [==============================] - 2s 5ms/step - loss: 0.6927 - acc: 0.8774\n",
      "Epoch 226/300\n",
      "523/523 [==============================] - 2s 5ms/step - loss: 0.6796 - acc: 0.8786\n",
      "Epoch 227/300\n",
      "523/523 [==============================] - 2s 5ms/step - loss: 0.6628 - acc: 0.8842\n",
      "Epoch 228/300\n",
      "523/523 [==============================] - 2s 5ms/step - loss: 0.6632 - acc: 0.8842\n",
      "Epoch 229/300\n",
      "523/523 [==============================] - 2s 5ms/step - loss: 0.6436 - acc: 0.8888\n",
      "Epoch 230/300\n",
      "523/523 [==============================] - 2s 5ms/step - loss: 0.6456 - acc: 0.8875\n",
      "Epoch 231/300\n",
      "523/523 [==============================] - 2s 5ms/step - loss: 0.6306 - acc: 0.8902\n",
      "Epoch 232/300\n",
      "523/523 [==============================] - 2s 5ms/step - loss: 0.6379 - acc: 0.8881\n",
      "Epoch 233/300\n",
      "523/523 [==============================] - 3s 5ms/step - loss: 0.6138 - acc: 0.8951\n",
      "Epoch 234/300\n",
      "523/523 [==============================] - 2s 5ms/step - loss: 0.6123 - acc: 0.8893\n",
      "Epoch 235/300\n",
      "523/523 [==============================] - 2s 5ms/step - loss: 0.5993 - acc: 0.8969\n",
      "Epoch 236/300\n",
      "523/523 [==============================] - 2s 5ms/step - loss: 0.5875 - acc: 0.8998\n",
      "Epoch 237/300\n",
      "523/523 [==============================] - 2s 5ms/step - loss: 0.5955 - acc: 0.8940\n",
      "Epoch 238/300\n",
      "523/523 [==============================] - 2s 5ms/step - loss: 0.5785 - acc: 0.8995\n",
      "Epoch 239/300\n",
      "523/523 [==============================] - 2s 5ms/step - loss: 0.5644 - acc: 0.9019\n",
      "Epoch 240/300\n",
      "523/523 [==============================] - 2s 5ms/step - loss: 0.5610 - acc: 0.9037\n",
      "Epoch 241/300\n",
      "523/523 [==============================] - 2s 5ms/step - loss: 0.5622 - acc: 0.9029\n",
      "Epoch 242/300\n",
      "523/523 [==============================] - 2s 5ms/step - loss: 0.5481 - acc: 0.9055\n",
      "Epoch 243/300\n",
      "523/523 [==============================] - 2s 5ms/step - loss: 0.5467 - acc: 0.9085\n",
      "Epoch 244/300\n",
      "523/523 [==============================] - 2s 5ms/step - loss: 0.5356 - acc: 0.9063\n",
      "Epoch 245/300\n",
      "523/523 [==============================] - 2s 5ms/step - loss: 0.5300 - acc: 0.9077\n",
      "Epoch 246/300\n",
      "523/523 [==============================] - 2s 5ms/step - loss: 0.5307 - acc: 0.9073\n",
      "Epoch 247/300\n",
      "523/523 [==============================] - 2s 5ms/step - loss: 0.5088 - acc: 0.9133\n",
      "Epoch 248/300\n",
      "523/523 [==============================] - 2s 5ms/step - loss: 0.5091 - acc: 0.9125\n",
      "Epoch 249/300\n",
      "523/523 [==============================] - 2s 5ms/step - loss: 0.4971 - acc: 0.9158\n",
      "Epoch 250/300\n",
      "523/523 [==============================] - 2s 5ms/step - loss: 0.4916 - acc: 0.9146\n",
      "Epoch 251/300\n",
      "523/523 [==============================] - 3s 5ms/step - loss: 0.4950 - acc: 0.9126\n",
      "Epoch 252/300\n",
      "523/523 [==============================] - 2s 5ms/step - loss: 0.4921 - acc: 0.9137\n",
      "Epoch 253/300\n",
      "523/523 [==============================] - 2s 5ms/step - loss: 0.4707 - acc: 0.9196\n",
      "Epoch 254/300\n",
      "523/523 [==============================] - 2s 5ms/step - loss: 0.4653 - acc: 0.9192\n",
      "Epoch 255/300\n",
      "523/523 [==============================] - 2s 5ms/step - loss: 0.4678 - acc: 0.9168\n",
      "Epoch 256/300\n",
      "523/523 [==============================] - 2s 5ms/step - loss: 0.4501 - acc: 0.9246\n",
      "Epoch 257/300\n",
      "523/523 [==============================] - 2s 5ms/step - loss: 0.4513 - acc: 0.9234\n",
      "Epoch 258/300\n",
      "523/523 [==============================] - 2s 5ms/step - loss: 0.4525 - acc: 0.9250\n",
      "Epoch 259/300\n",
      "523/523 [==============================] - 2s 5ms/step - loss: 0.4325 - acc: 0.9265\n",
      "Epoch 260/300\n",
      "523/523 [==============================] - 2s 5ms/step - loss: 0.4255 - acc: 0.9265\n",
      "Epoch 261/300\n",
      "523/523 [==============================] - 2s 5ms/step - loss: 0.4306 - acc: 0.9273\n",
      "Epoch 262/300\n",
      "523/523 [==============================] - 2s 5ms/step - loss: 0.4203 - acc: 0.9296\n",
      "Epoch 263/300\n",
      "523/523 [==============================] - 2s 5ms/step - loss: 0.4217 - acc: 0.9267\n",
      "Epoch 264/300\n",
      "523/523 [==============================] - 2s 5ms/step - loss: 0.4100 - acc: 0.9306\n",
      "Epoch 265/300\n",
      "523/523 [==============================] - 3s 5ms/step - loss: 0.4073 - acc: 0.9296\n",
      "Epoch 266/300\n",
      "523/523 [==============================] - 3s 5ms/step - loss: 0.3981 - acc: 0.9327\n",
      "Epoch 267/300\n",
      "523/523 [==============================] - 3s 5ms/step - loss: 0.3889 - acc: 0.9352\n",
      "Epoch 268/300\n",
      "523/523 [==============================] - 3s 5ms/step - loss: 0.3811 - acc: 0.9359\n",
      "Epoch 269/300\n",
      "523/523 [==============================] - 3s 5ms/step - loss: 0.3847 - acc: 0.9352\n",
      "Epoch 270/300\n",
      "523/523 [==============================] - 3s 5ms/step - loss: 0.3847 - acc: 0.9314\n",
      "Epoch 271/300\n",
      "523/523 [==============================] - 3s 5ms/step - loss: 0.3754 - acc: 0.9368\n",
      "Epoch 272/300\n",
      "523/523 [==============================] - 3s 5ms/step - loss: 0.3641 - acc: 0.9400\n",
      "Epoch 273/300\n",
      "523/523 [==============================] - 3s 5ms/step - loss: 0.3648 - acc: 0.9402\n",
      "Epoch 274/300\n",
      "523/523 [==============================] - 3s 5ms/step - loss: 0.3552 - acc: 0.9410\n",
      "Epoch 275/300\n",
      "523/523 [==============================] - 3s 5ms/step - loss: 0.3550 - acc: 0.9419\n",
      "Epoch 276/300\n",
      "523/523 [==============================] - 3s 5ms/step - loss: 0.3488 - acc: 0.9427\n",
      "Epoch 277/300\n",
      "523/523 [==============================] - 3s 5ms/step - loss: 0.3460 - acc: 0.9401\n",
      "Epoch 278/300\n",
      "523/523 [==============================] - 3s 5ms/step - loss: 0.3402 - acc: 0.9453\n",
      "Epoch 279/300\n",
      "523/523 [==============================] - 3s 5ms/step - loss: 0.3356 - acc: 0.9458\n",
      "Epoch 280/300\n",
      "523/523 [==============================] - 3s 5ms/step - loss: 0.3296 - acc: 0.9457\n",
      "Epoch 281/300\n",
      "523/523 [==============================] - 3s 5ms/step - loss: 0.3347 - acc: 0.9449\n",
      "Epoch 282/300\n",
      "523/523 [==============================] - 3s 5ms/step - loss: 0.3205 - acc: 0.9468\n",
      "Epoch 283/300\n",
      "523/523 [==============================] - 3s 5ms/step - loss: 0.3187 - acc: 0.9470\n",
      "Epoch 284/300\n",
      "523/523 [==============================] - 3s 5ms/step - loss: 0.3099 - acc: 0.9488\n",
      "Epoch 285/300\n",
      "523/523 [==============================] - 3s 5ms/step - loss: 0.3087 - acc: 0.9473\n",
      "Epoch 286/300\n",
      "523/523 [==============================] - 2s 5ms/step - loss: 0.3097 - acc: 0.9490\n",
      "Epoch 287/300\n",
      "523/523 [==============================] - 3s 5ms/step - loss: 0.3071 - acc: 0.9512\n",
      "Epoch 288/300\n",
      "523/523 [==============================] - 3s 5ms/step - loss: 0.2931 - acc: 0.9524\n",
      "Epoch 289/300\n",
      "523/523 [==============================] - 3s 5ms/step - loss: 0.2854 - acc: 0.9538\n",
      "Epoch 290/300\n",
      "523/523 [==============================] - 3s 5ms/step - loss: 0.2905 - acc: 0.9503\n",
      "Epoch 291/300\n",
      "523/523 [==============================] - 3s 5ms/step - loss: 0.2834 - acc: 0.9544\n",
      "Epoch 292/300\n",
      "523/523 [==============================] - 3s 5ms/step - loss: 0.2809 - acc: 0.9538\n",
      "Epoch 293/300\n",
      "523/523 [==============================] - 3s 5ms/step - loss: 0.2790 - acc: 0.9543\n",
      "Epoch 294/300\n",
      "523/523 [==============================] - 3s 5ms/step - loss: 0.2707 - acc: 0.9572\n",
      "Epoch 295/300\n",
      "523/523 [==============================] - 2s 5ms/step - loss: 0.2676 - acc: 0.9562\n",
      "Epoch 296/300\n",
      "523/523 [==============================] - 2s 5ms/step - loss: 0.2653 - acc: 0.9552\n",
      "Epoch 297/300\n",
      "523/523 [==============================] - 3s 5ms/step - loss: 0.2676 - acc: 0.9564\n",
      "Epoch 298/300\n",
      "523/523 [==============================] - 3s 5ms/step - loss: 0.2641 - acc: 0.9565\n",
      "Epoch 299/300\n",
      "523/523 [==============================] - 2s 5ms/step - loss: 0.2560 - acc: 0.9586\n",
      "Epoch 300/300\n",
      "523/523 [==============================] - 2s 5ms/step - loss: 0.2551 - acc: 0.9582\n"
     ]
    },
    {
     "name": "stderr",
     "output_type": "stream",
     "text": [
      "C:\\Users\\GIGABYTE\\Anaconda3\\lib\\site-packages\\keras\\engine\\network.py:877: UserWarning: Layer lstm_2 was passed non-serializable keyword arguments: {'initial_state': [<tf.Tensor 'lstm_1/while/Exit_2:0' shape=(?, 128) dtype=float32>, <tf.Tensor 'lstm_1/while/Exit_3:0' shape=(?, 128) dtype=float32>]}. They will not be included in the serialized model (and thus will be missing at deserialization time).\n",
      "  '. They will not be included '\n"
     ]
    }
   ],
   "source": [
    "model.fit([encoder_input, decoder_input], decoder_target, batch_size = 128, epochs = 300)\n",
    "model.save('chat_model.h5')"
   ]
  },
  {
   "cell_type": "markdown",
   "metadata": {},
   "source": [
    "## load model"
   ]
  },
  {
   "cell_type": "code",
   "execution_count": 30,
   "metadata": {},
   "outputs": [],
   "source": [
    "from keras.models import load_model\n",
    "\n",
    "model_loaded = load_model('chat_model.h5')"
   ]
  },
  {
   "cell_type": "markdown",
   "metadata": {},
   "source": [
    "## encoder - decoder 모델 각각 분리 저장"
   ]
  },
  {
   "cell_type": "markdown",
   "metadata": {},
   "source": [
    "[seq2seq model framework](https://keras.io/examples/lstm_seq2seq/)"
   ]
  },
  {
   "cell_type": "code",
   "execution_count": 21,
   "metadata": {},
   "outputs": [],
   "source": [
    "encoder_model = Model(encoder_inputs, encoder_states)"
   ]
  },
  {
   "cell_type": "code",
   "execution_count": 27,
   "metadata": {},
   "outputs": [],
   "source": [
    "decoder_state_input_h = layers.Input(shape=(128,))\n",
    "decoder_state_input_c = layers.Input(shape=(128,))  \n",
    "decoder_states_inputs = [decoder_state_input_h, decoder_state_input_c]\n",
    "\n",
    "decoder_outputs, state_h, state_c = decoder_lstm(decoder_embedding,\n",
    "                                                 initial_state=decoder_states_inputs)\n",
    "decoder_states = [state_h, state_c]\n",
    "decoder_outputs = decoder_dense(decoder_outputs)\n",
    "decoder_model = Model([decoder_inputs] + decoder_states_inputs,\n",
    "                          [decoder_outputs] + decoder_states)"
   ]
  },
  {
   "cell_type": "code",
   "execution_count": 88,
   "metadata": {},
   "outputs": [
    {
     "name": "stderr",
     "output_type": "stream",
     "text": [
      "C:\\Users\\GIGABYTE\\Anaconda3\\lib\\site-packages\\keras\\engine\\network.py:877: UserWarning: Layer lstm_16 was passed non-serializable keyword arguments: {'initial_state': [<tf.Tensor 'input_52:0' shape=(?, 128) dtype=float32>, <tf.Tensor 'input_53:0' shape=(?, 128) dtype=float32>]}. They will not be included in the serialized model (and thus will be missing at deserialization time).\n",
      "  '. They will not be included '\n"
     ]
    }
   ],
   "source": [
    "encoder_model.save('chatbot_encoder_model.h5')\n",
    "decoder_model.save('chatbot_decoder_model.h5')"
   ]
  },
  {
   "cell_type": "code",
   "execution_count": 23,
   "metadata": {},
   "outputs": [
    {
     "name": "stdout",
     "output_type": "stream",
     "text": [
      "_________________________________________________________________\n",
      "Layer (type)                 Output Shape              Param #   \n",
      "=================================================================\n",
      "input_1 (InputLayer)         (None, None)              0         \n",
      "_________________________________________________________________\n",
      "embedding_1 (Embedding)      (None, None, 256)         120576    \n",
      "_________________________________________________________________\n",
      "lstm_1 (LSTM)                [(None, 128), (None, 128) 197120    \n",
      "=================================================================\n",
      "Total params: 317,696\n",
      "Trainable params: 317,696\n",
      "Non-trainable params: 0\n",
      "_________________________________________________________________\n"
     ]
    }
   ],
   "source": [
    "encoder_model.summary()"
   ]
  },
  {
   "cell_type": "code",
   "execution_count": 24,
   "metadata": {},
   "outputs": [
    {
     "name": "stdout",
     "output_type": "stream",
     "text": [
      "__________________________________________________________________________________________________\n",
      "Layer (type)                    Output Shape         Param #     Connected to                     \n",
      "==================================================================================================\n",
      "input_2 (InputLayer)            (None, None)         0                                            \n",
      "__________________________________________________________________________________________________\n",
      "embedding_3 (Embedding)         (None, None, 256)    399360      input_2[0][0]                    \n",
      "__________________________________________________________________________________________________\n",
      "input_3 (InputLayer)            (None, 128)          0                                            \n",
      "__________________________________________________________________________________________________\n",
      "input_4 (InputLayer)            (None, 128)          0                                            \n",
      "__________________________________________________________________________________________________\n",
      "lstm_2 (LSTM)                   [(None, None, 128),  197120      embedding_3[0][0]                \n",
      "                                                                 input_3[0][0]                    \n",
      "                                                                 input_4[0][0]                    \n",
      "__________________________________________________________________________________________________\n",
      "dense_1 (Dense)                 (None, None, 1560)   201240      lstm_2[1][0]                     \n",
      "==================================================================================================\n",
      "Total params: 797,720\n",
      "Trainable params: 797,720\n",
      "Non-trainable params: 0\n",
      "__________________________________________________________________________________________________\n"
     ]
    }
   ],
   "source": [
    "decoder_model.summary()"
   ]
  },
  {
   "cell_type": "code",
   "execution_count": null,
   "metadata": {},
   "outputs": [],
   "source": [
    "# 입력받음."
   ]
  },
  {
   "cell_type": "code",
   "execution_count": 25,
   "metadata": {},
   "outputs": [],
   "source": [
    "def str_to_tokens(sentence : str ):\n",
    "    words = sentence.lower().split()\n",
    "    tokens_list = list()\n",
    "    for word in words:\n",
    "        tokens_list.append(questions_word_dict[word] ) \n",
    "    return preprocessing.sequence.pad_sequences([tokens_list], \n",
    "                                                maxlen=max_input_length, padding='post')"
   ]
  },
  {
   "cell_type": "markdown",
   "metadata": {},
   "source": [
    "### chatbot test"
   ]
  },
  {
   "cell_type": "code",
   "execution_count": 28,
   "metadata": {},
   "outputs": [
    {
     "name": "stdout",
     "output_type": "stream",
     "text": [
      "Enter eng sentence : hello\n",
      " hi we we end\n",
      "Enter eng sentence : z\n"
     ]
    },
    {
     "ename": "KeyError",
     "evalue": "'z'",
     "output_type": "error",
     "traceback": [
      "\u001b[1;31m---------------------------------------------------------------------------\u001b[0m",
      "\u001b[1;31mKeyError\u001b[0m                                  Traceback (most recent call last)",
      "\u001b[1;32m<ipython-input-28-c3b805ea8cd5>\u001b[0m in \u001b[0;36m<module>\u001b[1;34m\u001b[0m\n\u001b[0;32m      1\u001b[0m \u001b[1;32mfor\u001b[0m \u001b[0mepoch\u001b[0m \u001b[1;32min\u001b[0m \u001b[0mrange\u001b[0m\u001b[1;33m(\u001b[0m\u001b[0mencoder_input\u001b[0m\u001b[1;33m.\u001b[0m\u001b[0mshape\u001b[0m\u001b[1;33m[\u001b[0m\u001b[1;36m0\u001b[0m\u001b[1;33m]\u001b[0m \u001b[1;33m)\u001b[0m\u001b[1;33m:\u001b[0m\u001b[1;33m\u001b[0m\u001b[0m\n\u001b[1;32m----> 2\u001b[1;33m     \u001b[0mstates_values\u001b[0m \u001b[1;33m=\u001b[0m \u001b[0mencoder_model\u001b[0m\u001b[1;33m.\u001b[0m\u001b[0mpredict\u001b[0m\u001b[1;33m(\u001b[0m\u001b[0mstr_to_tokens\u001b[0m\u001b[1;33m(\u001b[0m\u001b[0minput\u001b[0m\u001b[1;33m(\u001b[0m\u001b[1;34m'Enter eng sentence : '\u001b[0m \u001b[1;33m)\u001b[0m\u001b[1;33m)\u001b[0m\u001b[1;33m)\u001b[0m\u001b[1;33m\u001b[0m\u001b[0m\n\u001b[0m\u001b[0;32m      3\u001b[0m     \u001b[1;31m#states_values = enc_model.predict( encoder_input_data[ epoch ] )\u001b[0m\u001b[1;33m\u001b[0m\u001b[1;33m\u001b[0m\u001b[0m\n\u001b[0;32m      4\u001b[0m     \u001b[0mempty_target_seq\u001b[0m \u001b[1;33m=\u001b[0m \u001b[0mnp\u001b[0m\u001b[1;33m.\u001b[0m\u001b[0mzeros\u001b[0m\u001b[1;33m(\u001b[0m\u001b[1;33m(\u001b[0m\u001b[1;36m1\u001b[0m\u001b[1;33m,\u001b[0m \u001b[1;36m1\u001b[0m\u001b[1;33m)\u001b[0m\u001b[1;33m)\u001b[0m\u001b[1;33m\u001b[0m\u001b[0m\n\u001b[0;32m      5\u001b[0m     \u001b[0mempty_target_seq\u001b[0m\u001b[1;33m[\u001b[0m\u001b[1;36m0\u001b[0m\u001b[1;33m,\u001b[0m \u001b[1;36m0\u001b[0m\u001b[1;33m]\u001b[0m \u001b[1;33m=\u001b[0m \u001b[0mans_word_dict\u001b[0m\u001b[1;33m[\u001b[0m\u001b[1;34m'start'\u001b[0m\u001b[1;33m]\u001b[0m\u001b[1;33m\u001b[0m\u001b[0m\n",
      "\u001b[1;32m<ipython-input-25-9ea61a1c27a7>\u001b[0m in \u001b[0;36mstr_to_tokens\u001b[1;34m(sentence)\u001b[0m\n\u001b[0;32m      3\u001b[0m     \u001b[0mtokens_list\u001b[0m \u001b[1;33m=\u001b[0m \u001b[0mlist\u001b[0m\u001b[1;33m(\u001b[0m\u001b[1;33m)\u001b[0m\u001b[1;33m\u001b[0m\u001b[0m\n\u001b[0;32m      4\u001b[0m     \u001b[1;32mfor\u001b[0m \u001b[0mword\u001b[0m \u001b[1;32min\u001b[0m \u001b[0mwords\u001b[0m\u001b[1;33m:\u001b[0m\u001b[1;33m\u001b[0m\u001b[0m\n\u001b[1;32m----> 5\u001b[1;33m         \u001b[0mtokens_list\u001b[0m\u001b[1;33m.\u001b[0m\u001b[0mappend\u001b[0m\u001b[1;33m(\u001b[0m\u001b[0mquestions_word_dict\u001b[0m\u001b[1;33m[\u001b[0m\u001b[0mword\u001b[0m\u001b[1;33m]\u001b[0m \u001b[1;33m)\u001b[0m\u001b[1;33m\u001b[0m\u001b[0m\n\u001b[0m\u001b[0;32m      6\u001b[0m     return preprocessing.sequence.pad_sequences([tokens_list], \n\u001b[0;32m      7\u001b[0m                                                 maxlen=max_input_length, padding='post')\n",
      "\u001b[1;31mKeyError\u001b[0m: 'z'"
     ]
    }
   ],
   "source": [
    "for epoch in range(encoder_input.shape[0] ):\n",
    "    states_values = encoder_model.predict(str_to_tokens(input('Enter eng sentence : ' )))\n",
    "    #states_values = enc_model.predict( encoder_input_data[ epoch ] )\n",
    "    empty_target_seq = np.zeros((1, 1))\n",
    "    empty_target_seq[0, 0] = ans_word_dict['start']\n",
    "    stop_condition = False\n",
    "    decoded_translation = ''\n",
    "    while not stop_condition :\n",
    "        dec_outputs, h , c = decoder_model.predict([empty_target_seq] + states_values )\n",
    "        sampled_word_index = np.argmax(dec_outputs[0, -1, :] )\n",
    "        sampled_word = None\n",
    "        for word, index in ans_word_dict.items() :\n",
    "            if sampled_word_index == index :\n",
    "                decoded_translation += ' {}'.format(word)\n",
    "                sampled_word = word\n",
    "        \n",
    "        if sampled_word == 'end' or len(decoded_translation.split()) > max_output_length:\n",
    "            stop_condition = True\n",
    "            \n",
    "        empty_target_seq = np.zeros( ( 1 , 1 ) )  \n",
    "        empty_target_seq[ 0 , 0 ] = sampled_word_index\n",
    "        states_values = [ h , c ] \n",
    "\n",
    "    print(decoded_translation)"
   ]
  }
 ],
 "metadata": {
  "kernelspec": {
   "display_name": "Python 3",
   "language": "python",
   "name": "python3"
  },
  "language_info": {
   "codemirror_mode": {
    "name": "ipython",
    "version": 3
   },
   "file_extension": ".py",
   "mimetype": "text/x-python",
   "name": "python",
   "nbconvert_exporter": "python",
   "pygments_lexer": "ipython3",
   "version": "3.7.3"
  }
 },
 "nbformat": 4,
 "nbformat_minor": 4
}
