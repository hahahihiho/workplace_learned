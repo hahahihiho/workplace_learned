{
 "cells": [
  {
   "cell_type": "markdown",
   "metadata": {},
   "source": [
    "## print star shape in python"
   ]
  },
  {
   "cell_type": "code",
   "execution_count": 55,
   "metadata": {},
   "outputs": [],
   "source": [
    "a=5"
   ]
  },
  {
   "cell_type": "code",
   "execution_count": 56,
   "metadata": {},
   "outputs": [
    {
     "name": "stdout",
     "output_type": "stream",
     "text": [
      "*\n",
      "**\n",
      "***\n",
      "****\n",
      "*****\n"
     ]
    }
   ],
   "source": [
    "for i in range(1,a+1):\n",
    "    print('*'*i)"
   ]
  },
  {
   "cell_type": "code",
   "execution_count": 57,
   "metadata": {},
   "outputs": [
    {
     "name": "stdout",
     "output_type": "stream",
     "text": [
      "     *\n",
      "    **\n",
      "   ***\n",
      "  ****\n",
      " *****\n"
     ]
    }
   ],
   "source": [
    "for i in range(1,a+1):\n",
    "    print(' '*(a-i),'*'*(i))"
   ]
  },
  {
   "cell_type": "code",
   "execution_count": 66,
   "metadata": {},
   "outputs": [
    {
     "name": "stdout",
     "output_type": "stream",
     "text": [
      "5 1 5\n",
      "4 2 4\n",
      "3 3 3\n",
      "2 4 2\n",
      "1 5 1\n",
      "      *      \n",
      "     ***     \n",
      "    *****    \n",
      "   *******   \n",
      "  *********  \n"
     ]
    }
   ],
   "source": [
    "for i in range(1,a+1):\n",
    "    print(a+1-i,i,a+1-i)\n",
    "for i in range(1,a+1):\n",
    "    print(' '*(a+1-i),'*'*(2*i-1),' '*(a+1-i))"
   ]
  },
  {
   "cell_type": "code",
   "execution_count": 67,
   "metadata": {},
   "outputs": [
    {
     "name": "stdout",
     "output_type": "stream",
     "text": [
      "5 1 5\n",
      "4 2 4\n",
      "3 3 3\n",
      "2 4 2\n",
      "1 5 1\n",
      "0 6 0\n",
      "-1 2 -1\n",
      "-2 3 -2\n",
      "-3 4 -3\n",
      "-4 5 -4\n"
     ]
    }
   ],
   "source": [
    "for i in range(1,2*a+1):\n",
    "    print(a+1-i,i if i<=a+1 else i-a,a+1-i)"
   ]
  },
  {
   "cell_type": "code",
   "execution_count": 94,
   "metadata": {},
   "outputs": [
    {
     "name": "stdout",
     "output_type": "stream",
     "text": [
      "      *\n",
      "     ***\n",
      "    *****\n",
      "   *******\n",
      "  *********\n",
      "   *******\n",
      "    *****\n",
      "     ***\n",
      "      *\n"
     ]
    }
   ],
   "source": [
    "for i in range(1,2*a):\n",
    "    if i<=a:\n",
    "        print(' '*(a+1-i),'*'*(2*i-1))\n",
    "    else:\n",
    "        print(' '*(-a+1+i),'*'*(2*(2*a-i)-1))\n",
    "    "
   ]
  },
  {
   "cell_type": "code",
   "execution_count": 98,
   "metadata": {},
   "outputs": [
    {
     "name": "stdout",
     "output_type": "stream",
     "text": [
      "True\n",
      "1 32\n",
      "         5\n",
      "=========5\n",
      "====5=====\n",
      "5=========\n"
     ]
    }
   ],
   "source": [
    "# 3항 연산자\n",
    "print('True'if 1==1 else 'false')\n",
    "# format\n",
    "print('{0} {2}{1}'.format(1,2,3))\n",
    "print('{:10}'.format(a))\n",
    "print('{:=>10}'.format(a))\n",
    "print('{:=^10}'.format(a))\n",
    "print('{:=<10}'.format(a))\n",
    "\n"
   ]
  }
 ],
 "metadata": {
  "kernelspec": {
   "display_name": "Python 3",
   "language": "python",
   "name": "python3"
  },
  "language_info": {
   "codemirror_mode": {
    "name": "ipython",
    "version": 3
   },
   "file_extension": ".py",
   "mimetype": "text/x-python",
   "name": "python",
   "nbconvert_exporter": "python",
   "pygments_lexer": "ipython3",
   "version": "3.7.3"
  }
 },
 "nbformat": 4,
 "nbformat_minor": 4
}
