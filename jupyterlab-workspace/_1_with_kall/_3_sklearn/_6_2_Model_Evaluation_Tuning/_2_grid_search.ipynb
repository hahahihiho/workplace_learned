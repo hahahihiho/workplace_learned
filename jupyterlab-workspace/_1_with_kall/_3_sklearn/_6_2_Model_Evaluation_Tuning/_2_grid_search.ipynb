{
 "cells": [
  {
   "cell_type": "markdown",
   "metadata": {},
   "source": [
    "## 2. Grid search\n",
    "- SVM에서 gamma,C의 best조합 찾기 등"
   ]
  },
  {
   "cell_type": "code",
   "execution_count": 6,
   "metadata": {},
   "outputs": [],
   "source": [
    "from sklearn.svm import SVC\n",
    "from sklearn.model_selection import train_test_split\n",
    "from sklearn import datasets\n",
    "import numpy as np"
   ]
  },
  {
   "cell_type": "code",
   "execution_count": 4,
   "metadata": {},
   "outputs": [
    {
     "name": "stdout",
     "output_type": "stream",
     "text": [
      "Train set size: 112 \n",
      " Test set size: 38\n"
     ]
    }
   ],
   "source": [
    "# 1. load and split iris data\n",
    "\n",
    "iris = datasets.load_iris()\n",
    "\n",
    "X_train, X_test, y_train, y_test = train_test_split(iris.data, iris.target, random_state = 0)\n",
    "\n",
    "print(\"Train set size: {} \\n Test set size: {}\".format(X_train.shape[0], X_test.shape[0]))"
   ]
  },
  {
   "cell_type": "code",
   "execution_count": 7,
   "metadata": {},
   "outputs": [
    {
     "name": "stdout",
     "output_type": "stream",
     "text": [
      "Best Score: 0.974\n",
      "Train Score: 0.9732142857142857\n",
      "parameters: {'gamma': 0.001, 'C': 100}\n"
     ]
    }
   ],
   "source": [
    "# 2. Gred Search\n",
    "\n",
    "best_score = 0\n",
    "\n",
    "for gamma in [0.001, 0.01, 0.1, 1, 10, 100]:\n",
    "    for C in [0.001, 0.01, 0.1, 1, 10, 100]:\n",
    "        # train SVC using combin# 2. Gred Search\n",
    "\n",
    "best_score = 0\n",
    "\n",
    "for gamma in [0.001, 0.01, 0.1, 1, 10, 100]:\n",
    "    for C in [0.001, 0.01, 0.1, 1, 10, 100]:\n",
    "        # train SVC using combination of gamma and C\n",
    "        svm = SVC(gamma=gamma, C=C)\n",
    "        svm.fit(X_train, y_train)\n",
    "        \n",
    "        # evaluate model\n",
    "        test_score = svm.score(X_test,y_test)\n",
    "        \n",
    "        # restore the highest score with its parameter\n",
    "        if test_score > best_score:\n",
    "            best_score = test_score\n",
    "            best_parameters = {'gamma' : gamma, 'C' : C}\n",
    "            train_score = svm.score(X_train, y_train)\n",
    "            \n",
    "print('Best Score: {}'.format(np.round(best_score,3)))\n",
    "print('Train Score: {}'.format(train_score))\n",
    "print('parameters: {}'.format(best_parameters))ation of gamma and C\n",
    "        svm = SVC(gamma=gamma, C=C)\n",
    "        svm.fit(X_train, y_train)\n",
    "        \n",
    "        # evaluate model\n",
    "        test_score = svm.score(X_test,y_test)\n",
    "        \n",
    "        # restore the highest score with its parameter\n",
    "        if test_score > best_score:\n",
    "            best_score = test_score\n",
    "            best_parameters = {'gamma' : gamma, 'C' : C}\n",
    "            train_score = svm.score(X_train, y_train)\n",
    "            \n",
    "print('Best Score: {}'.format(np.round(best_score,3)))\n",
    "print('Train Score: {}'.format(train_score))\n",
    "print('parameters: {}'.format(best_parameters))"
   ]
  },
  {
   "cell_type": "markdown",
   "metadata": {},
   "source": [
    "###### < Note>\n",
    "\n",
    "- 위의 결과에 따라 <u>모델의 정확도가 97%라고 결론 짓는 것은 위험</u>한 것일 수 있음\n",
    "\n",
    "- 여러가지 매개변수를 조합하여 테스트 세트의 정확도가 가장 높은 조합을 선택했으나,\n",
    "\n",
    "- 이 정확도는 새로운 데이터에 이어지지 않을 수 있다\n",
    "\n",
    "- 매개변수를 조정하기 위해 테스트 세트를 이미 사용했기 때문에 최종 모델의 정확성은  \n",
    "  새로운 데이터가 생성될 때까지 알 수 없다.\n",
    "  \n",
    "- 즉, <u>최종 평가를 위해서는 모델을 만들고 튜닝할 때 사용하지 않은</u> **독립된 데이터 셋이 필요**하다.\n",
    "\n",
    "- 애당초 데이터셋을 3개로 나누어 이 문제를 해결할 수 있다.\n",
    "\n",
    "   | 훈 련 세 트(train data) | 검 증 세 트(validation data) | 테스트 세트(test data) |\n",
    "    \n",
    "    \n",
    "- 그러나 이 역시 데이터의 수가 적을 때는 부정확할 수 있다."
   ]
  },
  {
   "cell_type": "code",
   "execution_count": 8,
   "metadata": {},
   "outputs": [
    {
     "name": "stdout",
     "output_type": "stream",
     "text": [
      "train set size: 84 \n",
      " validation set size: 28 \n",
      " test set size: 38\n"
     ]
    }
   ],
   "source": [
    "# 1, 데이터 분할 step1 --> train + validation set / test set\n",
    "\n",
    "X = iris.data\n",
    "y = iris.target\n",
    "\n",
    "X_trainval, X_test, y_trainval, y_test =train_test_split(\n",
    "    X, y, test_size = 0.25, random_state = 0)\n",
    "\n",
    "# 2. 데이터 분할 step2 --> train / validation\n",
    "\n",
    "X_train, X_valid, y_train, y_valid =train_test_split(\n",
    "    X_trainval, y_trainval, test_size = 0.25, random_state = 1)\n",
    "\n",
    "print(\"train set size: {} \\n validation set size: {} \\n test set size: {}\".format(X_train.shape[0],\n",
    "                                                                               X_valid.shape[0],\n",
    "                                                                               X_test.shape[0]))"
   ]
  },
  {
   "cell_type": "code",
   "execution_count": 9,
   "metadata": {},
   "outputs": [
    {
     "name": "stdout",
     "output_type": "stream",
     "text": [
      "Best Score in validation: 0.964\n",
      "parameters: {'gamma': 0.001, 'C': 100}\n",
      "Test Score with best parameters: 0.9210526315789473\n"
     ]
    }
   ],
   "source": [
    "# 2. Grid Search\n",
    "\n",
    "best_score = 0\n",
    "\n",
    "for gamma in [0.001, 0.01, 0.1, 1, 10, 100]:\n",
    "    for C in [0.001, 0.01, 0.1, 1, 10, 100]:\n",
    "        # train SVC using combination of gamma and C\n",
    "        svm = SVC(gamma=gamma, C=C)\n",
    "        svm.fit(X_train, y_train)\n",
    "        \n",
    "        # evaluate model\n",
    "        score = svm.score(X_valid,y_valid)\n",
    "        \n",
    "        # restore the highest score with its parameter\n",
    "        if score > best_score:\n",
    "            best_score = score\n",
    "            best_parameters1 = {'gamma' : gamma, 'C' : C}\n",
    "\n",
    "# train / validation set을 합쳐 최종 모델 적합 후\n",
    "# test set 사용해 평가\n",
    "\n",
    "svm = SVC(**best_parameters1)\n",
    "svm.fit(X_trainval, y_trainval)\n",
    "test_score = svm.score(X_test, y_test)\n",
    "           \n",
    "print('Best Score in validation: {}'.format(np.round(best_score,3)))\n",
    "print('parameters: {}'.format(best_parameters))\n",
    "print('Test Score with best parameters: {}'.format(test_score))"
   ]
  }
 ],
 "metadata": {
  "kernelspec": {
   "display_name": "Python 3",
   "language": "python",
   "name": "python3"
  },
  "language_info": {
   "codemirror_mode": {
    "name": "ipython",
    "version": 3
   },
   "file_extension": ".py",
   "mimetype": "text/x-python",
   "name": "python",
   "nbconvert_exporter": "python",
   "pygments_lexer": "ipython3",
   "version": "3.7.3"
  }
 },
 "nbformat": 4,
 "nbformat_minor": 4
}
