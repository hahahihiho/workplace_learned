{
 "cells": [
  {
   "cell_type": "code",
   "execution_count": 2,
   "metadata": {},
   "outputs": [],
   "source": [
    "import keras"
   ]
  },
  {
   "cell_type": "markdown",
   "metadata": {},
   "source": [
    "# 소규모 데이터셋에서 컨브넷 사용\n",
    "\n",
    "## 개 vs. 고양이"
   ]
  },
  {
   "cell_type": "markdown",
   "metadata": {},
   "source": [
    "## 데이터 내려받기\n",
    "\n",
    "`https://www.kaggle.com/c/dogs-vs-cats/data` (계정 만들기)\n",
    "\n",
    "![cats_vs_dogs_samples](https://s3.amazonaws.com/book.keras.io/img/ch5/cats_vs_dogs_samples.jpg)"
   ]
  },
  {
   "cell_type": "markdown",
   "metadata": {},
   "source": [
    "25,000개의 강아지와 고양이 이미지(클래스마다 12,500개)  \n",
    "\n",
    "**`모든 이미지를 사용하지 않고 일부 데이터만 이용.`**\n",
    "\n",
    "클래스별 1,000개의 샘플로 이루어진 훈련 세트  \n",
    "\n",
    "클래스별 500개의 샘플로 이루어진 검증 세트  \n",
    "\n",
    "클래스별 500개의 샘플로 이루어진 테스트 세트로 데이터 재구성"
   ]
  },
  {
   "cell_type": "code",
   "execution_count": 1,
   "metadata": {},
   "outputs": [],
   "source": [
    "import os, shutil"
   ]
  },
  {
   "cell_type": "code",
   "execution_count": 4,
   "metadata": {},
   "outputs": [],
   "source": [
    "# 원본 데이터셋을 압축 해제한 디렉터리 경로\n",
    "original_dataset_dir = './datasets/cats_and_dogs/train'\n",
    "\n",
    "# 소규모 데이터셋을 저장할 디렉터리\n",
    "base_dir = './datasets/cats_and_dogs_small'\n",
    "if os.path.exists(base_dir):  # 반복 실행하는 경우 기존 디렉토리 삭제\n",
    "    shutil.rmtree(base_dir)\n",
    "os.mkdir(base_dir)\n",
    "\n",
    "# 훈련, 검증, 테스트 분할을 위한 디렉터리\n",
    "train_dir = os.path.join(base_dir, 'train')\n",
    "os.mkdir(train_dir)\n",
    "validation_dir = os.path.join(base_dir, 'validation')\n",
    "os.mkdir(validation_dir)\n",
    "test_dir = os.path.join(base_dir, 'test')\n",
    "os.mkdir(test_dir)\n",
    "\n",
    "# 훈련용 고양이 사진 디렉터리\n",
    "train_cats_dir = os.path.join(train_dir, 'cats')\n",
    "os.mkdir(train_cats_dir)\n",
    "\n",
    "# 훈련용 강아지 사진 디렉터리\n",
    "train_dogs_dir = os.path.join(train_dir, 'dogs')\n",
    "os.mkdir(train_dogs_dir)\n",
    "\n",
    "# 검증용 고양이 사진 디렉터리\n",
    "validation_cats_dir = os.path.join(validation_dir, 'cats')\n",
    "os.mkdir(validation_cats_dir)\n",
    "\n",
    "# 검증용 강아지 사진 디렉터리\n",
    "validation_dogs_dir = os.path.join(validation_dir, 'dogs')\n",
    "os.mkdir(validation_dogs_dir)\n",
    "\n",
    "# 테스트용 고양이 사진 디렉터리\n",
    "test_cats_dir = os.path.join(test_dir, 'cats')\n",
    "os.mkdir(test_cats_dir)\n",
    "\n",
    "# 테스트용 강아지 사진 디렉터리\n",
    "test_dogs_dir = os.path.join(test_dir, 'dogs')\n",
    "os.mkdir(test_dogs_dir)\n",
    "\n",
    "# 처음 1,000개의 고양이 이미지를 train_cats_dir에 복사\n",
    "fnames = ['cat.{}.jpg'.format(i) for i in range(1000)]\n",
    "for fname in fnames:\n",
    "    src = os.path.join(original_dataset_dir, fname)\n",
    "    dst = os.path.join(train_cats_dir, fname)\n",
    "    shutil.copyfile(src, dst)\n",
    "\n",
    "# 다음 500개 고양이 이미지를 validation_cats_dir에 복사\n",
    "fnames = ['cat.{}.jpg'.format(i) for i in range(1000, 1500)]\n",
    "for fname in fnames:\n",
    "    src = os.path.join(original_dataset_dir, fname)\n",
    "    dst = os.path.join(validation_cats_dir, fname)\n",
    "    shutil.copyfile(src, dst)\n",
    "    \n",
    "# 다음 500개 고양이 이미지를 test_cats_dir에 복사\n",
    "fnames = ['cat.{}.jpg'.format(i) for i in range(1500, 2000)]\n",
    "for fname in fnames:\n",
    "    src = os.path.join(original_dataset_dir, fname)\n",
    "    dst = os.path.join(test_cats_dir, fname)\n",
    "    shutil.copyfile(src, dst)\n",
    "    \n",
    "# 처음 1,000개의 강아지 이미지를 train_dogs_dir에 복사\n",
    "fnames = ['dog.{}.jpg'.format(i) for i in range(1000)]\n",
    "for fname in fnames:\n",
    "    src = os.path.join(original_dataset_dir, fname)\n",
    "    dst = os.path.join(train_dogs_dir, fname)\n",
    "    shutil.copyfile(src, dst)\n",
    "    \n",
    "# 다음 500개 강아지 이미지를 validation_dogs_dir에 복사\n",
    "fnames = ['dog.{}.jpg'.format(i) for i in range(1000, 1500)]\n",
    "for fname in fnames:\n",
    "    src = os.path.join(original_dataset_dir, fname)\n",
    "    dst = os.path.join(validation_dogs_dir, fname)\n",
    "    shutil.copyfile(src, dst)\n",
    "    \n",
    "# 다음 500개 강아지 이미지를 test_dogs_dir에 복사\n",
    "fnames = ['dog.{}.jpg'.format(i) for i in range(1500, 2000)]\n",
    "for fname in fnames:\n",
    "    src = os.path.join(original_dataset_dir, fname)\n",
    "    dst = os.path.join(test_dogs_dir, fname)\n",
    "    shutil.copyfile(src, dst)"
   ]
  },
  {
   "cell_type": "markdown",
   "metadata": {},
   "source": [
    "### 데이터 확인"
   ]
  },
  {
   "cell_type": "code",
   "execution_count": 5,
   "metadata": {},
   "outputs": [
    {
     "name": "stdout",
     "output_type": "stream",
     "text": [
      "훈련용 고양이 이미지 전체 개수: 1000\n"
     ]
    }
   ],
   "source": [
    "print('훈련용 고양이 이미지 전체 개수:', len(os.listdir(train_cats_dir)))"
   ]
  },
  {
   "cell_type": "code",
   "execution_count": 6,
   "metadata": {},
   "outputs": [
    {
     "name": "stdout",
     "output_type": "stream",
     "text": [
      "훈련용 강아지 이미지 전체 개수: 1000\n"
     ]
    }
   ],
   "source": [
    "print('훈련용 강아지 이미지 전체 개수:', len(os.listdir(train_dogs_dir)))"
   ]
  },
  {
   "cell_type": "code",
   "execution_count": 7,
   "metadata": {},
   "outputs": [
    {
     "name": "stdout",
     "output_type": "stream",
     "text": [
      "검증용 고양이 이미지 전체 개수: 500\n"
     ]
    }
   ],
   "source": [
    "print('검증용 고양이 이미지 전체 개수:', len(os.listdir(validation_cats_dir)))"
   ]
  },
  {
   "cell_type": "code",
   "execution_count": 8,
   "metadata": {},
   "outputs": [
    {
     "name": "stdout",
     "output_type": "stream",
     "text": [
      "검증용 강아지 이미지 전체 개수: 500\n"
     ]
    }
   ],
   "source": [
    "print('검증용 강아지 이미지 전체 개수:', len(os.listdir(validation_dogs_dir)))"
   ]
  },
  {
   "cell_type": "code",
   "execution_count": 9,
   "metadata": {},
   "outputs": [
    {
     "name": "stdout",
     "output_type": "stream",
     "text": [
      "테스트용 고양이 이미지 전체 개수: 500\n"
     ]
    }
   ],
   "source": [
    "print('테스트용 고양이 이미지 전체 개수:', len(os.listdir(test_cats_dir)))"
   ]
  },
  {
   "cell_type": "code",
   "execution_count": 10,
   "metadata": {},
   "outputs": [
    {
     "name": "stdout",
     "output_type": "stream",
     "text": [
      "테스트용 강아지 이미지 전체 개수: 500\n"
     ]
    }
   ],
   "source": [
    "print('테스트용 강아지 이미지 전체 개수:', len(os.listdir(test_dogs_dir)))"
   ]
  },
  {
   "cell_type": "markdown",
   "metadata": {},
   "source": [
    "## 네트워크 구성하기\n",
    "\n",
    "- mnist 보다 이미지가 크고 복잡한 문제이기 때문에 네트워크를 좀 더 크게 생성   \n",
    "--> `Conv2D` + `MaxPooling2D` 단계를 하나 더 추가 \n",
    "\n",
    "- 네트워크의 용량을 늘리고 `Flatten` 층의 크기가 너무 커지지 않도록 특성 맵의 크기를 줄임\n",
    "\n",
    "- 150 × 150 크기의 입력으로 시작해서 `Flatten` 층 이전에 7 × 7 크기의 특성 맵으로 감소\n",
    "\n",
    "- 특성 맵의 깊이는 네트워크에서 점진적으로 증가하지만(32에서 128까지), 특성 맵의 크기는 감소(150 × 150에서 7 × 7까지)  \n",
    "--> 이는 거의 모든 컨브넷에서 볼 수 있는 전형적인 패턴"
   ]
  },
  {
   "cell_type": "code",
   "execution_count": 12,
   "metadata": {},
   "outputs": [],
   "source": [
    "from keras import layers\n",
    "from keras import models\n",
    "\n",
    "model = models.Sequential()\n",
    "model.add(layers.Conv2D(32, (3, 3), activation='relu',\n",
    "                        input_shape=(150, 150, 3)))\n",
    "model.add(layers.MaxPooling2D((2, 2)))\n",
    "model.add(layers.Conv2D(64, (3, 3), activation='relu'))\n",
    "model.add(layers.MaxPooling2D((2, 2)))\n",
    "model.add(layers.Conv2D(128, (3, 3), activation='relu'))\n",
    "model.add(layers.MaxPooling2D((2, 2)))\n",
    "model.add(layers.Conv2D(128, (3, 3), activation='relu'))\n",
    "model.add(layers.MaxPooling2D((2, 2)))\n",
    "# 과적합 방지, dropout\n",
    "# model.add(layers.Dropout(0.5))\n",
    "model.add(layers.Flatten())\n",
    "model.add(layers.Dense(512, activation='relu'))\n",
    "model.add(layers.Dense(1, activation='sigmoid'))"
   ]
  },
  {
   "cell_type": "code",
   "execution_count": 13,
   "metadata": {},
   "outputs": [
    {
     "name": "stdout",
     "output_type": "stream",
     "text": [
      "Model: \"sequential_2\"\n",
      "_________________________________________________________________\n",
      "Layer (type)                 Output Shape              Param #   \n",
      "=================================================================\n",
      "conv2d_5 (Conv2D)            (None, 148, 148, 32)      896       \n",
      "_________________________________________________________________\n",
      "max_pooling2d_5 (MaxPooling2 (None, 74, 74, 32)        0         \n",
      "_________________________________________________________________\n",
      "conv2d_6 (Conv2D)            (None, 72, 72, 64)        18496     \n",
      "_________________________________________________________________\n",
      "max_pooling2d_6 (MaxPooling2 (None, 36, 36, 64)        0         \n",
      "_________________________________________________________________\n",
      "conv2d_7 (Conv2D)            (None, 34, 34, 128)       73856     \n",
      "_________________________________________________________________\n",
      "max_pooling2d_7 (MaxPooling2 (None, 17, 17, 128)       0         \n",
      "_________________________________________________________________\n",
      "conv2d_8 (Conv2D)            (None, 15, 15, 128)       147584    \n",
      "_________________________________________________________________\n",
      "max_pooling2d_8 (MaxPooling2 (None, 7, 7, 128)         0         \n",
      "_________________________________________________________________\n",
      "flatten_2 (Flatten)          (None, 6272)              0         \n",
      "_________________________________________________________________\n",
      "dense_3 (Dense)              (None, 512)               3211776   \n",
      "_________________________________________________________________\n",
      "dense_4 (Dense)              (None, 1)                 513       \n",
      "=================================================================\n",
      "Total params: 3,453,121\n",
      "Trainable params: 3,453,121\n",
      "Non-trainable params: 0\n",
      "_________________________________________________________________\n"
     ]
    }
   ],
   "source": [
    "model.summary()"
   ]
  },
  {
   "cell_type": "code",
   "execution_count": 15,
   "metadata": {},
   "outputs": [],
   "source": [
    "from keras import optimizers\n",
    "\n",
    "model.compile(loss='binary_crossentropy',\n",
    "              optimizer='adam',\n",
    "              metrics=['acc'])"
   ]
  },
  {
   "cell_type": "markdown",
   "metadata": {},
   "source": [
    "## 데이터 전처리\n",
    "\n",
    "데이터는 네트워크에 주입되기 전에 부동 소수 타입의 텐서로 적절하게 전처리되어 있어야 함.  \n",
    "\n",
    "지금은 데이터가 JPEG 파일로 되어 있으므로 네트워크에 주입하려면 다음의 과정을 따름\n",
    "\n",
    "1.\t사진 파일을 읽기\n",
    "2.\tJPEG 콘텐츠를 RGB 픽셀 값으로 디코딩\n",
    "3.\t부동 소수 타입의 텐서로 변환\n",
    "4.\t픽셀 값(0에서 255 사이)의 스케일을 [0, 1] 사이로 조정(신경망은 작은 입력 값을 선호)\n",
    "\n",
    "케라스는 이런 단계를 자동으로 처리하는 유틸리티를 가지고 있음.\n",
    "\n",
    "`ImageDataGenerator` 클래스는 디스크에 있는 이미지 파일을 전처리된 배치 텐서로 자동으로 바꾸어준다"
   ]
  },
  {
   "cell_type": "markdown",
   "metadata": {},
   "source": [
    "### 파이썬 제너레이터"
   ]
  },
  {
   "cell_type": "code",
   "execution_count": 101,
   "metadata": {},
   "outputs": [],
   "source": [
    "def square_numbers(nums):\n",
    "    result = []\n",
    "    for i in nums:\n",
    "        result.append(i*i)\n",
    "    return result"
   ]
  },
  {
   "cell_type": "code",
   "execution_count": 102,
   "metadata": {},
   "outputs": [
    {
     "data": {
      "text/plain": [
       "[1, 4, 9, 16]"
      ]
     },
     "execution_count": 102,
     "metadata": {},
     "output_type": "execute_result"
    }
   ],
   "source": [
    "square_numbers([1,2,3,4])"
   ]
  },
  {
   "cell_type": "code",
   "execution_count": 103,
   "metadata": {},
   "outputs": [],
   "source": [
    "def square_numbers1(nums):\n",
    "    for i in nums:\n",
    "        yield i*i"
   ]
  },
  {
   "cell_type": "code",
   "execution_count": 118,
   "metadata": {},
   "outputs": [
    {
     "data": {
      "text/plain": [
       "<generator object square_numbers1 at 0x0000022C096B2150>"
      ]
     },
     "execution_count": 118,
     "metadata": {},
     "output_type": "execute_result"
    }
   ],
   "source": [
    "nums = square_numbers1([1,2,3,4])\n",
    "nums"
   ]
  },
  {
   "cell_type": "code",
   "execution_count": 117,
   "metadata": {},
   "outputs": [
    {
     "data": {
      "text/plain": [
       "16"
      ]
     },
     "execution_count": 117,
     "metadata": {},
     "output_type": "execute_result"
    }
   ],
   "source": [
    "next(nums)"
   ]
  },
  {
   "cell_type": "markdown",
   "metadata": {},
   "source": [
    "[참고자료 : image processing - keras document](https://keras.io/preprocessing/image/)"
   ]
  },
  {
   "cell_type": "code",
   "execution_count": 16,
   "metadata": {},
   "outputs": [
    {
     "name": "stdout",
     "output_type": "stream",
     "text": [
      "Found 2000 images belonging to 2 classes.\n",
      "Found 1000 images belonging to 2 classes.\n"
     ]
    }
   ],
   "source": [
    "from keras.preprocessing.image import ImageDataGenerator\n",
    "\n",
    "# 모든 이미지를 1/255로 스케일을 조정합니다\n",
    "train_datagen = ImageDataGenerator(rescale=1./255)\n",
    "test_datagen = ImageDataGenerator(rescale=1./255)\n",
    "\n",
    "train_generator = train_datagen.flow_from_directory(\n",
    "        # 타깃 디렉터리\n",
    "        train_dir,\n",
    "        # 모든 이미지를 150 × 150 크기로 변경\n",
    "        target_size=(150, 150),\n",
    "        batch_size=20,\n",
    "        # 이진분류이므로 'binary' / 다중 분류의 경우 'categorical'\n",
    "        class_mode='binary')\n",
    "\n",
    "validation_generator = test_datagen.flow_from_directory(\n",
    "        validation_dir,\n",
    "        target_size=(150, 150),\n",
    "        batch_size=20,\n",
    "        class_mode='binary')"
   ]
  },
  {
   "cell_type": "markdown",
   "metadata": {},
   "source": [
    "### 데이터 확인"
   ]
  },
  {
   "cell_type": "code",
   "execution_count": 20,
   "metadata": {},
   "outputs": [
    {
     "data": {
      "text/plain": [
       "(array([[[[0.0509804 , 0.05490196, 0.07058824],\n",
       "          [0.05490196, 0.05882353, 0.07450981],\n",
       "          [0.0627451 , 0.06666667, 0.08627451],\n",
       "          ...,\n",
       "          [0.34901962, 0.30980393, 0.20392159],\n",
       "          [0.38823533, 0.30980393, 0.18039216],\n",
       "          [0.3254902 , 0.23137257, 0.08235294]],\n",
       " \n",
       "         [[0.0627451 , 0.06666667, 0.08235294],\n",
       "          [0.0627451 , 0.06666667, 0.08235294],\n",
       "          [0.06666667, 0.07058824, 0.09019608],\n",
       "          ...,\n",
       "          [0.09019608, 0.04313726, 0.        ],\n",
       "          [0.18823531, 0.13725491, 0.0627451 ],\n",
       "          [0.27450982, 0.21568629, 0.14117648]],\n",
       " \n",
       "         [[0.0627451 , 0.06666667, 0.08235294],\n",
       "          [0.06666667, 0.07058824, 0.08627451],\n",
       "          [0.05490196, 0.05882353, 0.07843138],\n",
       "          ...,\n",
       "          [0.16078432, 0.12156864, 0.08235294],\n",
       "          [0.12156864, 0.08235294, 0.04313726],\n",
       "          [0.16078432, 0.12156864, 0.08235294]],\n",
       " \n",
       "         ...,\n",
       " \n",
       "         [[0.6784314 , 0.6784314 , 0.6313726 ],\n",
       "          [0.69803923, 0.69803923, 0.6509804 ],\n",
       "          [0.64705884, 0.6509804 , 0.59607846],\n",
       "          ...,\n",
       "          [0.6156863 , 0.6       , 0.5529412 ],\n",
       "          [0.654902  , 0.6392157 , 0.5921569 ],\n",
       "          [0.7019608 , 0.6862745 , 0.6392157 ]],\n",
       " \n",
       "         [[0.6901961 , 0.6901961 , 0.6509804 ],\n",
       "          [0.6901961 , 0.6901961 , 0.6509804 ],\n",
       "          [0.6666667 , 0.67058825, 0.6156863 ],\n",
       "          ...,\n",
       "          [0.7058824 , 0.6901961 , 0.6431373 ],\n",
       "          [0.6313726 , 0.6156863 , 0.5686275 ],\n",
       "          [0.627451  , 0.6117647 , 0.5647059 ]],\n",
       " \n",
       "         [[0.68235296, 0.6862745 , 0.6313726 ],\n",
       "          [0.6901961 , 0.69803923, 0.6431373 ],\n",
       "          [0.67058825, 0.6862745 , 0.627451  ],\n",
       "          ...,\n",
       "          [0.5921569 , 0.56078434, 0.5176471 ],\n",
       "          [0.5921569 , 0.5764706 , 0.5294118 ],\n",
       "          [0.59607846, 0.6       , 0.54509807]]],\n",
       " \n",
       " \n",
       "        [[[0.43529415, 0.47058827, 0.29411766],\n",
       "          [0.43137258, 0.45882356, 0.29411766],\n",
       "          [0.43529415, 0.45098042, 0.30588236],\n",
       "          ...,\n",
       "          [0.45098042, 0.49803925, 0.34117648],\n",
       "          [0.4431373 , 0.4901961 , 0.33333334],\n",
       "          [0.41176474, 0.45882356, 0.3019608 ]],\n",
       " \n",
       "         [[0.44705886, 0.4666667 , 0.30980393],\n",
       "          [0.43921572, 0.44705886, 0.3019608 ],\n",
       "          [0.45098042, 0.454902  , 0.32156864],\n",
       "          ...,\n",
       "          [0.4039216 , 0.45098042, 0.3019608 ],\n",
       "          [0.4156863 , 0.46274513, 0.3137255 ],\n",
       "          [0.4156863 , 0.46274513, 0.3137255 ]],\n",
       " \n",
       "         [[0.40784317, 0.38823533, 0.27058825],\n",
       "          [0.3921569 , 0.37254903, 0.25490198],\n",
       "          [0.37254903, 0.36078432, 0.2392157 ],\n",
       "          ...,\n",
       "          [0.37647063, 0.41176474, 0.2901961 ],\n",
       "          [0.3529412 , 0.38823533, 0.26666668],\n",
       "          [0.39607847, 0.43137258, 0.30980393]],\n",
       " \n",
       "         ...,\n",
       " \n",
       "         [[0.24313727, 0.28235295, 0.1764706 ],\n",
       "          [0.2509804 , 0.2901961 , 0.18431373],\n",
       "          [0.2784314 , 0.3137255 , 0.20784315],\n",
       "          ...,\n",
       "          [0.36862746, 0.3647059 , 0.25490198],\n",
       "          [0.39607847, 0.3921569 , 0.28235295],\n",
       "          [0.3647059 , 0.3647059 , 0.25490198]],\n",
       " \n",
       "         [[0.29411766, 0.33333334, 0.227451  ],\n",
       "          [0.29411766, 0.33333334, 0.227451  ],\n",
       "          [0.3254902 , 0.36078432, 0.25490198],\n",
       "          ...,\n",
       "          [0.27450982, 0.27058825, 0.16078432],\n",
       "          [0.3019608 , 0.29803923, 0.18823531],\n",
       "          [0.27058825, 0.27058825, 0.16078432]],\n",
       " \n",
       "         [[0.2901961 , 0.32941177, 0.22352943],\n",
       "          [0.25490198, 0.29411766, 0.18823531],\n",
       "          [0.30588236, 0.34117648, 0.23529413],\n",
       "          ...,\n",
       "          [0.2627451 , 0.25882354, 0.14901961],\n",
       "          [0.41960788, 0.4156863 , 0.30588236],\n",
       "          [0.47450984, 0.47450984, 0.3647059 ]]],\n",
       " \n",
       " \n",
       "        [[[0.2784314 , 0.2392157 , 0.09803922],\n",
       "          [0.28235295, 0.24313727, 0.10196079],\n",
       "          [0.29411766, 0.25490198, 0.1137255 ],\n",
       "          ...,\n",
       "          [0.24705884, 0.21176472, 0.09019608],\n",
       "          [0.24705884, 0.21176472, 0.09019608],\n",
       "          [0.23529413, 0.21176472, 0.08627451]],\n",
       " \n",
       "         [[0.28627452, 0.23529413, 0.09803922],\n",
       "          [0.29411766, 0.24313727, 0.10588236],\n",
       "          [0.29803923, 0.24705884, 0.10980393],\n",
       "          ...,\n",
       "          [0.2509804 , 0.21568629, 0.09411766],\n",
       "          [0.2509804 , 0.21568629, 0.09411766],\n",
       "          [0.2392157 , 0.21568629, 0.09019608]],\n",
       " \n",
       "         [[0.29411766, 0.24313727, 0.10588236],\n",
       "          [0.29803923, 0.24705884, 0.10980393],\n",
       "          [0.29411766, 0.24313727, 0.10588236],\n",
       "          ...,\n",
       "          [0.25882354, 0.21568629, 0.09803922],\n",
       "          [0.25882354, 0.21568629, 0.09803922],\n",
       "          [0.2509804 , 0.21568629, 0.09411766]],\n",
       " \n",
       "         ...,\n",
       " \n",
       "         [[0.31764707, 0.25490198, 0.16470589],\n",
       "          [0.37647063, 0.3137255 , 0.21568629],\n",
       "          [0.38823533, 0.32941177, 0.21568629],\n",
       "          ...,\n",
       "          [0.65882355, 0.23137257, 0.00784314],\n",
       "          [0.6509804 , 0.22352943, 0.        ],\n",
       "          [0.64705884, 0.227451  , 0.00784314]],\n",
       " \n",
       "         [[0.26666668, 0.22352943, 0.1137255 ],\n",
       "          [0.3019608 , 0.24705884, 0.14117648],\n",
       "          [0.34509805, 0.28235295, 0.18039216],\n",
       "          ...,\n",
       "          [0.64705884, 0.227451  , 0.00784314],\n",
       "          [0.6392157 , 0.227451  , 0.00392157],\n",
       "          [0.63529414, 0.21568629, 0.00392157]],\n",
       " \n",
       "         [[0.30588236, 0.2627451 , 0.15294118],\n",
       "          [0.28627452, 0.23137257, 0.1254902 ],\n",
       "          [0.30980393, 0.24705884, 0.14509805],\n",
       "          ...,\n",
       "          [0.6431373 , 0.22352943, 0.00392157],\n",
       "          [0.63529414, 0.22352943, 0.        ],\n",
       "          [0.6313726 , 0.21176472, 0.        ]]],\n",
       " \n",
       " \n",
       "        ...,\n",
       " \n",
       " \n",
       "        [[[0.81568635, 0.909804  , 0.909804  ],\n",
       "          [0.77647066, 0.882353  , 0.74509805],\n",
       "          [0.6784314 , 0.7372549 , 0.5764706 ],\n",
       "          ...,\n",
       "          [0.6509804 , 0.45098042, 0.5176471 ],\n",
       "          [0.6392157 , 0.43921572, 0.5058824 ],\n",
       "          [0.627451  , 0.427451  , 0.49411768]],\n",
       " \n",
       "         [[0.80392164, 0.87843144, 0.86274517],\n",
       "          [0.7803922 , 0.882353  , 0.7372549 ],\n",
       "          [0.7058824 , 0.7490196 , 0.5921569 ],\n",
       "          ...,\n",
       "          [0.654902  , 0.454902  , 0.52156866],\n",
       "          [0.6431373 , 0.4431373 , 0.50980395],\n",
       "          [0.63529414, 0.43529415, 0.5019608 ]],\n",
       " \n",
       "         [[0.8235295 , 0.87843144, 0.82745105],\n",
       "          [0.81568635, 0.8980393 , 0.7372549 ],\n",
       "          [0.7372549 , 0.7686275 , 0.60784316],\n",
       "          ...,\n",
       "          [0.64705884, 0.44705886, 0.5137255 ],\n",
       "          [0.6431373 , 0.4431373 , 0.50980395],\n",
       "          [0.6313726 , 0.43137258, 0.49803925]],\n",
       " \n",
       "         ...,\n",
       " \n",
       "         [[0.7843138 , 0.74509805, 0.64705884],\n",
       "          [0.7568628 , 0.7254902 , 0.63529414],\n",
       "          [0.7843138 , 0.75294125, 0.6784314 ],\n",
       "          ...,\n",
       "          [0.47450984, 0.53333336, 0.3803922 ],\n",
       "          [0.38431376, 0.43137258, 0.28235295],\n",
       "          [0.50980395, 0.54901963, 0.4039216 ]],\n",
       " \n",
       "         [[0.73333335, 0.69411767, 0.59607846],\n",
       "          [0.7019608 , 0.67058825, 0.5803922 ],\n",
       "          [0.7372549 , 0.7058824 , 0.6313726 ],\n",
       "          ...,\n",
       "          [0.46274513, 0.5176471 , 0.37647063],\n",
       "          [0.35686275, 0.4039216 , 0.2627451 ],\n",
       "          [0.47058827, 0.50980395, 0.37254903]],\n",
       " \n",
       "         [[0.74509805, 0.72156864, 0.5882353 ],\n",
       "          [0.76470596, 0.7411765 , 0.64705884],\n",
       "          [0.7960785 , 0.77647066, 0.7019608 ],\n",
       "          ...,\n",
       "          [0.5019608 , 0.56078434, 0.40000004],\n",
       "          [0.40784317, 0.454902  , 0.30588236],\n",
       "          [0.5019608 , 0.5411765 , 0.4039216 ]]],\n",
       " \n",
       " \n",
       "        [[[0.10196079, 0.08627451, 0.04313726],\n",
       "          [0.10588236, 0.09019608, 0.04705883],\n",
       "          [0.10588236, 0.09411766, 0.03529412],\n",
       "          ...,\n",
       "          [0.11764707, 0.12156864, 0.06666667],\n",
       "          [0.10980393, 0.10980393, 0.0627451 ],\n",
       "          [0.09803922, 0.10196079, 0.04705883]],\n",
       " \n",
       "         [[0.10588236, 0.09019608, 0.04705883],\n",
       "          [0.10980393, 0.09411766, 0.0509804 ],\n",
       "          [0.10980393, 0.09803922, 0.03921569],\n",
       "          ...,\n",
       "          [0.12156864, 0.1254902 , 0.07058824],\n",
       "          [0.1137255 , 0.1137255 , 0.06666667],\n",
       "          [0.10196079, 0.10588236, 0.0509804 ]],\n",
       " \n",
       "         [[0.10980393, 0.09411766, 0.0509804 ],\n",
       "          [0.1137255 , 0.09803922, 0.05490196],\n",
       "          [0.1137255 , 0.10196079, 0.04313726],\n",
       "          ...,\n",
       "          [0.1254902 , 0.12941177, 0.07450981],\n",
       "          [0.11764707, 0.11764707, 0.07058824],\n",
       "          [0.10588236, 0.10980393, 0.05490196]],\n",
       " \n",
       "         ...,\n",
       " \n",
       "         [[0.05490196, 0.        , 0.00784314],\n",
       "          [0.04705883, 0.        , 0.00784314],\n",
       "          [0.04313726, 0.00392157, 0.00784314],\n",
       "          ...,\n",
       "          [0.2627451 , 0.18039216, 0.10588236],\n",
       "          [0.18039216, 0.09803922, 0.03137255],\n",
       "          [0.12156864, 0.07058824, 0.00392157]],\n",
       " \n",
       "         [[0.04705883, 0.        , 0.00784314],\n",
       "          [0.04705883, 0.        , 0.00784314],\n",
       "          [0.03921569, 0.00392157, 0.00784314],\n",
       "          ...,\n",
       "          [0.14509805, 0.04705883, 0.        ],\n",
       "          [0.28235295, 0.19607845, 0.14117648],\n",
       "          [0.2784314 , 0.1764706 , 0.07843138]],\n",
       " \n",
       "         [[0.04705883, 0.        , 0.00784314],\n",
       "          [0.04313726, 0.00392157, 0.00784314],\n",
       "          [0.03921569, 0.00392157, 0.00784314],\n",
       "          ...,\n",
       "          [0.32941177, 0.20784315, 0.1254902 ],\n",
       "          [0.29803923, 0.19215688, 0.1254902 ],\n",
       "          [0.34509805, 0.22352943, 0.10980393]]],\n",
       " \n",
       " \n",
       "        [[[0.21568629, 0.2392157 , 0.2392157 ],\n",
       "          [0.27058825, 0.28627452, 0.2901961 ],\n",
       "          [0.30588236, 0.30980393, 0.31764707],\n",
       "          ...,\n",
       "          [0.36862746, 0.3372549 , 0.32941177],\n",
       "          [0.3647059 , 0.33333334, 0.3254902 ],\n",
       "          [0.35686275, 0.3254902 , 0.31764707]],\n",
       " \n",
       "         [[0.2509804 , 0.28235295, 0.29411766],\n",
       "          [0.27058825, 0.2901961 , 0.30588236],\n",
       "          [0.34117648, 0.35686275, 0.36862746],\n",
       "          ...,\n",
       "          [0.34509805, 0.3137255 , 0.30588236],\n",
       "          [0.36078432, 0.32941177, 0.32156864],\n",
       "          [0.37647063, 0.34509805, 0.3372549 ]],\n",
       " \n",
       "         [[0.3372549 , 0.3647059 , 0.39607847],\n",
       "          [0.29411766, 0.32156864, 0.34509805],\n",
       "          [0.28235295, 0.3019608 , 0.31764707],\n",
       "          ...,\n",
       "          [0.36078432, 0.34117648, 0.32941177],\n",
       "          [0.37647063, 0.35686275, 0.34509805],\n",
       "          [0.3921569 , 0.37254903, 0.36078432]],\n",
       " \n",
       "         ...,\n",
       " \n",
       "         [[0.42352945, 0.40784317, 0.36078432],\n",
       "          [0.427451  , 0.41176474, 0.3647059 ],\n",
       "          [0.43921572, 0.42352945, 0.37647063],\n",
       "          ...,\n",
       "          [0.23137257, 0.2392157 , 0.28627452],\n",
       "          [0.24313727, 0.2509804 , 0.29803923],\n",
       "          [0.24313727, 0.2509804 , 0.29803923]],\n",
       " \n",
       "         [[0.41176474, 0.39607847, 0.34901962],\n",
       "          [0.40784317, 0.3921569 , 0.34509805],\n",
       "          [0.43137258, 0.4156863 , 0.36862746],\n",
       "          ...,\n",
       "          [0.25490198, 0.2627451 , 0.30980393],\n",
       "          [0.2392157 , 0.24705884, 0.29411766],\n",
       "          [0.22352943, 0.23137257, 0.2784314 ]],\n",
       " \n",
       "         [[0.427451  , 0.41176474, 0.3647059 ],\n",
       "          [0.4156863 , 0.40000004, 0.3529412 ],\n",
       "          [0.40000004, 0.38431376, 0.3372549 ],\n",
       "          ...,\n",
       "          [0.227451  , 0.23529413, 0.28235295],\n",
       "          [0.23137257, 0.2392157 , 0.28627452],\n",
       "          [0.24313727, 0.2509804 , 0.29803923]]]], dtype=float32),\n",
       " array([1., 1., 0., 0., 0., 1., 1., 0., 0., 1., 0., 1., 0., 1., 1., 0., 1.,\n",
       "        0., 0., 1.], dtype=float32))"
      ]
     },
     "execution_count": 20,
     "metadata": {},
     "output_type": "execute_result"
    }
   ],
   "source": [
    "validation_generator[0]"
   ]
  },
  {
   "cell_type": "code",
   "execution_count": 18,
   "metadata": {},
   "outputs": [
    {
     "data": {
      "text/plain": [
       "(20, 150, 150, 3)"
      ]
     },
     "execution_count": 18,
     "metadata": {},
     "output_type": "execute_result"
    }
   ],
   "source": [
    "validation_generator[49][0].shape"
   ]
  },
  {
   "cell_type": "code",
   "execution_count": 74,
   "metadata": {},
   "outputs": [
    {
     "data": {
      "text/plain": [
       "(20,)"
      ]
     },
     "execution_count": 74,
     "metadata": {},
     "output_type": "execute_result"
    }
   ],
   "source": [
    "validation_generator[49][1].shape"
   ]
  },
  {
   "cell_type": "code",
   "execution_count": 50,
   "metadata": {},
   "outputs": [],
   "source": [
    "aa = validation_generator[0]"
   ]
  },
  {
   "cell_type": "code",
   "execution_count": 78,
   "metadata": {},
   "outputs": [
    {
     "data": {
      "text/plain": [
       "(20, 150, 150, 3)"
      ]
     },
     "execution_count": 78,
     "metadata": {},
     "output_type": "execute_result"
    }
   ],
   "source": [
    "# 첫번째 배치 shape\n",
    "aa[0].shape"
   ]
  },
  {
   "cell_type": "code",
   "execution_count": 85,
   "metadata": {},
   "outputs": [
    {
     "data": {
      "text/plain": [
       "array([[0.48235297, 0.49803925, 0.49803925, ..., 0.7058824 , 0.7137255 ,\n",
       "        0.7137255 ],\n",
       "       [0.4784314 , 0.4901961 , 0.4901961 , ..., 0.69803923, 0.7137255 ,\n",
       "        0.7137255 ],\n",
       "       [0.48235297, 0.49411768, 0.49411768, ..., 0.7058824 , 0.7176471 ,\n",
       "        0.7176471 ],\n",
       "       ...,\n",
       "       [0.5568628 , 0.58431375, 0.6039216 , ..., 0.57254905, 0.57254905,\n",
       "        0.57254905],\n",
       "       [0.5647059 , 0.5882353 , 0.6117647 , ..., 0.5686275 , 0.5686275 ,\n",
       "        0.5686275 ],\n",
       "       [0.5686275 , 0.5882353 , 0.6039216 , ..., 0.5647059 , 0.56078434,\n",
       "        0.56078434]], dtype=float32)"
      ]
     },
     "execution_count": 85,
     "metadata": {},
     "output_type": "execute_result"
    }
   ],
   "source": [
    "# 첫번째 배치 첫번째 데이터 첫번째 채널 확인\n",
    "aa[0][0,:,:,0]"
   ]
  },
  {
   "cell_type": "code",
   "execution_count": 86,
   "metadata": {},
   "outputs": [
    {
     "data": {
      "text/plain": [
       "<matplotlib.image.AxesImage at 0x29250163240>"
      ]
     },
     "execution_count": 86,
     "metadata": {},
     "output_type": "execute_result"
    },
    {
     "data": {
      "image/png": "[encoded data removed]",
      "text/plain": [
       "<Figure size 432x288 with 1 Axes>"
      ]
     },
     "metadata": {
      "needs_background": "light"
     },
     "output_type": "display_data"
    }
   ],
   "source": [
    "import matplotlib.pyplot as plt\n",
    "\n",
    "plt.imshow(aa[0][0,:,:,0])"
   ]
  },
  {
   "cell_type": "code",
   "execution_count": 89,
   "metadata": {},
   "outputs": [
    {
     "data": {
      "text/plain": [
       "<matplotlib.image.AxesImage at 0x2924fd56470>"
      ]
     },
     "execution_count": 89,
     "metadata": {},
     "output_type": "execute_result"
    },
    {
     "data": {
      "image/png": "[encoded data removed]",
      "text/plain": [
       "<Figure size 432x288 with 1 Axes>"
      ]
     },
     "metadata": {
      "needs_background": "light"
     },
     "output_type": "display_data"
    }
   ],
   "source": [
    "# 첫번째 배치 첫번째 데이터 세번째 채널 확인\n",
    "\n",
    "plt.imshow(aa[0][0,:,:,2])"
   ]
  },
  {
   "cell_type": "markdown",
   "metadata": {},
   "source": [
    "### 제너레이터의 출력 확인\n",
    "\n",
    "### !!주의!!\n",
    "\n",
    "for loop 사용시 train_generator 객체는 배치를 무한정 만들어 내면 결과를 반환한다.\n",
    "따라서 break 사용 필수."
   ]
  },
  {
   "cell_type": "code",
   "execution_count": 90,
   "metadata": {},
   "outputs": [
    {
     "name": "stdout",
     "output_type": "stream",
     "text": [
      "배치 데이터 크기: (20, 150, 150, 3)\n",
      "배치 레이블 크기: (20,)\n"
     ]
    }
   ],
   "source": [
    "for data_batch, labels_batch in train_generator:\n",
    "    print('배치 데이터 크기:', data_batch.shape)\n",
    "    print('배치 레이블 크기:', labels_batch.shape)\n",
    "    break"
   ]
  },
  {
   "cell_type": "markdown",
   "metadata": {},
   "source": [
    "### 모델 훈련\n",
    "\n",
    "- 제너레이터를 사용하여 데이터를 주입할 경우 `fit_generator` 메서드를 사용한다\n",
    "\n",
    "- `fit_generator` 메서드는 첫 번째 매개변수로 입력과 타깃의 배치를 끝없이 반환하는 파이썬 제너레이터를 받는다(train_generator)\n",
    "\n",
    "*for loop에서와 마찬가지로 데이터가 끝없이 생성되기 때문에, 케라스 모델에 하나의 에포크를 정의하기 위해 제너레이터로부터 얼마나 많은 샘플을 뽑을 것인지 지정해야 한다.\n",
    "--> `steps_per_epoch` 매개변수에서 이를 설정*\n",
    "\n",
    "- 제너레이터로부터 `steps_per_epoch` 개의 배치만큼 뽑은 다음, 즉 `steps_per_epoch` 횟수만큼 경사 하강법 단계를 실행한 다음에 훈련 프로세스는 다음 에포크로 넘어가게 된다. \n",
    "\n",
    "- 20개의 샘플이 하나의 배치이므로 2,000개의 샘플을 모두 처리하도록 100으로 설정\n",
    "\n",
    "- `fit` 메서드와 마찬가지로 `validation_data` 매개변수 전달 가능. \n",
    "\n",
    "- 이 매개변수에는 데이터 제너레이터도 가능하지만 넘파이 배열의 튜플도 가능 \n",
    "\n",
    "- `validation_data`로 제너레이터를 전달하면 검증 데이터의 배치를 끝없이 반환하므로 `validation_steps` 매개변수에 지정해야 한다"
   ]
  },
  {
   "cell_type": "code",
   "execution_count": 21,
   "metadata": {},
   "outputs": [
    {
     "name": "stdout",
     "output_type": "stream",
     "text": [
      "WARNING:tensorflow:From C:\\Users\\GIGABYTE\\Anaconda3\\lib\\site-packages\\keras\\backend\\tensorflow_backend.py:1033: The name tf.assign_add is deprecated. Please use tf.compat.v1.assign_add instead.\n",
      "\n",
      "Epoch 1/5\n",
      "10/10 [==============================] - 16s 2s/step - loss: 0.7307 - acc: 0.5150 - val_loss: 0.6925 - val_acc: 0.5000\n",
      "Epoch 2/5\n",
      "10/10 [==============================] - 11s 1s/step - loss: 0.6960 - acc: 0.5000 - val_loss: 0.6923 - val_acc: 0.5000\n",
      "Epoch 3/5\n",
      "10/10 [==============================] - 11s 1s/step - loss: 0.6931 - acc: 0.4900 - val_loss: 0.6926 - val_acc: 0.5000\n",
      "Epoch 4/5\n",
      "10/10 [==============================] - 11s 1s/step - loss: 0.6930 - acc: 0.4900 - val_loss: 0.6918 - val_acc: 0.5660\n",
      "Epoch 5/5\n",
      "10/10 [==============================] - 11s 1s/step - loss: 0.6882 - acc: 0.5200 - val_loss: 0.6897 - val_acc: 0.5000\n"
     ]
    }
   ],
   "source": [
    "history = model.fit_generator(\n",
    "      train_generator,\n",
    "      steps_per_epoch=100,\n",
    "      epochs=30,\n",
    "      validation_data=validation_generator,\n",
    "      validation_steps=50)"
   ]
  },
  {
   "cell_type": "markdown",
   "metadata": {},
   "source": [
    "### 모델 저장"
   ]
  },
  {
   "cell_type": "code",
   "execution_count": null,
   "metadata": {},
   "outputs": [],
   "source": [
    "model.save('cats_and_dogs_small_1.h5')"
   ]
  },
  {
   "cell_type": "markdown",
   "metadata": {},
   "source": [
    "### 모델의 손실과 정확도 그래프"
   ]
  },
  {
   "cell_type": "code",
   "execution_count": null,
   "metadata": {},
   "outputs": [],
   "source": [
    "import matplotlib.pyplot as plt"
   ]
  },
  {
   "cell_type": "code",
   "execution_count": 18,
   "metadata": {},
   "outputs": [
    {
     "data": {
      "image/png": "[encoded data removed]",
      "text/plain": [
       "<Figure size 432x288 with 1 Axes>"
      ]
     },
     "metadata": {},
     "output_type": "display_data"
    },
    {
     "data": {
      "image/png": "[encoded data removed]",
      "text/plain": [
       "<Figure size 432x288 with 1 Axes>"
      ]
     },
     "metadata": {},
     "output_type": "display_data"
    }
   ],
   "source": [
    "acc = history.history['acc']\n",
    "val_acc = history.history['val_acc']\n",
    "loss = history.history['loss']\n",
    "val_loss = history.history['val_loss']\n",
    "\n",
    "epochs = range(len(acc))\n",
    "\n",
    "plt.plot(epochs, acc, 'bo', label='Training acc')\n",
    "plt.plot(epochs, val_acc, 'b', label='Validation acc')\n",
    "plt.title('Training and validation accuracy')\n",
    "plt.legend()\n",
    "\n",
    "plt.figure()\n",
    "\n",
    "plt.plot(epochs, loss, 'bo', label='Training loss')\n",
    "plt.plot(epochs, val_loss, 'b', label='Validation loss')\n",
    "plt.title('Training and validation loss')\n",
    "plt.legend()\n",
    "\n",
    "plt.show()"
   ]
  },
  {
   "cell_type": "markdown",
   "metadata": {},
   "source": [
    "- 과대적합의 특성을 볼 수 있음\n",
    "\n",
    "- 훈련 정확도가 시간이 지남에 따라 선형적으로 증가해서 거의 100%에 도달\n",
    "\n",
    "- 반면 검증 정확도는 70-72%에서 멈춤\n",
    "\n",
    "- 검증 손실은 다섯 번의 에포크만에 최소값 도달\n",
    "\n",
    "- 비교적 훈련 샘플의 수(2,000개)가 적기 때문에 과대적합이 가장 중요한 문제"
   ]
  }
 ],
 "metadata": {
  "kernelspec": {
   "display_name": "Python 3",
   "language": "python",
   "name": "python3"
  },
  "language_info": {
   "codemirror_mode": {
    "name": "ipython",
    "version": 3
   },
   "file_extension": ".py",
   "mimetype": "text/x-python",
   "name": "python",
   "nbconvert_exporter": "python",
   "pygments_lexer": "ipython3",
   "version": "3.7.3"
  }
 },
 "nbformat": 4,
 "nbformat_minor": 4
}
