{
 "cells": [
  {
   "cell_type": "markdown",
   "metadata": {},
   "source": [
    "#### 1. sklearn 라이브러리의 iris 데이터 불러오기"
   ]
  },
  {
   "cell_type": "code",
   "execution_count": 3,
   "metadata": {},
   "outputs": [],
   "source": [
    "import numpy as np\n",
    "import matplotlib.pyplot as plt\n",
    "from sklearn import datasets"
   ]
  },
  {
   "cell_type": "code",
   "execution_count": 4,
   "metadata": {},
   "outputs": [],
   "source": [
    "iris_dataset = datasets.load_iris()"
   ]
  },
  {
   "cell_type": "code",
   "execution_count": 5,
   "metadata": {},
   "outputs": [
    {
     "name": "stdout",
     "output_type": "stream",
     "text": [
      "iris_dataset key:dict_keys(['data', 'target', 'target_names', 'DESCR', 'feature_names', 'filename'])\n"
     ]
    }
   ],
   "source": [
    "print(\"iris_dataset key:{}\".format(iris_dataset.keys()))"
   ]
  },
  {
   "cell_type": "code",
   "execution_count": 6,
   "metadata": {},
   "outputs": [
    {
     "name": "stdout",
     "output_type": "stream",
     "text": [
      "[0 0 0 0 0 0 0 0 0 0 0 0 0 0 0 0 0 0 0 0 0 0 0 0 0 0 0 0 0 0 0 0 0 0 0 0 0\n",
      " 0 0 0 0 0 0 0 0 0 0 0 0 0 1 1 1 1 1 1 1 1 1 1 1 1 1 1 1 1 1 1 1 1 1 1 1 1\n",
      " 1 1 1 1 1 1 1 1 1 1 1 1 1 1 1 1 1 1 1 1 1 1 1 1 1 1 2 2 2 2 2 2 2 2 2 2 2\n",
      " 2 2 2 2 2 2 2 2 2 2 2 2 2 2 2 2 2 2 2 2 2 2 2 2 2 2 2 2 2 2 2 2 2 2 2 2 2\n",
      " 2 2]\n",
      "['setosa' 'versicolor' 'virginica']\n"
     ]
    }
   ],
   "source": [
    "print(iris_dataset['target'])\n",
    "print(iris_dataset['target_names'])"
   ]
  },
  {
   "cell_type": "code",
   "execution_count": 7,
   "metadata": {},
   "outputs": [
    {
     "name": "stdout",
     "output_type": "stream",
     "text": [
      ".. _iris_dataset:\n",
      "\n",
      "Iris plants dataset\n",
      "--------------------\n",
      "\n",
      "**Data Set Characteristics:**\n",
      "\n",
      "    :Number of Instances: 150 (50 in each of three classes)\n",
      "    :Number of Attributes: 4 numeric, predictive attributes and the class\n",
      "    :Attribute Information:\n",
      "        - sepal length in cm\n",
      "        - sepal width in cm\n",
      "        - petal length in cm\n",
      "        - petal width in cm\n",
      "        - class:\n",
      "                - Iris-Setosa\n",
      "                - Iris-Versicolour\n",
      "                - Iris-Virginica\n",
      "                \n",
      "    :Summary Statistics:\n",
      "\n",
      "    ============== ==== ==== ======= ===== ====================\n",
      "                    Min  Max   Mean    SD   Class Correlation\n",
      "    ============== ==== ==== ======= ===== ====================\n",
      "    sepal length:   4.3  7.9   5.84   0.83    0.7826\n",
      "    sepal width:    2.0  4.4   3.05   0.43   -0.4194\n",
      "    petal length:   1.0  6.9   3.76   1.76    0.9490  (high!)\n",
      "    petal width:    0.1  2.5   1.20   0.76    0.9565  (high!)\n",
      "    ============== ==== ==== ======= ===== ====================\n",
      "\n",
      "    :Missing Attribute Values: None\n",
      "    :Class Distribution: 33.3% for each of 3 classes.\n",
      "    :Creator: R.A. Fisher\n",
      "    :Donor: Michael Marshall (MARSHALL%PLU@io.arc.nasa.gov)\n",
      "    :Date: July, 1988\n",
      "\n",
      "The famous Iris database, first used by Sir R.A. Fisher. The dataset is taken\n",
      "from Fisher's paper. Note that it's the same as in R, but not as in the UCI\n",
      "Machine Learning Repository, which has two wrong data points.\n",
      "\n",
      "This is perhaps the best known database to be found in the\n",
      "pattern recognition literature.  Fisher's paper is a classic in the field and\n",
      "is referenced frequently to this day.  (See Duda & Hart, for example.)  The\n",
      "data set contains 3 classes of 50 instances each, where each class refers to a\n",
      "type of iris plant.  One class is linearly separable from the other 2; the\n",
      "latter are NOT linearly separable from each other.\n",
      "\n",
      ".. topic:: References\n",
      "\n",
      "   - Fisher, R.A. \"The use of multiple measurements in taxonomic problems\"\n",
      "     Annual Eugenics, 7, Part II, 179-188 (1936); also in \"Contributions to\n",
      "     Mathematical Statistics\" (John Wiley, NY, 1950).\n",
      "   - Duda, R.O., & Hart, P.E. (1973) Pattern Classification and Scene Analysis.\n",
      "     (Q327.D83) John Wiley & Sons.  ISBN 0-471-22361-1.  See page 218.\n",
      "   - Dasarathy, B.V. (1980) \"Nosing Around the Neighborhood: A New System\n",
      "     Structure and Classification Rule for Recognition in Partially Exposed\n",
      "     Environments\".  IEEE Transactions on Pattern Analysis and Machine\n",
      "     Intelligence, Vol. PAMI-2, No. 1, 67-71.\n",
      "   - Gates, G.W. (1972) \"The Reduced Nearest Neighbor Rule\".  IEEE Transactions\n",
      "     on Information Theory, May 1972, 431-433.\n",
      "   - See also: 1988 MLC Proceedings, 54-64.  Cheeseman et al\"s AUTOCLASS II\n",
      "     conceptual clustering system finds 3 classes in the data.\n",
      "   - Many, many more ...\n"
     ]
    }
   ],
   "source": [
    "print(iris_dataset['DESCR'])"
   ]
  },
  {
   "cell_type": "markdown",
   "metadata": {},
   "source": [
    "#### 2. 데이터 분리"
   ]
  },
  {
   "cell_type": "code",
   "execution_count": 8,
   "metadata": {},
   "outputs": [],
   "source": [
    "from sklearn.model_selection import train_test_split"
   ]
  },
  {
   "cell_type": "code",
   "execution_count": 9,
   "metadata": {},
   "outputs": [],
   "source": [
    "train_feat, test_feat, train_label, test_label = train_test_split(iris_dataset['data'],\n",
    "                                                                  iris_dataset['target'],\n",
    "                                                                  test_size = 0.3, random_state = 42)"
   ]
  },
  {
   "cell_type": "code",
   "execution_count": 10,
   "metadata": {},
   "outputs": [
    {
     "data": {
      "text/plain": [
       "(105, 4)"
      ]
     },
     "execution_count": 10,
     "metadata": {},
     "output_type": "execute_result"
    }
   ],
   "source": [
    "train_feat.shape"
   ]
  },
  {
   "cell_type": "code",
   "execution_count": 11,
   "metadata": {},
   "outputs": [
    {
     "data": {
      "text/plain": [
       "(105,)"
      ]
     },
     "execution_count": 11,
     "metadata": {},
     "output_type": "execute_result"
    }
   ],
   "source": [
    "train_label.shape"
   ]
  },
  {
   "cell_type": "code",
   "execution_count": 12,
   "metadata": {},
   "outputs": [
    {
     "ename": "NameError",
     "evalue": "name 'train_feat1' is not defined",
     "output_type": "error",
     "traceback": [
      "\u001b[1;31m---------------------------------------------------------------------------\u001b[0m",
      "\u001b[1;31mNameError\u001b[0m                                 Traceback (most recent call last)",
      "\u001b[1;32m<ipython-input-12-bbccf43ce36e>\u001b[0m in \u001b[0;36m<module>\u001b[1;34m\u001b[0m\n\u001b[0;32m      1\u001b[0m \u001b[1;31m# random_state 확인\u001b[0m\u001b[1;33m\u001b[0m\u001b[1;33m\u001b[0m\u001b[1;33m\u001b[0m\u001b[0m\n\u001b[1;32m----> 2\u001b[1;33m \u001b[0mtrain_feat\u001b[0m \u001b[1;33m==\u001b[0m \u001b[0mtrain_feat1\u001b[0m\u001b[1;33m\u001b[0m\u001b[1;33m\u001b[0m\u001b[0m\n\u001b[0m",
      "\u001b[1;31mNameError\u001b[0m: name 'train_feat1' is not defined"
     ]
    }
   ],
   "source": [
    "# random_state 확인\n",
    "train_feat == train_feat1"
   ]
  },
  {
   "cell_type": "markdown",
   "metadata": {},
   "source": [
    "#### 3. 다양한 머신러닝 분류 기법"
   ]
  },
  {
   "cell_type": "markdown",
   "metadata": {},
   "source": [
    "##### 3.1 k-nearest neighbor "
   ]
  },
  {
   "cell_type": "markdown",
   "metadata": {},
   "source": [
    "[Minkowski Distance](https://en.wikipedia.org/wiki/Minkowski_distance)"
   ]
  },
  {
   "cell_type": "code",
   "execution_count": 56,
   "metadata": {},
   "outputs": [],
   "source": [
    "from sklearn.neighbors import KNeighborsClassifier\n",
    "from sklearn.model_selection import train_test_split"
   ]
  },
  {
   "cell_type": "code",
   "execution_count": 57,
   "metadata": {},
   "outputs": [],
   "source": [
    "# 1. 모든 feature 사용\n",
    "\n",
    "X = iris_dataset.data\n",
    "y = iris_dataset.target\n",
    "\n",
    "X_train, X_test, y_train, y_test = train_test_split(X, y, test_size = 0.3, \n",
    "                                                    random_state = 35)"
   ]
  },
  {
   "cell_type": "code",
   "execution_count": 9,
   "metadata": {},
   "outputs": [
    {
     "data": {
      "text/plain": [
       "array([34, 36, 35], dtype=int64)"
      ]
     },
     "execution_count": 9,
     "metadata": {},
     "output_type": "execute_result"
    }
   ],
   "source": [
    "np.bincount(y_train)"
   ]
  },
  {
   "cell_type": "code",
   "execution_count": 58,
   "metadata": {},
   "outputs": [],
   "source": [
    "# 모델 객체 생성\n",
    "clf = KNeighborsClassifier(n_neighbors = 3)"
   ]
  },
  {
   "cell_type": "code",
   "execution_count": 10,
   "metadata": {},
   "outputs": [
    {
     "data": {
      "text/plain": [
       "KNeighborsClassifier(algorithm='auto', leaf_size=30, metric='minkowski',\n",
       "           metric_params=None, n_jobs=1, n_neighbors=3, p=2,\n",
       "           weights='uniform')"
      ]
     },
     "execution_count": 10,
     "metadata": {},
     "output_type": "execute_result"
    }
   ],
   "source": [
    "# 모델 훈련\n",
    "clf.fit(X_train, y_train)"
   ]
  },
  {
   "cell_type": "code",
   "execution_count": 11,
   "metadata": {},
   "outputs": [],
   "source": [
    "# 예측\n",
    "predict_label = clf.predict(X_test)"
   ]
  },
  {
   "cell_type": "code",
   "execution_count": 12,
   "metadata": {},
   "outputs": [
    {
     "data": {
      "text/plain": [
       "array([ True,  True,  True, False,  True,  True,  True,  True,  True,\n",
       "        True,  True,  True,  True,  True,  True,  True,  True,  True,\n",
       "        True,  True,  True,  True,  True,  True,  True,  True,  True,\n",
       "        True,  True,  True,  True, False, False,  True,  True,  True,\n",
       "        True,  True,  True, False,  True,  True,  True,  True,  True])"
      ]
     },
     "execution_count": 12,
     "metadata": {},
     "output_type": "execute_result"
    }
   ],
   "source": [
    "# 정확도\n",
    "predict_label == y_test"
   ]
  },
  {
   "cell_type": "code",
   "execution_count": 13,
   "metadata": {},
   "outputs": [
    {
     "name": "stdout",
     "output_type": "stream",
     "text": [
      "test accuracy 0.91\n"
     ]
    }
   ],
   "source": [
    "print('test accuracy {:.2f}'.format(np.mean(predict_label == y_test)))"
   ]
  },
  {
   "cell_type": "code",
   "execution_count": 14,
   "metadata": {},
   "outputs": [
    {
     "data": {
      "text/plain": [
       "<matplotlib.collections.PathCollection at 0x110c01d2b00>"
      ]
     },
     "execution_count": 14,
     "metadata": {},
     "output_type": "execute_result"
    },
    {
     "data": {
      "image/png": "[encoded data removed]",
      "text/plain": [
       "<Figure size 432x288 with 1 Axes>"
      ]
     },
     "metadata": {},
     "output_type": "display_data"
    }
   ],
   "source": [
    "plt.scatter(X_train[:,0], X_train[:,1], edgecolor = 'k', s=20, c = y_train)"
   ]
  },
  {
   "cell_type": "code",
   "execution_count": 16,
   "metadata": {},
   "outputs": [
    {
     "data": {
      "text/plain": [
       "<matplotlib.collections.PathCollection at 0x269cbcfd2e8>"
      ]
     },
     "execution_count": 16,
     "metadata": {},
     "output_type": "execute_result"
    },
    {
     "data": {
      "image/png": "[encoded data removed]",
      "text/plain": [
       "<Figure size 432x288 with 1 Axes>"
      ]
     },
     "metadata": {},
     "output_type": "display_data"
    }
   ],
   "source": [
    "plt.scatter(X_train[:,2], X_train[:,3], edgecolor = 'k', s=20, c = y_train)"
   ]
  },
  {
   "cell_type": "code",
   "execution_count": 20,
   "metadata": {},
   "outputs": [
    {
     "name": "stdout",
     "output_type": "stream",
     "text": [
      "트레인 세트 정확도: 0.99\n"
     ]
    }
   ],
   "source": [
    "print(\"트레인 세트 정확도: {:.2f}\".format(clf.score(X_train, y_train)))"
   ]
  },
  {
   "cell_type": "code",
   "execution_count": 21,
   "metadata": {},
   "outputs": [
    {
     "name": "stdout",
     "output_type": "stream",
     "text": [
      "테스트 세트 정확도: 0.91\n"
     ]
    }
   ],
   "source": [
    "print(\"테스트 세트 정확도: {:.2f}\".format(clf.score(X_test, y_test)))"
   ]
  },
  {
   "cell_type": "markdown",
   "metadata": {},
   "source": [
    "###### 산점도 행렬 보기"
   ]
  },
  {
   "cell_type": "code",
   "execution_count": 17,
   "metadata": {},
   "outputs": [],
   "source": [
    "import pandas as pd"
   ]
  },
  {
   "cell_type": "code",
   "execution_count": 18,
   "metadata": {},
   "outputs": [],
   "source": [
    "iris_dataframe = pd.DataFrame(X_train, columns = iris_dataset.feature_names)"
   ]
  },
  {
   "cell_type": "code",
   "execution_count": 1,
   "metadata": {},
   "outputs": [
    {
     "ename": "NameError",
     "evalue": "name 'pd' is not defined",
     "output_type": "error",
     "traceback": [
      "\u001b[1;31m---------------------------------------------------------------------------\u001b[0m",
      "\u001b[1;31mNameError\u001b[0m                                 Traceback (most recent call last)",
      "\u001b[1;32m<ipython-input-1-638a94832734>\u001b[0m in \u001b[0;36m<module>\u001b[1;34m\u001b[0m\n\u001b[1;32m----> 1\u001b[1;33m pd.plotting.scatter_matrix(iris_dataframe, c = y_train, figsize = (15,15),\n\u001b[0m\u001b[0;32m      2\u001b[0m                            \u001b[0mmarker\u001b[0m \u001b[1;33m=\u001b[0m \u001b[1;34m'o'\u001b[0m\u001b[1;33m,\u001b[0m \u001b[0mhist_kwds\u001b[0m\u001b[1;33m=\u001b[0m\u001b[1;33m{\u001b[0m\u001b[1;34m'bins'\u001b[0m\u001b[1;33m:\u001b[0m\u001b[1;36m20\u001b[0m\u001b[1;33m}\u001b[0m\u001b[1;33m,\u001b[0m \u001b[0ms\u001b[0m \u001b[1;33m=\u001b[0m \u001b[1;36m60\u001b[0m\u001b[1;33m,\u001b[0m\u001b[1;33m\u001b[0m\u001b[1;33m\u001b[0m\u001b[0m\n\u001b[0;32m      3\u001b[0m                            alpha = 0.8)\n",
      "\u001b[1;31mNameError\u001b[0m: name 'pd' is not defined"
     ]
    }
   ],
   "source": [
    "pd.plotting.scatter_matrix(iris_dataframe, c = y_train, figsize = (15,15),\n",
    "                           marker = 'o', hist_kwds={'bins':20}, s = 60,\n",
    "                           alpha = 0.8)"
   ]
  },
  {
   "cell_type": "markdown",
   "metadata": {},
   "source": [
    "## [연습] 품종 컬럼 포함 5 by 5 산점도 행렬 그리기"
   ]
  },
  {
   "cell_type": "code",
   "execution_count": 34,
   "metadata": {},
   "outputs": [
    {
     "ename": "NameError",
     "evalue": "name 'iris_dataframe1' is not defined",
     "output_type": "error",
     "traceback": [
      "\u001b[1;31m---------------------------------------------------------------------------\u001b[0m",
      "\u001b[1;31mNameError\u001b[0m                                 Traceback (most recent call last)",
      "\u001b[1;32m<ipython-input-34-81855897f1e1>\u001b[0m in \u001b[0;36m<module>\u001b[1;34m()\u001b[0m\n\u001b[1;32m----> 1\u001b[1;33m \u001b[0miris_dataframe1\u001b[0m\u001b[1;33m\u001b[0m\u001b[0m\n\u001b[0m",
      "\u001b[1;31mNameError\u001b[0m: name 'iris_dataframe1' is not defined"
     ]
    }
   ],
   "source": [
    "iris_dataframe1"
   ]
  },
  {
   "cell_type": "code",
   "execution_count": 35,
   "metadata": {},
   "outputs": [
    {
     "data": {
      "text/plain": [
       "['sepal length (cm)',\n",
       " 'sepal width (cm)',\n",
       " 'petal length (cm)',\n",
       " 'petal width (cm)',\n",
       " 'Species']"
      ]
     },
     "execution_count": 35,
     "metadata": {},
     "output_type": "execute_result"
    }
   ],
   "source": [
    "column_names = iris_dataset.feature_names[0:4] + ['Species']\n",
    "column_names"
   ]
  },
  {
   "cell_type": "code",
   "execution_count": 28,
   "metadata": {},
   "outputs": [],
   "source": [
    "iris_dataframe1 = pd.DataFrame(y_train, columns = ['Species'])"
   ]
  },
  {
   "cell_type": "code",
   "execution_count": 29,
   "metadata": {},
   "outputs": [],
   "source": [
    "iris_dataframe2 = pd.merge(iris_dataframe, iris_dataframe1, how='left', \n",
    "                           left_index = True, right_index = True)"
   ]
  },
  {
   "cell_type": "code",
   "execution_count": 30,
   "metadata": {},
   "outputs": [
    {
     "data": {
      "text/plain": [
       "array([[<matplotlib.axes._subplots.AxesSubplot object at 0x000001E2A998C208>,\n",
       "        <matplotlib.axes._subplots.AxesSubplot object at 0x000001E2A99C0B00>,\n",
       "        <matplotlib.axes._subplots.AxesSubplot object at 0x000001E2A94E71D0>,\n",
       "        <matplotlib.axes._subplots.AxesSubplot object at 0x000001E2A950F860>,\n",
       "        <matplotlib.axes._subplots.AxesSubplot object at 0x000001E2A9537EF0>],\n",
       "       [<matplotlib.axes._subplots.AxesSubplot object at 0x000001E2A9537F28>,\n",
       "        <matplotlib.axes._subplots.AxesSubplot object at 0x000001E2A9590C50>,\n",
       "        <matplotlib.axes._subplots.AxesSubplot object at 0x000001E2A95C2320>,\n",
       "        <matplotlib.axes._subplots.AxesSubplot object at 0x000001E2A95E89B0>,\n",
       "        <matplotlib.axes._subplots.AxesSubplot object at 0x000001E2A961B080>],\n",
       "       [<matplotlib.axes._subplots.AxesSubplot object at 0x000001E2A9645710>,\n",
       "        <matplotlib.axes._subplots.AxesSubplot object at 0x000001E2A966DDA0>,\n",
       "        <matplotlib.axes._subplots.AxesSubplot object at 0x000001E2A96A0470>,\n",
       "        <matplotlib.axes._subplots.AxesSubplot object at 0x000001E2A96C7B00>,\n",
       "        <matplotlib.axes._subplots.AxesSubplot object at 0x000001E2A96FA1D0>],\n",
       "       [<matplotlib.axes._subplots.AxesSubplot object at 0x000001E2A9721860>,\n",
       "        <matplotlib.axes._subplots.AxesSubplot object at 0x000001E2A9749EF0>,\n",
       "        <matplotlib.axes._subplots.AxesSubplot object at 0x000001E2A977B5C0>,\n",
       "        <matplotlib.axes._subplots.AxesSubplot object at 0x000001E2A97A2C50>,\n",
       "        <matplotlib.axes._subplots.AxesSubplot object at 0x000001E2A97D3320>],\n",
       "       [<matplotlib.axes._subplots.AxesSubplot object at 0x000001E2A97FD9B0>,\n",
       "        <matplotlib.axes._subplots.AxesSubplot object at 0x000001E2A982F080>,\n",
       "        <matplotlib.axes._subplots.AxesSubplot object at 0x000001E2A9855710>,\n",
       "        <matplotlib.axes._subplots.AxesSubplot object at 0x000001E2A987FDA0>,\n",
       "        <matplotlib.axes._subplots.AxesSubplot object at 0x000001E2A98B0470>]],\n",
       "      dtype=object)"
      ]
     },
     "execution_count": 30,
     "metadata": {},
     "output_type": "execute_result"
    },
    {
     "data": {
      "image/png": "[encoded data removed]",
      "text/plain": [
       "<Figure size 1080x1080 with 25 Axes>"
      ]
     },
     "metadata": {},
     "output_type": "display_data"
    }
   ],
   "source": [
    "pd.plotting.scatter_matrix(iris_dataframe2, figsize = (15,15),\n",
    "                           marker = 'o', hist_kwds={'bins':10}, s = 60,\n",
    "                           alpha = 0.8, c=y_train)"
   ]
  },
  {
   "cell_type": "markdown",
   "metadata": {},
   "source": [
    "### [연습] 위에서 시각화한 아래 그래프의 레이블 레전드를 표시해보세요"
   ]
  },
  {
   "cell_type": "code",
   "execution_count": 15,
   "metadata": {},
   "outputs": [
    {
     "data": {
      "text/plain": [
       "<matplotlib.collections.PathCollection at 0x110c047dac8>"
      ]
     },
     "execution_count": 15,
     "metadata": {},
     "output_type": "execute_result"
    },
    {
     "data": {
      "image/png": "[encoded data removed]",
      "text/plain": [
       "<Figure size 432x288 with 1 Axes>"
      ]
     },
     "metadata": {},
     "output_type": "display_data"
    }
   ],
   "source": [
    "plt.scatter(X_train[:,2], X_train[:,3], edgecolor = 'k', s=20, c = y_train)"
   ]
  },
  {
   "cell_type": "markdown",
   "metadata": {},
   "source": [
    "### 방안 1"
   ]
  },
  {
   "cell_type": "code",
   "execution_count": 8,
   "metadata": {},
   "outputs": [
    {
     "data": {
      "text/plain": [
       "<matplotlib.legend.Legend at 0x204616b3320>"
      ]
     },
     "execution_count": 8,
     "metadata": {},
     "output_type": "execute_result"
    },
    {
     "data": {
      "image/png": "[encoded data removed]",
      "text/plain": [
       "<Figure size 432x288 with 1 Axes>"
      ]
     },
     "metadata": {
      "needs_background": "light"
     },
     "output_type": "display_data"
    }
   ],
   "source": [
    "mask0 = y_train == 0\n",
    "mask1 = y_train == 1\n",
    "mask2 = y_train == 2\n",
    "\n",
    "plt.scatter(X_train[mask0,2], X_train[mask0,3], edgecolor = 'k', s=20, c = 'r', label = 'class0')\n",
    "plt.scatter(X_train[mask1,2], X_train[mask1,3], edgecolor = 'k', s=20, c = 'g', label = 'class1')\n",
    "plt.scatter(X_train[mask2,2], X_train[mask2,3], edgecolor = 'k', s=20, c = 'b', label = 'class2')\n",
    "\n",
    "plt.legend(loc=4)"
   ]
  },
  {
   "cell_type": "markdown",
   "metadata": {},
   "source": [
    "### 방안 2"
   ]
  },
  {
   "cell_type": "code",
   "execution_count": 15,
   "metadata": {},
   "outputs": [
    {
     "data": {
      "image/png": "[encoded data removed]",
      "text/plain": [
       "<Figure size 432x288 with 1 Axes>"
      ]
     },
     "metadata": {
      "needs_background": "light"
     },
     "output_type": "display_data"
    }
   ],
   "source": [
    "fig, ax = plt.subplots()\n",
    "colors = ['r','g','b']\n",
    "classes = [0,1,2]\n",
    "\n",
    "for i, color in zip(classes, colors):\n",
    "    idx = y_train == i\n",
    "    ax.scatter(X_train[idx,2], X_train[idx,3], edgecolor = 'k', c = color, label = 'class{}'.format(i))\n",
    "    ax.legend(loc = 'center left', title = 'classes')"
   ]
  },
  {
   "cell_type": "markdown",
   "metadata": {},
   "source": [
    "### 방안 3"
   ]
  },
  {
   "cell_type": "code",
   "execution_count": 11,
   "metadata": {},
   "outputs": [
    {
     "data": {
      "text/plain": [
       "<matplotlib.legend.Legend at 0x214893b8940>"
      ]
     },
     "execution_count": 11,
     "metadata": {},
     "output_type": "execute_result"
    },
    {
     "data": {
      "image/png": "[encoded data removed]",
      "text/plain": [
       "<Figure size 432x288 with 1 Axes>"
      ]
     },
     "metadata": {
      "needs_background": "light"
     },
     "output_type": "display_data"
    }
   ],
   "source": [
    "fig, ax = plt.subplots()\n",
    "scatter = ax.scatter(X_train[:,2], X_train[:,3], edgecolor = 'k', s=20, c = y_train)\n",
    "\n",
    "ax.legend(*scatter.legend_elements(), loc='lower right', title = 'classes')"
   ]
  },
  {
   "cell_type": "code",
   "execution_count": 35,
   "metadata": {},
   "outputs": [
    {
     "ename": "AttributeError",
     "evalue": "'PathCollection' object has no attribute 'legend_elements'",
     "output_type": "error",
     "traceback": [
      "\u001b[1;31m---------------------------------------------------------------------------\u001b[0m",
      "\u001b[1;31mAttributeError\u001b[0m                            Traceback (most recent call last)",
      "\u001b[1;32m<ipython-input-35-20c2c0603585>\u001b[0m in \u001b[0;36m<module>\u001b[1;34m()\u001b[0m\n\u001b[1;32m----> 1\u001b[1;33m \u001b[0max\u001b[0m\u001b[1;33m.\u001b[0m\u001b[0mlegend\u001b[0m\u001b[1;33m(\u001b[0m\u001b[1;33m*\u001b[0m\u001b[0mscatter\u001b[0m\u001b[1;33m.\u001b[0m\u001b[0mlegend_elements\u001b[0m\u001b[1;33m(\u001b[0m\u001b[1;33m)\u001b[0m\u001b[1;33m)\u001b[0m\u001b[1;33m\u001b[0m\u001b[0m\n\u001b[0m",
      "\u001b[1;31mAttributeError\u001b[0m: 'PathCollection' object has no attribute 'legend_elements'"
     ]
    }
   ],
   "source": [
    "ax.legend(*scatter.legend_elements())"
   ]
  },
  {
   "cell_type": "code",
   "execution_count": 34,
   "metadata": {},
   "outputs": [],
   "source": [
    "## 적절한 k 값 찾기 1"
   ]
  },
  {
   "cell_type": "code",
   "execution_count": 35,
   "metadata": {},
   "outputs": [],
   "source": [
    "# 모델 객체 생성\n",
    "clf1 = KNeighborsClassifier(n_neighbors = 3)"
   ]
  },
  {
   "cell_type": "code",
   "execution_count": 36,
   "metadata": {},
   "outputs": [
    {
     "data": {
      "text/plain": [
       "KNeighborsClassifier(algorithm='auto', leaf_size=30, metric='minkowski',\n",
       "           metric_params=None, n_jobs=1, n_neighbors=3, p=2,\n",
       "           weights='uniform')"
      ]
     },
     "execution_count": 36,
     "metadata": {},
     "output_type": "execute_result"
    }
   ],
   "source": [
    "# 모델 훈련\n",
    "clf1.fit(X_train, y_train)"
   ]
  },
  {
   "cell_type": "code",
   "execution_count": 37,
   "metadata": {},
   "outputs": [],
   "source": [
    "# 예측\n",
    "predict_label = clf1.predict(X_test)"
   ]
  },
  {
   "cell_type": "code",
   "execution_count": 38,
   "metadata": {},
   "outputs": [
    {
     "name": "stdout",
     "output_type": "stream",
     "text": [
      "트레인 세트 정확도: 0.99\n",
      "테스트 세트 정확도: 0.91\n"
     ]
    }
   ],
   "source": [
    "print(\"트레인 세트 정확도: {:.2f}\".format(clf1.score(X_train, y_train)))\n",
    "print(\"테스트 세트 정확도: {:.2f}\".format(clf1.score(X_test, y_test)))"
   ]
  },
  {
   "cell_type": "code",
   "execution_count": null,
   "metadata": {},
   "outputs": [],
   "source": [
    "## 적절한 k 값 찾기 2"
   ]
  },
  {
   "cell_type": "code",
   "execution_count": 39,
   "metadata": {},
   "outputs": [
    {
     "name": "stdout",
     "output_type": "stream",
     "text": [
      "트레인 세트 정확도: 0.99\n",
      "테스트 세트 정확도: 0.96\n"
     ]
    }
   ],
   "source": [
    "# 모델 객체 생성\n",
    "clf2 = KNeighborsClassifier(n_neighbors = 7)\n",
    "\n",
    "# 모델 훈련\n",
    "clf2.fit(X_train, y_train)\n",
    "\n",
    "# 예측\n",
    "predict_label = clf2.predict(X_test)\n",
    "\n",
    "# 결과\n",
    "print(\"트레인 세트 정확도: {:.2f}\".format(clf2.score(X_train, y_train)))\n",
    "print(\"테스트 세트 정확도: {:.2f}\".format(clf2.score(X_test, y_test)))"
   ]
  },
  {
   "cell_type": "code",
   "execution_count": null,
   "metadata": {},
   "outputs": [],
   "source": [
    "# 2. 2개의 feature 사용"
   ]
  },
  {
   "cell_type": "code",
   "execution_count": 40,
   "metadata": {},
   "outputs": [
    {
     "data": {
      "text/plain": [
       "['sepal length (cm)',\n",
       " 'sepal width (cm)',\n",
       " 'petal length (cm)',\n",
       " 'petal width (cm)']"
      ]
     },
     "execution_count": 40,
     "metadata": {},
     "output_type": "execute_result"
    }
   ],
   "source": [
    "iris_dataset.feature_names"
   ]
  },
  {
   "cell_type": "code",
   "execution_count": 41,
   "metadata": {},
   "outputs": [],
   "source": [
    "## data split\n",
    "X1 = iris_dataset.data[:, 2:4]\n",
    "y1 = iris_dataset.target\n",
    "\n",
    "X1_train, X1_test, y1_train, y1_test = train_test_split(X1, y1, test_size = 0.3, random_state = 35)"
   ]
  },
  {
   "cell_type": "code",
   "execution_count": 42,
   "metadata": {},
   "outputs": [
    {
     "data": {
      "text/plain": [
       "array([[ True,  True],\n",
       "       [ True,  True],\n",
       "       [ True,  True],\n",
       "       [ True,  True],\n",
       "       [ True,  True],\n",
       "       [ True,  True],\n",
       "       [ True,  True],\n",
       "       [ True,  True],\n",
       "       [ True,  True],\n",
       "       [ True,  True],\n",
       "       [ True,  True],\n",
       "       [ True,  True],\n",
       "       [ True,  True],\n",
       "       [ True,  True],\n",
       "       [ True,  True],\n",
       "       [ True,  True],\n",
       "       [ True,  True],\n",
       "       [ True,  True],\n",
       "       [ True,  True],\n",
       "       [ True,  True],\n",
       "       [ True,  True],\n",
       "       [ True,  True],\n",
       "       [ True,  True],\n",
       "       [ True,  True],\n",
       "       [ True,  True],\n",
       "       [ True,  True],\n",
       "       [ True,  True],\n",
       "       [ True,  True],\n",
       "       [ True,  True],\n",
       "       [ True,  True],\n",
       "       [ True,  True],\n",
       "       [ True,  True],\n",
       "       [ True,  True],\n",
       "       [ True,  True],\n",
       "       [ True,  True],\n",
       "       [ True,  True],\n",
       "       [ True,  True],\n",
       "       [ True,  True],\n",
       "       [ True,  True],\n",
       "       [ True,  True],\n",
       "       [ True,  True],\n",
       "       [ True,  True],\n",
       "       [ True,  True],\n",
       "       [ True,  True],\n",
       "       [ True,  True],\n",
       "       [ True,  True],\n",
       "       [ True,  True],\n",
       "       [ True,  True],\n",
       "       [ True,  True],\n",
       "       [ True,  True],\n",
       "       [ True,  True],\n",
       "       [ True,  True],\n",
       "       [ True,  True],\n",
       "       [ True,  True],\n",
       "       [ True,  True],\n",
       "       [ True,  True],\n",
       "       [ True,  True],\n",
       "       [ True,  True],\n",
       "       [ True,  True],\n",
       "       [ True,  True],\n",
       "       [ True,  True],\n",
       "       [ True,  True],\n",
       "       [ True,  True],\n",
       "       [ True,  True],\n",
       "       [ True,  True],\n",
       "       [ True,  True],\n",
       "       [ True,  True],\n",
       "       [ True,  True],\n",
       "       [ True,  True],\n",
       "       [ True,  True],\n",
       "       [ True,  True],\n",
       "       [ True,  True],\n",
       "       [ True,  True],\n",
       "       [ True,  True],\n",
       "       [ True,  True],\n",
       "       [ True,  True],\n",
       "       [ True,  True],\n",
       "       [ True,  True],\n",
       "       [ True,  True],\n",
       "       [ True,  True],\n",
       "       [ True,  True],\n",
       "       [ True,  True],\n",
       "       [ True,  True],\n",
       "       [ True,  True],\n",
       "       [ True,  True],\n",
       "       [ True,  True],\n",
       "       [ True,  True],\n",
       "       [ True,  True],\n",
       "       [ True,  True],\n",
       "       [ True,  True],\n",
       "       [ True,  True],\n",
       "       [ True,  True],\n",
       "       [ True,  True],\n",
       "       [ True,  True],\n",
       "       [ True,  True],\n",
       "       [ True,  True],\n",
       "       [ True,  True],\n",
       "       [ True,  True],\n",
       "       [ True,  True],\n",
       "       [ True,  True],\n",
       "       [ True,  True],\n",
       "       [ True,  True],\n",
       "       [ True,  True],\n",
       "       [ True,  True],\n",
       "       [ True,  True]])"
      ]
     },
     "execution_count": 42,
     "metadata": {},
     "output_type": "execute_result"
    }
   ],
   "source": [
    "## 데이터 확인\n",
    "X1_train == X_train[:,2:4]"
   ]
  },
  {
   "cell_type": "code",
   "execution_count": 43,
   "metadata": {},
   "outputs": [
    {
     "data": {
      "text/plain": [
       "array([34, 36, 35], dtype=int64)"
      ]
     },
     "execution_count": 43,
     "metadata": {},
     "output_type": "execute_result"
    }
   ],
   "source": [
    "np.bincount(y_train)"
   ]
  },
  {
   "cell_type": "code",
   "execution_count": 44,
   "metadata": {},
   "outputs": [
    {
     "data": {
      "text/plain": [
       "(array([34.,  0.,  0.,  0.,  0., 36.,  0.,  0.,  0., 35.]),\n",
       " array([0. , 0.2, 0.4, 0.6, 0.8, 1. , 1.2, 1.4, 1.6, 1.8, 2. ]),\n",
       " <a list of 10 Patch objects>)"
      ]
     },
     "execution_count": 44,
     "metadata": {},
     "output_type": "execute_result"
    },
    {
     "data": {
      "image/png": "[encoded data removed]",
      "text/plain": [
       "<Figure size 432x288 with 1 Axes>"
      ]
     },
     "metadata": {},
     "output_type": "display_data"
    }
   ],
   "source": [
    "plt.hist(y_train)"
   ]
  },
  {
   "cell_type": "code",
   "execution_count": 45,
   "metadata": {},
   "outputs": [],
   "source": [
    "# 모델 객체 생성\n",
    "clf3 = KNeighborsClassifier(n_neighbors = 21)"
   ]
  },
  {
   "cell_type": "code",
   "execution_count": 46,
   "metadata": {},
   "outputs": [
    {
     "data": {
      "text/plain": [
       "KNeighborsClassifier(algorithm='auto', leaf_size=30, metric='minkowski',\n",
       "           metric_params=None, n_jobs=1, n_neighbors=21, p=2,\n",
       "           weights='uniform')"
      ]
     },
     "execution_count": 46,
     "metadata": {},
     "output_type": "execute_result"
    }
   ],
   "source": [
    "# 모델 훈련\n",
    "clf3.fit(X1_train, y1_train)"
   ]
  },
  {
   "cell_type": "code",
   "execution_count": 47,
   "metadata": {},
   "outputs": [],
   "source": [
    "# 예측\n",
    "predict_label = clf3.predict(X1_test)"
   ]
  },
  {
   "cell_type": "code",
   "execution_count": 48,
   "metadata": {},
   "outputs": [
    {
     "data": {
      "text/plain": [
       "array([ True,  True,  True,  True,  True,  True,  True,  True,  True,\n",
       "        True,  True,  True,  True,  True,  True,  True,  True,  True,\n",
       "        True,  True,  True,  True,  True,  True,  True,  True,  True,\n",
       "        True,  True,  True,  True,  True, False,  True,  True,  True,\n",
       "        True,  True,  True, False,  True,  True,  True,  True,  True])"
      ]
     },
     "execution_count": 48,
     "metadata": {},
     "output_type": "execute_result"
    }
   ],
   "source": [
    "# 정확도\n",
    "predict_label == y1_test"
   ]
  },
  {
   "cell_type": "code",
   "execution_count": 49,
   "metadata": {},
   "outputs": [
    {
     "name": "stdout",
     "output_type": "stream",
     "text": [
      "test accuracy 0.96\n"
     ]
    }
   ],
   "source": [
    "print('test accuracy {:.2f}'.format(np.mean(predict_label == y_test)))"
   ]
  },
  {
   "cell_type": "code",
   "execution_count": 37,
   "metadata": {},
   "outputs": [
    {
     "ename": "AttributeError",
     "evalue": "'PathCollection' object has no attribute 'legend_elements'",
     "output_type": "error",
     "traceback": [
      "\u001b[1;31m---------------------------------------------------------------------------\u001b[0m",
      "\u001b[1;31mAttributeError\u001b[0m                            Traceback (most recent call last)",
      "\u001b[1;32m<ipython-input-37-99a9ed847e42>\u001b[0m in \u001b[0;36m<module>\u001b[1;34m()\u001b[0m\n\u001b[0;32m      2\u001b[0m \u001b[1;33m\u001b[0m\u001b[0m\n\u001b[0;32m      3\u001b[0m \u001b[0mscatter\u001b[0m \u001b[1;33m=\u001b[0m \u001b[0max\u001b[0m\u001b[1;33m.\u001b[0m\u001b[0mscatter\u001b[0m\u001b[1;33m(\u001b[0m\u001b[0mX_train\u001b[0m\u001b[1;33m[\u001b[0m\u001b[1;33m:\u001b[0m\u001b[1;33m,\u001b[0m\u001b[1;36m0\u001b[0m\u001b[1;33m]\u001b[0m\u001b[1;33m,\u001b[0m \u001b[0mX_train\u001b[0m\u001b[1;33m[\u001b[0m\u001b[1;33m:\u001b[0m\u001b[1;33m,\u001b[0m\u001b[1;36m1\u001b[0m\u001b[1;33m]\u001b[0m\u001b[1;33m,\u001b[0m \u001b[0medgecolor\u001b[0m \u001b[1;33m=\u001b[0m \u001b[1;34m'k'\u001b[0m\u001b[1;33m,\u001b[0m \u001b[0ms\u001b[0m\u001b[1;33m=\u001b[0m\u001b[1;36m20\u001b[0m\u001b[1;33m,\u001b[0m \u001b[0mc\u001b[0m \u001b[1;33m=\u001b[0m \u001b[0my_train\u001b[0m\u001b[1;33m)\u001b[0m\u001b[1;33m\u001b[0m\u001b[0m\n\u001b[1;32m----> 4\u001b[1;33m \u001b[0max\u001b[0m\u001b[1;33m.\u001b[0m\u001b[0mlegend\u001b[0m\u001b[1;33m(\u001b[0m\u001b[1;33m*\u001b[0m\u001b[0mscatter\u001b[0m\u001b[1;33m.\u001b[0m\u001b[0mlegend_elements\u001b[0m\u001b[1;33m(\u001b[0m\u001b[1;33m)\u001b[0m\u001b[1;33m,\u001b[0m \u001b[0mloc\u001b[0m\u001b[1;33m=\u001b[0m\u001b[1;34m'lower right'\u001b[0m\u001b[1;33m,\u001b[0m \u001b[0mtitle\u001b[0m \u001b[1;33m=\u001b[0m \u001b[1;34m'class'\u001b[0m\u001b[1;33m)\u001b[0m\u001b[1;33m\u001b[0m\u001b[0m\n\u001b[0m",
      "\u001b[1;31mAttributeError\u001b[0m: 'PathCollection' object has no attribute 'legend_elements'"
     ]
    },
    {
     "data": {
      "image/png": "[encoded data removed]",
      "text/plain": [
       "<Figure size 432x288 with 1 Axes>"
      ]
     },
     "metadata": {},
     "output_type": "display_data"
    }
   ],
   "source": [
    "fig, ax = plt.subplots()\n",
    "\n",
    "scatter = ax.scatter(X_train[:,0], X_train[:,1], edgecolor = 'k', s=20, c = y_train)\n",
    "ax.legend(*scatter.legend_elements(), loc='lower right', title = 'class')"
   ]
  },
  {
   "cell_type": "code",
   "execution_count": 51,
   "metadata": {},
   "outputs": [
    {
     "name": "stdout",
     "output_type": "stream",
     "text": [
      "테스트 세트 정확도: 0.96\n"
     ]
    }
   ],
   "source": [
    "print(\"테스트 세트 정확도: {:.2f}\".format(clf3.score(X1_test, y1_test)))"
   ]
  },
  {
   "cell_type": "code",
   "execution_count": 52,
   "metadata": {},
   "outputs": [
    {
     "name": "stdout",
     "output_type": "stream",
     "text": [
      "트레인 세트 정확도: 0.96\n"
     ]
    }
   ],
   "source": [
    "print(\"트레인 세트 정확도: {:.2f}\".format(clf3.score(X1_train, y1_train)))"
   ]
  },
  {
   "cell_type": "markdown",
   "metadata": {},
   "source": [
    "###### Graph_Advanced"
   ]
  },
  {
   "cell_type": "code",
   "execution_count": 115,
   "metadata": {},
   "outputs": [],
   "source": [
    "import numpy as np\n",
    "import matplotlib.pyplot as plt\n",
    "from matplotlib.colors import ListedColormap\n",
    "from sklearn import neighbors, datasets"
   ]
  },
  {
   "cell_type": "code",
   "execution_count": 140,
   "metadata": {},
   "outputs": [
    {
     "data": {
      "text/plain": [
       "array([ True,  True,  True,  True,  True,  True,  True,  True,  True,\n",
       "        True,  True,  True,  True,  True,  True,  True,  True,  True,\n",
       "        True,  True,  True,  True,  True,  True,  True,  True,  True,\n",
       "        True,  True,  True,  True,  True, False,  True,  True,  True,\n",
       "        True,  True,  True, False,  True,  True,  True,  True,  True])"
      ]
     },
     "execution_count": 140,
     "metadata": {},
     "output_type": "execute_result"
    }
   ],
   "source": [
    "# data load\n",
    "iris_dataset = datasets.load_iris()\n",
    "\n",
    "## data split\n",
    "X1 = iris_dataset.data[:, 2:4]\n",
    "y1 = iris_dataset.target\n",
    "\n",
    "X1_train, X1_test, y1_train, y1_test = train_test_split(X1, y1, test_size = 0.3, random_state = 35)\n",
    "\n",
    "# 모델 객체 생성\n",
    "clf3 = KNeighborsClassifier(n_neighbors = 21)\n",
    "\n",
    "# 모델 훈련\n",
    "clf3.fit(X1_train, y1_train)\n",
    "\n",
    "# 예측\n",
    "predict_label = clf3.predict(X1_test)\n",
    "\n",
    "# 정확도\n",
    "predict_label == y1_test"
   ]
  },
  {
   "cell_type": "code",
   "execution_count": 154,
   "metadata": {},
   "outputs": [],
   "source": [
    "cmap_light = ListedColormap(['#FFAAAA', '#AAFFAA', '#AAAAFF'])\n",
    "cmap_bold = ListedColormap(['#FF0000', '#00FF00', '#0000FF'])"
   ]
  },
  {
   "cell_type": "code",
   "execution_count": 156,
   "metadata": {},
   "outputs": [],
   "source": [
    "h = 0.02 # step size in the mesh\n",
    "\n",
    "x_min, x_max = X1[:, 0].min() - 0.5, X1[:, 0].max() + 2\n",
    "y_min, y_max = X1[:, 1].min() - 0.5, X1[:, 1].max() + 2\n",
    "xx, yy = np.meshgrid(np.arange(x_min, x_max, h),\n",
    "                     np.arange(y_min, y_max, h))\n",
    "Z = clf3.predict(np.c_[xx.ravel(), yy.ravel()])\n",
    "Z = Z.reshape(xx.shape)"
   ]
  },
  {
   "cell_type": "code",
   "execution_count": 157,
   "metadata": {},
   "outputs": [
    {
     "data": {
      "text/plain": [
       "(-0.4, 4.480000000000004)"
      ]
     },
     "execution_count": 157,
     "metadata": {},
     "output_type": "execute_result"
    },
    {
     "data": {
      "image/png": "[encoded data removed]",
      "text/plain": [
       "<Figure size 432x288 with 1 Axes>"
      ]
     },
     "metadata": {},
     "output_type": "display_data"
    }
   ],
   "source": [
    "plt.pcolormesh(xx, yy, Z, cmap=cmap_light)\n",
    "plt.scatter(X[:, 0], X[:, 1], c=y1, cmap = cmap_bold,\n",
    "            edgecolor='k', s=20)\n",
    "plt.xlim(xx.min(), xx.max())\n",
    "plt.ylim(yy.min(), yy.max())"
   ]
  },
  {
   "cell_type": "code",
   "execution_count": 152,
   "metadata": {},
   "outputs": [
    {
     "data": {
      "text/plain": [
       "(-0.4, 4.480000000000004)"
      ]
     },
     "execution_count": 152,
     "metadata": {},
     "output_type": "execute_result"
    },
    {
     "data": {
      "image/png": "[encoded data removed]",
      "text/plain": [
       "<Figure size 432x288 with 1 Axes>"
      ]
     },
     "metadata": {},
     "output_type": "display_data"
    }
   ],
   "source": [
    "plt.scatter(X[:, 0], X[:, 1], c=y, edgecolor='k', s=20)\n",
    "plt.xlim(xx.min(), xx.max())\n",
    "plt.ylim(yy.min(), yy.max())"
   ]
  },
  {
   "cell_type": "code",
   "execution_count": null,
   "metadata": {},
   "outputs": [],
   "source": [
    "    plt.title(\"3-Class classification (k = %i, weights = '%s')\"\n",
    "              % (n_neighbors, weights))"
   ]
  },
  {
   "cell_type": "code",
   "execution_count": null,
   "metadata": {},
   "outputs": [],
   "source": []
  },
  {
   "cell_type": "markdown",
   "metadata": {},
   "source": [
    "## [예제]\n",
    "## 사이킷런의 load_breast_cancer 데이터를 이용하여 \n",
    "## n_neighbors를 1~11까지 변화시켜가며 트레인 정확도와  \n",
    "## 테스트 정확도 그래프를 확인하고 가장 적절한 k값을 판단해보세요"
   ]
  },
  {
   "cell_type": "code",
   "execution_count": null,
   "metadata": {},
   "outputs": [],
   "source": []
  },
  {
   "cell_type": "code",
   "execution_count": null,
   "metadata": {},
   "outputs": [],
   "source": []
  },
  {
   "cell_type": "code",
   "execution_count": null,
   "metadata": {},
   "outputs": [],
   "source": []
  },
  {
   "cell_type": "code",
   "execution_count": null,
   "metadata": {},
   "outputs": [],
   "source": []
  },
  {
   "cell_type": "code",
   "execution_count": null,
   "metadata": {},
   "outputs": [],
   "source": []
  },
  {
   "cell_type": "code",
   "execution_count": null,
   "metadata": {},
   "outputs": [],
   "source": []
  },
  {
   "cell_type": "code",
   "execution_count": null,
   "metadata": {},
   "outputs": [],
   "source": []
  },
  {
   "cell_type": "code",
   "execution_count": null,
   "metadata": {},
   "outputs": [],
   "source": []
  },
  {
   "cell_type": "code",
   "execution_count": null,
   "metadata": {},
   "outputs": [],
   "source": []
  },
  {
   "cell_type": "code",
   "execution_count": 38,
   "metadata": {},
   "outputs": [],
   "source": [
    "from sklearn.datasets import load_breast_cancer"
   ]
  },
  {
   "cell_type": "code",
   "execution_count": 39,
   "metadata": {},
   "outputs": [],
   "source": [
    "# 1. 데이터 불러오기\n",
    "cancer = load_breast_cancer()"
   ]
  },
  {
   "cell_type": "code",
   "execution_count": 40,
   "metadata": {},
   "outputs": [
    {
     "name": "stdout",
     "output_type": "stream",
     "text": [
      "Breast Cancer Wisconsin (Diagnostic) Database\n",
      "=============================================\n",
      "\n",
      "Notes\n",
      "-----\n",
      "Data Set Characteristics:\n",
      "    :Number of Instances: 569\n",
      "\n",
      "    :Number of Attributes: 30 numeric, predictive attributes and the class\n",
      "\n",
      "    :Attribute Information:\n",
      "        - radius (mean of distances from center to points on the perimeter)\n",
      "        - texture (standard deviation of gray-scale values)\n",
      "        - perimeter\n",
      "        - area\n",
      "        - smoothness (local variation in radius lengths)\n",
      "        - compactness (perimeter^2 / area - 1.0)\n",
      "        - concavity (severity of concave portions of the contour)\n",
      "        - concave points (number of concave portions of the contour)\n",
      "        - symmetry \n",
      "        - fractal dimension (\"coastline approximation\" - 1)\n",
      "\n",
      "        The mean, standard error, and \"worst\" or largest (mean of the three\n",
      "        largest values) of these features were computed for each image,\n",
      "        resulting in 30 features.  For instance, field 3 is Mean Radius, field\n",
      "        13 is Radius SE, field 23 is Worst Radius.\n",
      "\n",
      "        - class:\n",
      "                - WDBC-Malignant\n",
      "                - WDBC-Benign\n",
      "\n",
      "    :Summary Statistics:\n",
      "\n",
      "    ===================================== ====== ======\n",
      "                                           Min    Max\n",
      "    ===================================== ====== ======\n",
      "    radius (mean):                        6.981  28.11\n",
      "    texture (mean):                       9.71   39.28\n",
      "    perimeter (mean):                     43.79  188.5\n",
      "    area (mean):                          143.5  2501.0\n",
      "    smoothness (mean):                    0.053  0.163\n",
      "    compactness (mean):                   0.019  0.345\n",
      "    concavity (mean):                     0.0    0.427\n",
      "    concave points (mean):                0.0    0.201\n",
      "    symmetry (mean):                      0.106  0.304\n",
      "    fractal dimension (mean):             0.05   0.097\n",
      "    radius (standard error):              0.112  2.873\n",
      "    texture (standard error):             0.36   4.885\n",
      "    perimeter (standard error):           0.757  21.98\n",
      "    area (standard error):                6.802  542.2\n",
      "    smoothness (standard error):          0.002  0.031\n",
      "    compactness (standard error):         0.002  0.135\n",
      "    concavity (standard error):           0.0    0.396\n",
      "    concave points (standard error):      0.0    0.053\n",
      "    symmetry (standard error):            0.008  0.079\n",
      "    fractal dimension (standard error):   0.001  0.03\n",
      "    radius (worst):                       7.93   36.04\n",
      "    texture (worst):                      12.02  49.54\n",
      "    perimeter (worst):                    50.41  251.2\n",
      "    area (worst):                         185.2  4254.0\n",
      "    smoothness (worst):                   0.071  0.223\n",
      "    compactness (worst):                  0.027  1.058\n",
      "    concavity (worst):                    0.0    1.252\n",
      "    concave points (worst):               0.0    0.291\n",
      "    symmetry (worst):                     0.156  0.664\n",
      "    fractal dimension (worst):            0.055  0.208\n",
      "    ===================================== ====== ======\n",
      "\n",
      "    :Missing Attribute Values: None\n",
      "\n",
      "    :Class Distribution: 212 - Malignant, 357 - Benign\n",
      "\n",
      "    :Creator:  Dr. William H. Wolberg, W. Nick Street, Olvi L. Mangasarian\n",
      "\n",
      "    :Donor: Nick Street\n",
      "\n",
      "    :Date: November, 1995\n",
      "\n",
      "This is a copy of UCI ML Breast Cancer Wisconsin (Diagnostic) datasets.\n",
      "https://goo.gl/U2Uwz2\n",
      "\n",
      "Features are computed from a digitized image of a fine needle\n",
      "aspirate (FNA) of a breast mass.  They describe\n",
      "characteristics of the cell nuclei present in the image.\n",
      "\n",
      "Separating plane described above was obtained using\n",
      "Multisurface Method-Tree (MSM-T) [K. P. Bennett, \"Decision Tree\n",
      "Construction Via Linear Programming.\" Proceedings of the 4th\n",
      "Midwest Artificial Intelligence and Cognitive Science Society,\n",
      "pp. 97-101, 1992], a classification method which uses linear\n",
      "programming to construct a decision tree.  Relevant features\n",
      "were selected using an exhaustive search in the space of 1-4\n",
      "features and 1-3 separating planes.\n",
      "\n",
      "The actual linear program used to obtain the separating plane\n",
      "in the 3-dimensional space is that described in:\n",
      "[K. P. Bennett and O. L. Mangasarian: \"Robust Linear\n",
      "Programming Discrimination of Two Linearly Inseparable Sets\",\n",
      "Optimization Methods and Software 1, 1992, 23-34].\n",
      "\n",
      "This database is also available through the UW CS ftp server:\n",
      "\n",
      "ftp ftp.cs.wisc.edu\n",
      "cd math-prog/cpo-dataset/machine-learn/WDBC/\n",
      "\n",
      "References\n",
      "----------\n",
      "   - W.N. Street, W.H. Wolberg and O.L. Mangasarian. Nuclear feature extraction \n",
      "     for breast tumor diagnosis. IS&T/SPIE 1993 International Symposium on \n",
      "     Electronic Imaging: Science and Technology, volume 1905, pages 861-870,\n",
      "     San Jose, CA, 1993.\n",
      "   - O.L. Mangasarian, W.N. Street and W.H. Wolberg. Breast cancer diagnosis and \n",
      "     prognosis via linear programming. Operations Research, 43(4), pages 570-577, \n",
      "     July-August 1995.\n",
      "   - W.H. Wolberg, W.N. Street, and O.L. Mangasarian. Machine learning techniques\n",
      "     to diagnose breast cancer from fine-needle aspirates. Cancer Letters 77 (1994) \n",
      "     163-171.\n",
      "\n"
     ]
    }
   ],
   "source": [
    "# 2. 데이터 확인\n",
    "print(cancer.DESCR)"
   ]
  },
  {
   "cell_type": "code",
   "execution_count": 33,
   "metadata": {},
   "outputs": [
    {
     "data": {
      "text/plain": [
       "array(['mean radius', 'mean texture', 'mean perimeter', 'mean area',\n",
       "       'mean smoothness', 'mean compactness', 'mean concavity',\n",
       "       'mean concave points', 'mean symmetry', 'mean fractal dimension',\n",
       "       'radius error', 'texture error', 'perimeter error', 'area error',\n",
       "       'smoothness error', 'compactness error', 'concavity error',\n",
       "       'concave points error', 'symmetry error',\n",
       "       'fractal dimension error', 'worst radius', 'worst texture',\n",
       "       'worst perimeter', 'worst area', 'worst smoothness',\n",
       "       'worst compactness', 'worst concavity', 'worst concave points',\n",
       "       'worst symmetry', 'worst fractal dimension'], dtype='<U23')"
      ]
     },
     "execution_count": 33,
     "metadata": {},
     "output_type": "execute_result"
    }
   ],
   "source": [
    "cancer.feature_names"
   ]
  },
  {
   "cell_type": "code",
   "execution_count": 161,
   "metadata": {},
   "outputs": [
    {
     "data": {
      "text/plain": [
       "30"
      ]
     },
     "execution_count": 161,
     "metadata": {},
     "output_type": "execute_result"
    }
   ],
   "source": [
    "np.count_nonzero(cancer.data[0])"
   ]
  },
  {
   "cell_type": "code",
   "execution_count": 5,
   "metadata": {},
   "outputs": [],
   "source": [
    "# 3, 데이터 분할\n",
    "X = cancer.data\n",
    "y = cancer.target\n",
    "\n",
    "X_train, X_test, y_train, y_test = train_test_split(X, y, test_size = 0.2, random_state = 66)"
   ]
  },
  {
   "cell_type": "code",
   "execution_count": 6,
   "metadata": {},
   "outputs": [
    {
     "name": "stdout",
     "output_type": "stream",
     "text": [
      "(455, 30)\n",
      "(114, 30)\n"
     ]
    }
   ],
   "source": [
    "print(X_train.shape)\n",
    "print(X_test.shape)"
   ]
  },
  {
   "cell_type": "code",
   "execution_count": 9,
   "metadata": {},
   "outputs": [],
   "source": [
    "# 4. 모델링(반복문)\n",
    "\n",
    "train_accuracy = []\n",
    "test_accuracy = []\n",
    "\n",
    "n_neighbors = range(1,12)\n",
    "\n",
    "for n_neighbor in n_neighbors:\n",
    "    # 모델 생성\n",
    "    clf = KNeighborsClassifier(n_neighbors = n_neighbor)\n",
    "    clf.fit(X_train, y_train)\n",
    "    \n",
    "    # 훈련 정확도 저장\n",
    "    train_accuracy.append(clf.score(X_train, y_train))\n",
    "    \n",
    "    # 테스트 정확도\n",
    "    test_accuracy.append(clf.score(X_test, y_test))"
   ]
  },
  {
   "cell_type": "code",
   "execution_count": 12,
   "metadata": {},
   "outputs": [],
   "source": [
    "### 한글 폰트 설정\n",
    "import matplotlib.pyplot as plt\n",
    "import matplotlib.font_manager as fm"
   ]
  },
  {
   "cell_type": "code",
   "execution_count": 63,
   "metadata": {},
   "outputs": [
    {
     "data": {
      "text/plain": [
       "'C:\\\\WINDOWS\\\\Fonts\\\\REFSPCL.TTF'"
      ]
     },
     "execution_count": 63,
     "metadata": {},
     "output_type": "execute_result"
    }
   ],
   "source": [
    "font_list = fm.findSystemFonts(fontpaths=None, fontext='ttf')\n",
    "font_list[19]"
   ]
  },
  {
   "cell_type": "code",
   "execution_count": 13,
   "metadata": {},
   "outputs": [],
   "source": [
    "font_path = 'C:\\\\WINDOWS\\\\Fonts\\\\malgun.ttf'\n",
    "font_name = fm.FontProperties(fname = font_path).get_name()\n",
    "plt.rcParams['font.family'] = font_name"
   ]
  },
  {
   "cell_type": "code",
   "execution_count": 14,
   "metadata": {},
   "outputs": [
    {
     "data": {
      "text/plain": [
       "<matplotlib.legend.Legend at 0x2a1a67388d0>"
      ]
     },
     "execution_count": 14,
     "metadata": {},
     "output_type": "execute_result"
    },
    {
     "data": {
      "image/png": "[encoded data removed]",
      "text/plain": [
       "<Figure size 432x288 with 1 Axes>"
      ]
     },
     "metadata": {},
     "output_type": "display_data"
    }
   ],
   "source": [
    "plt.plot(n_neighbors, train_accuracy, label = \"훈련 정확도\")\n",
    "plt.plot(n_neighbors, test_accuracy, label = '테스트 정확도')\n",
    "plt.ylabel(\"accuracy\")\n",
    "plt.xlabel(\"number of neighbors\")\n",
    "plt.legend()"
   ]
  },
  {
   "cell_type": "markdown",
   "metadata": {},
   "source": [
    "##### 3.2 Decision Tree "
   ]
  },
  {
   "cell_type": "code",
   "execution_count": 15,
   "metadata": {},
   "outputs": [],
   "source": [
    "from sklearn.tree import DecisionTreeClassifier\n",
    "from sklearn.datasets import load_iris\n",
    "from sklearn import tree\n",
    "from sklearn.model_selection import train_test_split"
   ]
  },
  {
   "cell_type": "code",
   "execution_count": 2,
   "metadata": {},
   "outputs": [],
   "source": [
    "iris_dataset = load_iris()"
   ]
  },
  {
   "cell_type": "code",
   "execution_count": 16,
   "metadata": {},
   "outputs": [],
   "source": [
    "## data split\n",
    "X = iris_dataset.data\n",
    "y = iris_dataset.target\n",
    "\n",
    "X_train, X_test, y_train, y_test = train_test_split(X, y, test_size = 0.3, random_state = 58)"
   ]
  },
  {
   "cell_type": "code",
   "execution_count": 17,
   "metadata": {},
   "outputs": [],
   "source": [
    "# 객체 생성\n",
    "clf = tree.DecisionTreeClassifier(max_depth = None, random_state = 0)"
   ]
  },
  {
   "cell_type": "code",
   "execution_count": 18,
   "metadata": {},
   "outputs": [
    {
     "data": {
      "text/plain": [
       "DecisionTreeClassifier(class_weight=None, criterion='gini', max_depth=None,\n",
       "                       max_features=None, max_leaf_nodes=None,\n",
       "                       min_impurity_decrease=0.0, min_impurity_split=None,\n",
       "                       min_samples_leaf=1, min_samples_split=2,\n",
       "                       min_weight_fraction_leaf=0.0, presort=False,\n",
       "                       random_state=0, splitter='best')"
      ]
     },
     "execution_count": 18,
     "metadata": {},
     "output_type": "execute_result"
    }
   ],
   "source": [
    "# 모델링\n",
    "clf.fit(X_train, y_train)"
   ]
  },
  {
   "cell_type": "code",
   "execution_count": 19,
   "metadata": {},
   "outputs": [
    {
     "name": "stdout",
     "output_type": "stream",
     "text": [
      "훈련 세트 점수: 1.000\n",
      "테스트 세트 점수: 0.933\n"
     ]
    }
   ],
   "source": [
    "print(\"훈련 세트 점수: {:.3f}\".format(clf.score(X_train, y_train)))\n",
    "print(\"테스트 세트 점수: {:.3f}\".format(clf.score(X_test, y_test)))"
   ]
  },
  {
   "cell_type": "markdown",
   "metadata": {},
   "source": [
    "###### tree graph\n",
    "\n",
    "#conda install graphviz\n",
    "#conda install python-graphviz\n",
    "\n",
    "###### 경로 설정\n",
    "#import os\n",
    "#os.environ[\"PATH\"] += os.pathsep + 'C:/Users/royyk/Anaconda3/Library/bin/graphviz/'"
   ]
  },
  {
   "cell_type": "code",
   "execution_count": 25,
   "metadata": {},
   "outputs": [],
   "source": [
    "import os\n",
    "import sys"
   ]
  },
  {
   "cell_type": "code",
   "execution_count": 26,
   "metadata": {},
   "outputs": [
    {
     "name": "stdout",
     "output_type": "stream",
     "text": [
      "C:\\pywork{\n",
      "}C:\\ProgramData\\Anaconda3\\python37.zip{\n",
      "}C:\\ProgramData\\Anaconda3\\DLLs{\n",
      "}C:\\ProgramData\\Anaconda3\\lib{\n",
      "}C:\\ProgramData\\Anaconda3{\n",
      "}{\n",
      "}C:\\ProgramData\\Anaconda3\\lib\\site-packages{\n",
      "}C:\\ProgramData\\Anaconda3\\lib\\site-packages\\win32{\n",
      "}C:\\ProgramData\\Anaconda3\\lib\\site-packages\\win32\\lib{\n",
      "}C:\\ProgramData\\Anaconda3\\lib\\site-packages\\Pythonwin{\n",
      "}C:\\ProgramData\\Anaconda3\\lib\\site-packages\\IPython\\extensions{\n",
      "}C:\\Users\\User\\.ipython\n"
     ]
    }
   ],
   "source": [
    "print('\\n'.join(sys.path))"
   ]
  },
  {
   "cell_type": "code",
   "execution_count": 43,
   "metadata": {},
   "outputs": [],
   "source": [
    "os.environ[\"PATH\"] += os.pathsep + 'C:/ProgramData/Anaconda3/Library/bin/graphviz/'"
   ]
  },
  {
   "cell_type": "code",
   "execution_count": 44,
   "metadata": {},
   "outputs": [],
   "source": [
    "# 그래프 생성\n",
    "from sklearn.tree import export_graphviz\n",
    "import graphviz # 설치 필요"
   ]
  },
  {
   "cell_type": "code",
   "execution_count": 45,
   "metadata": {},
   "outputs": [],
   "source": [
    "export_graphviz(clf, out_file = \"tree.dot\",\n",
    "                feature_names = iris_dataset.feature_names,\n",
    "                class_names = iris_dataset.target_names,\n",
    "                rounded = True, proportion = False,\n",
    "                filled = True, precision = 2)"
   ]
  },
  {
   "cell_type": "code",
   "execution_count": 46,
   "metadata": {},
   "outputs": [],
   "source": [
    "with open(\"tree.dot\") as f:\n",
    "    dot_graph = f.read()"
   ]
  },
  {
   "cell_type": "code",
   "execution_count": 47,
   "metadata": {},
   "outputs": [
    {
     "data": {
      "text/plain": [
       "'digraph Tree {\\nnode [shape=box, style=\"filled, rounded\", color=\"black\", fontname=helvetica] ;\\nedge [fontname=helvetica] ;\\n0 [label=\"petal width (cm) <= 0.8\\\\ngini = 0.66\\\\nsamples = 105\\\\nvalue = [39, 31, 35]\\\\nclass = setosa\", fillcolor=\"#fef8f4\"] ;\\n1 [label=\"gini = 0.0\\\\nsamples = 39\\\\nvalue = [39, 0, 0]\\\\nclass = setosa\", fillcolor=\"#e58139\"] ;\\n0 -> 1 [labeldistance=2.5, labelangle=45, headlabel=\"True\"] ;\\n2 [label=\"petal width (cm) <= 1.75\\\\ngini = 0.5\\\\nsamples = 66\\\\nvalue = [0, 31, 35]\\\\nclass = virginica\", fillcolor=\"#f1e8fc\"] ;\\n0 -> 2 [labeldistance=2.5, labelangle=-45, headlabel=\"False\"] ;\\n3 [label=\"petal length (cm) <= 5.05\\\\ngini = 0.16\\\\nsamples = 34\\\\nvalue = [0, 31, 3]\\\\nclass = versicolor\", fillcolor=\"#4ce88d\"] ;\\n2 -> 3 ;\\n4 [label=\"sepal length (cm) <= 5.0\\\\ngini = 0.06\\\\nsamples = 31\\\\nvalue = [0, 30, 1]\\\\nclass = versicolor\", fillcolor=\"#40e685\"] ;\\n3 -> 4 ;\\n5 [label=\"petal width (cm) <= 1.35\\\\ngini = 0.5\\\\nsamples = 2\\\\nvalue = [0, 1, 1]\\\\nclass = versicolor\", fillcolor=\"#ffffff\"] ;\\n4 -> 5 ;\\n6 [label=\"gini = 0.0\\\\nsamples = 1\\\\nvalue = [0, 1, 0]\\\\nclass = versicolor\", fillcolor=\"#39e581\"] ;\\n5 -> 6 ;\\n7 [label=\"gini = 0.0\\\\nsamples = 1\\\\nvalue = [0, 0, 1]\\\\nclass = virginica\", fillcolor=\"#8139e5\"] ;\\n5 -> 7 ;\\n8 [label=\"gini = 0.0\\\\nsamples = 29\\\\nvalue = [0, 29, 0]\\\\nclass = versicolor\", fillcolor=\"#39e581\"] ;\\n4 -> 8 ;\\n9 [label=\"sepal length (cm) <= 6.15\\\\ngini = 0.44\\\\nsamples = 3\\\\nvalue = [0, 1, 2]\\\\nclass = virginica\", fillcolor=\"#c09cf2\"] ;\\n3 -> 9 ;\\n10 [label=\"gini = 0.0\\\\nsamples = 1\\\\nvalue = [0, 1, 0]\\\\nclass = versicolor\", fillcolor=\"#39e581\"] ;\\n9 -> 10 ;\\n11 [label=\"gini = 0.0\\\\nsamples = 2\\\\nvalue = [0, 0, 2]\\\\nclass = virginica\", fillcolor=\"#8139e5\"] ;\\n9 -> 11 ;\\n12 [label=\"gini = 0.0\\\\nsamples = 32\\\\nvalue = [0, 0, 32]\\\\nclass = virginica\", fillcolor=\"#8139e5\"] ;\\n2 -> 12 ;\\n}'"
      ]
     },
     "execution_count": 47,
     "metadata": {},
     "output_type": "execute_result"
    }
   ],
   "source": [
    "dot_graph"
   ]
  },
  {
   "cell_type": "code",
   "execution_count": 48,
   "metadata": {},
   "outputs": [
    {
     "data": {
      "image/svg+xml": [
       "<?xml version=\"1.0\" encoding=\"UTF-8\" standalone=\"no\"?>\r\n",
       "<!DOCTYPE svg PUBLIC \"-//W3C//DTD SVG 1.1//EN\"\r\n",
       " \"http://www.w3.org/Graphics/SVG/1.1/DTD/svg11.dtd\">\r\n",
       "<!-- Generated by graphviz version 2.38.0 (20140413.2041)\r\n",
       " -->\r\n",
       "<!-- Title: Tree Pages: 1 -->\r\n",
       "<svg width=\"674pt\" height=\"671pt\"\r\n",
       " viewBox=\"0.00 0.00 673.50 671.00\" xmlns=\"http://www.w3.org/2000/svg\" xmlns:xlink=\"http://www.w3.org/1999/xlink\">\r\n",
       "<g id=\"graph0\" class=\"graph\" transform=\"scale(1 1) rotate(0) translate(4 667)\">\r\n",
       "<title>Tree</title>\r\n",
       "<polygon fill=\"white\" stroke=\"none\" points=\"-4,4 -4,-667 669.5,-667 669.5,4 -4,4\"/>\r\n",
       "<!-- 0 -->\r\n",
       "<g id=\"node1\" class=\"node\"><title>0</title>\r\n",
       "<path fill=\"#fef8f4\" stroke=\"black\" d=\"M452.5,-663C452.5,-663 316.5,-663 316.5,-663 310.5,-663 304.5,-657 304.5,-651 304.5,-651 304.5,-592 304.5,-592 304.5,-586 310.5,-580 316.5,-580 316.5,-580 452.5,-580 452.5,-580 458.5,-580 464.5,-586 464.5,-592 464.5,-592 464.5,-651 464.5,-651 464.5,-657 458.5,-663 452.5,-663\"/>\r\n",
       "<text text-anchor=\"middle\" x=\"384.5\" y=\"-647.8\" font-family=\"Helvetica,sans-Serif\" font-size=\"14.00\">petal width (cm) &lt;= 0.8</text>\r\n",
       "<text text-anchor=\"middle\" x=\"384.5\" y=\"-632.8\" font-family=\"Helvetica,sans-Serif\" font-size=\"14.00\">gini = 0.66</text>\r\n",
       "<text text-anchor=\"middle\" x=\"384.5\" y=\"-617.8\" font-family=\"Helvetica,sans-Serif\" font-size=\"14.00\">samples = 105</text>\r\n",
       "<text text-anchor=\"middle\" x=\"384.5\" y=\"-602.8\" font-family=\"Helvetica,sans-Serif\" font-size=\"14.00\">value = [39, 31, 35]</text>\r\n",
       "<text text-anchor=\"middle\" x=\"384.5\" y=\"-587.8\" font-family=\"Helvetica,sans-Serif\" font-size=\"14.00\">class = setosa</text>\r\n",
       "</g>\r\n",
       "<!-- 1 -->\r\n",
       "<g id=\"node2\" class=\"node\"><title>1</title>\r\n",
       "<path fill=\"#e58139\" stroke=\"black\" d=\"M352,-536.5C352,-536.5 255,-536.5 255,-536.5 249,-536.5 243,-530.5 243,-524.5 243,-524.5 243,-480.5 243,-480.5 243,-474.5 249,-468.5 255,-468.5 255,-468.5 352,-468.5 352,-468.5 358,-468.5 364,-474.5 364,-480.5 364,-480.5 364,-524.5 364,-524.5 364,-530.5 358,-536.5 352,-536.5\"/>\r\n",
       "<text text-anchor=\"middle\" x=\"303.5\" y=\"-521.3\" font-family=\"Helvetica,sans-Serif\" font-size=\"14.00\">gini = 0.0</text>\r\n",
       "<text text-anchor=\"middle\" x=\"303.5\" y=\"-506.3\" font-family=\"Helvetica,sans-Serif\" font-size=\"14.00\">samples = 39</text>\r\n",
       "<text text-anchor=\"middle\" x=\"303.5\" y=\"-491.3\" font-family=\"Helvetica,sans-Serif\" font-size=\"14.00\">value = [39, 0, 0]</text>\r\n",
       "<text text-anchor=\"middle\" x=\"303.5\" y=\"-476.3\" font-family=\"Helvetica,sans-Serif\" font-size=\"14.00\">class = setosa</text>\r\n",
       "</g>\r\n",
       "<!-- 0&#45;&gt;1 -->\r\n",
       "<g id=\"edge1\" class=\"edge\"><title>0&#45;&gt;1</title>\r\n",
       "<path fill=\"none\" stroke=\"black\" d=\"M356.397,-579.907C348.605,-568.652 340.136,-556.418 332.304,-545.106\"/>\r\n",
       "<polygon fill=\"black\" stroke=\"black\" points=\"335.032,-542.897 326.462,-536.667 329.276,-546.881 335.032,-542.897\"/>\r\n",
       "<text text-anchor=\"middle\" x=\"321.99\" y=\"-557.564\" font-family=\"Helvetica,sans-Serif\" font-size=\"14.00\">True</text>\r\n",
       "</g>\r\n",
       "<!-- 2 -->\r\n",
       "<g id=\"node3\" class=\"node\"><title>2</title>\r\n",
       "<path fill=\"#f1e8fc\" stroke=\"black\" d=\"M538.5,-544C538.5,-544 394.5,-544 394.5,-544 388.5,-544 382.5,-538 382.5,-532 382.5,-532 382.5,-473 382.5,-473 382.5,-467 388.5,-461 394.5,-461 394.5,-461 538.5,-461 538.5,-461 544.5,-461 550.5,-467 550.5,-473 550.5,-473 550.5,-532 550.5,-532 550.5,-538 544.5,-544 538.5,-544\"/>\r\n",
       "<text text-anchor=\"middle\" x=\"466.5\" y=\"-528.8\" font-family=\"Helvetica,sans-Serif\" font-size=\"14.00\">petal width (cm) &lt;= 1.75</text>\r\n",
       "<text text-anchor=\"middle\" x=\"466.5\" y=\"-513.8\" font-family=\"Helvetica,sans-Serif\" font-size=\"14.00\">gini = 0.5</text>\r\n",
       "<text text-anchor=\"middle\" x=\"466.5\" y=\"-498.8\" font-family=\"Helvetica,sans-Serif\" font-size=\"14.00\">samples = 66</text>\r\n",
       "<text text-anchor=\"middle\" x=\"466.5\" y=\"-483.8\" font-family=\"Helvetica,sans-Serif\" font-size=\"14.00\">value = [0, 31, 35]</text>\r\n",
       "<text text-anchor=\"middle\" x=\"466.5\" y=\"-468.8\" font-family=\"Helvetica,sans-Serif\" font-size=\"14.00\">class = virginica</text>\r\n",
       "</g>\r\n",
       "<!-- 0&#45;&gt;2 -->\r\n",
       "<g id=\"edge2\" class=\"edge\"><title>0&#45;&gt;2</title>\r\n",
       "<path fill=\"none\" stroke=\"black\" d=\"M412.949,-579.907C419.183,-571.014 425.844,-561.509 432.277,-552.331\"/>\r\n",
       "<polygon fill=\"black\" stroke=\"black\" points=\"435.228,-554.219 438.101,-544.021 429.495,-550.201 435.228,-554.219\"/>\r\n",
       "<text text-anchor=\"middle\" x=\"442.431\" y=\"-564.943\" font-family=\"Helvetica,sans-Serif\" font-size=\"14.00\">False</text>\r\n",
       "</g>\r\n",
       "<!-- 3 -->\r\n",
       "<g id=\"node4\" class=\"node\"><title>3</title>\r\n",
       "<path fill=\"#4ce88d\" stroke=\"black\" d=\"M458.5,-425C458.5,-425 308.5,-425 308.5,-425 302.5,-425 296.5,-419 296.5,-413 296.5,-413 296.5,-354 296.5,-354 296.5,-348 302.5,-342 308.5,-342 308.5,-342 458.5,-342 458.5,-342 464.5,-342 470.5,-348 470.5,-354 470.5,-354 470.5,-413 470.5,-413 470.5,-419 464.5,-425 458.5,-425\"/>\r\n",
       "<text text-anchor=\"middle\" x=\"383.5\" y=\"-409.8\" font-family=\"Helvetica,sans-Serif\" font-size=\"14.00\">petal length (cm) &lt;= 5.05</text>\r\n",
       "<text text-anchor=\"middle\" x=\"383.5\" y=\"-394.8\" font-family=\"Helvetica,sans-Serif\" font-size=\"14.00\">gini = 0.16</text>\r\n",
       "<text text-anchor=\"middle\" x=\"383.5\" y=\"-379.8\" font-family=\"Helvetica,sans-Serif\" font-size=\"14.00\">samples = 34</text>\r\n",
       "<text text-anchor=\"middle\" x=\"383.5\" y=\"-364.8\" font-family=\"Helvetica,sans-Serif\" font-size=\"14.00\">value = [0, 31, 3]</text>\r\n",
       "<text text-anchor=\"middle\" x=\"383.5\" y=\"-349.8\" font-family=\"Helvetica,sans-Serif\" font-size=\"14.00\">class = versicolor</text>\r\n",
       "</g>\r\n",
       "<!-- 2&#45;&gt;3 -->\r\n",
       "<g id=\"edge3\" class=\"edge\"><title>2&#45;&gt;3</title>\r\n",
       "<path fill=\"none\" stroke=\"black\" d=\"M437.704,-460.907C431.394,-452.014 424.652,-442.509 418.141,-433.331\"/>\r\n",
       "<polygon fill=\"black\" stroke=\"black\" points=\"420.886,-431.152 412.246,-425.021 415.177,-435.202 420.886,-431.152\"/>\r\n",
       "</g>\r\n",
       "<!-- 12 -->\r\n",
       "<g id=\"node13\" class=\"node\"><title>12</title>\r\n",
       "<path fill=\"#8139e5\" stroke=\"black\" d=\"M598,-417.5C598,-417.5 501,-417.5 501,-417.5 495,-417.5 489,-411.5 489,-405.5 489,-405.5 489,-361.5 489,-361.5 489,-355.5 495,-349.5 501,-349.5 501,-349.5 598,-349.5 598,-349.5 604,-349.5 610,-355.5 610,-361.5 610,-361.5 610,-405.5 610,-405.5 610,-411.5 604,-417.5 598,-417.5\"/>\r\n",
       "<text text-anchor=\"middle\" x=\"549.5\" y=\"-402.3\" font-family=\"Helvetica,sans-Serif\" font-size=\"14.00\">gini = 0.0</text>\r\n",
       "<text text-anchor=\"middle\" x=\"549.5\" y=\"-387.3\" font-family=\"Helvetica,sans-Serif\" font-size=\"14.00\">samples = 32</text>\r\n",
       "<text text-anchor=\"middle\" x=\"549.5\" y=\"-372.3\" font-family=\"Helvetica,sans-Serif\" font-size=\"14.00\">value = [0, 0, 32]</text>\r\n",
       "<text text-anchor=\"middle\" x=\"549.5\" y=\"-357.3\" font-family=\"Helvetica,sans-Serif\" font-size=\"14.00\">class = virginica</text>\r\n",
       "</g>\r\n",
       "<!-- 2&#45;&gt;12 -->\r\n",
       "<g id=\"edge12\" class=\"edge\"><title>2&#45;&gt;12</title>\r\n",
       "<path fill=\"none\" stroke=\"black\" d=\"M495.296,-460.907C503.281,-449.652 511.96,-437.418 519.984,-426.106\"/>\r\n",
       "<polygon fill=\"black\" stroke=\"black\" points=\"523.04,-427.848 525.971,-417.667 517.331,-423.798 523.04,-427.848\"/>\r\n",
       "</g>\r\n",
       "<!-- 4 -->\r\n",
       "<g id=\"node5\" class=\"node\"><title>4</title>\r\n",
       "<path fill=\"#40e685\" stroke=\"black\" d=\"M360.5,-306C360.5,-306 214.5,-306 214.5,-306 208.5,-306 202.5,-300 202.5,-294 202.5,-294 202.5,-235 202.5,-235 202.5,-229 208.5,-223 214.5,-223 214.5,-223 360.5,-223 360.5,-223 366.5,-223 372.5,-229 372.5,-235 372.5,-235 372.5,-294 372.5,-294 372.5,-300 366.5,-306 360.5,-306\"/>\r\n",
       "<text text-anchor=\"middle\" x=\"287.5\" y=\"-290.8\" font-family=\"Helvetica,sans-Serif\" font-size=\"14.00\">sepal length (cm) &lt;= 5.0</text>\r\n",
       "<text text-anchor=\"middle\" x=\"287.5\" y=\"-275.8\" font-family=\"Helvetica,sans-Serif\" font-size=\"14.00\">gini = 0.06</text>\r\n",
       "<text text-anchor=\"middle\" x=\"287.5\" y=\"-260.8\" font-family=\"Helvetica,sans-Serif\" font-size=\"14.00\">samples = 31</text>\r\n",
       "<text text-anchor=\"middle\" x=\"287.5\" y=\"-245.8\" font-family=\"Helvetica,sans-Serif\" font-size=\"14.00\">value = [0, 30, 1]</text>\r\n",
       "<text text-anchor=\"middle\" x=\"287.5\" y=\"-230.8\" font-family=\"Helvetica,sans-Serif\" font-size=\"14.00\">class = versicolor</text>\r\n",
       "</g>\r\n",
       "<!-- 3&#45;&gt;4 -->\r\n",
       "<g id=\"edge4\" class=\"edge\"><title>3&#45;&gt;4</title>\r\n",
       "<path fill=\"none\" stroke=\"black\" d=\"M350.193,-341.907C342.747,-332.832 334.779,-323.121 327.106,-313.769\"/>\r\n",
       "<polygon fill=\"black\" stroke=\"black\" points=\"329.797,-311.531 320.748,-306.021 324.385,-315.972 329.797,-311.531\"/>\r\n",
       "</g>\r\n",
       "<!-- 9 -->\r\n",
       "<g id=\"node10\" class=\"node\"><title>9</title>\r\n",
       "<path fill=\"#c09cf2\" stroke=\"black\" d=\"M556.5,-306C556.5,-306 402.5,-306 402.5,-306 396.5,-306 390.5,-300 390.5,-294 390.5,-294 390.5,-235 390.5,-235 390.5,-229 396.5,-223 402.5,-223 402.5,-223 556.5,-223 556.5,-223 562.5,-223 568.5,-229 568.5,-235 568.5,-235 568.5,-294 568.5,-294 568.5,-300 562.5,-306 556.5,-306\"/>\r\n",
       "<text text-anchor=\"middle\" x=\"479.5\" y=\"-290.8\" font-family=\"Helvetica,sans-Serif\" font-size=\"14.00\">sepal length (cm) &lt;= 6.15</text>\r\n",
       "<text text-anchor=\"middle\" x=\"479.5\" y=\"-275.8\" font-family=\"Helvetica,sans-Serif\" font-size=\"14.00\">gini = 0.44</text>\r\n",
       "<text text-anchor=\"middle\" x=\"479.5\" y=\"-260.8\" font-family=\"Helvetica,sans-Serif\" font-size=\"14.00\">samples = 3</text>\r\n",
       "<text text-anchor=\"middle\" x=\"479.5\" y=\"-245.8\" font-family=\"Helvetica,sans-Serif\" font-size=\"14.00\">value = [0, 1, 2]</text>\r\n",
       "<text text-anchor=\"middle\" x=\"479.5\" y=\"-230.8\" font-family=\"Helvetica,sans-Serif\" font-size=\"14.00\">class = virginica</text>\r\n",
       "</g>\r\n",
       "<!-- 3&#45;&gt;9 -->\r\n",
       "<g id=\"edge9\" class=\"edge\"><title>3&#45;&gt;9</title>\r\n",
       "<path fill=\"none\" stroke=\"black\" d=\"M416.807,-341.907C424.253,-332.832 432.221,-323.121 439.894,-313.769\"/>\r\n",
       "<polygon fill=\"black\" stroke=\"black\" points=\"442.615,-315.972 446.252,-306.021 437.203,-311.531 442.615,-315.972\"/>\r\n",
       "</g>\r\n",
       "<!-- 5 -->\r\n",
       "<g id=\"node6\" class=\"node\"><title>5</title>\r\n",
       "<path fill=\"#ffffff\" stroke=\"black\" d=\"M205.5,-187C205.5,-187 61.5,-187 61.5,-187 55.5,-187 49.5,-181 49.5,-175 49.5,-175 49.5,-116 49.5,-116 49.5,-110 55.5,-104 61.5,-104 61.5,-104 205.5,-104 205.5,-104 211.5,-104 217.5,-110 217.5,-116 217.5,-116 217.5,-175 217.5,-175 217.5,-181 211.5,-187 205.5,-187\"/>\r\n",
       "<text text-anchor=\"middle\" x=\"133.5\" y=\"-171.8\" font-family=\"Helvetica,sans-Serif\" font-size=\"14.00\">petal width (cm) &lt;= 1.35</text>\r\n",
       "<text text-anchor=\"middle\" x=\"133.5\" y=\"-156.8\" font-family=\"Helvetica,sans-Serif\" font-size=\"14.00\">gini = 0.5</text>\r\n",
       "<text text-anchor=\"middle\" x=\"133.5\" y=\"-141.8\" font-family=\"Helvetica,sans-Serif\" font-size=\"14.00\">samples = 2</text>\r\n",
       "<text text-anchor=\"middle\" x=\"133.5\" y=\"-126.8\" font-family=\"Helvetica,sans-Serif\" font-size=\"14.00\">value = [0, 1, 1]</text>\r\n",
       "<text text-anchor=\"middle\" x=\"133.5\" y=\"-111.8\" font-family=\"Helvetica,sans-Serif\" font-size=\"14.00\">class = versicolor</text>\r\n",
       "</g>\r\n",
       "<!-- 4&#45;&gt;5 -->\r\n",
       "<g id=\"edge5\" class=\"edge\"><title>4&#45;&gt;5</title>\r\n",
       "<path fill=\"none\" stroke=\"black\" d=\"M234.07,-222.907C221.409,-213.288 207.806,-202.953 194.824,-193.09\"/>\r\n",
       "<polygon fill=\"black\" stroke=\"black\" points=\"196.915,-190.283 186.835,-187.021 192.68,-195.857 196.915,-190.283\"/>\r\n",
       "</g>\r\n",
       "<!-- 8 -->\r\n",
       "<g id=\"node9\" class=\"node\"><title>8</title>\r\n",
       "<path fill=\"#39e581\" stroke=\"black\" d=\"M351,-179.5C351,-179.5 248,-179.5 248,-179.5 242,-179.5 236,-173.5 236,-167.5 236,-167.5 236,-123.5 236,-123.5 236,-117.5 242,-111.5 248,-111.5 248,-111.5 351,-111.5 351,-111.5 357,-111.5 363,-117.5 363,-123.5 363,-123.5 363,-167.5 363,-167.5 363,-173.5 357,-179.5 351,-179.5\"/>\r\n",
       "<text text-anchor=\"middle\" x=\"299.5\" y=\"-164.3\" font-family=\"Helvetica,sans-Serif\" font-size=\"14.00\">gini = 0.0</text>\r\n",
       "<text text-anchor=\"middle\" x=\"299.5\" y=\"-149.3\" font-family=\"Helvetica,sans-Serif\" font-size=\"14.00\">samples = 29</text>\r\n",
       "<text text-anchor=\"middle\" x=\"299.5\" y=\"-134.3\" font-family=\"Helvetica,sans-Serif\" font-size=\"14.00\">value = [0, 29, 0]</text>\r\n",
       "<text text-anchor=\"middle\" x=\"299.5\" y=\"-119.3\" font-family=\"Helvetica,sans-Serif\" font-size=\"14.00\">class = versicolor</text>\r\n",
       "</g>\r\n",
       "<!-- 4&#45;&gt;8 -->\r\n",
       "<g id=\"edge8\" class=\"edge\"><title>4&#45;&gt;8</title>\r\n",
       "<path fill=\"none\" stroke=\"black\" d=\"M291.663,-222.907C292.761,-212.204 293.95,-200.615 295.061,-189.776\"/>\r\n",
       "<polygon fill=\"black\" stroke=\"black\" points=\"298.56,-189.972 296.098,-179.667 291.596,-189.258 298.56,-189.972\"/>\r\n",
       "</g>\r\n",
       "<!-- 6 -->\r\n",
       "<g id=\"node7\" class=\"node\"><title>6</title>\r\n",
       "<path fill=\"#39e581\" stroke=\"black\" d=\"M115,-68C115,-68 12,-68 12,-68 6,-68 -7.10543e-015,-62 -7.10543e-015,-56 -7.10543e-015,-56 -7.10543e-015,-12 -7.10543e-015,-12 -7.10543e-015,-6 6,-0 12,-0 12,-0 115,-0 115,-0 121,-0 127,-6 127,-12 127,-12 127,-56 127,-56 127,-62 121,-68 115,-68\"/>\r\n",
       "<text text-anchor=\"middle\" x=\"63.5\" y=\"-52.8\" font-family=\"Helvetica,sans-Serif\" font-size=\"14.00\">gini = 0.0</text>\r\n",
       "<text text-anchor=\"middle\" x=\"63.5\" y=\"-37.8\" font-family=\"Helvetica,sans-Serif\" font-size=\"14.00\">samples = 1</text>\r\n",
       "<text text-anchor=\"middle\" x=\"63.5\" y=\"-22.8\" font-family=\"Helvetica,sans-Serif\" font-size=\"14.00\">value = [0, 1, 0]</text>\r\n",
       "<text text-anchor=\"middle\" x=\"63.5\" y=\"-7.8\" font-family=\"Helvetica,sans-Serif\" font-size=\"14.00\">class = versicolor</text>\r\n",
       "</g>\r\n",
       "<!-- 5&#45;&gt;6 -->\r\n",
       "<g id=\"edge6\" class=\"edge\"><title>5&#45;&gt;6</title>\r\n",
       "<path fill=\"none\" stroke=\"black\" d=\"M107.435,-103.726C101.837,-94.9703 95.913,-85.7032 90.2886,-76.9051\"/>\r\n",
       "<polygon fill=\"black\" stroke=\"black\" points=\"93.1226,-74.8399 84.7874,-68.2996 87.2247,-78.6103 93.1226,-74.8399\"/>\r\n",
       "</g>\r\n",
       "<!-- 7 -->\r\n",
       "<g id=\"node8\" class=\"node\"><title>7</title>\r\n",
       "<path fill=\"#8139e5\" stroke=\"black\" d=\"M249.5,-68C249.5,-68 157.5,-68 157.5,-68 151.5,-68 145.5,-62 145.5,-56 145.5,-56 145.5,-12 145.5,-12 145.5,-6 151.5,-0 157.5,-0 157.5,-0 249.5,-0 249.5,-0 255.5,-0 261.5,-6 261.5,-12 261.5,-12 261.5,-56 261.5,-56 261.5,-62 255.5,-68 249.5,-68\"/>\r\n",
       "<text text-anchor=\"middle\" x=\"203.5\" y=\"-52.8\" font-family=\"Helvetica,sans-Serif\" font-size=\"14.00\">gini = 0.0</text>\r\n",
       "<text text-anchor=\"middle\" x=\"203.5\" y=\"-37.8\" font-family=\"Helvetica,sans-Serif\" font-size=\"14.00\">samples = 1</text>\r\n",
       "<text text-anchor=\"middle\" x=\"203.5\" y=\"-22.8\" font-family=\"Helvetica,sans-Serif\" font-size=\"14.00\">value = [0, 0, 1]</text>\r\n",
       "<text text-anchor=\"middle\" x=\"203.5\" y=\"-7.8\" font-family=\"Helvetica,sans-Serif\" font-size=\"14.00\">class = virginica</text>\r\n",
       "</g>\r\n",
       "<!-- 5&#45;&gt;7 -->\r\n",
       "<g id=\"edge7\" class=\"edge\"><title>5&#45;&gt;7</title>\r\n",
       "<path fill=\"none\" stroke=\"black\" d=\"M159.565,-103.726C165.163,-94.9703 171.087,-85.7032 176.711,-76.9051\"/>\r\n",
       "<polygon fill=\"black\" stroke=\"black\" points=\"179.775,-78.6103 182.213,-68.2996 173.877,-74.8399 179.775,-78.6103\"/>\r\n",
       "</g>\r\n",
       "<!-- 10 -->\r\n",
       "<g id=\"node11\" class=\"node\"><title>10</title>\r\n",
       "<path fill=\"#39e581\" stroke=\"black\" d=\"M519,-179.5C519,-179.5 416,-179.5 416,-179.5 410,-179.5 404,-173.5 404,-167.5 404,-167.5 404,-123.5 404,-123.5 404,-117.5 410,-111.5 416,-111.5 416,-111.5 519,-111.5 519,-111.5 525,-111.5 531,-117.5 531,-123.5 531,-123.5 531,-167.5 531,-167.5 531,-173.5 525,-179.5 519,-179.5\"/>\r\n",
       "<text text-anchor=\"middle\" x=\"467.5\" y=\"-164.3\" font-family=\"Helvetica,sans-Serif\" font-size=\"14.00\">gini = 0.0</text>\r\n",
       "<text text-anchor=\"middle\" x=\"467.5\" y=\"-149.3\" font-family=\"Helvetica,sans-Serif\" font-size=\"14.00\">samples = 1</text>\r\n",
       "<text text-anchor=\"middle\" x=\"467.5\" y=\"-134.3\" font-family=\"Helvetica,sans-Serif\" font-size=\"14.00\">value = [0, 1, 0]</text>\r\n",
       "<text text-anchor=\"middle\" x=\"467.5\" y=\"-119.3\" font-family=\"Helvetica,sans-Serif\" font-size=\"14.00\">class = versicolor</text>\r\n",
       "</g>\r\n",
       "<!-- 9&#45;&gt;10 -->\r\n",
       "<g id=\"edge10\" class=\"edge\"><title>9&#45;&gt;10</title>\r\n",
       "<path fill=\"none\" stroke=\"black\" d=\"M475.337,-222.907C474.239,-212.204 473.05,-200.615 471.939,-189.776\"/>\r\n",
       "<polygon fill=\"black\" stroke=\"black\" points=\"475.404,-189.258 470.902,-179.667 468.44,-189.972 475.404,-189.258\"/>\r\n",
       "</g>\r\n",
       "<!-- 11 -->\r\n",
       "<g id=\"node12\" class=\"node\"><title>11</title>\r\n",
       "<path fill=\"#8139e5\" stroke=\"black\" d=\"M653.5,-179.5C653.5,-179.5 561.5,-179.5 561.5,-179.5 555.5,-179.5 549.5,-173.5 549.5,-167.5 549.5,-167.5 549.5,-123.5 549.5,-123.5 549.5,-117.5 555.5,-111.5 561.5,-111.5 561.5,-111.5 653.5,-111.5 653.5,-111.5 659.5,-111.5 665.5,-117.5 665.5,-123.5 665.5,-123.5 665.5,-167.5 665.5,-167.5 665.5,-173.5 659.5,-179.5 653.5,-179.5\"/>\r\n",
       "<text text-anchor=\"middle\" x=\"607.5\" y=\"-164.3\" font-family=\"Helvetica,sans-Serif\" font-size=\"14.00\">gini = 0.0</text>\r\n",
       "<text text-anchor=\"middle\" x=\"607.5\" y=\"-149.3\" font-family=\"Helvetica,sans-Serif\" font-size=\"14.00\">samples = 2</text>\r\n",
       "<text text-anchor=\"middle\" x=\"607.5\" y=\"-134.3\" font-family=\"Helvetica,sans-Serif\" font-size=\"14.00\">value = [0, 0, 2]</text>\r\n",
       "<text text-anchor=\"middle\" x=\"607.5\" y=\"-119.3\" font-family=\"Helvetica,sans-Serif\" font-size=\"14.00\">class = virginica</text>\r\n",
       "</g>\r\n",
       "<!-- 9&#45;&gt;11 -->\r\n",
       "<g id=\"edge11\" class=\"edge\"><title>9&#45;&gt;11</title>\r\n",
       "<path fill=\"none\" stroke=\"black\" d=\"M523.909,-222.907C536.826,-211.101 550.921,-198.217 563.795,-186.45\"/>\r\n",
       "<polygon fill=\"black\" stroke=\"black\" points=\"566.195,-188.997 571.215,-179.667 561.472,-183.83 566.195,-188.997\"/>\r\n",
       "</g>\r\n",
       "</g>\r\n",
       "</svg>\r\n"
      ],
      "text/plain": [
       "<graphviz.files.Source at 0x2148a6589b0>"
      ]
     },
     "execution_count": 48,
     "metadata": {},
     "output_type": "execute_result"
    }
   ],
   "source": [
    "graphviz.Source(dot_graph)"
   ]
  },
  {
   "cell_type": "markdown",
   "metadata": {},
   "source": [
    "* 결정트리의 복잡도 제어 --> 과대적합의 방지\n",
    "\n",
    "- 사전가지치기\n",
    "- 사후가지치기"
   ]
  },
  {
   "cell_type": "code",
   "execution_count": 54,
   "metadata": {},
   "outputs": [],
   "source": [
    "# 객체 생성\n",
    "clf1 = tree.DecisionTreeClassifier(max_depth = 3, random_state = 0)"
   ]
  },
  {
   "cell_type": "code",
   "execution_count": 55,
   "metadata": {},
   "outputs": [
    {
     "data": {
      "text/plain": [
       "DecisionTreeClassifier(class_weight=None, criterion='gini', max_depth=3,\n",
       "            max_features=None, max_leaf_nodes=None,\n",
       "            min_impurity_decrease=0.0, min_impurity_split=None,\n",
       "            min_samples_leaf=1, min_samples_split=2,\n",
       "            min_weight_fraction_leaf=0.0, presort=False, random_state=0,\n",
       "            splitter='best')"
      ]
     },
     "execution_count": 55,
     "metadata": {},
     "output_type": "execute_result"
    }
   ],
   "source": [
    "# 모델링\n",
    "clf1.fit(X_train, y_train)"
   ]
  },
  {
   "cell_type": "code",
   "execution_count": 38,
   "metadata": {},
   "outputs": [
    {
     "name": "stdout",
     "output_type": "stream",
     "text": [
      "훈련 세트 점수: 0.981\n",
      "테스트 세트 점수: 0.956\n"
     ]
    }
   ],
   "source": [
    "print(\"훈련 세트 점수: {:.3f}\".format(clf1.score(X_train, y_train)))\n",
    "print(\"테스트 세트 점수: {:.3f}\".format(clf1.score(X_test, y_test)))"
   ]
  },
  {
   "cell_type": "markdown",
   "metadata": {},
   "source": [
    "* 변수 중요도(feature importance) --> 0 ~ 1사이 값"
   ]
  },
  {
   "cell_type": "code",
   "execution_count": 41,
   "metadata": {},
   "outputs": [],
   "source": [
    "### 한글 폰트 설정\n",
    "import matplotlib\n",
    "import matplotlib.font_manager as fm\n",
    "from matplotlib import rc"
   ]
  },
  {
   "cell_type": "code",
   "execution_count": 42,
   "metadata": {},
   "outputs": [],
   "source": [
    "font_name = fm.FontProperties(fname = 'C:\\\\WINDOWS\\\\Fonts\\\\malgun.TTF')\n",
    "font_name.get_name()\n",
    "rc('font', family = font_name.get_name())"
   ]
  },
  {
   "cell_type": "code",
   "execution_count": 54,
   "metadata": {},
   "outputs": [
    {
     "data": {
      "text/plain": [
       "array([0.        , 0.        , 0.03314601, 0.96685399])"
      ]
     },
     "execution_count": 54,
     "metadata": {},
     "output_type": "execute_result"
    }
   ],
   "source": [
    "# 변수 중요도 보기\n",
    "clf1.feature_importances_"
   ]
  },
  {
   "cell_type": "code",
   "execution_count": 43,
   "metadata": {},
   "outputs": [
    {
     "data": {
      "text/plain": [
       "(-1, 4)"
      ]
     },
     "execution_count": 43,
     "metadata": {},
     "output_type": "execute_result"
    },
    {
     "data": {
      "image/png": "[encoded data removed]",
      "text/plain": [
       "<Figure size 432x288 with 1 Axes>"
      ]
     },
     "metadata": {},
     "output_type": "display_data"
    }
   ],
   "source": [
    "n_features = iris_dataset.data.shape[1]\n",
    "plt.barh(range(n_features), clf1.feature_importances_, align = 'center')\n",
    "plt.yticks(np.arange(n_features), iris_dataset.feature_names)\n",
    "plt.xlabel(\"변수 중요도\",)\n",
    "plt.ylabel('특성')\n",
    "plt.ylim(-1,n_features)"
   ]
  },
  {
   "cell_type": "markdown",
   "metadata": {},
   "source": [
    "###### 예제 : load_breast_cancer"
   ]
  },
  {
   "cell_type": "code",
   "execution_count": 159,
   "metadata": {},
   "outputs": [],
   "source": [
    "from sklearn import datasets\n",
    "from sklearn.model_selection import train_test_split\n",
    "from sklearn.tree import DecisionTreeClassifier"
   ]
  },
  {
   "cell_type": "code",
   "execution_count": 160,
   "metadata": {},
   "outputs": [],
   "source": [
    "# 1. 데이터 불러오기\n",
    "\n",
    "cancer = datasets.load_breast_cancer()"
   ]
  },
  {
   "cell_type": "code",
   "execution_count": 19,
   "metadata": {},
   "outputs": [
    {
     "name": "stdout",
     "output_type": "stream",
     "text": [
      "Breast Cancer Wisconsin (Diagnostic) Database\n",
      "=============================================\n",
      "\n",
      "Notes\n",
      "-----\n",
      "Data Set Characteristics:\n",
      "    :Number of Instances: 569\n",
      "\n",
      "    :Number of Attributes: 30 numeric, predictive attributes and the class\n",
      "\n",
      "    :Attribute Information:\n",
      "        - radius (mean of distances from center to points on the perimeter)\n",
      "        - texture (standard deviation of gray-scale values)\n",
      "        - perimeter\n",
      "        - area\n",
      "        - smoothness (local variation in radius lengths)\n",
      "        - compactness (perimeter^2 / area - 1.0)\n",
      "        - concavity (severity of concave portions of the contour)\n",
      "        - concave points (number of concave portions of the contour)\n",
      "        - symmetry \n",
      "        - fractal dimension (\"coastline approximation\" - 1)\n",
      "\n",
      "        The mean, standard error, and \"worst\" or largest (mean of the three\n",
      "        largest values) of these features were computed for each image,\n",
      "        resulting in 30 features.  For instance, field 3 is Mean Radius, field\n",
      "        13 is Radius SE, field 23 is Worst Radius.\n",
      "\n",
      "        - class:\n",
      "                - WDBC-Malignant\n",
      "                - WDBC-Benign\n",
      "\n",
      "    :Summary Statistics:\n",
      "\n",
      "    ===================================== ====== ======\n",
      "                                           Min    Max\n",
      "    ===================================== ====== ======\n",
      "    radius (mean):                        6.981  28.11\n",
      "    texture (mean):                       9.71   39.28\n",
      "    perimeter (mean):                     43.79  188.5\n",
      "    area (mean):                          143.5  2501.0\n",
      "    smoothness (mean):                    0.053  0.163\n",
      "    compactness (mean):                   0.019  0.345\n",
      "    concavity (mean):                     0.0    0.427\n",
      "    concave points (mean):                0.0    0.201\n",
      "    symmetry (mean):                      0.106  0.304\n",
      "    fractal dimension (mean):             0.05   0.097\n",
      "    radius (standard error):              0.112  2.873\n",
      "    texture (standard error):             0.36   4.885\n",
      "    perimeter (standard error):           0.757  21.98\n",
      "    area (standard error):                6.802  542.2\n",
      "    smoothness (standard error):          0.002  0.031\n",
      "    compactness (standard error):         0.002  0.135\n",
      "    concavity (standard error):           0.0    0.396\n",
      "    concave points (standard error):      0.0    0.053\n",
      "    symmetry (standard error):            0.008  0.079\n",
      "    fractal dimension (standard error):   0.001  0.03\n",
      "    radius (worst):                       7.93   36.04\n",
      "    texture (worst):                      12.02  49.54\n",
      "    perimeter (worst):                    50.41  251.2\n",
      "    area (worst):                         185.2  4254.0\n",
      "    smoothness (worst):                   0.071  0.223\n",
      "    compactness (worst):                  0.027  1.058\n",
      "    concavity (worst):                    0.0    1.252\n",
      "    concave points (worst):               0.0    0.291\n",
      "    symmetry (worst):                     0.156  0.664\n",
      "    fractal dimension (worst):            0.055  0.208\n",
      "    ===================================== ====== ======\n",
      "\n",
      "    :Missing Attribute Values: None\n",
      "\n",
      "    :Class Distribution: 212 - Malignant, 357 - Benign\n",
      "\n",
      "    :Creator:  Dr. William H. Wolberg, W. Nick Street, Olvi L. Mangasarian\n",
      "\n",
      "    :Donor: Nick Street\n",
      "\n",
      "    :Date: November, 1995\n",
      "\n",
      "This is a copy of UCI ML Breast Cancer Wisconsin (Diagnostic) datasets.\n",
      "https://goo.gl/U2Uwz2\n",
      "\n",
      "Features are computed from a digitized image of a fine needle\n",
      "aspirate (FNA) of a breast mass.  They describe\n",
      "characteristics of the cell nuclei present in the image.\n",
      "\n",
      "Separating plane described above was obtained using\n",
      "Multisurface Method-Tree (MSM-T) [K. P. Bennett, \"Decision Tree\n",
      "Construction Via Linear Programming.\" Proceedings of the 4th\n",
      "Midwest Artificial Intelligence and Cognitive Science Society,\n",
      "pp. 97-101, 1992], a classification method which uses linear\n",
      "programming to construct a decision tree.  Relevant features\n",
      "were selected using an exhaustive search in the space of 1-4\n",
      "features and 1-3 separating planes.\n",
      "\n",
      "The actual linear program used to obtain the separating plane\n",
      "in the 3-dimensional space is that described in:\n",
      "[K. P. Bennett and O. L. Mangasarian: \"Robust Linear\n",
      "Programming Discrimination of Two Linearly Inseparable Sets\",\n",
      "Optimization Methods and Software 1, 1992, 23-34].\n",
      "\n",
      "This database is also available through the UW CS ftp server:\n",
      "\n",
      "ftp ftp.cs.wisc.edu\n",
      "cd math-prog/cpo-dataset/machine-learn/WDBC/\n",
      "\n",
      "References\n",
      "----------\n",
      "   - W.N. Street, W.H. Wolberg and O.L. Mangasarian. Nuclear feature extraction \n",
      "     for breast tumor diagnosis. IS&T/SPIE 1993 International Symposium on \n",
      "     Electronic Imaging: Science and Technology, volume 1905, pages 861-870,\n",
      "     San Jose, CA, 1993.\n",
      "   - O.L. Mangasarian, W.N. Street and W.H. Wolberg. Breast cancer diagnosis and \n",
      "     prognosis via linear programming. Operations Research, 43(4), pages 570-577, \n",
      "     July-August 1995.\n",
      "   - W.H. Wolberg, W.N. Street, and O.L. Mangasarian. Machine learning techniques\n",
      "     to diagnose breast cancer from fine-needle aspirates. Cancer Letters 77 (1994) \n",
      "     163-171.\n",
      "\n"
     ]
    }
   ],
   "source": [
    "# 2. 데이터 확인\n",
    "\n",
    "print(cancer.DESCR)"
   ]
  },
  {
   "cell_type": "code",
   "execution_count": 161,
   "metadata": {},
   "outputs": [],
   "source": [
    "# 3. 데이터 나누기\n",
    "\n",
    "X = cancer.data\n",
    "y = cancer.target\n",
    "\n",
    "X_train, X_test, y_train, y_test = train_test_split(X, y, test_size = 0.2, random_state = 10)"
   ]
  },
  {
   "cell_type": "code",
   "execution_count": 162,
   "metadata": {},
   "outputs": [
    {
     "data": {
      "text/plain": [
       "((455, 30), (114, 30))"
      ]
     },
     "execution_count": 162,
     "metadata": {},
     "output_type": "execute_result"
    }
   ],
   "source": [
    "# 3,1 분할 데이터 확인\n",
    "\n",
    "X_train.shape, X_test.shape"
   ]
  },
  {
   "cell_type": "code",
   "execution_count": 163,
   "metadata": {},
   "outputs": [],
   "source": [
    "# 4, 모델링\n",
    "\n",
    "# 4.1 객체 생성\n",
    "\n",
    "clf = DecisionTreeClassifier(max_depth = None, random_state=1)"
   ]
  },
  {
   "cell_type": "code",
   "execution_count": 164,
   "metadata": {},
   "outputs": [
    {
     "data": {
      "text/plain": [
       "DecisionTreeClassifier(class_weight=None, criterion='gini', max_depth=None,\n",
       "            max_features=None, max_leaf_nodes=None,\n",
       "            min_impurity_decrease=0.0, min_impurity_split=None,\n",
       "            min_samples_leaf=1, min_samples_split=2,\n",
       "            min_weight_fraction_leaf=0.0, presort=False, random_state=1,\n",
       "            splitter='best')"
      ]
     },
     "execution_count": 164,
     "metadata": {},
     "output_type": "execute_result"
    }
   ],
   "source": [
    "# 4.2 모델 적합\n",
    "\n",
    "clf.fit(X_train, y_train)"
   ]
  },
  {
   "cell_type": "code",
   "execution_count": 165,
   "metadata": {},
   "outputs": [
    {
     "name": "stdout",
     "output_type": "stream",
     "text": [
      "훈련 세트 점수: 1.000\n",
      "테스트 세트 점수: 0.912\n"
     ]
    }
   ],
   "source": [
    "# 5. 훈련 결과 확인\n",
    "\n",
    "print(\"훈련 세트 점수: {:.3f}\".format(clf.score(X_train, y_train)))\n",
    "print(\"테스트 세트 점수: {:.3f}\".format(clf.score(X_test, y_test)))"
   ]
  },
  {
   "cell_type": "code",
   "execution_count": 30,
   "metadata": {},
   "outputs": [],
   "source": [
    "# 6. 그래프 모듈 로딩\n",
    "\n",
    "from sklearn.tree import export_graphviz\n",
    "import graphviz"
   ]
  },
  {
   "cell_type": "code",
   "execution_count": 46,
   "metadata": {},
   "outputs": [],
   "source": [
    "import os\n",
    "os.environ[\"PATH\"] += os.pathsep + 'C:/Users/royyk/Anaconda3/Library/bin/graphviz/'"
   ]
  },
  {
   "cell_type": "code",
   "execution_count": 37,
   "metadata": {},
   "outputs": [],
   "source": [
    "# 6,1 그래프 확인\n",
    "\n",
    "export_graphviz(clf, out_file = \"cancer_tree.dot\",\n",
    "                feature_names = cancer.feature_names,\n",
    "                class_names = cancer.target_names,\n",
    "                rounded = True, proportion = False,\n",
    "                filled = True, precision = 2)"
   ]
  },
  {
   "cell_type": "code",
   "execution_count": 38,
   "metadata": {},
   "outputs": [],
   "source": [
    "with open(\"cancer_tree.dot\") as f:\n",
    "    cancer_dot_graph = f.read()"
   ]
  },
  {
   "cell_type": "code",
   "execution_count": 47,
   "metadata": {},
   "outputs": [
    {
     "data": {
      "image/svg+xml": [
       "<?xml version=\"1.0\" encoding=\"UTF-8\" standalone=\"no\"?>\r\n",
       "<!DOCTYPE svg PUBLIC \"-//W3C//DTD SVG 1.1//EN\"\r\n",
       " \"http://www.w3.org/Graphics/SVG/1.1/DTD/svg11.dtd\">\r\n",
       "<!-- Generated by graphviz version 2.38.0 (20140413.2041)\r\n",
       " -->\r\n",
       "<!-- Title: Tree Pages: 1 -->\r\n",
       "<svg width=\"1941pt\" height=\"1147pt\"\r\n",
       " viewBox=\"0.00 0.00 1940.50 1147.00\" xmlns=\"http://www.w3.org/2000/svg\" xmlns:xlink=\"http://www.w3.org/1999/xlink\">\r\n",
       "<g id=\"graph0\" class=\"graph\" transform=\"scale(1 1) rotate(0) translate(4 1143)\">\r\n",
       "<title>Tree</title>\r\n",
       "<polygon fill=\"white\" stroke=\"none\" points=\"-4,4 -4,-1143 1936.5,-1143 1936.5,4 -4,4\"/>\r\n",
       "<!-- 0 -->\r\n",
       "<g id=\"node1\" class=\"node\"><title>0</title>\r\n",
       "<path fill=\"#399de5\" fill-opacity=\"0.388235\" stroke=\"black\" d=\"M1686,-1139C1686,-1139 1526,-1139 1526,-1139 1520,-1139 1514,-1133 1514,-1127 1514,-1127 1514,-1068 1514,-1068 1514,-1062 1520,-1056 1526,-1056 1526,-1056 1686,-1056 1686,-1056 1692,-1056 1698,-1062 1698,-1068 1698,-1068 1698,-1127 1698,-1127 1698,-1133 1692,-1139 1686,-1139\"/>\r\n",
       "<text text-anchor=\"middle\" x=\"1606\" y=\"-1123.8\" font-family=\"Helvetica,sans-Serif\" font-size=\"14.00\">worst perimeter &lt;= 115.35</text>\r\n",
       "<text text-anchor=\"middle\" x=\"1606\" y=\"-1108.8\" font-family=\"Helvetica,sans-Serif\" font-size=\"14.00\">gini = 0.47</text>\r\n",
       "<text text-anchor=\"middle\" x=\"1606\" y=\"-1093.8\" font-family=\"Helvetica,sans-Serif\" font-size=\"14.00\">samples = 455</text>\r\n",
       "<text text-anchor=\"middle\" x=\"1606\" y=\"-1078.8\" font-family=\"Helvetica,sans-Serif\" font-size=\"14.00\">value = [173, 282]</text>\r\n",
       "<text text-anchor=\"middle\" x=\"1606\" y=\"-1063.8\" font-family=\"Helvetica,sans-Serif\" font-size=\"14.00\">class = benign</text>\r\n",
       "</g>\r\n",
       "<!-- 1 -->\r\n",
       "<g id=\"node2\" class=\"node\"><title>1</title>\r\n",
       "<path fill=\"#399de5\" fill-opacity=\"0.886275\" stroke=\"black\" d=\"M1530,-1020C1530,-1020 1352,-1020 1352,-1020 1346,-1020 1340,-1014 1340,-1008 1340,-1008 1340,-949 1340,-949 1340,-943 1346,-937 1352,-937 1352,-937 1530,-937 1530,-937 1536,-937 1542,-943 1542,-949 1542,-949 1542,-1008 1542,-1008 1542,-1014 1536,-1020 1530,-1020\"/>\r\n",
       "<text text-anchor=\"middle\" x=\"1441\" y=\"-1004.8\" font-family=\"Helvetica,sans-Serif\" font-size=\"14.00\">worst concave points &lt;= 0.16</text>\r\n",
       "<text text-anchor=\"middle\" x=\"1441\" y=\"-989.8\" font-family=\"Helvetica,sans-Serif\" font-size=\"14.00\">gini = 0.18</text>\r\n",
       "<text text-anchor=\"middle\" x=\"1441\" y=\"-974.8\" font-family=\"Helvetica,sans-Serif\" font-size=\"14.00\">samples = 312</text>\r\n",
       "<text text-anchor=\"middle\" x=\"1441\" y=\"-959.8\" font-family=\"Helvetica,sans-Serif\" font-size=\"14.00\">value = [32, 280]</text>\r\n",
       "<text text-anchor=\"middle\" x=\"1441\" y=\"-944.8\" font-family=\"Helvetica,sans-Serif\" font-size=\"14.00\">class = benign</text>\r\n",
       "</g>\r\n",
       "<!-- 0&#45;&gt;1 -->\r\n",
       "<g id=\"edge1\" class=\"edge\"><title>0&#45;&gt;1</title>\r\n",
       "<path fill=\"none\" stroke=\"black\" d=\"M1548.75,-1055.91C1535.06,-1046.2 1520.34,-1035.76 1506.31,-1025.81\"/>\r\n",
       "<polygon fill=\"black\" stroke=\"black\" points=\"1508.33,-1022.95 1498.14,-1020.02 1504.28,-1028.66 1508.33,-1022.95\"/>\r\n",
       "<text text-anchor=\"middle\" x=\"1502.34\" y=\"-1040.97\" font-family=\"Helvetica,sans-Serif\" font-size=\"14.00\">True</text>\r\n",
       "</g>\r\n",
       "<!-- 38 -->\r\n",
       "<g id=\"node39\" class=\"node\"><title>38</title>\r\n",
       "<path fill=\"#e58139\" fill-opacity=\"0.984314\" stroke=\"black\" d=\"M1792,-1020C1792,-1020 1632,-1020 1632,-1020 1626,-1020 1620,-1014 1620,-1008 1620,-1008 1620,-949 1620,-949 1620,-943 1626,-937 1632,-937 1632,-937 1792,-937 1792,-937 1798,-937 1804,-943 1804,-949 1804,-949 1804,-1008 1804,-1008 1804,-1014 1798,-1020 1792,-1020\"/>\r\n",
       "<text text-anchor=\"middle\" x=\"1712\" y=\"-1004.8\" font-family=\"Helvetica,sans-Serif\" font-size=\"14.00\">worst perimeter &lt;= 117.45</text>\r\n",
       "<text text-anchor=\"middle\" x=\"1712\" y=\"-989.8\" font-family=\"Helvetica,sans-Serif\" font-size=\"14.00\">gini = 0.03</text>\r\n",
       "<text text-anchor=\"middle\" x=\"1712\" y=\"-974.8\" font-family=\"Helvetica,sans-Serif\" font-size=\"14.00\">samples = 143</text>\r\n",
       "<text text-anchor=\"middle\" x=\"1712\" y=\"-959.8\" font-family=\"Helvetica,sans-Serif\" font-size=\"14.00\">value = [141, 2]</text>\r\n",
       "<text text-anchor=\"middle\" x=\"1712\" y=\"-944.8\" font-family=\"Helvetica,sans-Serif\" font-size=\"14.00\">class = malignant</text>\r\n",
       "</g>\r\n",
       "<!-- 0&#45;&gt;38 -->\r\n",
       "<g id=\"edge38\" class=\"edge\"><title>0&#45;&gt;38</title>\r\n",
       "<path fill=\"none\" stroke=\"black\" d=\"M1642.78,-1055.91C1651.08,-1046.74 1659.97,-1036.93 1668.52,-1027.49\"/>\r\n",
       "<polygon fill=\"black\" stroke=\"black\" points=\"1671.17,-1029.78 1675.29,-1020.02 1665.98,-1025.08 1671.17,-1029.78\"/>\r\n",
       "<text text-anchor=\"middle\" x=\"1676.52\" y=\"-1041.29\" font-family=\"Helvetica,sans-Serif\" font-size=\"14.00\">False</text>\r\n",
       "</g>\r\n",
       "<!-- 2 -->\r\n",
       "<g id=\"node3\" class=\"node\"><title>2</title>\r\n",
       "<path fill=\"#399de5\" fill-opacity=\"0.937255\" stroke=\"black\" d=\"M1231,-901C1231,-901 1103,-901 1103,-901 1097,-901 1091,-895 1091,-889 1091,-889 1091,-830 1091,-830 1091,-824 1097,-818 1103,-818 1103,-818 1231,-818 1231,-818 1237,-818 1243,-824 1243,-830 1243,-830 1243,-889 1243,-889 1243,-895 1237,-901 1231,-901\"/>\r\n",
       "<text text-anchor=\"middle\" x=\"1167\" y=\"-885.8\" font-family=\"Helvetica,sans-Serif\" font-size=\"14.00\">mean area &lt;= 696.25</text>\r\n",
       "<text text-anchor=\"middle\" x=\"1167\" y=\"-870.8\" font-family=\"Helvetica,sans-Serif\" font-size=\"14.00\">gini = 0.11</text>\r\n",
       "<text text-anchor=\"middle\" x=\"1167\" y=\"-855.8\" font-family=\"Helvetica,sans-Serif\" font-size=\"14.00\">samples = 295</text>\r\n",
       "<text text-anchor=\"middle\" x=\"1167\" y=\"-840.8\" font-family=\"Helvetica,sans-Serif\" font-size=\"14.00\">value = [17, 278]</text>\r\n",
       "<text text-anchor=\"middle\" x=\"1167\" y=\"-825.8\" font-family=\"Helvetica,sans-Serif\" font-size=\"14.00\">class = benign</text>\r\n",
       "</g>\r\n",
       "<!-- 1&#45;&gt;2 -->\r\n",
       "<g id=\"edge2\" class=\"edge\"><title>1&#45;&gt;2</title>\r\n",
       "<path fill=\"none\" stroke=\"black\" d=\"M1345.94,-936.907C1315.67,-923.984 1282.38,-909.77 1252.81,-897.143\"/>\r\n",
       "<polygon fill=\"black\" stroke=\"black\" points=\"1253.92,-893.811 1243.35,-893.103 1251.17,-900.248 1253.92,-893.811\"/>\r\n",
       "</g>\r\n",
       "<!-- 33 -->\r\n",
       "<g id=\"node34\" class=\"node\"><title>33</title>\r\n",
       "<path fill=\"#e58139\" fill-opacity=\"0.866667\" stroke=\"black\" d=\"M1508,-901C1508,-901 1374,-901 1374,-901 1368,-901 1362,-895 1362,-889 1362,-889 1362,-830 1362,-830 1362,-824 1368,-818 1374,-818 1374,-818 1508,-818 1508,-818 1514,-818 1520,-824 1520,-830 1520,-830 1520,-889 1520,-889 1520,-895 1514,-901 1508,-901\"/>\r\n",
       "<text text-anchor=\"middle\" x=\"1441\" y=\"-885.8\" font-family=\"Helvetica,sans-Serif\" font-size=\"14.00\">worst texture &lt;= 23.47</text>\r\n",
       "<text text-anchor=\"middle\" x=\"1441\" y=\"-870.8\" font-family=\"Helvetica,sans-Serif\" font-size=\"14.00\">gini = 0.21</text>\r\n",
       "<text text-anchor=\"middle\" x=\"1441\" y=\"-855.8\" font-family=\"Helvetica,sans-Serif\" font-size=\"14.00\">samples = 17</text>\r\n",
       "<text text-anchor=\"middle\" x=\"1441\" y=\"-840.8\" font-family=\"Helvetica,sans-Serif\" font-size=\"14.00\">value = [15, 2]</text>\r\n",
       "<text text-anchor=\"middle\" x=\"1441\" y=\"-825.8\" font-family=\"Helvetica,sans-Serif\" font-size=\"14.00\">class = malignant</text>\r\n",
       "</g>\r\n",
       "<!-- 1&#45;&gt;33 -->\r\n",
       "<g id=\"edge33\" class=\"edge\"><title>1&#45;&gt;33</title>\r\n",
       "<path fill=\"none\" stroke=\"black\" d=\"M1441,-936.907C1441,-928.649 1441,-919.864 1441,-911.302\"/>\r\n",
       "<polygon fill=\"black\" stroke=\"black\" points=\"1444.5,-911.021 1441,-901.021 1437.5,-911.021 1444.5,-911.021\"/>\r\n",
       "</g>\r\n",
       "<!-- 3 -->\r\n",
       "<g id=\"node4\" class=\"node\"><title>3</title>\r\n",
       "<path fill=\"#399de5\" fill-opacity=\"0.960784\" stroke=\"black\" d=\"M1049,-782C1049,-782 871,-782 871,-782 865,-782 859,-776 859,-770 859,-770 859,-711 859,-711 859,-705 865,-699 871,-699 871,-699 1049,-699 1049,-699 1055,-699 1061,-705 1061,-711 1061,-711 1061,-770 1061,-770 1061,-776 1055,-782 1049,-782\"/>\r\n",
       "<text text-anchor=\"middle\" x=\"960\" y=\"-766.8\" font-family=\"Helvetica,sans-Serif\" font-size=\"14.00\">worst concave points &lt;= 0.13</text>\r\n",
       "<text text-anchor=\"middle\" x=\"960\" y=\"-751.8\" font-family=\"Helvetica,sans-Serif\" font-size=\"14.00\">gini = 0.07</text>\r\n",
       "<text text-anchor=\"middle\" x=\"960\" y=\"-736.8\" font-family=\"Helvetica,sans-Serif\" font-size=\"14.00\">samples = 284</text>\r\n",
       "<text text-anchor=\"middle\" x=\"960\" y=\"-721.8\" font-family=\"Helvetica,sans-Serif\" font-size=\"14.00\">value = [11, 273]</text>\r\n",
       "<text text-anchor=\"middle\" x=\"960\" y=\"-706.8\" font-family=\"Helvetica,sans-Serif\" font-size=\"14.00\">class = benign</text>\r\n",
       "</g>\r\n",
       "<!-- 2&#45;&gt;3 -->\r\n",
       "<g id=\"edge3\" class=\"edge\"><title>2&#45;&gt;3</title>\r\n",
       "<path fill=\"none\" stroke=\"black\" d=\"M1095.18,-817.907C1077.52,-807.925 1058.5,-797.172 1040.46,-786.976\"/>\r\n",
       "<polygon fill=\"black\" stroke=\"black\" points=\"1042.12,-783.894 1031.69,-782.021 1038.67,-789.988 1042.12,-783.894\"/>\r\n",
       "</g>\r\n",
       "<!-- 30 -->\r\n",
       "<g id=\"node31\" class=\"node\"><title>30</title>\r\n",
       "<path fill=\"#e58139\" fill-opacity=\"0.164706\" stroke=\"black\" d=\"M1234,-782C1234,-782 1100,-782 1100,-782 1094,-782 1088,-776 1088,-770 1088,-770 1088,-711 1088,-711 1088,-705 1094,-699 1100,-699 1100,-699 1234,-699 1234,-699 1240,-699 1246,-705 1246,-711 1246,-711 1246,-770 1246,-770 1246,-776 1240,-782 1234,-782\"/>\r\n",
       "<text text-anchor=\"middle\" x=\"1167\" y=\"-766.8\" font-family=\"Helvetica,sans-Serif\" font-size=\"14.00\">worst texture &lt;= 22.23</text>\r\n",
       "<text text-anchor=\"middle\" x=\"1167\" y=\"-751.8\" font-family=\"Helvetica,sans-Serif\" font-size=\"14.00\">gini = 0.5</text>\r\n",
       "<text text-anchor=\"middle\" x=\"1167\" y=\"-736.8\" font-family=\"Helvetica,sans-Serif\" font-size=\"14.00\">samples = 11</text>\r\n",
       "<text text-anchor=\"middle\" x=\"1167\" y=\"-721.8\" font-family=\"Helvetica,sans-Serif\" font-size=\"14.00\">value = [6, 5]</text>\r\n",
       "<text text-anchor=\"middle\" x=\"1167\" y=\"-706.8\" font-family=\"Helvetica,sans-Serif\" font-size=\"14.00\">class = malignant</text>\r\n",
       "</g>\r\n",
       "<!-- 2&#45;&gt;30 -->\r\n",
       "<g id=\"edge30\" class=\"edge\"><title>2&#45;&gt;30</title>\r\n",
       "<path fill=\"none\" stroke=\"black\" d=\"M1167,-817.907C1167,-809.649 1167,-800.864 1167,-792.302\"/>\r\n",
       "<polygon fill=\"black\" stroke=\"black\" points=\"1170.5,-792.021 1167,-782.021 1163.5,-792.021 1170.5,-792.021\"/>\r\n",
       "</g>\r\n",
       "<!-- 4 -->\r\n",
       "<g id=\"node5\" class=\"node\"><title>4</title>\r\n",
       "<path fill=\"#399de5\" fill-opacity=\"0.984314\" stroke=\"black\" d=\"M803.5,-663C803.5,-663 688.5,-663 688.5,-663 682.5,-663 676.5,-657 676.5,-651 676.5,-651 676.5,-592 676.5,-592 676.5,-586 682.5,-580 688.5,-580 688.5,-580 803.5,-580 803.5,-580 809.5,-580 815.5,-586 815.5,-592 815.5,-592 815.5,-651 815.5,-651 815.5,-657 809.5,-663 803.5,-663\"/>\r\n",
       "<text text-anchor=\"middle\" x=\"746\" y=\"-647.8\" font-family=\"Helvetica,sans-Serif\" font-size=\"14.00\">area error &lt;= 48.97</text>\r\n",
       "<text text-anchor=\"middle\" x=\"746\" y=\"-632.8\" font-family=\"Helvetica,sans-Serif\" font-size=\"14.00\">gini = 0.03</text>\r\n",
       "<text text-anchor=\"middle\" x=\"746\" y=\"-617.8\" font-family=\"Helvetica,sans-Serif\" font-size=\"14.00\">samples = 261</text>\r\n",
       "<text text-anchor=\"middle\" x=\"746\" y=\"-602.8\" font-family=\"Helvetica,sans-Serif\" font-size=\"14.00\">value = [4, 257]</text>\r\n",
       "<text text-anchor=\"middle\" x=\"746\" y=\"-587.8\" font-family=\"Helvetica,sans-Serif\" font-size=\"14.00\">class = benign</text>\r\n",
       "</g>\r\n",
       "<!-- 3&#45;&gt;4 -->\r\n",
       "<g id=\"edge4\" class=\"edge\"><title>3&#45;&gt;4</title>\r\n",
       "<path fill=\"none\" stroke=\"black\" d=\"M885.754,-698.907C866.073,-688.147 844.756,-676.493 824.84,-665.604\"/>\r\n",
       "<polygon fill=\"black\" stroke=\"black\" points=\"826.252,-662.387 815.799,-660.661 822.894,-668.529 826.252,-662.387\"/>\r\n",
       "</g>\r\n",
       "<!-- 21 -->\r\n",
       "<g id=\"node22\" class=\"node\"><title>21</title>\r\n",
       "<path fill=\"#399de5\" fill-opacity=\"0.560784\" stroke=\"black\" d=\"M1027,-663C1027,-663 893,-663 893,-663 887,-663 881,-657 881,-651 881,-651 881,-592 881,-592 881,-586 887,-580 893,-580 893,-580 1027,-580 1027,-580 1033,-580 1039,-586 1039,-592 1039,-592 1039,-651 1039,-651 1039,-657 1033,-663 1027,-663\"/>\r\n",
       "<text text-anchor=\"middle\" x=\"960\" y=\"-647.8\" font-family=\"Helvetica,sans-Serif\" font-size=\"14.00\">worst texture &lt;= 29.49</text>\r\n",
       "<text text-anchor=\"middle\" x=\"960\" y=\"-632.8\" font-family=\"Helvetica,sans-Serif\" font-size=\"14.00\">gini = 0.42</text>\r\n",
       "<text text-anchor=\"middle\" x=\"960\" y=\"-617.8\" font-family=\"Helvetica,sans-Serif\" font-size=\"14.00\">samples = 23</text>\r\n",
       "<text text-anchor=\"middle\" x=\"960\" y=\"-602.8\" font-family=\"Helvetica,sans-Serif\" font-size=\"14.00\">value = [7, 16]</text>\r\n",
       "<text text-anchor=\"middle\" x=\"960\" y=\"-587.8\" font-family=\"Helvetica,sans-Serif\" font-size=\"14.00\">class = benign</text>\r\n",
       "</g>\r\n",
       "<!-- 3&#45;&gt;21 -->\r\n",
       "<g id=\"edge21\" class=\"edge\"><title>3&#45;&gt;21</title>\r\n",
       "<path fill=\"none\" stroke=\"black\" d=\"M960,-698.907C960,-690.649 960,-681.864 960,-673.302\"/>\r\n",
       "<polygon fill=\"black\" stroke=\"black\" points=\"963.5,-673.021 960,-663.021 956.5,-673.021 963.5,-673.021\"/>\r\n",
       "</g>\r\n",
       "<!-- 5 -->\r\n",
       "<g id=\"node6\" class=\"node\"><title>5</title>\r\n",
       "<path fill=\"#399de5\" fill-opacity=\"0.988235\" stroke=\"black\" d=\"M601.5,-544C601.5,-544 458.5,-544 458.5,-544 452.5,-544 446.5,-538 446.5,-532 446.5,-532 446.5,-473 446.5,-473 446.5,-467 452.5,-461 458.5,-461 458.5,-461 601.5,-461 601.5,-461 607.5,-461 613.5,-467 613.5,-473 613.5,-473 613.5,-532 613.5,-532 613.5,-538 607.5,-544 601.5,-544\"/>\r\n",
       "<text text-anchor=\"middle\" x=\"530\" y=\"-528.8\" font-family=\"Helvetica,sans-Serif\" font-size=\"14.00\">mean concavity &lt;= 0.12</text>\r\n",
       "<text text-anchor=\"middle\" x=\"530\" y=\"-513.8\" font-family=\"Helvetica,sans-Serif\" font-size=\"14.00\">gini = 0.02</text>\r\n",
       "<text text-anchor=\"middle\" x=\"530\" y=\"-498.8\" font-family=\"Helvetica,sans-Serif\" font-size=\"14.00\">samples = 258</text>\r\n",
       "<text text-anchor=\"middle\" x=\"530\" y=\"-483.8\" font-family=\"Helvetica,sans-Serif\" font-size=\"14.00\">value = [3, 255]</text>\r\n",
       "<text text-anchor=\"middle\" x=\"530\" y=\"-468.8\" font-family=\"Helvetica,sans-Serif\" font-size=\"14.00\">class = benign</text>\r\n",
       "</g>\r\n",
       "<!-- 4&#45;&gt;5 -->\r\n",
       "<g id=\"edge5\" class=\"edge\"><title>4&#45;&gt;5</title>\r\n",
       "<path fill=\"none\" stroke=\"black\" d=\"M676.467,-582.836C656.504,-572.023 634.523,-560.117 613.796,-548.889\"/>\r\n",
       "<polygon fill=\"black\" stroke=\"black\" points=\"615.459,-545.81 604.999,-544.125 612.125,-551.965 615.459,-545.81\"/>\r\n",
       "</g>\r\n",
       "<!-- 18 -->\r\n",
       "<g id=\"node19\" class=\"node\"><title>18</title>\r\n",
       "<path fill=\"#399de5\" fill-opacity=\"0.498039\" stroke=\"black\" d=\"M822.5,-544C822.5,-544 669.5,-544 669.5,-544 663.5,-544 657.5,-538 657.5,-532 657.5,-532 657.5,-473 657.5,-473 657.5,-467 663.5,-461 669.5,-461 669.5,-461 822.5,-461 822.5,-461 828.5,-461 834.5,-467 834.5,-473 834.5,-473 834.5,-532 834.5,-532 834.5,-538 828.5,-544 822.5,-544\"/>\r\n",
       "<text text-anchor=\"middle\" x=\"746\" y=\"-528.8\" font-family=\"Helvetica,sans-Serif\" font-size=\"14.00\">mean perimeter &lt;= 85.51</text>\r\n",
       "<text text-anchor=\"middle\" x=\"746\" y=\"-513.8\" font-family=\"Helvetica,sans-Serif\" font-size=\"14.00\">gini = 0.44</text>\r\n",
       "<text text-anchor=\"middle\" x=\"746\" y=\"-498.8\" font-family=\"Helvetica,sans-Serif\" font-size=\"14.00\">samples = 3</text>\r\n",
       "<text text-anchor=\"middle\" x=\"746\" y=\"-483.8\" font-family=\"Helvetica,sans-Serif\" font-size=\"14.00\">value = [1, 2]</text>\r\n",
       "<text text-anchor=\"middle\" x=\"746\" y=\"-468.8\" font-family=\"Helvetica,sans-Serif\" font-size=\"14.00\">class = benign</text>\r\n",
       "</g>\r\n",
       "<!-- 4&#45;&gt;18 -->\r\n",
       "<g id=\"edge18\" class=\"edge\"><title>4&#45;&gt;18</title>\r\n",
       "<path fill=\"none\" stroke=\"black\" d=\"M746,-579.907C746,-571.649 746,-562.864 746,-554.302\"/>\r\n",
       "<polygon fill=\"black\" stroke=\"black\" points=\"749.5,-554.021 746,-544.021 742.5,-554.021 749.5,-554.021\"/>\r\n",
       "</g>\r\n",
       "<!-- 6 -->\r\n",
       "<g id=\"node7\" class=\"node\"><title>6</title>\r\n",
       "<path fill=\"#399de5\" fill-opacity=\"0.992157\" stroke=\"black\" d=\"M420.5,-425C420.5,-425 271.5,-425 271.5,-425 265.5,-425 259.5,-419 259.5,-413 259.5,-413 259.5,-354 259.5,-354 259.5,-348 265.5,-342 271.5,-342 271.5,-342 420.5,-342 420.5,-342 426.5,-342 432.5,-348 432.5,-354 432.5,-354 432.5,-413 432.5,-413 432.5,-419 426.5,-425 420.5,-425\"/>\r\n",
       "<text text-anchor=\"middle\" x=\"346\" y=\"-409.8\" font-family=\"Helvetica,sans-Serif\" font-size=\"14.00\">smoothness error &lt;= 0.0</text>\r\n",
       "<text text-anchor=\"middle\" x=\"346\" y=\"-394.8\" font-family=\"Helvetica,sans-Serif\" font-size=\"14.00\">gini = 0.02</text>\r\n",
       "<text text-anchor=\"middle\" x=\"346\" y=\"-379.8\" font-family=\"Helvetica,sans-Serif\" font-size=\"14.00\">samples = 254</text>\r\n",
       "<text text-anchor=\"middle\" x=\"346\" y=\"-364.8\" font-family=\"Helvetica,sans-Serif\" font-size=\"14.00\">value = [2, 252]</text>\r\n",
       "<text text-anchor=\"middle\" x=\"346\" y=\"-349.8\" font-family=\"Helvetica,sans-Serif\" font-size=\"14.00\">class = benign</text>\r\n",
       "</g>\r\n",
       "<!-- 5&#45;&gt;6 -->\r\n",
       "<g id=\"edge6\" class=\"edge\"><title>5&#45;&gt;6</title>\r\n",
       "<path fill=\"none\" stroke=\"black\" d=\"M466.162,-460.907C450.748,-451.106 434.167,-440.563 418.393,-430.533\"/>\r\n",
       "<polygon fill=\"black\" stroke=\"black\" points=\"420.042,-427.433 409.725,-425.021 416.286,-433.34 420.042,-427.433\"/>\r\n",
       "</g>\r\n",
       "<!-- 15 -->\r\n",
       "<g id=\"node16\" class=\"node\"><title>15</title>\r\n",
       "<path fill=\"#399de5\" fill-opacity=\"0.666667\" stroke=\"black\" d=\"M597.5,-425C597.5,-425 462.5,-425 462.5,-425 456.5,-425 450.5,-419 450.5,-413 450.5,-413 450.5,-354 450.5,-354 450.5,-348 456.5,-342 462.5,-342 462.5,-342 597.5,-342 597.5,-342 603.5,-342 609.5,-348 609.5,-354 609.5,-354 609.5,-413 609.5,-413 609.5,-419 603.5,-425 597.5,-425\"/>\r\n",
       "<text text-anchor=\"middle\" x=\"530\" y=\"-409.8\" font-family=\"Helvetica,sans-Serif\" font-size=\"14.00\">mean texture &lt;= 20.18</text>\r\n",
       "<text text-anchor=\"middle\" x=\"530\" y=\"-394.8\" font-family=\"Helvetica,sans-Serif\" font-size=\"14.00\">gini = 0.38</text>\r\n",
       "<text text-anchor=\"middle\" x=\"530\" y=\"-379.8\" font-family=\"Helvetica,sans-Serif\" font-size=\"14.00\">samples = 4</text>\r\n",
       "<text text-anchor=\"middle\" x=\"530\" y=\"-364.8\" font-family=\"Helvetica,sans-Serif\" font-size=\"14.00\">value = [1, 3]</text>\r\n",
       "<text text-anchor=\"middle\" x=\"530\" y=\"-349.8\" font-family=\"Helvetica,sans-Serif\" font-size=\"14.00\">class = benign</text>\r\n",
       "</g>\r\n",
       "<!-- 5&#45;&gt;15 -->\r\n",
       "<g id=\"edge15\" class=\"edge\"><title>5&#45;&gt;15</title>\r\n",
       "<path fill=\"none\" stroke=\"black\" d=\"M530,-460.907C530,-452.649 530,-443.864 530,-435.302\"/>\r\n",
       "<polygon fill=\"black\" stroke=\"black\" points=\"533.5,-435.021 530,-425.021 526.5,-435.021 533.5,-435.021\"/>\r\n",
       "</g>\r\n",
       "<!-- 7 -->\r\n",
       "<g id=\"node8\" class=\"node\"><title>7</title>\r\n",
       "<path fill=\"#399de5\" fill-opacity=\"0.831373\" stroke=\"black\" d=\"M246,-306C246,-306 112,-306 112,-306 106,-306 100,-300 100,-294 100,-294 100,-235 100,-235 100,-229 106,-223 112,-223 112,-223 246,-223 246,-223 252,-223 258,-229 258,-235 258,-235 258,-294 258,-294 258,-300 252,-306 246,-306\"/>\r\n",
       "<text text-anchor=\"middle\" x=\"179\" y=\"-290.8\" font-family=\"Helvetica,sans-Serif\" font-size=\"14.00\">worst texture &lt;= 27.76</text>\r\n",
       "<text text-anchor=\"middle\" x=\"179\" y=\"-275.8\" font-family=\"Helvetica,sans-Serif\" font-size=\"14.00\">gini = 0.24</text>\r\n",
       "<text text-anchor=\"middle\" x=\"179\" y=\"-260.8\" font-family=\"Helvetica,sans-Serif\" font-size=\"14.00\">samples = 7</text>\r\n",
       "<text text-anchor=\"middle\" x=\"179\" y=\"-245.8\" font-family=\"Helvetica,sans-Serif\" font-size=\"14.00\">value = [1, 6]</text>\r\n",
       "<text text-anchor=\"middle\" x=\"179\" y=\"-230.8\" font-family=\"Helvetica,sans-Serif\" font-size=\"14.00\">class = benign</text>\r\n",
       "</g>\r\n",
       "<!-- 6&#45;&gt;7 -->\r\n",
       "<g id=\"edge7\" class=\"edge\"><title>6&#45;&gt;7</title>\r\n",
       "<path fill=\"none\" stroke=\"black\" d=\"M288.06,-341.907C274.2,-332.197 259.3,-321.758 245.102,-311.811\"/>\r\n",
       "<polygon fill=\"black\" stroke=\"black\" points=\"247.036,-308.892 236.837,-306.021 243.019,-314.625 247.036,-308.892\"/>\r\n",
       "</g>\r\n",
       "<!-- 10 -->\r\n",
       "<g id=\"node11\" class=\"node\"><title>10</title>\r\n",
       "<path fill=\"#399de5\" fill-opacity=\"0.996078\" stroke=\"black\" d=\"M422,-306C422,-306 288,-306 288,-306 282,-306 276,-300 276,-294 276,-294 276,-235 276,-235 276,-229 282,-223 288,-223 288,-223 422,-223 422,-223 428,-223 434,-229 434,-235 434,-235 434,-294 434,-294 434,-300 428,-306 422,-306\"/>\r\n",
       "<text text-anchor=\"middle\" x=\"355\" y=\"-290.8\" font-family=\"Helvetica,sans-Serif\" font-size=\"14.00\">worst texture &lt;= 33.35</text>\r\n",
       "<text text-anchor=\"middle\" x=\"355\" y=\"-275.8\" font-family=\"Helvetica,sans-Serif\" font-size=\"14.00\">gini = 0.01</text>\r\n",
       "<text text-anchor=\"middle\" x=\"355\" y=\"-260.8\" font-family=\"Helvetica,sans-Serif\" font-size=\"14.00\">samples = 247</text>\r\n",
       "<text text-anchor=\"middle\" x=\"355\" y=\"-245.8\" font-family=\"Helvetica,sans-Serif\" font-size=\"14.00\">value = [1, 246]</text>\r\n",
       "<text text-anchor=\"middle\" x=\"355\" y=\"-230.8\" font-family=\"Helvetica,sans-Serif\" font-size=\"14.00\">class = benign</text>\r\n",
       "</g>\r\n",
       "<!-- 6&#45;&gt;10 -->\r\n",
       "<g id=\"edge10\" class=\"edge\"><title>6&#45;&gt;10</title>\r\n",
       "<path fill=\"none\" stroke=\"black\" d=\"M349.123,-341.907C349.765,-333.558 350.448,-324.671 351.114,-316.02\"/>\r\n",
       "<polygon fill=\"black\" stroke=\"black\" points=\"354.606,-316.26 351.883,-306.021 347.626,-315.723 354.606,-316.26\"/>\r\n",
       "</g>\r\n",
       "<!-- 8 -->\r\n",
       "<g id=\"node9\" class=\"node\"><title>8</title>\r\n",
       "<path fill=\"#399de5\" stroke=\"black\" d=\"M96,-179.5C96,-179.5 12,-179.5 12,-179.5 6,-179.5 0,-173.5 0,-167.5 0,-167.5 0,-123.5 0,-123.5 0,-117.5 6,-111.5 12,-111.5 12,-111.5 96,-111.5 96,-111.5 102,-111.5 108,-117.5 108,-123.5 108,-123.5 108,-167.5 108,-167.5 108,-173.5 102,-179.5 96,-179.5\"/>\r\n",
       "<text text-anchor=\"middle\" x=\"54\" y=\"-164.3\" font-family=\"Helvetica,sans-Serif\" font-size=\"14.00\">gini = 0.0</text>\r\n",
       "<text text-anchor=\"middle\" x=\"54\" y=\"-149.3\" font-family=\"Helvetica,sans-Serif\" font-size=\"14.00\">samples = 6</text>\r\n",
       "<text text-anchor=\"middle\" x=\"54\" y=\"-134.3\" font-family=\"Helvetica,sans-Serif\" font-size=\"14.00\">value = [0, 6]</text>\r\n",
       "<text text-anchor=\"middle\" x=\"54\" y=\"-119.3\" font-family=\"Helvetica,sans-Serif\" font-size=\"14.00\">class = benign</text>\r\n",
       "</g>\r\n",
       "<!-- 7&#45;&gt;8 -->\r\n",
       "<g id=\"edge8\" class=\"edge\"><title>7&#45;&gt;8</title>\r\n",
       "<path fill=\"none\" stroke=\"black\" d=\"M135.632,-222.907C123.136,-211.211 109.51,-198.457 97.0339,-186.78\"/>\r\n",
       "<polygon fill=\"black\" stroke=\"black\" points=\"99.1274,-183.945 89.4348,-179.667 94.3439,-189.056 99.1274,-183.945\"/>\r\n",
       "</g>\r\n",
       "<!-- 9 -->\r\n",
       "<g id=\"node10\" class=\"node\"><title>9</title>\r\n",
       "<path fill=\"#e58139\" stroke=\"black\" d=\"M239.5,-179.5C239.5,-179.5 138.5,-179.5 138.5,-179.5 132.5,-179.5 126.5,-173.5 126.5,-167.5 126.5,-167.5 126.5,-123.5 126.5,-123.5 126.5,-117.5 132.5,-111.5 138.5,-111.5 138.5,-111.5 239.5,-111.5 239.5,-111.5 245.5,-111.5 251.5,-117.5 251.5,-123.5 251.5,-123.5 251.5,-167.5 251.5,-167.5 251.5,-173.5 245.5,-179.5 239.5,-179.5\"/>\r\n",
       "<text text-anchor=\"middle\" x=\"189\" y=\"-164.3\" font-family=\"Helvetica,sans-Serif\" font-size=\"14.00\">gini = 0.0</text>\r\n",
       "<text text-anchor=\"middle\" x=\"189\" y=\"-149.3\" font-family=\"Helvetica,sans-Serif\" font-size=\"14.00\">samples = 1</text>\r\n",
       "<text text-anchor=\"middle\" x=\"189\" y=\"-134.3\" font-family=\"Helvetica,sans-Serif\" font-size=\"14.00\">value = [1, 0]</text>\r\n",
       "<text text-anchor=\"middle\" x=\"189\" y=\"-119.3\" font-family=\"Helvetica,sans-Serif\" font-size=\"14.00\">class = malignant</text>\r\n",
       "</g>\r\n",
       "<!-- 7&#45;&gt;9 -->\r\n",
       "<g id=\"edge9\" class=\"edge\"><title>7&#45;&gt;9</title>\r\n",
       "<path fill=\"none\" stroke=\"black\" d=\"M182.469,-222.907C183.384,-212.204 184.375,-200.615 185.301,-189.776\"/>\r\n",
       "<polygon fill=\"black\" stroke=\"black\" points=\"188.801,-189.929 186.165,-179.667 181.826,-189.333 188.801,-189.929\"/>\r\n",
       "</g>\r\n",
       "<!-- 11 -->\r\n",
       "<g id=\"node12\" class=\"node\"><title>11</title>\r\n",
       "<path fill=\"#399de5\" stroke=\"black\" d=\"M380.5,-179.5C380.5,-179.5 291.5,-179.5 291.5,-179.5 285.5,-179.5 279.5,-173.5 279.5,-167.5 279.5,-167.5 279.5,-123.5 279.5,-123.5 279.5,-117.5 285.5,-111.5 291.5,-111.5 291.5,-111.5 380.5,-111.5 380.5,-111.5 386.5,-111.5 392.5,-117.5 392.5,-123.5 392.5,-123.5 392.5,-167.5 392.5,-167.5 392.5,-173.5 386.5,-179.5 380.5,-179.5\"/>\r\n",
       "<text text-anchor=\"middle\" x=\"336\" y=\"-164.3\" font-family=\"Helvetica,sans-Serif\" font-size=\"14.00\">gini = 0.0</text>\r\n",
       "<text text-anchor=\"middle\" x=\"336\" y=\"-149.3\" font-family=\"Helvetica,sans-Serif\" font-size=\"14.00\">samples = 235</text>\r\n",
       "<text text-anchor=\"middle\" x=\"336\" y=\"-134.3\" font-family=\"Helvetica,sans-Serif\" font-size=\"14.00\">value = [0, 235]</text>\r\n",
       "<text text-anchor=\"middle\" x=\"336\" y=\"-119.3\" font-family=\"Helvetica,sans-Serif\" font-size=\"14.00\">class = benign</text>\r\n",
       "</g>\r\n",
       "<!-- 10&#45;&gt;11 -->\r\n",
       "<g id=\"edge11\" class=\"edge\"><title>10&#45;&gt;11</title>\r\n",
       "<path fill=\"none\" stroke=\"black\" d=\"M348.408,-222.907C346.67,-212.204 344.788,-200.615 343.028,-189.776\"/>\r\n",
       "<polygon fill=\"black\" stroke=\"black\" points=\"346.444,-188.977 341.386,-179.667 339.534,-190.099 346.444,-188.977\"/>\r\n",
       "</g>\r\n",
       "<!-- 12 -->\r\n",
       "<g id=\"node13\" class=\"node\"><title>12</title>\r\n",
       "<path fill=\"#399de5\" fill-opacity=\"0.909804\" stroke=\"black\" d=\"M557,-187C557,-187 423,-187 423,-187 417,-187 411,-181 411,-175 411,-175 411,-116 411,-116 411,-110 417,-104 423,-104 423,-104 557,-104 557,-104 563,-104 569,-110 569,-116 569,-116 569,-175 569,-175 569,-181 563,-187 557,-187\"/>\r\n",
       "<text text-anchor=\"middle\" x=\"490\" y=\"-171.8\" font-family=\"Helvetica,sans-Serif\" font-size=\"14.00\">worst texture &lt;= 33.81</text>\r\n",
       "<text text-anchor=\"middle\" x=\"490\" y=\"-156.8\" font-family=\"Helvetica,sans-Serif\" font-size=\"14.00\">gini = 0.15</text>\r\n",
       "<text text-anchor=\"middle\" x=\"490\" y=\"-141.8\" font-family=\"Helvetica,sans-Serif\" font-size=\"14.00\">samples = 12</text>\r\n",
       "<text text-anchor=\"middle\" x=\"490\" y=\"-126.8\" font-family=\"Helvetica,sans-Serif\" font-size=\"14.00\">value = [1, 11]</text>\r\n",
       "<text text-anchor=\"middle\" x=\"490\" y=\"-111.8\" font-family=\"Helvetica,sans-Serif\" font-size=\"14.00\">class = benign</text>\r\n",
       "</g>\r\n",
       "<!-- 10&#45;&gt;12 -->\r\n",
       "<g id=\"edge12\" class=\"edge\"><title>10&#45;&gt;12</title>\r\n",
       "<path fill=\"none\" stroke=\"black\" d=\"M401.838,-222.907C412.728,-213.469 424.412,-203.343 435.597,-193.649\"/>\r\n",
       "<polygon fill=\"black\" stroke=\"black\" points=\"437.981,-196.215 443.245,-187.021 433.396,-190.925 437.981,-196.215\"/>\r\n",
       "</g>\r\n",
       "<!-- 13 -->\r\n",
       "<g id=\"node14\" class=\"node\"><title>13</title>\r\n",
       "<path fill=\"#e58139\" stroke=\"black\" d=\"M472.5,-68C472.5,-68 371.5,-68 371.5,-68 365.5,-68 359.5,-62 359.5,-56 359.5,-56 359.5,-12 359.5,-12 359.5,-6 365.5,-0 371.5,-0 371.5,-0 472.5,-0 472.5,-0 478.5,-0 484.5,-6 484.5,-12 484.5,-12 484.5,-56 484.5,-56 484.5,-62 478.5,-68 472.5,-68\"/>\r\n",
       "<text text-anchor=\"middle\" x=\"422\" y=\"-52.8\" font-family=\"Helvetica,sans-Serif\" font-size=\"14.00\">gini = 0.0</text>\r\n",
       "<text text-anchor=\"middle\" x=\"422\" y=\"-37.8\" font-family=\"Helvetica,sans-Serif\" font-size=\"14.00\">samples = 1</text>\r\n",
       "<text text-anchor=\"middle\" x=\"422\" y=\"-22.8\" font-family=\"Helvetica,sans-Serif\" font-size=\"14.00\">value = [1, 0]</text>\r\n",
       "<text text-anchor=\"middle\" x=\"422\" y=\"-7.8\" font-family=\"Helvetica,sans-Serif\" font-size=\"14.00\">class = malignant</text>\r\n",
       "</g>\r\n",
       "<!-- 12&#45;&gt;13 -->\r\n",
       "<g id=\"edge13\" class=\"edge\"><title>12&#45;&gt;13</title>\r\n",
       "<path fill=\"none\" stroke=\"black\" d=\"M464.679,-103.726C459.242,-94.9703 453.487,-85.7032 448.023,-76.9051\"/>\r\n",
       "<polygon fill=\"black\" stroke=\"black\" points=\"450.928,-74.9484 442.679,-68.2996 444.981,-78.6413 450.928,-74.9484\"/>\r\n",
       "</g>\r\n",
       "<!-- 14 -->\r\n",
       "<g id=\"node15\" class=\"node\"><title>14</title>\r\n",
       "<path fill=\"#399de5\" stroke=\"black\" d=\"M599,-68C599,-68 515,-68 515,-68 509,-68 503,-62 503,-56 503,-56 503,-12 503,-12 503,-6 509,-0 515,-0 515,-0 599,-0 599,-0 605,-0 611,-6 611,-12 611,-12 611,-56 611,-56 611,-62 605,-68 599,-68\"/>\r\n",
       "<text text-anchor=\"middle\" x=\"557\" y=\"-52.8\" font-family=\"Helvetica,sans-Serif\" font-size=\"14.00\">gini = 0.0</text>\r\n",
       "<text text-anchor=\"middle\" x=\"557\" y=\"-37.8\" font-family=\"Helvetica,sans-Serif\" font-size=\"14.00\">samples = 11</text>\r\n",
       "<text text-anchor=\"middle\" x=\"557\" y=\"-22.8\" font-family=\"Helvetica,sans-Serif\" font-size=\"14.00\">value = [0, 11]</text>\r\n",
       "<text text-anchor=\"middle\" x=\"557\" y=\"-7.8\" font-family=\"Helvetica,sans-Serif\" font-size=\"14.00\">class = benign</text>\r\n",
       "</g>\r\n",
       "<!-- 12&#45;&gt;14 -->\r\n",
       "<g id=\"edge14\" class=\"edge\"><title>12&#45;&gt;14</title>\r\n",
       "<path fill=\"none\" stroke=\"black\" d=\"M514.948,-103.726C520.306,-94.9703 525.976,-85.7032 531.359,-76.9051\"/>\r\n",
       "<polygon fill=\"black\" stroke=\"black\" points=\"534.391,-78.6563 536.625,-68.2996 528.42,-75.0028 534.391,-78.6563\"/>\r\n",
       "</g>\r\n",
       "<!-- 16 -->\r\n",
       "<g id=\"node17\" class=\"node\"><title>16</title>\r\n",
       "<path fill=\"#399de5\" stroke=\"black\" d=\"M556,-298.5C556,-298.5 472,-298.5 472,-298.5 466,-298.5 460,-292.5 460,-286.5 460,-286.5 460,-242.5 460,-242.5 460,-236.5 466,-230.5 472,-230.5 472,-230.5 556,-230.5 556,-230.5 562,-230.5 568,-236.5 568,-242.5 568,-242.5 568,-286.5 568,-286.5 568,-292.5 562,-298.5 556,-298.5\"/>\r\n",
       "<text text-anchor=\"middle\" x=\"514\" y=\"-283.3\" font-family=\"Helvetica,sans-Serif\" font-size=\"14.00\">gini = 0.0</text>\r\n",
       "<text text-anchor=\"middle\" x=\"514\" y=\"-268.3\" font-family=\"Helvetica,sans-Serif\" font-size=\"14.00\">samples = 3</text>\r\n",
       "<text text-anchor=\"middle\" x=\"514\" y=\"-253.3\" font-family=\"Helvetica,sans-Serif\" font-size=\"14.00\">value = [0, 3]</text>\r\n",
       "<text text-anchor=\"middle\" x=\"514\" y=\"-238.3\" font-family=\"Helvetica,sans-Serif\" font-size=\"14.00\">class = benign</text>\r\n",
       "</g>\r\n",
       "<!-- 15&#45;&gt;16 -->\r\n",
       "<g id=\"edge16\" class=\"edge\"><title>15&#45;&gt;16</title>\r\n",
       "<path fill=\"none\" stroke=\"black\" d=\"M524.449,-341.907C522.985,-331.204 521.4,-319.615 519.918,-308.776\"/>\r\n",
       "<polygon fill=\"black\" stroke=\"black\" points=\"523.358,-308.1 518.536,-298.667 516.423,-309.049 523.358,-308.1\"/>\r\n",
       "</g>\r\n",
       "<!-- 17 -->\r\n",
       "<g id=\"node18\" class=\"node\"><title>17</title>\r\n",
       "<path fill=\"#e58139\" stroke=\"black\" d=\"M699.5,-298.5C699.5,-298.5 598.5,-298.5 598.5,-298.5 592.5,-298.5 586.5,-292.5 586.5,-286.5 586.5,-286.5 586.5,-242.5 586.5,-242.5 586.5,-236.5 592.5,-230.5 598.5,-230.5 598.5,-230.5 699.5,-230.5 699.5,-230.5 705.5,-230.5 711.5,-236.5 711.5,-242.5 711.5,-242.5 711.5,-286.5 711.5,-286.5 711.5,-292.5 705.5,-298.5 699.5,-298.5\"/>\r\n",
       "<text text-anchor=\"middle\" x=\"649\" y=\"-283.3\" font-family=\"Helvetica,sans-Serif\" font-size=\"14.00\">gini = 0.0</text>\r\n",
       "<text text-anchor=\"middle\" x=\"649\" y=\"-268.3\" font-family=\"Helvetica,sans-Serif\" font-size=\"14.00\">samples = 1</text>\r\n",
       "<text text-anchor=\"middle\" x=\"649\" y=\"-253.3\" font-family=\"Helvetica,sans-Serif\" font-size=\"14.00\">value = [1, 0]</text>\r\n",
       "<text text-anchor=\"middle\" x=\"649\" y=\"-238.3\" font-family=\"Helvetica,sans-Serif\" font-size=\"14.00\">class = malignant</text>\r\n",
       "</g>\r\n",
       "<!-- 15&#45;&gt;17 -->\r\n",
       "<g id=\"edge17\" class=\"edge\"><title>15&#45;&gt;17</title>\r\n",
       "<path fill=\"none\" stroke=\"black\" d=\"M571.286,-341.907C583.183,-330.211 596.155,-317.457 608.032,-305.78\"/>\r\n",
       "<polygon fill=\"black\" stroke=\"black\" points=\"610.589,-308.174 615.266,-298.667 605.682,-303.182 610.589,-308.174\"/>\r\n",
       "</g>\r\n",
       "<!-- 19 -->\r\n",
       "<g id=\"node20\" class=\"node\"><title>19</title>\r\n",
       "<path fill=\"#e58139\" stroke=\"black\" d=\"M740.5,-417.5C740.5,-417.5 639.5,-417.5 639.5,-417.5 633.5,-417.5 627.5,-411.5 627.5,-405.5 627.5,-405.5 627.5,-361.5 627.5,-361.5 627.5,-355.5 633.5,-349.5 639.5,-349.5 639.5,-349.5 740.5,-349.5 740.5,-349.5 746.5,-349.5 752.5,-355.5 752.5,-361.5 752.5,-361.5 752.5,-405.5 752.5,-405.5 752.5,-411.5 746.5,-417.5 740.5,-417.5\"/>\r\n",
       "<text text-anchor=\"middle\" x=\"690\" y=\"-402.3\" font-family=\"Helvetica,sans-Serif\" font-size=\"14.00\">gini = 0.0</text>\r\n",
       "<text text-anchor=\"middle\" x=\"690\" y=\"-387.3\" font-family=\"Helvetica,sans-Serif\" font-size=\"14.00\">samples = 1</text>\r\n",
       "<text text-anchor=\"middle\" x=\"690\" y=\"-372.3\" font-family=\"Helvetica,sans-Serif\" font-size=\"14.00\">value = [1, 0]</text>\r\n",
       "<text text-anchor=\"middle\" x=\"690\" y=\"-357.3\" font-family=\"Helvetica,sans-Serif\" font-size=\"14.00\">class = malignant</text>\r\n",
       "</g>\r\n",
       "<!-- 18&#45;&gt;19 -->\r\n",
       "<g id=\"edge19\" class=\"edge\"><title>18&#45;&gt;19</title>\r\n",
       "<path fill=\"none\" stroke=\"black\" d=\"M726.571,-460.907C721.29,-449.873 715.558,-437.898 710.233,-426.773\"/>\r\n",
       "<polygon fill=\"black\" stroke=\"black\" points=\"713.349,-425.176 705.875,-417.667 707.035,-428.198 713.349,-425.176\"/>\r\n",
       "</g>\r\n",
       "<!-- 20 -->\r\n",
       "<g id=\"node21\" class=\"node\"><title>20</title>\r\n",
       "<path fill=\"#399de5\" stroke=\"black\" d=\"M867,-417.5C867,-417.5 783,-417.5 783,-417.5 777,-417.5 771,-411.5 771,-405.5 771,-405.5 771,-361.5 771,-361.5 771,-355.5 777,-349.5 783,-349.5 783,-349.5 867,-349.5 867,-349.5 873,-349.5 879,-355.5 879,-361.5 879,-361.5 879,-405.5 879,-405.5 879,-411.5 873,-417.5 867,-417.5\"/>\r\n",
       "<text text-anchor=\"middle\" x=\"825\" y=\"-402.3\" font-family=\"Helvetica,sans-Serif\" font-size=\"14.00\">gini = 0.0</text>\r\n",
       "<text text-anchor=\"middle\" x=\"825\" y=\"-387.3\" font-family=\"Helvetica,sans-Serif\" font-size=\"14.00\">samples = 2</text>\r\n",
       "<text text-anchor=\"middle\" x=\"825\" y=\"-372.3\" font-family=\"Helvetica,sans-Serif\" font-size=\"14.00\">value = [0, 2]</text>\r\n",
       "<text text-anchor=\"middle\" x=\"825\" y=\"-357.3\" font-family=\"Helvetica,sans-Serif\" font-size=\"14.00\">class = benign</text>\r\n",
       "</g>\r\n",
       "<!-- 18&#45;&gt;20 -->\r\n",
       "<g id=\"edge20\" class=\"edge\"><title>18&#45;&gt;20</title>\r\n",
       "<path fill=\"none\" stroke=\"black\" d=\"M773.409,-460.907C781.008,-449.652 789.269,-437.418 796.907,-426.106\"/>\r\n",
       "<polygon fill=\"black\" stroke=\"black\" points=\"799.91,-427.913 802.605,-417.667 794.109,-423.996 799.91,-427.913\"/>\r\n",
       "</g>\r\n",
       "<!-- 22 -->\r\n",
       "<g id=\"node23\" class=\"node\"><title>22</title>\r\n",
       "<path fill=\"#399de5\" fill-opacity=\"0.874510\" stroke=\"black\" d=\"M1030,-544C1030,-544 890,-544 890,-544 884,-544 878,-538 878,-532 878,-532 878,-473 878,-473 878,-467 884,-461 890,-461 890,-461 1030,-461 1030,-461 1036,-461 1042,-467 1042,-473 1042,-473 1042,-532 1042,-532 1042,-538 1036,-544 1030,-544\"/>\r\n",
       "<text text-anchor=\"middle\" x=\"960\" y=\"-528.8\" font-family=\"Helvetica,sans-Serif\" font-size=\"14.00\">symmetry error &lt;= 0.01</text>\r\n",
       "<text text-anchor=\"middle\" x=\"960\" y=\"-513.8\" font-family=\"Helvetica,sans-Serif\" font-size=\"14.00\">gini = 0.2</text>\r\n",
       "<text text-anchor=\"middle\" x=\"960\" y=\"-498.8\" font-family=\"Helvetica,sans-Serif\" font-size=\"14.00\">samples = 18</text>\r\n",
       "<text text-anchor=\"middle\" x=\"960\" y=\"-483.8\" font-family=\"Helvetica,sans-Serif\" font-size=\"14.00\">value = [2, 16]</text>\r\n",
       "<text text-anchor=\"middle\" x=\"960\" y=\"-468.8\" font-family=\"Helvetica,sans-Serif\" font-size=\"14.00\">class = benign</text>\r\n",
       "</g>\r\n",
       "<!-- 21&#45;&gt;22 -->\r\n",
       "<g id=\"edge22\" class=\"edge\"><title>21&#45;&gt;22</title>\r\n",
       "<path fill=\"none\" stroke=\"black\" d=\"M960,-579.907C960,-571.649 960,-562.864 960,-554.302\"/>\r\n",
       "<polygon fill=\"black\" stroke=\"black\" points=\"963.5,-554.021 960,-544.021 956.5,-554.021 963.5,-554.021\"/>\r\n",
       "</g>\r\n",
       "<!-- 29 -->\r\n",
       "<g id=\"node30\" class=\"node\"><title>29</title>\r\n",
       "<path fill=\"#e58139\" stroke=\"black\" d=\"M1173.5,-536.5C1173.5,-536.5 1072.5,-536.5 1072.5,-536.5 1066.5,-536.5 1060.5,-530.5 1060.5,-524.5 1060.5,-524.5 1060.5,-480.5 1060.5,-480.5 1060.5,-474.5 1066.5,-468.5 1072.5,-468.5 1072.5,-468.5 1173.5,-468.5 1173.5,-468.5 1179.5,-468.5 1185.5,-474.5 1185.5,-480.5 1185.5,-480.5 1185.5,-524.5 1185.5,-524.5 1185.5,-530.5 1179.5,-536.5 1173.5,-536.5\"/>\r\n",
       "<text text-anchor=\"middle\" x=\"1123\" y=\"-521.3\" font-family=\"Helvetica,sans-Serif\" font-size=\"14.00\">gini = 0.0</text>\r\n",
       "<text text-anchor=\"middle\" x=\"1123\" y=\"-506.3\" font-family=\"Helvetica,sans-Serif\" font-size=\"14.00\">samples = 5</text>\r\n",
       "<text text-anchor=\"middle\" x=\"1123\" y=\"-491.3\" font-family=\"Helvetica,sans-Serif\" font-size=\"14.00\">value = [5, 0]</text>\r\n",
       "<text text-anchor=\"middle\" x=\"1123\" y=\"-476.3\" font-family=\"Helvetica,sans-Serif\" font-size=\"14.00\">class = malignant</text>\r\n",
       "</g>\r\n",
       "<!-- 21&#45;&gt;29 -->\r\n",
       "<g id=\"edge29\" class=\"edge\"><title>21&#45;&gt;29</title>\r\n",
       "<path fill=\"none\" stroke=\"black\" d=\"M1016.55,-579.907C1033.31,-567.88 1051.62,-554.735 1068.26,-542.791\"/>\r\n",
       "<polygon fill=\"black\" stroke=\"black\" points=\"1070.71,-545.342 1076.79,-536.667 1066.63,-539.655 1070.71,-545.342\"/>\r\n",
       "</g>\r\n",
       "<!-- 23 -->\r\n",
       "<g id=\"node24\" class=\"node\"><title>23</title>\r\n",
       "<path fill=\"#e58139\" stroke=\"black\" d=\"M1010.5,-417.5C1010.5,-417.5 909.5,-417.5 909.5,-417.5 903.5,-417.5 897.5,-411.5 897.5,-405.5 897.5,-405.5 897.5,-361.5 897.5,-361.5 897.5,-355.5 903.5,-349.5 909.5,-349.5 909.5,-349.5 1010.5,-349.5 1010.5,-349.5 1016.5,-349.5 1022.5,-355.5 1022.5,-361.5 1022.5,-361.5 1022.5,-405.5 1022.5,-405.5 1022.5,-411.5 1016.5,-417.5 1010.5,-417.5\"/>\r\n",
       "<text text-anchor=\"middle\" x=\"960\" y=\"-402.3\" font-family=\"Helvetica,sans-Serif\" font-size=\"14.00\">gini = 0.0</text>\r\n",
       "<text text-anchor=\"middle\" x=\"960\" y=\"-387.3\" font-family=\"Helvetica,sans-Serif\" font-size=\"14.00\">samples = 1</text>\r\n",
       "<text text-anchor=\"middle\" x=\"960\" y=\"-372.3\" font-family=\"Helvetica,sans-Serif\" font-size=\"14.00\">value = [1, 0]</text>\r\n",
       "<text text-anchor=\"middle\" x=\"960\" y=\"-357.3\" font-family=\"Helvetica,sans-Serif\" font-size=\"14.00\">class = malignant</text>\r\n",
       "</g>\r\n",
       "<!-- 22&#45;&gt;23 -->\r\n",
       "<g id=\"edge23\" class=\"edge\"><title>22&#45;&gt;23</title>\r\n",
       "<path fill=\"none\" stroke=\"black\" d=\"M960,-460.907C960,-450.204 960,-438.615 960,-427.776\"/>\r\n",
       "<polygon fill=\"black\" stroke=\"black\" points=\"963.5,-427.667 960,-417.667 956.5,-427.667 963.5,-427.667\"/>\r\n",
       "</g>\r\n",
       "<!-- 24 -->\r\n",
       "<g id=\"node25\" class=\"node\"><title>24</title>\r\n",
       "<path fill=\"#399de5\" fill-opacity=\"0.937255\" stroke=\"black\" d=\"M1231,-425C1231,-425 1053,-425 1053,-425 1047,-425 1041,-419 1041,-413 1041,-413 1041,-354 1041,-354 1041,-348 1047,-342 1053,-342 1053,-342 1231,-342 1231,-342 1237,-342 1243,-348 1243,-354 1243,-354 1243,-413 1243,-413 1243,-419 1237,-425 1231,-425\"/>\r\n",
       "<text text-anchor=\"middle\" x=\"1142\" y=\"-409.8\" font-family=\"Helvetica,sans-Serif\" font-size=\"14.00\">fractal dimension error &lt;= 0.0</text>\r\n",
       "<text text-anchor=\"middle\" x=\"1142\" y=\"-394.8\" font-family=\"Helvetica,sans-Serif\" font-size=\"14.00\">gini = 0.11</text>\r\n",
       "<text text-anchor=\"middle\" x=\"1142\" y=\"-379.8\" font-family=\"Helvetica,sans-Serif\" font-size=\"14.00\">samples = 17</text>\r\n",
       "<text text-anchor=\"middle\" x=\"1142\" y=\"-364.8\" font-family=\"Helvetica,sans-Serif\" font-size=\"14.00\">value = [1, 16]</text>\r\n",
       "<text text-anchor=\"middle\" x=\"1142\" y=\"-349.8\" font-family=\"Helvetica,sans-Serif\" font-size=\"14.00\">class = benign</text>\r\n",
       "</g>\r\n",
       "<!-- 22&#45;&gt;24 -->\r\n",
       "<g id=\"edge24\" class=\"edge\"><title>22&#45;&gt;24</title>\r\n",
       "<path fill=\"none\" stroke=\"black\" d=\"M1023.14,-460.907C1038.39,-451.106 1054.79,-440.563 1070.39,-430.533\"/>\r\n",
       "<polygon fill=\"black\" stroke=\"black\" points=\"1072.45,-433.373 1078.97,-425.021 1068.66,-427.484 1072.45,-433.373\"/>\r\n",
       "</g>\r\n",
       "<!-- 25 -->\r\n",
       "<g id=\"node26\" class=\"node\"><title>25</title>\r\n",
       "<path fill=\"none\" stroke=\"black\" d=\"M1128.5,-306C1128.5,-306 1013.5,-306 1013.5,-306 1007.5,-306 1001.5,-300 1001.5,-294 1001.5,-294 1001.5,-235 1001.5,-235 1001.5,-229 1007.5,-223 1013.5,-223 1013.5,-223 1128.5,-223 1128.5,-223 1134.5,-223 1140.5,-229 1140.5,-235 1140.5,-235 1140.5,-294 1140.5,-294 1140.5,-300 1134.5,-306 1128.5,-306\"/>\r\n",
       "<text text-anchor=\"middle\" x=\"1071\" y=\"-290.8\" font-family=\"Helvetica,sans-Serif\" font-size=\"14.00\">area error &lt;= 25.91</text>\r\n",
       "<text text-anchor=\"middle\" x=\"1071\" y=\"-275.8\" font-family=\"Helvetica,sans-Serif\" font-size=\"14.00\">gini = 0.5</text>\r\n",
       "<text text-anchor=\"middle\" x=\"1071\" y=\"-260.8\" font-family=\"Helvetica,sans-Serif\" font-size=\"14.00\">samples = 2</text>\r\n",
       "<text text-anchor=\"middle\" x=\"1071\" y=\"-245.8\" font-family=\"Helvetica,sans-Serif\" font-size=\"14.00\">value = [1, 1]</text>\r\n",
       "<text text-anchor=\"middle\" x=\"1071\" y=\"-230.8\" font-family=\"Helvetica,sans-Serif\" font-size=\"14.00\">class = malignant</text>\r\n",
       "</g>\r\n",
       "<!-- 24&#45;&gt;25 -->\r\n",
       "<g id=\"edge25\" class=\"edge\"><title>24&#45;&gt;25</title>\r\n",
       "<path fill=\"none\" stroke=\"black\" d=\"M1117.37,-341.907C1112.03,-333.105 1106.32,-323.703 1100.8,-314.612\"/>\r\n",
       "<polygon fill=\"black\" stroke=\"black\" points=\"1103.77,-312.754 1095.59,-306.021 1097.79,-316.386 1103.77,-312.754\"/>\r\n",
       "</g>\r\n",
       "<!-- 28 -->\r\n",
       "<g id=\"node29\" class=\"node\"><title>28</title>\r\n",
       "<path fill=\"#399de5\" stroke=\"black\" d=\"M1255,-298.5C1255,-298.5 1171,-298.5 1171,-298.5 1165,-298.5 1159,-292.5 1159,-286.5 1159,-286.5 1159,-242.5 1159,-242.5 1159,-236.5 1165,-230.5 1171,-230.5 1171,-230.5 1255,-230.5 1255,-230.5 1261,-230.5 1267,-236.5 1267,-242.5 1267,-242.5 1267,-286.5 1267,-286.5 1267,-292.5 1261,-298.5 1255,-298.5\"/>\r\n",
       "<text text-anchor=\"middle\" x=\"1213\" y=\"-283.3\" font-family=\"Helvetica,sans-Serif\" font-size=\"14.00\">gini = 0.0</text>\r\n",
       "<text text-anchor=\"middle\" x=\"1213\" y=\"-268.3\" font-family=\"Helvetica,sans-Serif\" font-size=\"14.00\">samples = 15</text>\r\n",
       "<text text-anchor=\"middle\" x=\"1213\" y=\"-253.3\" font-family=\"Helvetica,sans-Serif\" font-size=\"14.00\">value = [0, 15]</text>\r\n",
       "<text text-anchor=\"middle\" x=\"1213\" y=\"-238.3\" font-family=\"Helvetica,sans-Serif\" font-size=\"14.00\">class = benign</text>\r\n",
       "</g>\r\n",
       "<!-- 24&#45;&gt;28 -->\r\n",
       "<g id=\"edge28\" class=\"edge\"><title>24&#45;&gt;28</title>\r\n",
       "<path fill=\"none\" stroke=\"black\" d=\"M1166.63,-341.907C1173.4,-330.763 1180.74,-318.658 1187.55,-307.439\"/>\r\n",
       "<polygon fill=\"black\" stroke=\"black\" points=\"1190.68,-309.032 1192.87,-298.667 1184.69,-305.4 1190.68,-309.032\"/>\r\n",
       "</g>\r\n",
       "<!-- 26 -->\r\n",
       "<g id=\"node27\" class=\"node\"><title>26</title>\r\n",
       "<path fill=\"#399de5\" stroke=\"black\" d=\"M1045,-179.5C1045,-179.5 961,-179.5 961,-179.5 955,-179.5 949,-173.5 949,-167.5 949,-167.5 949,-123.5 949,-123.5 949,-117.5 955,-111.5 961,-111.5 961,-111.5 1045,-111.5 1045,-111.5 1051,-111.5 1057,-117.5 1057,-123.5 1057,-123.5 1057,-167.5 1057,-167.5 1057,-173.5 1051,-179.5 1045,-179.5\"/>\r\n",
       "<text text-anchor=\"middle\" x=\"1003\" y=\"-164.3\" font-family=\"Helvetica,sans-Serif\" font-size=\"14.00\">gini = 0.0</text>\r\n",
       "<text text-anchor=\"middle\" x=\"1003\" y=\"-149.3\" font-family=\"Helvetica,sans-Serif\" font-size=\"14.00\">samples = 1</text>\r\n",
       "<text text-anchor=\"middle\" x=\"1003\" y=\"-134.3\" font-family=\"Helvetica,sans-Serif\" font-size=\"14.00\">value = [0, 1]</text>\r\n",
       "<text text-anchor=\"middle\" x=\"1003\" y=\"-119.3\" font-family=\"Helvetica,sans-Serif\" font-size=\"14.00\">class = benign</text>\r\n",
       "</g>\r\n",
       "<!-- 25&#45;&gt;26 -->\r\n",
       "<g id=\"edge26\" class=\"edge\"><title>25&#45;&gt;26</title>\r\n",
       "<path fill=\"none\" stroke=\"black\" d=\"M1047.41,-222.907C1040.93,-211.763 1033.9,-199.658 1027.37,-188.439\"/>\r\n",
       "<polygon fill=\"black\" stroke=\"black\" points=\"1030.33,-186.554 1022.28,-179.667 1024.28,-190.072 1030.33,-186.554\"/>\r\n",
       "</g>\r\n",
       "<!-- 27 -->\r\n",
       "<g id=\"node28\" class=\"node\"><title>27</title>\r\n",
       "<path fill=\"#e58139\" stroke=\"black\" d=\"M1188.5,-179.5C1188.5,-179.5 1087.5,-179.5 1087.5,-179.5 1081.5,-179.5 1075.5,-173.5 1075.5,-167.5 1075.5,-167.5 1075.5,-123.5 1075.5,-123.5 1075.5,-117.5 1081.5,-111.5 1087.5,-111.5 1087.5,-111.5 1188.5,-111.5 1188.5,-111.5 1194.5,-111.5 1200.5,-117.5 1200.5,-123.5 1200.5,-123.5 1200.5,-167.5 1200.5,-167.5 1200.5,-173.5 1194.5,-179.5 1188.5,-179.5\"/>\r\n",
       "<text text-anchor=\"middle\" x=\"1138\" y=\"-164.3\" font-family=\"Helvetica,sans-Serif\" font-size=\"14.00\">gini = 0.0</text>\r\n",
       "<text text-anchor=\"middle\" x=\"1138\" y=\"-149.3\" font-family=\"Helvetica,sans-Serif\" font-size=\"14.00\">samples = 1</text>\r\n",
       "<text text-anchor=\"middle\" x=\"1138\" y=\"-134.3\" font-family=\"Helvetica,sans-Serif\" font-size=\"14.00\">value = [1, 0]</text>\r\n",
       "<text text-anchor=\"middle\" x=\"1138\" y=\"-119.3\" font-family=\"Helvetica,sans-Serif\" font-size=\"14.00\">class = malignant</text>\r\n",
       "</g>\r\n",
       "<!-- 25&#45;&gt;27 -->\r\n",
       "<g id=\"edge27\" class=\"edge\"><title>25&#45;&gt;27</title>\r\n",
       "<path fill=\"none\" stroke=\"black\" d=\"M1094.25,-222.907C1100.63,-211.763 1107.56,-199.658 1113.98,-188.439\"/>\r\n",
       "<polygon fill=\"black\" stroke=\"black\" points=\"1117.07,-190.084 1119.01,-179.667 1111,-186.606 1117.07,-190.084\"/>\r\n",
       "</g>\r\n",
       "<!-- 31 -->\r\n",
       "<g id=\"node32\" class=\"node\"><title>31</title>\r\n",
       "<path fill=\"#399de5\" stroke=\"black\" d=\"M1153,-655.5C1153,-655.5 1069,-655.5 1069,-655.5 1063,-655.5 1057,-649.5 1057,-643.5 1057,-643.5 1057,-599.5 1057,-599.5 1057,-593.5 1063,-587.5 1069,-587.5 1069,-587.5 1153,-587.5 1153,-587.5 1159,-587.5 1165,-593.5 1165,-599.5 1165,-599.5 1165,-643.5 1165,-643.5 1165,-649.5 1159,-655.5 1153,-655.5\"/>\r\n",
       "<text text-anchor=\"middle\" x=\"1111\" y=\"-640.3\" font-family=\"Helvetica,sans-Serif\" font-size=\"14.00\">gini = 0.0</text>\r\n",
       "<text text-anchor=\"middle\" x=\"1111\" y=\"-625.3\" font-family=\"Helvetica,sans-Serif\" font-size=\"14.00\">samples = 5</text>\r\n",
       "<text text-anchor=\"middle\" x=\"1111\" y=\"-610.3\" font-family=\"Helvetica,sans-Serif\" font-size=\"14.00\">value = [0, 5]</text>\r\n",
       "<text text-anchor=\"middle\" x=\"1111\" y=\"-595.3\" font-family=\"Helvetica,sans-Serif\" font-size=\"14.00\">class = benign</text>\r\n",
       "</g>\r\n",
       "<!-- 30&#45;&gt;31 -->\r\n",
       "<g id=\"edge31\" class=\"edge\"><title>30&#45;&gt;31</title>\r\n",
       "<path fill=\"none\" stroke=\"black\" d=\"M1147.57,-698.907C1142.29,-687.873 1136.56,-675.898 1131.23,-664.773\"/>\r\n",
       "<polygon fill=\"black\" stroke=\"black\" points=\"1134.35,-663.176 1126.87,-655.667 1128.04,-666.198 1134.35,-663.176\"/>\r\n",
       "</g>\r\n",
       "<!-- 32 -->\r\n",
       "<g id=\"node33\" class=\"node\"><title>32</title>\r\n",
       "<path fill=\"#e58139\" stroke=\"black\" d=\"M1296.5,-655.5C1296.5,-655.5 1195.5,-655.5 1195.5,-655.5 1189.5,-655.5 1183.5,-649.5 1183.5,-643.5 1183.5,-643.5 1183.5,-599.5 1183.5,-599.5 1183.5,-593.5 1189.5,-587.5 1195.5,-587.5 1195.5,-587.5 1296.5,-587.5 1296.5,-587.5 1302.5,-587.5 1308.5,-593.5 1308.5,-599.5 1308.5,-599.5 1308.5,-643.5 1308.5,-643.5 1308.5,-649.5 1302.5,-655.5 1296.5,-655.5\"/>\r\n",
       "<text text-anchor=\"middle\" x=\"1246\" y=\"-640.3\" font-family=\"Helvetica,sans-Serif\" font-size=\"14.00\">gini = 0.0</text>\r\n",
       "<text text-anchor=\"middle\" x=\"1246\" y=\"-625.3\" font-family=\"Helvetica,sans-Serif\" font-size=\"14.00\">samples = 6</text>\r\n",
       "<text text-anchor=\"middle\" x=\"1246\" y=\"-610.3\" font-family=\"Helvetica,sans-Serif\" font-size=\"14.00\">value = [6, 0]</text>\r\n",
       "<text text-anchor=\"middle\" x=\"1246\" y=\"-595.3\" font-family=\"Helvetica,sans-Serif\" font-size=\"14.00\">class = malignant</text>\r\n",
       "</g>\r\n",
       "<!-- 30&#45;&gt;32 -->\r\n",
       "<g id=\"edge32\" class=\"edge\"><title>30&#45;&gt;32</title>\r\n",
       "<path fill=\"none\" stroke=\"black\" d=\"M1194.41,-698.907C1202.01,-687.652 1210.27,-675.418 1217.91,-664.106\"/>\r\n",
       "<polygon fill=\"black\" stroke=\"black\" points=\"1220.91,-665.913 1223.61,-655.667 1215.11,-661.996 1220.91,-665.913\"/>\r\n",
       "</g>\r\n",
       "<!-- 34 -->\r\n",
       "<g id=\"node35\" class=\"node\"><title>34</title>\r\n",
       "<path fill=\"#399de5\" fill-opacity=\"0.498039\" stroke=\"black\" d=\"M1476.5,-782C1476.5,-782 1285.5,-782 1285.5,-782 1279.5,-782 1273.5,-776 1273.5,-770 1273.5,-770 1273.5,-711 1273.5,-711 1273.5,-705 1279.5,-699 1285.5,-699 1285.5,-699 1476.5,-699 1476.5,-699 1482.5,-699 1488.5,-705 1488.5,-711 1488.5,-711 1488.5,-770 1488.5,-770 1488.5,-776 1482.5,-782 1476.5,-782\"/>\r\n",
       "<text text-anchor=\"middle\" x=\"1381\" y=\"-766.8\" font-family=\"Helvetica,sans-Serif\" font-size=\"14.00\">mean fractal dimension &lt;= 0.07</text>\r\n",
       "<text text-anchor=\"middle\" x=\"1381\" y=\"-751.8\" font-family=\"Helvetica,sans-Serif\" font-size=\"14.00\">gini = 0.44</text>\r\n",
       "<text text-anchor=\"middle\" x=\"1381\" y=\"-736.8\" font-family=\"Helvetica,sans-Serif\" font-size=\"14.00\">samples = 3</text>\r\n",
       "<text text-anchor=\"middle\" x=\"1381\" y=\"-721.8\" font-family=\"Helvetica,sans-Serif\" font-size=\"14.00\">value = [1, 2]</text>\r\n",
       "<text text-anchor=\"middle\" x=\"1381\" y=\"-706.8\" font-family=\"Helvetica,sans-Serif\" font-size=\"14.00\">class = benign</text>\r\n",
       "</g>\r\n",
       "<!-- 33&#45;&gt;34 -->\r\n",
       "<g id=\"edge34\" class=\"edge\"><title>33&#45;&gt;34</title>\r\n",
       "<path fill=\"none\" stroke=\"black\" d=\"M1420.18,-817.907C1415.76,-809.286 1411.05,-800.09 1406.47,-791.175\"/>\r\n",
       "<polygon fill=\"black\" stroke=\"black\" points=\"1409.46,-789.322 1401.78,-782.021 1403.23,-792.516 1409.46,-789.322\"/>\r\n",
       "</g>\r\n",
       "<!-- 37 -->\r\n",
       "<g id=\"node38\" class=\"node\"><title>37</title>\r\n",
       "<path fill=\"#e58139\" stroke=\"black\" d=\"M1619.5,-774.5C1619.5,-774.5 1518.5,-774.5 1518.5,-774.5 1512.5,-774.5 1506.5,-768.5 1506.5,-762.5 1506.5,-762.5 1506.5,-718.5 1506.5,-718.5 1506.5,-712.5 1512.5,-706.5 1518.5,-706.5 1518.5,-706.5 1619.5,-706.5 1619.5,-706.5 1625.5,-706.5 1631.5,-712.5 1631.5,-718.5 1631.5,-718.5 1631.5,-762.5 1631.5,-762.5 1631.5,-768.5 1625.5,-774.5 1619.5,-774.5\"/>\r\n",
       "<text text-anchor=\"middle\" x=\"1569\" y=\"-759.3\" font-family=\"Helvetica,sans-Serif\" font-size=\"14.00\">gini = 0.0</text>\r\n",
       "<text text-anchor=\"middle\" x=\"1569\" y=\"-744.3\" font-family=\"Helvetica,sans-Serif\" font-size=\"14.00\">samples = 14</text>\r\n",
       "<text text-anchor=\"middle\" x=\"1569\" y=\"-729.3\" font-family=\"Helvetica,sans-Serif\" font-size=\"14.00\">value = [14, 0]</text>\r\n",
       "<text text-anchor=\"middle\" x=\"1569\" y=\"-714.3\" font-family=\"Helvetica,sans-Serif\" font-size=\"14.00\">class = malignant</text>\r\n",
       "</g>\r\n",
       "<!-- 33&#45;&gt;37 -->\r\n",
       "<g id=\"edge37\" class=\"edge\"><title>33&#45;&gt;37</title>\r\n",
       "<path fill=\"none\" stroke=\"black\" d=\"M1485.41,-817.907C1498.33,-806.101 1512.42,-793.217 1525.29,-781.45\"/>\r\n",
       "<polygon fill=\"black\" stroke=\"black\" points=\"1527.7,-783.997 1532.71,-774.667 1522.97,-778.83 1527.7,-783.997\"/>\r\n",
       "</g>\r\n",
       "<!-- 35 -->\r\n",
       "<g id=\"node36\" class=\"node\"><title>35</title>\r\n",
       "<path fill=\"#399de5\" stroke=\"black\" d=\"M1423,-655.5C1423,-655.5 1339,-655.5 1339,-655.5 1333,-655.5 1327,-649.5 1327,-643.5 1327,-643.5 1327,-599.5 1327,-599.5 1327,-593.5 1333,-587.5 1339,-587.5 1339,-587.5 1423,-587.5 1423,-587.5 1429,-587.5 1435,-593.5 1435,-599.5 1435,-599.5 1435,-643.5 1435,-643.5 1435,-649.5 1429,-655.5 1423,-655.5\"/>\r\n",
       "<text text-anchor=\"middle\" x=\"1381\" y=\"-640.3\" font-family=\"Helvetica,sans-Serif\" font-size=\"14.00\">gini = 0.0</text>\r\n",
       "<text text-anchor=\"middle\" x=\"1381\" y=\"-625.3\" font-family=\"Helvetica,sans-Serif\" font-size=\"14.00\">samples = 2</text>\r\n",
       "<text text-anchor=\"middle\" x=\"1381\" y=\"-610.3\" font-family=\"Helvetica,sans-Serif\" font-size=\"14.00\">value = [0, 2]</text>\r\n",
       "<text text-anchor=\"middle\" x=\"1381\" y=\"-595.3\" font-family=\"Helvetica,sans-Serif\" font-size=\"14.00\">class = benign</text>\r\n",
       "</g>\r\n",
       "<!-- 34&#45;&gt;35 -->\r\n",
       "<g id=\"edge35\" class=\"edge\"><title>34&#45;&gt;35</title>\r\n",
       "<path fill=\"none\" stroke=\"black\" d=\"M1381,-698.907C1381,-688.204 1381,-676.615 1381,-665.776\"/>\r\n",
       "<polygon fill=\"black\" stroke=\"black\" points=\"1384.5,-665.667 1381,-655.667 1377.5,-665.667 1384.5,-665.667\"/>\r\n",
       "</g>\r\n",
       "<!-- 36 -->\r\n",
       "<g id=\"node37\" class=\"node\"><title>36</title>\r\n",
       "<path fill=\"#e58139\" stroke=\"black\" d=\"M1566.5,-655.5C1566.5,-655.5 1465.5,-655.5 1465.5,-655.5 1459.5,-655.5 1453.5,-649.5 1453.5,-643.5 1453.5,-643.5 1453.5,-599.5 1453.5,-599.5 1453.5,-593.5 1459.5,-587.5 1465.5,-587.5 1465.5,-587.5 1566.5,-587.5 1566.5,-587.5 1572.5,-587.5 1578.5,-593.5 1578.5,-599.5 1578.5,-599.5 1578.5,-643.5 1578.5,-643.5 1578.5,-649.5 1572.5,-655.5 1566.5,-655.5\"/>\r\n",
       "<text text-anchor=\"middle\" x=\"1516\" y=\"-640.3\" font-family=\"Helvetica,sans-Serif\" font-size=\"14.00\">gini = 0.0</text>\r\n",
       "<text text-anchor=\"middle\" x=\"1516\" y=\"-625.3\" font-family=\"Helvetica,sans-Serif\" font-size=\"14.00\">samples = 1</text>\r\n",
       "<text text-anchor=\"middle\" x=\"1516\" y=\"-610.3\" font-family=\"Helvetica,sans-Serif\" font-size=\"14.00\">value = [1, 0]</text>\r\n",
       "<text text-anchor=\"middle\" x=\"1516\" y=\"-595.3\" font-family=\"Helvetica,sans-Serif\" font-size=\"14.00\">class = malignant</text>\r\n",
       "</g>\r\n",
       "<!-- 34&#45;&gt;36 -->\r\n",
       "<g id=\"edge36\" class=\"edge\"><title>34&#45;&gt;36</title>\r\n",
       "<path fill=\"none\" stroke=\"black\" d=\"M1427.84,-698.907C1441.46,-687.101 1456.33,-674.217 1469.9,-662.45\"/>\r\n",
       "<polygon fill=\"black\" stroke=\"black\" points=\"1472.47,-664.861 1477.73,-655.667 1467.88,-659.571 1472.47,-664.861\"/>\r\n",
       "</g>\r\n",
       "<!-- 39 -->\r\n",
       "<g id=\"node40\" class=\"node\"><title>39</title>\r\n",
       "<path fill=\"#e58139\" fill-opacity=\"0.498039\" stroke=\"black\" d=\"M1777.5,-901C1777.5,-901 1646.5,-901 1646.5,-901 1640.5,-901 1634.5,-895 1634.5,-889 1634.5,-889 1634.5,-830 1634.5,-830 1634.5,-824 1640.5,-818 1646.5,-818 1646.5,-818 1777.5,-818 1777.5,-818 1783.5,-818 1789.5,-824 1789.5,-830 1789.5,-830 1789.5,-889 1789.5,-889 1789.5,-895 1783.5,-901 1777.5,-901\"/>\r\n",
       "<text text-anchor=\"middle\" x=\"1712\" y=\"-885.8\" font-family=\"Helvetica,sans-Serif\" font-size=\"14.00\">mean radius &lt;= 15.88</text>\r\n",
       "<text text-anchor=\"middle\" x=\"1712\" y=\"-870.8\" font-family=\"Helvetica,sans-Serif\" font-size=\"14.00\">gini = 0.44</text>\r\n",
       "<text text-anchor=\"middle\" x=\"1712\" y=\"-855.8\" font-family=\"Helvetica,sans-Serif\" font-size=\"14.00\">samples = 6</text>\r\n",
       "<text text-anchor=\"middle\" x=\"1712\" y=\"-840.8\" font-family=\"Helvetica,sans-Serif\" font-size=\"14.00\">value = [4, 2]</text>\r\n",
       "<text text-anchor=\"middle\" x=\"1712\" y=\"-825.8\" font-family=\"Helvetica,sans-Serif\" font-size=\"14.00\">class = malignant</text>\r\n",
       "</g>\r\n",
       "<!-- 38&#45;&gt;39 -->\r\n",
       "<g id=\"edge39\" class=\"edge\"><title>38&#45;&gt;39</title>\r\n",
       "<path fill=\"none\" stroke=\"black\" d=\"M1712,-936.907C1712,-928.649 1712,-919.864 1712,-911.302\"/>\r\n",
       "<polygon fill=\"black\" stroke=\"black\" points=\"1715.5,-911.021 1712,-901.021 1708.5,-911.021 1715.5,-911.021\"/>\r\n",
       "</g>\r\n",
       "<!-- 42 -->\r\n",
       "<g id=\"node43\" class=\"node\"><title>42</title>\r\n",
       "<path fill=\"#e58139\" stroke=\"black\" d=\"M1920.5,-893.5C1920.5,-893.5 1819.5,-893.5 1819.5,-893.5 1813.5,-893.5 1807.5,-887.5 1807.5,-881.5 1807.5,-881.5 1807.5,-837.5 1807.5,-837.5 1807.5,-831.5 1813.5,-825.5 1819.5,-825.5 1819.5,-825.5 1920.5,-825.5 1920.5,-825.5 1926.5,-825.5 1932.5,-831.5 1932.5,-837.5 1932.5,-837.5 1932.5,-881.5 1932.5,-881.5 1932.5,-887.5 1926.5,-893.5 1920.5,-893.5\"/>\r\n",
       "<text text-anchor=\"middle\" x=\"1870\" y=\"-878.3\" font-family=\"Helvetica,sans-Serif\" font-size=\"14.00\">gini = 0.0</text>\r\n",
       "<text text-anchor=\"middle\" x=\"1870\" y=\"-863.3\" font-family=\"Helvetica,sans-Serif\" font-size=\"14.00\">samples = 137</text>\r\n",
       "<text text-anchor=\"middle\" x=\"1870\" y=\"-848.3\" font-family=\"Helvetica,sans-Serif\" font-size=\"14.00\">value = [137, 0]</text>\r\n",
       "<text text-anchor=\"middle\" x=\"1870\" y=\"-833.3\" font-family=\"Helvetica,sans-Serif\" font-size=\"14.00\">class = malignant</text>\r\n",
       "</g>\r\n",
       "<!-- 38&#45;&gt;42 -->\r\n",
       "<g id=\"edge42\" class=\"edge\"><title>38&#45;&gt;42</title>\r\n",
       "<path fill=\"none\" stroke=\"black\" d=\"M1766.82,-936.907C1783.06,-924.88 1800.81,-911.735 1816.94,-899.791\"/>\r\n",
       "<polygon fill=\"black\" stroke=\"black\" points=\"1819.26,-902.431 1825.21,-893.667 1815.09,-896.805 1819.26,-902.431\"/>\r\n",
       "</g>\r\n",
       "<!-- 40 -->\r\n",
       "<g id=\"node41\" class=\"node\"><title>40</title>\r\n",
       "<path fill=\"#e58139\" stroke=\"black\" d=\"M1762.5,-774.5C1762.5,-774.5 1661.5,-774.5 1661.5,-774.5 1655.5,-774.5 1649.5,-768.5 1649.5,-762.5 1649.5,-762.5 1649.5,-718.5 1649.5,-718.5 1649.5,-712.5 1655.5,-706.5 1661.5,-706.5 1661.5,-706.5 1762.5,-706.5 1762.5,-706.5 1768.5,-706.5 1774.5,-712.5 1774.5,-718.5 1774.5,-718.5 1774.5,-762.5 1774.5,-762.5 1774.5,-768.5 1768.5,-774.5 1762.5,-774.5\"/>\r\n",
       "<text text-anchor=\"middle\" x=\"1712\" y=\"-759.3\" font-family=\"Helvetica,sans-Serif\" font-size=\"14.00\">gini = 0.0</text>\r\n",
       "<text text-anchor=\"middle\" x=\"1712\" y=\"-744.3\" font-family=\"Helvetica,sans-Serif\" font-size=\"14.00\">samples = 4</text>\r\n",
       "<text text-anchor=\"middle\" x=\"1712\" y=\"-729.3\" font-family=\"Helvetica,sans-Serif\" font-size=\"14.00\">value = [4, 0]</text>\r\n",
       "<text text-anchor=\"middle\" x=\"1712\" y=\"-714.3\" font-family=\"Helvetica,sans-Serif\" font-size=\"14.00\">class = malignant</text>\r\n",
       "</g>\r\n",
       "<!-- 39&#45;&gt;40 -->\r\n",
       "<g id=\"edge40\" class=\"edge\"><title>39&#45;&gt;40</title>\r\n",
       "<path fill=\"none\" stroke=\"black\" d=\"M1712,-817.907C1712,-807.204 1712,-795.615 1712,-784.776\"/>\r\n",
       "<polygon fill=\"black\" stroke=\"black\" points=\"1715.5,-784.667 1712,-774.667 1708.5,-784.667 1715.5,-784.667\"/>\r\n",
       "</g>\r\n",
       "<!-- 41 -->\r\n",
       "<g id=\"node42\" class=\"node\"><title>41</title>\r\n",
       "<path fill=\"#399de5\" stroke=\"black\" d=\"M1889,-774.5C1889,-774.5 1805,-774.5 1805,-774.5 1799,-774.5 1793,-768.5 1793,-762.5 1793,-762.5 1793,-718.5 1793,-718.5 1793,-712.5 1799,-706.5 1805,-706.5 1805,-706.5 1889,-706.5 1889,-706.5 1895,-706.5 1901,-712.5 1901,-718.5 1901,-718.5 1901,-762.5 1901,-762.5 1901,-768.5 1895,-774.5 1889,-774.5\"/>\r\n",
       "<text text-anchor=\"middle\" x=\"1847\" y=\"-759.3\" font-family=\"Helvetica,sans-Serif\" font-size=\"14.00\">gini = 0.0</text>\r\n",
       "<text text-anchor=\"middle\" x=\"1847\" y=\"-744.3\" font-family=\"Helvetica,sans-Serif\" font-size=\"14.00\">samples = 2</text>\r\n",
       "<text text-anchor=\"middle\" x=\"1847\" y=\"-729.3\" font-family=\"Helvetica,sans-Serif\" font-size=\"14.00\">value = [0, 2]</text>\r\n",
       "<text text-anchor=\"middle\" x=\"1847\" y=\"-714.3\" font-family=\"Helvetica,sans-Serif\" font-size=\"14.00\">class = benign</text>\r\n",
       "</g>\r\n",
       "<!-- 39&#45;&gt;41 -->\r\n",
       "<g id=\"edge41\" class=\"edge\"><title>39&#45;&gt;41</title>\r\n",
       "<path fill=\"none\" stroke=\"black\" d=\"M1758.84,-817.907C1772.46,-806.101 1787.33,-793.217 1800.9,-781.45\"/>\r\n",
       "<polygon fill=\"black\" stroke=\"black\" points=\"1803.47,-783.861 1808.73,-774.667 1798.88,-778.571 1803.47,-783.861\"/>\r\n",
       "</g>\r\n",
       "</g>\r\n",
       "</svg>\r\n"
      ],
      "text/plain": [
       "<graphviz.files.Source at 0x2a1a68734a8>"
      ]
     },
     "execution_count": 47,
     "metadata": {},
     "output_type": "execute_result"
    }
   ],
   "source": [
    "graphviz.Source(cancer_dot_graph)"
   ]
  },
  {
   "cell_type": "code",
   "execution_count": 48,
   "metadata": {},
   "outputs": [],
   "source": [
    "cancer_graph = graphviz.Source(cancer_dot_graph)"
   ]
  },
  {
   "cell_type": "code",
   "execution_count": 51,
   "metadata": {},
   "outputs": [
    {
     "data": {
      "text/plain": [
       "'cancer_tree.png'"
      ]
     },
     "execution_count": 51,
     "metadata": {},
     "output_type": "execute_result"
    }
   ],
   "source": [
    "cancer_graph.format = 'png'\n",
    "cancer_graph.render(filename='cancer_tree')"
   ]
  },
  {
   "cell_type": "code",
   "execution_count": null,
   "metadata": {},
   "outputs": [],
   "source": [
    "# 7. 가지치기"
   ]
  },
  {
   "cell_type": "code",
   "execution_count": 52,
   "metadata": {},
   "outputs": [],
   "source": [
    "# 7.1 max depth 변화에 따른 훈련 / 테스트 정확도 변화 리스트 작성\n",
    "\n",
    "train_accuracy = []\n",
    "test_accuracy = []\n",
    "\n",
    "depths = range(1,8)\n",
    "\n",
    "for depth in depths:\n",
    "    \n",
    "    # 객체 생성\n",
    "    clf = DecisionTreeClassifier(max_depth = depth)\n",
    "    \n",
    "    # 모델 적합\n",
    "    clf.fit(X_train, y_train)\n",
    "    \n",
    "    # 훈련 정확도 저장\n",
    "    train_accuracy.append(clf.score(X_train, y_train))\n",
    "    \n",
    "    # 테스트 정확도 저장\n",
    "    test_accuracy.append(clf.score(X_test, y_test))"
   ]
  },
  {
   "cell_type": "code",
   "execution_count": 53,
   "metadata": {},
   "outputs": [
    {
     "data": {
      "text/plain": [
       "<matplotlib.legend.Legend at 0x2a1a689af98>"
      ]
     },
     "execution_count": 53,
     "metadata": {},
     "output_type": "execute_result"
    },
    {
     "data": {
      "image/png": "[encoded data removed]",
      "text/plain": [
       "<Figure size 432x288 with 1 Axes>"
      ]
     },
     "metadata": {},
     "output_type": "display_data"
    }
   ],
   "source": [
    "# 7.2 변화 그래프 확인\n",
    "\n",
    "plt.plot(depths, train_accuracy, label = \"train accuracy\")\n",
    "plt.plot(depths, test_accuracy, label = 'test accuracy')\n",
    "plt.ylabel(\"Accuracy\")\n",
    "plt.xlabel(\"Depth\")\n",
    "plt.legend()"
   ]
  },
  {
   "cell_type": "code",
   "execution_count": 54,
   "metadata": {},
   "outputs": [
    {
     "name": "stdout",
     "output_type": "stream",
     "text": [
      "훈련 세트 점수: 0.976\n",
      "테스트 세트 점수: 0.930\n"
     ]
    }
   ],
   "source": [
    "# 7.3 사전가지치기\n",
    "\n",
    "# 객체 생성\n",
    "clf = DecisionTreeClassifier(max_depth = 4)\n",
    "    \n",
    "# 모델 적합\n",
    "clf.fit(X_train, y_train)\n",
    "\n",
    "# 훈련 결과 확인\n",
    "\n",
    "print(\"훈련 세트 점수: {:.3f}\".format(clf.score(X_train, y_train)))\n",
    "print(\"테스트 세트 점수: {:.3f}\".format(clf.score(X_test, y_test)))"
   ]
  },
  {
   "cell_type": "code",
   "execution_count": 55,
   "metadata": {},
   "outputs": [],
   "source": [
    "# 8,1 그래프 재확인\n",
    "\n",
    "export_graphviz(clf, out_file = \"cancer_tree1.dot\",\n",
    "                feature_names = cancer.feature_names,\n",
    "                class_names = cancer.target_names,\n",
    "                rounded = True, proportion = False,\n",
    "                filled = True, precision = 2)"
   ]
  },
  {
   "cell_type": "code",
   "execution_count": 57,
   "metadata": {},
   "outputs": [],
   "source": [
    "with open(\"cancer_tree1.dot\") as f:\n",
    "    cancer_dot_graph1 = f.read()"
   ]
  },
  {
   "cell_type": "code",
   "execution_count": 58,
   "metadata": {},
   "outputs": [
    {
     "data": {
      "image/svg+xml": [
       "<?xml version=\"1.0\" encoding=\"UTF-8\" standalone=\"no\"?>\r\n",
       "<!DOCTYPE svg PUBLIC \"-//W3C//DTD SVG 1.1//EN\"\r\n",
       " \"http://www.w3.org/Graphics/SVG/1.1/DTD/svg11.dtd\">\r\n",
       "<!-- Generated by graphviz version 2.38.0 (20140413.2041)\r\n",
       " -->\r\n",
       "<!-- Title: Tree Pages: 1 -->\r\n",
       "<svg width=\"1112pt\" height=\"552pt\"\r\n",
       " viewBox=\"0.00 0.00 1112.00 552.00\" xmlns=\"http://www.w3.org/2000/svg\" xmlns:xlink=\"http://www.w3.org/1999/xlink\">\r\n",
       "<g id=\"graph0\" class=\"graph\" transform=\"scale(1 1) rotate(0) translate(4 548)\">\r\n",
       "<title>Tree</title>\r\n",
       "<polygon fill=\"white\" stroke=\"none\" points=\"-4,4 -4,-548 1108,-548 1108,4 -4,4\"/>\r\n",
       "<!-- 0 -->\r\n",
       "<g id=\"node1\" class=\"node\"><title>0</title>\r\n",
       "<path fill=\"#399de5\" fill-opacity=\"0.388235\" stroke=\"black\" d=\"M862.5,-544C862.5,-544 702.5,-544 702.5,-544 696.5,-544 690.5,-538 690.5,-532 690.5,-532 690.5,-473 690.5,-473 690.5,-467 696.5,-461 702.5,-461 702.5,-461 862.5,-461 862.5,-461 868.5,-461 874.5,-467 874.5,-473 874.5,-473 874.5,-532 874.5,-532 874.5,-538 868.5,-544 862.5,-544\"/>\r\n",
       "<text text-anchor=\"middle\" x=\"782.5\" y=\"-528.8\" font-family=\"Helvetica,sans-Serif\" font-size=\"14.00\">worst perimeter &lt;= 115.35</text>\r\n",
       "<text text-anchor=\"middle\" x=\"782.5\" y=\"-513.8\" font-family=\"Helvetica,sans-Serif\" font-size=\"14.00\">gini = 0.47</text>\r\n",
       "<text text-anchor=\"middle\" x=\"782.5\" y=\"-498.8\" font-family=\"Helvetica,sans-Serif\" font-size=\"14.00\">samples = 455</text>\r\n",
       "<text text-anchor=\"middle\" x=\"782.5\" y=\"-483.8\" font-family=\"Helvetica,sans-Serif\" font-size=\"14.00\">value = [173, 282]</text>\r\n",
       "<text text-anchor=\"middle\" x=\"782.5\" y=\"-468.8\" font-family=\"Helvetica,sans-Serif\" font-size=\"14.00\">class = benign</text>\r\n",
       "</g>\r\n",
       "<!-- 1 -->\r\n",
       "<g id=\"node2\" class=\"node\"><title>1</title>\r\n",
       "<path fill=\"#399de5\" fill-opacity=\"0.886275\" stroke=\"black\" d=\"M718.5,-425C718.5,-425 540.5,-425 540.5,-425 534.5,-425 528.5,-419 528.5,-413 528.5,-413 528.5,-354 528.5,-354 528.5,-348 534.5,-342 540.5,-342 540.5,-342 718.5,-342 718.5,-342 724.5,-342 730.5,-348 730.5,-354 730.5,-354 730.5,-413 730.5,-413 730.5,-419 724.5,-425 718.5,-425\"/>\r\n",
       "<text text-anchor=\"middle\" x=\"629.5\" y=\"-409.8\" font-family=\"Helvetica,sans-Serif\" font-size=\"14.00\">worst concave points &lt;= 0.16</text>\r\n",
       "<text text-anchor=\"middle\" x=\"629.5\" y=\"-394.8\" font-family=\"Helvetica,sans-Serif\" font-size=\"14.00\">gini = 0.18</text>\r\n",
       "<text text-anchor=\"middle\" x=\"629.5\" y=\"-379.8\" font-family=\"Helvetica,sans-Serif\" font-size=\"14.00\">samples = 312</text>\r\n",
       "<text text-anchor=\"middle\" x=\"629.5\" y=\"-364.8\" font-family=\"Helvetica,sans-Serif\" font-size=\"14.00\">value = [32, 280]</text>\r\n",
       "<text text-anchor=\"middle\" x=\"629.5\" y=\"-349.8\" font-family=\"Helvetica,sans-Serif\" font-size=\"14.00\">class = benign</text>\r\n",
       "</g>\r\n",
       "<!-- 0&#45;&gt;1 -->\r\n",
       "<g id=\"edge1\" class=\"edge\"><title>0&#45;&gt;1</title>\r\n",
       "<path fill=\"none\" stroke=\"black\" d=\"M729.417,-460.907C716.957,-451.379 703.578,-441.148 690.791,-431.37\"/>\r\n",
       "<polygon fill=\"black\" stroke=\"black\" points=\"692.558,-428.315 682.489,-425.021 688.306,-433.876 692.558,-428.315\"/>\r\n",
       "<text text-anchor=\"middle\" x=\"685.793\" y=\"-446.102\" font-family=\"Helvetica,sans-Serif\" font-size=\"14.00\">True</text>\r\n",
       "</g>\r\n",
       "<!-- 14 -->\r\n",
       "<g id=\"node15\" class=\"node\"><title>14</title>\r\n",
       "<path fill=\"#e58139\" fill-opacity=\"0.984314\" stroke=\"black\" d=\"M968.5,-425C968.5,-425 808.5,-425 808.5,-425 802.5,-425 796.5,-419 796.5,-413 796.5,-413 796.5,-354 796.5,-354 796.5,-348 802.5,-342 808.5,-342 808.5,-342 968.5,-342 968.5,-342 974.5,-342 980.5,-348 980.5,-354 980.5,-354 980.5,-413 980.5,-413 980.5,-419 974.5,-425 968.5,-425\"/>\r\n",
       "<text text-anchor=\"middle\" x=\"888.5\" y=\"-409.8\" font-family=\"Helvetica,sans-Serif\" font-size=\"14.00\">worst perimeter &lt;= 117.45</text>\r\n",
       "<text text-anchor=\"middle\" x=\"888.5\" y=\"-394.8\" font-family=\"Helvetica,sans-Serif\" font-size=\"14.00\">gini = 0.03</text>\r\n",
       "<text text-anchor=\"middle\" x=\"888.5\" y=\"-379.8\" font-family=\"Helvetica,sans-Serif\" font-size=\"14.00\">samples = 143</text>\r\n",
       "<text text-anchor=\"middle\" x=\"888.5\" y=\"-364.8\" font-family=\"Helvetica,sans-Serif\" font-size=\"14.00\">value = [141, 2]</text>\r\n",
       "<text text-anchor=\"middle\" x=\"888.5\" y=\"-349.8\" font-family=\"Helvetica,sans-Serif\" font-size=\"14.00\">class = malignant</text>\r\n",
       "</g>\r\n",
       "<!-- 0&#45;&gt;14 -->\r\n",
       "<g id=\"edge14\" class=\"edge\"><title>0&#45;&gt;14</title>\r\n",
       "<path fill=\"none\" stroke=\"black\" d=\"M819.276,-460.907C827.58,-451.742 836.472,-441.927 845.023,-432.489\"/>\r\n",
       "<polygon fill=\"black\" stroke=\"black\" points=\"847.669,-434.782 851.789,-425.021 842.481,-430.082 847.669,-434.782\"/>\r\n",
       "<text text-anchor=\"middle\" x=\"853.021\" y=\"-446.29\" font-family=\"Helvetica,sans-Serif\" font-size=\"14.00\">False</text>\r\n",
       "</g>\r\n",
       "<!-- 2 -->\r\n",
       "<g id=\"node3\" class=\"node\"><title>2</title>\r\n",
       "<path fill=\"#399de5\" fill-opacity=\"0.937255\" stroke=\"black\" d=\"M456.5,-306C456.5,-306 328.5,-306 328.5,-306 322.5,-306 316.5,-300 316.5,-294 316.5,-294 316.5,-235 316.5,-235 316.5,-229 322.5,-223 328.5,-223 328.5,-223 456.5,-223 456.5,-223 462.5,-223 468.5,-229 468.5,-235 468.5,-235 468.5,-294 468.5,-294 468.5,-300 462.5,-306 456.5,-306\"/>\r\n",
       "<text text-anchor=\"middle\" x=\"392.5\" y=\"-290.8\" font-family=\"Helvetica,sans-Serif\" font-size=\"14.00\">mean area &lt;= 696.25</text>\r\n",
       "<text text-anchor=\"middle\" x=\"392.5\" y=\"-275.8\" font-family=\"Helvetica,sans-Serif\" font-size=\"14.00\">gini = 0.11</text>\r\n",
       "<text text-anchor=\"middle\" x=\"392.5\" y=\"-260.8\" font-family=\"Helvetica,sans-Serif\" font-size=\"14.00\">samples = 295</text>\r\n",
       "<text text-anchor=\"middle\" x=\"392.5\" y=\"-245.8\" font-family=\"Helvetica,sans-Serif\" font-size=\"14.00\">value = [17, 278]</text>\r\n",
       "<text text-anchor=\"middle\" x=\"392.5\" y=\"-230.8\" font-family=\"Helvetica,sans-Serif\" font-size=\"14.00\">class = benign</text>\r\n",
       "</g>\r\n",
       "<!-- 1&#45;&gt;2 -->\r\n",
       "<g id=\"edge2\" class=\"edge\"><title>1&#45;&gt;2</title>\r\n",
       "<path fill=\"none\" stroke=\"black\" d=\"M547.274,-341.907C524.831,-330.828 500.466,-318.8 477.853,-307.636\"/>\r\n",
       "<polygon fill=\"black\" stroke=\"black\" points=\"479.132,-304.364 468.615,-303.076 476.033,-310.641 479.132,-304.364\"/>\r\n",
       "</g>\r\n",
       "<!-- 9 -->\r\n",
       "<g id=\"node10\" class=\"node\"><title>9</title>\r\n",
       "<path fill=\"#e58139\" fill-opacity=\"0.866667\" stroke=\"black\" d=\"M696.5,-306C696.5,-306 562.5,-306 562.5,-306 556.5,-306 550.5,-300 550.5,-294 550.5,-294 550.5,-235 550.5,-235 550.5,-229 556.5,-223 562.5,-223 562.5,-223 696.5,-223 696.5,-223 702.5,-223 708.5,-229 708.5,-235 708.5,-235 708.5,-294 708.5,-294 708.5,-300 702.5,-306 696.5,-306\"/>\r\n",
       "<text text-anchor=\"middle\" x=\"629.5\" y=\"-290.8\" font-family=\"Helvetica,sans-Serif\" font-size=\"14.00\">worst texture &lt;= 23.47</text>\r\n",
       "<text text-anchor=\"middle\" x=\"629.5\" y=\"-275.8\" font-family=\"Helvetica,sans-Serif\" font-size=\"14.00\">gini = 0.21</text>\r\n",
       "<text text-anchor=\"middle\" x=\"629.5\" y=\"-260.8\" font-family=\"Helvetica,sans-Serif\" font-size=\"14.00\">samples = 17</text>\r\n",
       "<text text-anchor=\"middle\" x=\"629.5\" y=\"-245.8\" font-family=\"Helvetica,sans-Serif\" font-size=\"14.00\">value = [15, 2]</text>\r\n",
       "<text text-anchor=\"middle\" x=\"629.5\" y=\"-230.8\" font-family=\"Helvetica,sans-Serif\" font-size=\"14.00\">class = malignant</text>\r\n",
       "</g>\r\n",
       "<!-- 1&#45;&gt;9 -->\r\n",
       "<g id=\"edge9\" class=\"edge\"><title>1&#45;&gt;9</title>\r\n",
       "<path fill=\"none\" stroke=\"black\" d=\"M629.5,-341.907C629.5,-333.649 629.5,-324.864 629.5,-316.302\"/>\r\n",
       "<polygon fill=\"black\" stroke=\"black\" points=\"633,-316.021 629.5,-306.021 626,-316.021 633,-316.021\"/>\r\n",
       "</g>\r\n",
       "<!-- 3 -->\r\n",
       "<g id=\"node4\" class=\"node\"><title>3</title>\r\n",
       "<path fill=\"#399de5\" fill-opacity=\"0.960784\" stroke=\"black\" d=\"M274.5,-187C274.5,-187 96.5,-187 96.5,-187 90.5,-187 84.5,-181 84.5,-175 84.5,-175 84.5,-116 84.5,-116 84.5,-110 90.5,-104 96.5,-104 96.5,-104 274.5,-104 274.5,-104 280.5,-104 286.5,-110 286.5,-116 286.5,-116 286.5,-175 286.5,-175 286.5,-181 280.5,-187 274.5,-187\"/>\r\n",
       "<text text-anchor=\"middle\" x=\"185.5\" y=\"-171.8\" font-family=\"Helvetica,sans-Serif\" font-size=\"14.00\">worst concave points &lt;= 0.13</text>\r\n",
       "<text text-anchor=\"middle\" x=\"185.5\" y=\"-156.8\" font-family=\"Helvetica,sans-Serif\" font-size=\"14.00\">gini = 0.07</text>\r\n",
       "<text text-anchor=\"middle\" x=\"185.5\" y=\"-141.8\" font-family=\"Helvetica,sans-Serif\" font-size=\"14.00\">samples = 284</text>\r\n",
       "<text text-anchor=\"middle\" x=\"185.5\" y=\"-126.8\" font-family=\"Helvetica,sans-Serif\" font-size=\"14.00\">value = [11, 273]</text>\r\n",
       "<text text-anchor=\"middle\" x=\"185.5\" y=\"-111.8\" font-family=\"Helvetica,sans-Serif\" font-size=\"14.00\">class = benign</text>\r\n",
       "</g>\r\n",
       "<!-- 2&#45;&gt;3 -->\r\n",
       "<g id=\"edge3\" class=\"edge\"><title>2&#45;&gt;3</title>\r\n",
       "<path fill=\"none\" stroke=\"black\" d=\"M320.682,-222.907C303.021,-212.925 283.997,-202.172 265.957,-191.976\"/>\r\n",
       "<polygon fill=\"black\" stroke=\"black\" points=\"267.619,-188.894 257.191,-187.021 264.174,-194.988 267.619,-188.894\"/>\r\n",
       "</g>\r\n",
       "<!-- 6 -->\r\n",
       "<g id=\"node7\" class=\"node\"><title>6</title>\r\n",
       "<path fill=\"#e58139\" fill-opacity=\"0.164706\" stroke=\"black\" d=\"M460,-187C460,-187 325,-187 325,-187 319,-187 313,-181 313,-175 313,-175 313,-116 313,-116 313,-110 319,-104 325,-104 325,-104 460,-104 460,-104 466,-104 472,-110 472,-116 472,-116 472,-175 472,-175 472,-181 466,-187 460,-187\"/>\r\n",
       "<text text-anchor=\"middle\" x=\"392.5\" y=\"-171.8\" font-family=\"Helvetica,sans-Serif\" font-size=\"14.00\">mean texture &lt;= 17.39</text>\r\n",
       "<text text-anchor=\"middle\" x=\"392.5\" y=\"-156.8\" font-family=\"Helvetica,sans-Serif\" font-size=\"14.00\">gini = 0.5</text>\r\n",
       "<text text-anchor=\"middle\" x=\"392.5\" y=\"-141.8\" font-family=\"Helvetica,sans-Serif\" font-size=\"14.00\">samples = 11</text>\r\n",
       "<text text-anchor=\"middle\" x=\"392.5\" y=\"-126.8\" font-family=\"Helvetica,sans-Serif\" font-size=\"14.00\">value = [6, 5]</text>\r\n",
       "<text text-anchor=\"middle\" x=\"392.5\" y=\"-111.8\" font-family=\"Helvetica,sans-Serif\" font-size=\"14.00\">class = malignant</text>\r\n",
       "</g>\r\n",
       "<!-- 2&#45;&gt;6 -->\r\n",
       "<g id=\"edge6\" class=\"edge\"><title>2&#45;&gt;6</title>\r\n",
       "<path fill=\"none\" stroke=\"black\" d=\"M392.5,-222.907C392.5,-214.649 392.5,-205.864 392.5,-197.302\"/>\r\n",
       "<polygon fill=\"black\" stroke=\"black\" points=\"396,-197.021 392.5,-187.021 389,-197.021 396,-197.021\"/>\r\n",
       "</g>\r\n",
       "<!-- 4 -->\r\n",
       "<g id=\"node5\" class=\"node\"><title>4</title>\r\n",
       "<path fill=\"#399de5\" fill-opacity=\"0.984314\" stroke=\"black\" d=\"M101,-68C101,-68 12,-68 12,-68 6,-68 0,-62 0,-56 0,-56 0,-12 0,-12 0,-6 6,-0 12,-0 12,-0 101,-0 101,-0 107,-0 113,-6 113,-12 113,-12 113,-56 113,-56 113,-62 107,-68 101,-68\"/>\r\n",
       "<text text-anchor=\"middle\" x=\"56.5\" y=\"-52.8\" font-family=\"Helvetica,sans-Serif\" font-size=\"14.00\">gini = 0.03</text>\r\n",
       "<text text-anchor=\"middle\" x=\"56.5\" y=\"-37.8\" font-family=\"Helvetica,sans-Serif\" font-size=\"14.00\">samples = 261</text>\r\n",
       "<text text-anchor=\"middle\" x=\"56.5\" y=\"-22.8\" font-family=\"Helvetica,sans-Serif\" font-size=\"14.00\">value = [4, 257]</text>\r\n",
       "<text text-anchor=\"middle\" x=\"56.5\" y=\"-7.8\" font-family=\"Helvetica,sans-Serif\" font-size=\"14.00\">class = benign</text>\r\n",
       "</g>\r\n",
       "<!-- 3&#45;&gt;4 -->\r\n",
       "<g id=\"edge4\" class=\"edge\"><title>3&#45;&gt;4</title>\r\n",
       "<path fill=\"none\" stroke=\"black\" d=\"M137.465,-103.726C126.398,-94.3318 114.637,-84.349 103.61,-74.9883\"/>\r\n",
       "<polygon fill=\"black\" stroke=\"black\" points=\"105.618,-72.1026 95.7297,-68.2996 101.088,-77.4393 105.618,-72.1026\"/>\r\n",
       "</g>\r\n",
       "<!-- 5 -->\r\n",
       "<g id=\"node6\" class=\"node\"><title>5</title>\r\n",
       "<path fill=\"#399de5\" fill-opacity=\"0.560784\" stroke=\"black\" d=\"M227.5,-68C227.5,-68 143.5,-68 143.5,-68 137.5,-68 131.5,-62 131.5,-56 131.5,-56 131.5,-12 131.5,-12 131.5,-6 137.5,-0 143.5,-0 143.5,-0 227.5,-0 227.5,-0 233.5,-0 239.5,-6 239.5,-12 239.5,-12 239.5,-56 239.5,-56 239.5,-62 233.5,-68 227.5,-68\"/>\r\n",
       "<text text-anchor=\"middle\" x=\"185.5\" y=\"-52.8\" font-family=\"Helvetica,sans-Serif\" font-size=\"14.00\">gini = 0.42</text>\r\n",
       "<text text-anchor=\"middle\" x=\"185.5\" y=\"-37.8\" font-family=\"Helvetica,sans-Serif\" font-size=\"14.00\">samples = 23</text>\r\n",
       "<text text-anchor=\"middle\" x=\"185.5\" y=\"-22.8\" font-family=\"Helvetica,sans-Serif\" font-size=\"14.00\">value = [7, 16]</text>\r\n",
       "<text text-anchor=\"middle\" x=\"185.5\" y=\"-7.8\" font-family=\"Helvetica,sans-Serif\" font-size=\"14.00\">class = benign</text>\r\n",
       "</g>\r\n",
       "<!-- 3&#45;&gt;5 -->\r\n",
       "<g id=\"edge5\" class=\"edge\"><title>3&#45;&gt;5</title>\r\n",
       "<path fill=\"none\" stroke=\"black\" d=\"M185.5,-103.726C185.5,-95.5175 185.5,-86.8595 185.5,-78.56\"/>\r\n",
       "<polygon fill=\"black\" stroke=\"black\" points=\"189,-78.2996 185.5,-68.2996 182,-78.2996 189,-78.2996\"/>\r\n",
       "</g>\r\n",
       "<!-- 7 -->\r\n",
       "<g id=\"node8\" class=\"node\"><title>7</title>\r\n",
       "<path fill=\"#399de5\" stroke=\"black\" d=\"M353.5,-68C353.5,-68 269.5,-68 269.5,-68 263.5,-68 257.5,-62 257.5,-56 257.5,-56 257.5,-12 257.5,-12 257.5,-6 263.5,-0 269.5,-0 269.5,-0 353.5,-0 353.5,-0 359.5,-0 365.5,-6 365.5,-12 365.5,-12 365.5,-56 365.5,-56 365.5,-62 359.5,-68 353.5,-68\"/>\r\n",
       "<text text-anchor=\"middle\" x=\"311.5\" y=\"-52.8\" font-family=\"Helvetica,sans-Serif\" font-size=\"14.00\">gini = 0.0</text>\r\n",
       "<text text-anchor=\"middle\" x=\"311.5\" y=\"-37.8\" font-family=\"Helvetica,sans-Serif\" font-size=\"14.00\">samples = 5</text>\r\n",
       "<text text-anchor=\"middle\" x=\"311.5\" y=\"-22.8\" font-family=\"Helvetica,sans-Serif\" font-size=\"14.00\">value = [0, 5]</text>\r\n",
       "<text text-anchor=\"middle\" x=\"311.5\" y=\"-7.8\" font-family=\"Helvetica,sans-Serif\" font-size=\"14.00\">class = benign</text>\r\n",
       "</g>\r\n",
       "<!-- 6&#45;&gt;7 -->\r\n",
       "<g id=\"edge7\" class=\"edge\"><title>6&#45;&gt;7</title>\r\n",
       "<path fill=\"none\" stroke=\"black\" d=\"M362.339,-103.726C355.727,-94.7878 348.721,-85.3168 342.092,-76.3558\"/>\r\n",
       "<polygon fill=\"black\" stroke=\"black\" points=\"344.893,-74.2576 336.133,-68.2996 339.266,-78.4206 344.893,-74.2576\"/>\r\n",
       "</g>\r\n",
       "<!-- 8 -->\r\n",
       "<g id=\"node9\" class=\"node\"><title>8</title>\r\n",
       "<path fill=\"#e58139\" stroke=\"black\" d=\"M497,-68C497,-68 396,-68 396,-68 390,-68 384,-62 384,-56 384,-56 384,-12 384,-12 384,-6 390,-0 396,-0 396,-0 497,-0 497,-0 503,-0 509,-6 509,-12 509,-12 509,-56 509,-56 509,-62 503,-68 497,-68\"/>\r\n",
       "<text text-anchor=\"middle\" x=\"446.5\" y=\"-52.8\" font-family=\"Helvetica,sans-Serif\" font-size=\"14.00\">gini = 0.0</text>\r\n",
       "<text text-anchor=\"middle\" x=\"446.5\" y=\"-37.8\" font-family=\"Helvetica,sans-Serif\" font-size=\"14.00\">samples = 6</text>\r\n",
       "<text text-anchor=\"middle\" x=\"446.5\" y=\"-22.8\" font-family=\"Helvetica,sans-Serif\" font-size=\"14.00\">value = [6, 0]</text>\r\n",
       "<text text-anchor=\"middle\" x=\"446.5\" y=\"-7.8\" font-family=\"Helvetica,sans-Serif\" font-size=\"14.00\">class = malignant</text>\r\n",
       "</g>\r\n",
       "<!-- 6&#45;&gt;8 -->\r\n",
       "<g id=\"edge8\" class=\"edge\"><title>6&#45;&gt;8</title>\r\n",
       "<path fill=\"none\" stroke=\"black\" d=\"M412.608,-103.726C416.836,-95.1527 421.305,-86.0891 425.563,-77.4555\"/>\r\n",
       "<polygon fill=\"black\" stroke=\"black\" points=\"428.794,-78.8164 430.078,-68.2996 422.516,-75.7203 428.794,-78.8164\"/>\r\n",
       "</g>\r\n",
       "<!-- 10 -->\r\n",
       "<g id=\"node11\" class=\"node\"><title>10</title>\r\n",
       "<path fill=\"#399de5\" fill-opacity=\"0.498039\" stroke=\"black\" d=\"M653,-187C653,-187 510,-187 510,-187 504,-187 498,-181 498,-175 498,-175 498,-116 498,-116 498,-110 504,-104 510,-104 510,-104 653,-104 653,-104 659,-104 665,-110 665,-116 665,-116 665,-175 665,-175 665,-181 659,-187 653,-187\"/>\r\n",
       "<text text-anchor=\"middle\" x=\"581.5\" y=\"-171.8\" font-family=\"Helvetica,sans-Serif\" font-size=\"14.00\">mean concavity &lt;= 0.16</text>\r\n",
       "<text text-anchor=\"middle\" x=\"581.5\" y=\"-156.8\" font-family=\"Helvetica,sans-Serif\" font-size=\"14.00\">gini = 0.44</text>\r\n",
       "<text text-anchor=\"middle\" x=\"581.5\" y=\"-141.8\" font-family=\"Helvetica,sans-Serif\" font-size=\"14.00\">samples = 3</text>\r\n",
       "<text text-anchor=\"middle\" x=\"581.5\" y=\"-126.8\" font-family=\"Helvetica,sans-Serif\" font-size=\"14.00\">value = [1, 2]</text>\r\n",
       "<text text-anchor=\"middle\" x=\"581.5\" y=\"-111.8\" font-family=\"Helvetica,sans-Serif\" font-size=\"14.00\">class = benign</text>\r\n",
       "</g>\r\n",
       "<!-- 9&#45;&gt;10 -->\r\n",
       "<g id=\"edge10\" class=\"edge\"><title>9&#45;&gt;10</title>\r\n",
       "<path fill=\"none\" stroke=\"black\" d=\"M612.847,-222.907C609.347,-214.377 605.617,-205.284 601.995,-196.456\"/>\r\n",
       "<polygon fill=\"black\" stroke=\"black\" points=\"605.158,-194.944 598.124,-187.021 598.681,-197.601 605.158,-194.944\"/>\r\n",
       "</g>\r\n",
       "<!-- 13 -->\r\n",
       "<g id=\"node14\" class=\"node\"><title>13</title>\r\n",
       "<path fill=\"#e58139\" stroke=\"black\" d=\"M796,-179.5C796,-179.5 695,-179.5 695,-179.5 689,-179.5 683,-173.5 683,-167.5 683,-167.5 683,-123.5 683,-123.5 683,-117.5 689,-111.5 695,-111.5 695,-111.5 796,-111.5 796,-111.5 802,-111.5 808,-117.5 808,-123.5 808,-123.5 808,-167.5 808,-167.5 808,-173.5 802,-179.5 796,-179.5\"/>\r\n",
       "<text text-anchor=\"middle\" x=\"745.5\" y=\"-164.3\" font-family=\"Helvetica,sans-Serif\" font-size=\"14.00\">gini = 0.0</text>\r\n",
       "<text text-anchor=\"middle\" x=\"745.5\" y=\"-149.3\" font-family=\"Helvetica,sans-Serif\" font-size=\"14.00\">samples = 14</text>\r\n",
       "<text text-anchor=\"middle\" x=\"745.5\" y=\"-134.3\" font-family=\"Helvetica,sans-Serif\" font-size=\"14.00\">value = [14, 0]</text>\r\n",
       "<text text-anchor=\"middle\" x=\"745.5\" y=\"-119.3\" font-family=\"Helvetica,sans-Serif\" font-size=\"14.00\">class = malignant</text>\r\n",
       "</g>\r\n",
       "<!-- 9&#45;&gt;13 -->\r\n",
       "<g id=\"edge13\" class=\"edge\"><title>9&#45;&gt;13</title>\r\n",
       "<path fill=\"none\" stroke=\"black\" d=\"M669.746,-222.907C681.342,-211.211 693.987,-198.457 705.565,-186.78\"/>\r\n",
       "<polygon fill=\"black\" stroke=\"black\" points=\"708.061,-189.233 712.617,-179.667 703.09,-184.304 708.061,-189.233\"/>\r\n",
       "</g>\r\n",
       "<!-- 11 -->\r\n",
       "<g id=\"node12\" class=\"node\"><title>11</title>\r\n",
       "<path fill=\"#399de5\" stroke=\"black\" d=\"M623.5,-68C623.5,-68 539.5,-68 539.5,-68 533.5,-68 527.5,-62 527.5,-56 527.5,-56 527.5,-12 527.5,-12 527.5,-6 533.5,-0 539.5,-0 539.5,-0 623.5,-0 623.5,-0 629.5,-0 635.5,-6 635.5,-12 635.5,-12 635.5,-56 635.5,-56 635.5,-62 629.5,-68 623.5,-68\"/>\r\n",
       "<text text-anchor=\"middle\" x=\"581.5\" y=\"-52.8\" font-family=\"Helvetica,sans-Serif\" font-size=\"14.00\">gini = 0.0</text>\r\n",
       "<text text-anchor=\"middle\" x=\"581.5\" y=\"-37.8\" font-family=\"Helvetica,sans-Serif\" font-size=\"14.00\">samples = 2</text>\r\n",
       "<text text-anchor=\"middle\" x=\"581.5\" y=\"-22.8\" font-family=\"Helvetica,sans-Serif\" font-size=\"14.00\">value = [0, 2]</text>\r\n",
       "<text text-anchor=\"middle\" x=\"581.5\" y=\"-7.8\" font-family=\"Helvetica,sans-Serif\" font-size=\"14.00\">class = benign</text>\r\n",
       "</g>\r\n",
       "<!-- 10&#45;&gt;11 -->\r\n",
       "<g id=\"edge11\" class=\"edge\"><title>10&#45;&gt;11</title>\r\n",
       "<path fill=\"none\" stroke=\"black\" d=\"M581.5,-103.726C581.5,-95.5175 581.5,-86.8595 581.5,-78.56\"/>\r\n",
       "<polygon fill=\"black\" stroke=\"black\" points=\"585,-78.2996 581.5,-68.2996 578,-78.2996 585,-78.2996\"/>\r\n",
       "</g>\r\n",
       "<!-- 12 -->\r\n",
       "<g id=\"node13\" class=\"node\"><title>12</title>\r\n",
       "<path fill=\"#e58139\" stroke=\"black\" d=\"M767,-68C767,-68 666,-68 666,-68 660,-68 654,-62 654,-56 654,-56 654,-12 654,-12 654,-6 660,-0 666,-0 666,-0 767,-0 767,-0 773,-0 779,-6 779,-12 779,-12 779,-56 779,-56 779,-62 773,-68 767,-68\"/>\r\n",
       "<text text-anchor=\"middle\" x=\"716.5\" y=\"-52.8\" font-family=\"Helvetica,sans-Serif\" font-size=\"14.00\">gini = 0.0</text>\r\n",
       "<text text-anchor=\"middle\" x=\"716.5\" y=\"-37.8\" font-family=\"Helvetica,sans-Serif\" font-size=\"14.00\">samples = 1</text>\r\n",
       "<text text-anchor=\"middle\" x=\"716.5\" y=\"-22.8\" font-family=\"Helvetica,sans-Serif\" font-size=\"14.00\">value = [1, 0]</text>\r\n",
       "<text text-anchor=\"middle\" x=\"716.5\" y=\"-7.8\" font-family=\"Helvetica,sans-Serif\" font-size=\"14.00\">class = malignant</text>\r\n",
       "</g>\r\n",
       "<!-- 10&#45;&gt;12 -->\r\n",
       "<g id=\"edge12\" class=\"edge\"><title>10&#45;&gt;12</title>\r\n",
       "<path fill=\"none\" stroke=\"black\" d=\"M631.769,-103.726C643.464,-94.2406 655.898,-84.1551 667.535,-74.7159\"/>\r\n",
       "<polygon fill=\"black\" stroke=\"black\" points=\"669.884,-77.3173 675.446,-68.2996 665.474,-71.8808 669.884,-77.3173\"/>\r\n",
       "</g>\r\n",
       "<!-- 15 -->\r\n",
       "<g id=\"node16\" class=\"node\"><title>15</title>\r\n",
       "<path fill=\"#e58139\" fill-opacity=\"0.498039\" stroke=\"black\" d=\"M948.5,-306C948.5,-306 828.5,-306 828.5,-306 822.5,-306 816.5,-300 816.5,-294 816.5,-294 816.5,-235 816.5,-235 816.5,-229 822.5,-223 828.5,-223 828.5,-223 948.5,-223 948.5,-223 954.5,-223 960.5,-229 960.5,-235 960.5,-235 960.5,-294 960.5,-294 960.5,-300 954.5,-306 948.5,-306\"/>\r\n",
       "<text text-anchor=\"middle\" x=\"888.5\" y=\"-290.8\" font-family=\"Helvetica,sans-Serif\" font-size=\"14.00\">mean area &lt;= 779.3</text>\r\n",
       "<text text-anchor=\"middle\" x=\"888.5\" y=\"-275.8\" font-family=\"Helvetica,sans-Serif\" font-size=\"14.00\">gini = 0.44</text>\r\n",
       "<text text-anchor=\"middle\" x=\"888.5\" y=\"-260.8\" font-family=\"Helvetica,sans-Serif\" font-size=\"14.00\">samples = 6</text>\r\n",
       "<text text-anchor=\"middle\" x=\"888.5\" y=\"-245.8\" font-family=\"Helvetica,sans-Serif\" font-size=\"14.00\">value = [4, 2]</text>\r\n",
       "<text text-anchor=\"middle\" x=\"888.5\" y=\"-230.8\" font-family=\"Helvetica,sans-Serif\" font-size=\"14.00\">class = malignant</text>\r\n",
       "</g>\r\n",
       "<!-- 14&#45;&gt;15 -->\r\n",
       "<g id=\"edge15\" class=\"edge\"><title>14&#45;&gt;15</title>\r\n",
       "<path fill=\"none\" stroke=\"black\" d=\"M888.5,-341.907C888.5,-333.649 888.5,-324.864 888.5,-316.302\"/>\r\n",
       "<polygon fill=\"black\" stroke=\"black\" points=\"892,-316.021 888.5,-306.021 885,-316.021 892,-316.021\"/>\r\n",
       "</g>\r\n",
       "<!-- 18 -->\r\n",
       "<g id=\"node19\" class=\"node\"><title>18</title>\r\n",
       "<path fill=\"#e58139\" stroke=\"black\" d=\"M1092,-298.5C1092,-298.5 991,-298.5 991,-298.5 985,-298.5 979,-292.5 979,-286.5 979,-286.5 979,-242.5 979,-242.5 979,-236.5 985,-230.5 991,-230.5 991,-230.5 1092,-230.5 1092,-230.5 1098,-230.5 1104,-236.5 1104,-242.5 1104,-242.5 1104,-286.5 1104,-286.5 1104,-292.5 1098,-298.5 1092,-298.5\"/>\r\n",
       "<text text-anchor=\"middle\" x=\"1041.5\" y=\"-283.3\" font-family=\"Helvetica,sans-Serif\" font-size=\"14.00\">gini = 0.0</text>\r\n",
       "<text text-anchor=\"middle\" x=\"1041.5\" y=\"-268.3\" font-family=\"Helvetica,sans-Serif\" font-size=\"14.00\">samples = 137</text>\r\n",
       "<text text-anchor=\"middle\" x=\"1041.5\" y=\"-253.3\" font-family=\"Helvetica,sans-Serif\" font-size=\"14.00\">value = [137, 0]</text>\r\n",
       "<text text-anchor=\"middle\" x=\"1041.5\" y=\"-238.3\" font-family=\"Helvetica,sans-Serif\" font-size=\"14.00\">class = malignant</text>\r\n",
       "</g>\r\n",
       "<!-- 14&#45;&gt;18 -->\r\n",
       "<g id=\"edge18\" class=\"edge\"><title>14&#45;&gt;18</title>\r\n",
       "<path fill=\"none\" stroke=\"black\" d=\"M941.583,-341.907C957.311,-329.88 974.501,-316.735 990.12,-304.791\"/>\r\n",
       "<polygon fill=\"black\" stroke=\"black\" points=\"992.31,-307.522 998.128,-298.667 988.058,-301.961 992.31,-307.522\"/>\r\n",
       "</g>\r\n",
       "<!-- 16 -->\r\n",
       "<g id=\"node17\" class=\"node\"><title>16</title>\r\n",
       "<path fill=\"#e58139\" stroke=\"black\" d=\"M939,-179.5C939,-179.5 838,-179.5 838,-179.5 832,-179.5 826,-173.5 826,-167.5 826,-167.5 826,-123.5 826,-123.5 826,-117.5 832,-111.5 838,-111.5 838,-111.5 939,-111.5 939,-111.5 945,-111.5 951,-117.5 951,-123.5 951,-123.5 951,-167.5 951,-167.5 951,-173.5 945,-179.5 939,-179.5\"/>\r\n",
       "<text text-anchor=\"middle\" x=\"888.5\" y=\"-164.3\" font-family=\"Helvetica,sans-Serif\" font-size=\"14.00\">gini = 0.0</text>\r\n",
       "<text text-anchor=\"middle\" x=\"888.5\" y=\"-149.3\" font-family=\"Helvetica,sans-Serif\" font-size=\"14.00\">samples = 4</text>\r\n",
       "<text text-anchor=\"middle\" x=\"888.5\" y=\"-134.3\" font-family=\"Helvetica,sans-Serif\" font-size=\"14.00\">value = [4, 0]</text>\r\n",
       "<text text-anchor=\"middle\" x=\"888.5\" y=\"-119.3\" font-family=\"Helvetica,sans-Serif\" font-size=\"14.00\">class = malignant</text>\r\n",
       "</g>\r\n",
       "<!-- 15&#45;&gt;16 -->\r\n",
       "<g id=\"edge16\" class=\"edge\"><title>15&#45;&gt;16</title>\r\n",
       "<path fill=\"none\" stroke=\"black\" d=\"M888.5,-222.907C888.5,-212.204 888.5,-200.615 888.5,-189.776\"/>\r\n",
       "<polygon fill=\"black\" stroke=\"black\" points=\"892,-189.667 888.5,-179.667 885,-189.667 892,-189.667\"/>\r\n",
       "</g>\r\n",
       "<!-- 17 -->\r\n",
       "<g id=\"node18\" class=\"node\"><title>17</title>\r\n",
       "<path fill=\"#399de5\" stroke=\"black\" d=\"M1065.5,-179.5C1065.5,-179.5 981.5,-179.5 981.5,-179.5 975.5,-179.5 969.5,-173.5 969.5,-167.5 969.5,-167.5 969.5,-123.5 969.5,-123.5 969.5,-117.5 975.5,-111.5 981.5,-111.5 981.5,-111.5 1065.5,-111.5 1065.5,-111.5 1071.5,-111.5 1077.5,-117.5 1077.5,-123.5 1077.5,-123.5 1077.5,-167.5 1077.5,-167.5 1077.5,-173.5 1071.5,-179.5 1065.5,-179.5\"/>\r\n",
       "<text text-anchor=\"middle\" x=\"1023.5\" y=\"-164.3\" font-family=\"Helvetica,sans-Serif\" font-size=\"14.00\">gini = 0.0</text>\r\n",
       "<text text-anchor=\"middle\" x=\"1023.5\" y=\"-149.3\" font-family=\"Helvetica,sans-Serif\" font-size=\"14.00\">samples = 2</text>\r\n",
       "<text text-anchor=\"middle\" x=\"1023.5\" y=\"-134.3\" font-family=\"Helvetica,sans-Serif\" font-size=\"14.00\">value = [0, 2]</text>\r\n",
       "<text text-anchor=\"middle\" x=\"1023.5\" y=\"-119.3\" font-family=\"Helvetica,sans-Serif\" font-size=\"14.00\">class = benign</text>\r\n",
       "</g>\r\n",
       "<!-- 15&#45;&gt;17 -->\r\n",
       "<g id=\"edge17\" class=\"edge\"><title>15&#45;&gt;17</title>\r\n",
       "<path fill=\"none\" stroke=\"black\" d=\"M935.338,-222.907C948.961,-211.101 963.827,-198.217 977.404,-186.45\"/>\r\n",
       "<polygon fill=\"black\" stroke=\"black\" points=\"979.966,-188.861 985.23,-179.667 975.381,-183.571 979.966,-188.861\"/>\r\n",
       "</g>\r\n",
       "</g>\r\n",
       "</svg>\r\n"
      ],
      "text/plain": [
       "<graphviz.files.Source at 0x2a1a6873b00>"
      ]
     },
     "execution_count": 58,
     "metadata": {},
     "output_type": "execute_result"
    }
   ],
   "source": [
    "graphviz.Source(cancer_dot_graph1)"
   ]
  },
  {
   "cell_type": "markdown",
   "metadata": {},
   "source": []
  },
  {
   "cell_type": "code",
   "execution_count": null,
   "metadata": {},
   "outputs": [],
   "source": []
  },
  {
   "cell_type": "code",
   "execution_count": null,
   "metadata": {},
   "outputs": [],
   "source": []
  },
  {
   "cell_type": "code",
   "execution_count": null,
   "metadata": {},
   "outputs": [],
   "source": []
  },
  {
   "cell_type": "code",
   "execution_count": null,
   "metadata": {},
   "outputs": [],
   "source": []
  },
  {
   "cell_type": "code",
   "execution_count": null,
   "metadata": {},
   "outputs": [],
   "source": []
  },
  {
   "cell_type": "code",
   "execution_count": null,
   "metadata": {},
   "outputs": [],
   "source": []
  },
  {
   "cell_type": "code",
   "execution_count": null,
   "metadata": {},
   "outputs": [],
   "source": []
  }
 ],
 "metadata": {
  "kernelspec": {
   "display_name": "Python 3",
   "language": "python",
   "name": "python3"
  },
  "language_info": {
   "codemirror_mode": {
    "name": "ipython",
    "version": 3
   },
   "file_extension": ".py",
   "mimetype": "text/x-python",
   "name": "python",
   "nbconvert_exporter": "python",
   "pygments_lexer": "ipython3",
   "version": "3.7.3"
  }
 },
 "nbformat": 4,
 "nbformat_minor": 4
}
