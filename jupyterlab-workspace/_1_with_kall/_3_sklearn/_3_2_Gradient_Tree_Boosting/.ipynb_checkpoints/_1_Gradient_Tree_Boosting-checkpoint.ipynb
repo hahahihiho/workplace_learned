{
 "cells": [
  {
   "cell_type": "markdown",
   "metadata": {},
   "source": [
    "## Gradient Tree Boosting\n",
    "\n",
    "- 여러개의 결정트리를 묶어서 만듬\n",
    "- RF 와 달리 오차를 보완하는 방식으로 순차적으로 생성\n",
    "- 사전가지치기\n",
    "- 얕은 Tree 사용(low memory)\n",
    "- 얕은 Tree(weak learner) - 각 Tree는 데이터의 일부에 대해서만 예측 -> 트리 많으면 성능 좋아짐\n",
    "\n",
    "* parameter\n",
    " - 사전가지치기, # of tree\n",
    " - learning rate : 오차를 얼마나 강하게 보정할지/ 크면 모델의 복잡도 증가"
   ]
  },
  {
   "cell_type": "code",
   "execution_count": 2,
   "metadata": {},
   "outputs": [
    {
     "name": "stderr",
     "output_type": "stream",
     "text": [
      "C:\\ProgramData\\Anaconda3\\lib\\importlib\\_bootstrap.py:219: RuntimeWarning: numpy.ufunc size changed, may indicate binary incompatibility. Expected 192 from C header, got 216 from PyObject\n",
      "  return f(*args, **kwds)\n"
     ]
    }
   ],
   "source": [
    "from sklearn.ensemble import GradientBoostingClassifier\n",
    "from sklearn.model_selection import train_test_split\n",
    "from sklearn import datasets\n",
    "import matplotlib.pyplot as plt"
   ]
  },
  {
   "cell_type": "code",
   "execution_count": 17,
   "metadata": {},
   "outputs": [],
   "source": [
    "iris_data = datasets.load_iris()\n",
    "\n",
    "X = iris_data.data\n",
    "y = iris_data.target\n",
    "\n",
    "X_train,X_test,y_train,y_test = train_test_split(X,y,test_size=0.3,random_state=99)"
   ]
  },
  {
   "cell_type": "code",
   "execution_count": 7,
   "metadata": {},
   "outputs": [],
   "source": [
    "gtb = GradientBoostingClassifier()"
   ]
  },
  {
   "cell_type": "code",
   "execution_count": 8,
   "metadata": {},
   "outputs": [
    {
     "data": {
      "text/plain": [
       "GradientBoostingClassifier(criterion='friedman_mse', init=None,\n",
       "                           learning_rate=0.1, loss='deviance', max_depth=3,\n",
       "                           max_features=None, max_leaf_nodes=None,\n",
       "                           min_impurity_decrease=0.0, min_impurity_split=None,\n",
       "                           min_samples_leaf=1, min_samples_split=2,\n",
       "                           min_weight_fraction_leaf=0.0, n_estimators=100,\n",
       "                           n_iter_no_change=None, presort='auto',\n",
       "                           random_state=None, subsample=1.0, tol=0.0001,\n",
       "                           validation_fraction=0.1, verbose=0,\n",
       "                           warm_start=False)"
      ]
     },
     "execution_count": 8,
     "metadata": {},
     "output_type": "execute_result"
    }
   ],
   "source": [
    "gtb.fit(X_train,y_train)"
   ]
  },
  {
   "cell_type": "code",
   "execution_count": 9,
   "metadata": {},
   "outputs": [
    {
     "data": {
      "text/plain": [
       "(1.0, 0.8888888888888888)"
      ]
     },
     "execution_count": 9,
     "metadata": {},
     "output_type": "execute_result"
    }
   ],
   "source": [
    "gtb.score(X_train,y_train),gtb.score(X_test,y_test)"
   ]
  },
  {
   "cell_type": "markdown",
   "metadata": {},
   "source": [
    "## 깊이 조절 \n"
   ]
  },
  {
   "cell_type": "code",
   "execution_count": 10,
   "metadata": {},
   "outputs": [
    {
     "data": {
      "text/plain": [
       "(1.0, 0.8666666666666667)"
      ]
     },
     "execution_count": 10,
     "metadata": {},
     "output_type": "execute_result"
    }
   ],
   "source": [
    "# 깊이 조절\n",
    "gtb_depth = GradientBoostingClassifier(max_depth=2)\n",
    "gtb_depth.fit(X_train,y_train)\n",
    "gtb_depth.score(X_train,y_train),gtb_depth.score(X_test,y_test)"
   ]
  },
  {
   "cell_type": "markdown",
   "metadata": {},
   "source": [
    "## 여러개의 모델"
   ]
  },
  {
   "cell_type": "code",
   "execution_count": 40,
   "metadata": {},
   "outputs": [],
   "source": [
    "train_acc=[]\n",
    "test_acc=[]\n",
    "\n",
    "for i in range(5,201,5):\n",
    "    dtb_n = GradientBoostingClassifier(n_estimators=i, random_state=i, max_depth=2,learning_rate=0.001)\n",
    "    dtb_n.fit(X_train,y_train)\n",
    "    train_acc.append(dtb_n.score(X_train,y_train))\n",
    "    test_acc.append(dtb_n.score(X_test,y_test))"
   ]
  },
  {
   "cell_type": "code",
   "execution_count": 21,
   "metadata": {},
   "outputs": [
    {
     "data": {
      "text/plain": [
       "<matplotlib.legend.Legend at 0x21b4e2ac780>"
      ]
     },
     "execution_count": 21,
     "metadata": {},
     "output_type": "execute_result"
    },
    {
     "data": {
      "image/png": "[encoded data removed]",
      "text/plain": [
       "<Figure size 720x504 with 1 Axes>"
      ]
     },
     "metadata": {
      "needs_background": "light"
     },
     "output_type": "display_data"
    }
   ],
   "source": [
    "plt.figure(figsize=(10,7))\n",
    "plt.plot(range(5,201,5),train_acc,label = 'Train', marker='o')\n",
    "plt.plot(range(5,201,5),test_acc,label='Test',marker='o')\n",
    "plt.legend(fontsize=15)"
   ]
  },
  {
   "cell_type": "markdown",
   "metadata": {},
   "source": [
    "## Cancer dataset"
   ]
  },
  {
   "cell_type": "code",
   "execution_count": 43,
   "metadata": {},
   "outputs": [],
   "source": [
    "bc_data = datasets.load_breast_cancer()\n",
    "X = bc_data['data']\n",
    "y = bc_data['target']\n",
    "X_train,X_test,y_train,y_test = train_test_split(X,y,random_state=11)\n",
    "\n",
    "n_estimators = range(5,201,5)\n",
    "r_state = range(505,701,5)\n",
    "tr_acc=[]\n",
    "te_acc=[]\n",
    "for n,rs in zip(n_estimators,r_state):\n",
    "    gtb = GradientBoostingClassifier(n_estimators=n,random_state=rs,max_depth=3)\n",
    "    gtb.fit(X_train,y_train)\n",
    "    \n",
    "    tr_acc.append(gtb.score(X_train,y_train))\n",
    "    te_acc.append(gtb.score(X_test,y_test))\n"
   ]
  },
  {
   "cell_type": "code",
   "execution_count": 44,
   "metadata": {},
   "outputs": [
    {
     "data": {
      "text/plain": [
       "<matplotlib.legend.Legend at 0x21b4e3faeb8>"
      ]
     },
     "execution_count": 44,
     "metadata": {},
     "output_type": "execute_result"
    },
    {
     "data": {
      "image/png": "[encoded data removed]",
      "text/plain": [
       "<Figure size 432x288 with 1 Axes>"
      ]
     },
     "metadata": {
      "needs_background": "light"
     },
     "output_type": "display_data"
    }
   ],
   "source": [
    "plt.plot(n_estimators,tr_acc,label = 'train')\n",
    "plt.plot(n_estimators,te_acc,label = 'test')\n",
    "plt.legend()"
   ]
  },
  {
   "cell_type": "code",
   "execution_count": 56,
   "metadata": {},
   "outputs": [],
   "source": [
    "## train_test_split에 랜덤성을 추가하여 평균으로 계산을함\n",
    "from statistics import mean\n",
    "train_acc_mean=[]\n",
    "test_acc_mean=[]\n",
    "random_splits=range(1,200,37)\n",
    "for r1 in random_splits:\n",
    "    X_train,X_test,y_train,y_test = train_test_split(X,y,random_state=r1)\n",
    "    \n",
    "    train_accuracy=[]\n",
    "    test_accuracy=[]\n",
    "    for n,rs in zip(n_estimators,r_state):\n",
    "        gtb = GradientBoostingClassifier(n_estimators=n,random_state=rs,max_depth=3)\n",
    "        gtb.fit(X_train,y_train)\n",
    "\n",
    "        train_accuracy.append(gtb.score(X_train,y_train))\n",
    "        test_accuracy.append(gtb.score(X_test,y_test))\n",
    "        \n",
    "    train_acc_mean.append(mean(train_accuracy))\n",
    "    test_acc_mean.append(mean(test_accuracy))"
   ]
  },
  {
   "cell_type": "code",
   "execution_count": 63,
   "metadata": {},
   "outputs": [
    {
     "data": {
      "text/plain": [
       "<matplotlib.legend.Legend at 0x21b4f9d2240>"
      ]
     },
     "execution_count": 63,
     "metadata": {},
     "output_type": "execute_result"
    },
    {
     "data": {
      "image/png": "[encoded data removed]",
      "text/plain": [
       "<Figure size 432x288 with 1 Axes>"
      ]
     },
     "metadata": {
      "needs_background": "light"
     },
     "output_type": "display_data"
    }
   ],
   "source": [
    "plt.plot(random_splits,train_acc_mean,label = 'train')\n",
    "plt.plot(random_splits,test_acc_mean,label = 'test')\n",
    "plt.legend()"
   ]
  }
 ],
 "metadata": {
  "kernelspec": {
   "display_name": "Python 3",
   "language": "python",
   "name": "python3"
  },
  "language_info": {
   "codemirror_mode": {
    "name": "ipython",
    "version": 3
   },
   "file_extension": ".py",
   "mimetype": "text/x-python",
   "name": "python",
   "nbconvert_exporter": "python",
   "pygments_lexer": "ipython3",
   "version": "3.7.3"
  }
 },
 "nbformat": 4,
 "nbformat_minor": 4
}
