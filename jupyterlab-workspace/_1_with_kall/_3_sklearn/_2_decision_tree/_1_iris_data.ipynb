{
 "cells": [
  {
   "cell_type": "markdown",
   "metadata": {},
   "source": [
    "## Decision tree "
   ]
  },
  {
   "cell_type": "markdown",
   "metadata": {},
   "source": [
    "### gini index  \n",
    "$${1 - \\sum_i{p_i^2}}$$"
   ]
  },
  {
   "cell_type": "code",
   "execution_count": 2,
   "metadata": {},
   "outputs": [],
   "source": [
    "from sklearn.tree import DecisionTreeClassifier\n",
    "from sklearn.datasets import load_iris\n",
    "from sklearn import tree\n",
    "from sklearn.model_selection import train_test_split"
   ]
  },
  {
   "cell_type": "code",
   "execution_count": 3,
   "metadata": {},
   "outputs": [],
   "source": [
    "iris_data = load_iris()\n",
    "X = iris_data.data\n",
    "y = iris_data.target\n",
    "\n",
    "X_train, X_test, y_train, y_test = train_test_split(X, y, test_size = 0.3, random_state = 1)"
   ]
  },
  {
   "cell_type": "code",
   "execution_count": 12,
   "metadata": {},
   "outputs": [
    {
     "data": {
      "text/plain": [
       "0.9555555555555556"
      ]
     },
     "execution_count": 12,
     "metadata": {},
     "output_type": "execute_result"
    }
   ],
   "source": [
    "dct=DecisionTreeClassifier(max_depth=None)\n",
    "dct.fit(X_train,y_train)\n",
    "dct.score(X_train,y_train)\n",
    "dct.score(X_test,y_test)"
   ]
  },
  {
   "cell_type": "markdown",
   "metadata": {},
   "source": [
    "### 그래프 그리기 "
   ]
  },
  {
   "cell_type": "code",
   "execution_count": 14,
   "metadata": {},
   "outputs": [],
   "source": [
    "import os,sys"
   ]
  },
  {
   "cell_type": "code",
   "execution_count": 19,
   "metadata": {},
   "outputs": [],
   "source": [
    "# print('\\n'.join(sys.path))"
   ]
  },
  {
   "cell_type": "code",
   "execution_count": 18,
   "metadata": {},
   "outputs": [],
   "source": [
    "# 환경변수에 경로 추가..- 안해줘도 됨..\n",
    "# os.environ['PATH'] += os.pathsep + 'C:/ProgramData/Anaconda3/Library/bin/graphviz/'"
   ]
  },
  {
   "cell_type": "code",
   "execution_count": 31,
   "metadata": {},
   "outputs": [],
   "source": [
    "from sklearn.tree import export_graphviz\n",
    "import graphviz"
   ]
  },
  {
   "cell_type": "code",
   "execution_count": 38,
   "metadata": {},
   "outputs": [],
   "source": [
    "# out_file = \"파일명\" 이라고 두면 결과값을 파일로 생성함.\n",
    "# out_file = None이라고 하면 값 return\n",
    "export_graphviz(dct,out_file='tree.dot',feature_names=iris_data.feature_names,class_names=iris_data.target_names,filled=True)\n",
    "# graphviz.Source(export_graphviz(dct,feature_names=iris_data.feature_names,class_names=iris_data.target_names,filled=True))\n",
    "\n",
    "with open('tree.dot') as f:\n",
    "    dot_graph = f.read()    \n",
    "iris_decisionTree_graph = graphviz.Source(dot_graph)\n",
    "\n",
    "# 그래프 사진으로 저장\n",
    "# iris_decisionTree_graph.format = 'png'\n",
    "# iris_decisionTree_graph.render(filename = 'iris_decitionTree_graph.png')"
   ]
  },
  {
   "cell_type": "markdown",
   "metadata": {},
   "source": [
    "### 가지치기 \n",
    "- 선가지치기\n",
    "- 후가지치기"
   ]
  },
  {
   "cell_type": "code",
   "execution_count": 39,
   "metadata": {},
   "outputs": [
    {
     "name": "stdout",
     "output_type": "stream",
     "text": [
      "train accu:  0.9809523809523809\n",
      "test accu:  0.9555555555555556\n"
     ]
    }
   ],
   "source": [
    "clf2 = DecisionTreeClassifier(max_depth=3)\n",
    "clf2.fit(X_train,y_train)\n",
    "print('train accu: ',clf2.score(X_train,y_train))\n",
    "print('test accu: ',clf2.score(X_test,y_test))"
   ]
  },
  {
   "cell_type": "code",
   "execution_count": 40,
   "metadata": {},
   "outputs": [
    {
     "data": {
      "text/plain": [
       "array([0.02146947, 0.02146947, 0.06316954, 0.89389153])"
      ]
     },
     "execution_count": 40,
     "metadata": {},
     "output_type": "execute_result"
    }
   ],
   "source": [
    "# importance of variables\n",
    "dct.feature_importances_"
   ]
  },
  {
   "cell_type": "code",
   "execution_count": 10,
   "metadata": {},
   "outputs": [
    {
     "data": {
      "text/plain": [
       "(-1, 4)"
      ]
     },
     "execution_count": 10,
     "metadata": {},
     "output_type": "execute_result"
    },
    {
     "data": {
      "image/png": "[encoded data removed]",
      "text/plain": [
       "<Figure size 432x288 with 1 Axes>"
      ]
     },
     "metadata": {
      "needs_background": "light"
     },
     "output_type": "display_data"
    }
   ],
   "source": [
    "import matplotlib.pyplot as plt\n",
    "import numpy as np\n",
    "n_features = iris_data.data.shape[1]\n",
    "plt.barh(range(n_features),dct.feature_importances_,align='center')\n",
    "# y 축 숫자 -> 이름\n",
    "plt.yticks(np.arange(n_features),iris_data.feature_names)\n",
    "plt.xlabel('feature_importances')\n",
    "plt.ylabel('특성')\n",
    "plt.ylim(-1,n_features)"
   ]
  }
 ],
 "metadata": {
  "kernelspec": {
   "display_name": "Python 3",
   "language": "python",
   "name": "python3"
  },
  "language_info": {
   "codemirror_mode": {
    "name": "ipython",
    "version": 3
   },
   "file_extension": ".py",
   "mimetype": "text/x-python",
   "name": "python",
   "nbconvert_exporter": "python",
   "pygments_lexer": "ipython3",
   "version": "3.7.3"
  }
 },
 "nbformat": 4,
 "nbformat_minor": 4
}
