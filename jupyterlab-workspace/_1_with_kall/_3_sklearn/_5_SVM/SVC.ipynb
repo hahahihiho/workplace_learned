{
 "cells": [
  {
   "cell_type": "markdown",
   "metadata": {},
   "source": [
    "## 커널기법\n",
    "- 비선형특성을 추가하여 선형모델을 사용할 경우, 연산비용 증가, 데이터 부정확해질 위험.\n",
    "- 새로운 특성을 만들지 않고, 고차원에서 학습\n",
    "\n",
    "- parameter\n",
    " - gamma : 더 많은 데이터 포인트 반영 커널반경 좁아짐\n",
    " - C(cost) : 데이터 많이 감싸게 \n",
    "\n",
    "<img src=\"C_gamma.png\" width=\"400\">\n",
    "<!-- ![alt text](C_gamma.png) -->\n",
    "\n",
    "참조 : https://bskyvision.com/163"
   ]
  },
  {
   "cell_type": "code",
   "execution_count": 11,
   "metadata": {},
   "outputs": [],
   "source": [
    "from sklearn.svm import SVC\n",
    "from sklearn import datasets\n",
    "from sklearn.model_selection import train_test_split\n",
    "import matplotlib.pyplot as plt"
   ]
  },
  {
   "cell_type": "code",
   "execution_count": 10,
   "metadata": {},
   "outputs": [
    {
     "data": {
      "text/plain": [
       "(0.8990610328638498, 0.9230769230769231)"
      ]
     },
     "execution_count": 10,
     "metadata": {},
     "output_type": "execute_result"
    }
   ],
   "source": [
    "cancer_data = datasets.load_breast_cancer()\n",
    "X = cancer_data['data']\n",
    "y = cancer_data['target']\n",
    "\n",
    "X_train,X_test,y_train,y_test = train_test_split(X,y,random_state=11)\n",
    "\n",
    "svc = SVC(gamma='scale')\n",
    "svc.fit(X_train,y_train)\n",
    "svc.score(X_train,y_train),svc.score(X_test,y_test)"
   ]
  },
  {
   "cell_type": "code",
   "execution_count": 44,
   "metadata": {},
   "outputs": [
    {
     "data": {
      "image/png": "[encoded data removed]",
      "text/plain": [
       "<Figure size 1080x288 with 3 Axes>"
      ]
     },
     "metadata": {
      "needs_background": "light"
     },
     "output_type": "display_data"
    }
   ],
   "source": [
    "fig, axes = plt.subplots(1,3,figsize = (15,4))\n",
    "# for i in range(30):\n",
    "#     plt.scatter(range(len(X)),X[:,i],c = y,label = 'feature'+str(i))\n",
    "#     plt.legend()\n",
    "#     plt.show()"
   ]
  },
  {
   "cell_type": "code",
   "execution_count": 6,
   "metadata": {},
   "outputs": [
    {
     "data": {
      "text/plain": [
       "0.03333333333333333"
      ]
     },
     "execution_count": 6,
     "metadata": {},
     "output_type": "execute_result"
    }
   ],
   "source": [
    "1/30"
   ]
  },
  {
   "cell_type": "code",
   "execution_count": 14,
   "metadata": {},
   "outputs": [
    {
     "data": {
      "text/plain": [
       "Text(0, 0.5, 'value')"
      ]
     },
     "execution_count": 14,
     "metadata": {},
     "output_type": "execute_result"
    },
    {
     "data": {
      "image/png": "[encoded data removed]",
      "text/plain": [
       "<Figure size 432x288 with 1 Axes>"
      ]
     },
     "metadata": {
      "needs_background": "light"
     },
     "output_type": "display_data"
    }
   ],
   "source": [
    "plt.boxplot(X_train, manage_ticks=False)\n",
    "plt.yscale('symlog')\n",
    "plt.xlabel('features')\n",
    "plt.ylabel('value')"
   ]
  },
  {
   "cell_type": "markdown",
   "metadata": {},
   "source": [
    "## 정규화"
   ]
  },
  {
   "cell_type": "code",
   "execution_count": 26,
   "metadata": {},
   "outputs": [],
   "source": [
    "X_train_max = X_train.max(axis=0)\n",
    "X_train_min = X_train.min(axis=0)\n",
    "\n",
    "X_train_range = X_train_max-X_train_min\n",
    "\n",
    "X_train_scale = (X_train-X_train_min)/X_train_range\n",
    "X_test_scale = (X_test-X_train_min)/X_train_range"
   ]
  },
  {
   "cell_type": "code",
   "execution_count": 30,
   "metadata": {},
   "outputs": [
    {
     "data": {
      "text/plain": [
       "(0.9178403755868545, 0.9230769230769231)"
      ]
     },
     "execution_count": 30,
     "metadata": {},
     "output_type": "execute_result"
    }
   ],
   "source": [
    "svc_scaled = SVC(gamma=0.01).fit(X_train_scale,y_train)\n",
    "svc_scaled.score(X_train_scale,y_train),svc_scaled.score(X_test_scale,y_test)"
   ]
  }
 ],
 "metadata": {
  "kernelspec": {
   "display_name": "Python 3",
   "language": "python",
   "name": "python3"
  },
  "language_info": {
   "codemirror_mode": {
    "name": "ipython",
    "version": 3
   },
   "file_extension": ".py",
   "mimetype": "text/x-python",
   "name": "python",
   "nbconvert_exporter": "python",
   "pygments_lexer": "ipython3",
   "version": "3.7.3"
  }
 },
 "nbformat": 4,
 "nbformat_minor": 4
}
