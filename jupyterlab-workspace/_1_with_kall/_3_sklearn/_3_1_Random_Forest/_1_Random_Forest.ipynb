{
 "cells": [
  {
   "cell_type": "markdown",
   "metadata": {},
   "source": [
    "## Random Forest\n",
    "- vs Decision Tree\n",
    " - DT 는 빠르다\n",
    " - DT 는 훈련데이터에 과대적합 되는 경향이 있다\n",
    " - 서로 다른 과대적합된 경우가 많아서  \n",
    "   \n",
    "\n",
    "- 부트스트랩 샘플\n",
    " - 개별트리들이 랜덤하게 서러 독립적\n",
    " - 무작위 중복추출을 통해 전체 데이터 수만큼 임의샘플\n",
    " \n",
    "- cf)\n",
    " - a=[1,2,3,4]\n",
    " - bootstrap_sampling: a1=[1,1,3,4],a2=[3,2,1,1,],a3=[2,4,4,3]...\n",
    " \n",
    " \n",
    "### 결정사항\n",
    "- n_estimator: 생성할 트리 개수\n",
    "- max_features: 분류를 위한 특성개수"
   ]
  },
  {
   "cell_type": "code",
   "execution_count": 1,
   "metadata": {},
   "outputs": [
    {
     "name": "stderr",
     "output_type": "stream",
     "text": [
      "C:\\ProgramData\\Anaconda3\\lib\\importlib\\_bootstrap.py:219: RuntimeWarning: numpy.ufunc size changed, may indicate binary incompatibility. Expected 192 from C header, got 216 from PyObject\n",
      "  return f(*args, **kwds)\n"
     ]
    }
   ],
   "source": [
    "from sklearn.ensemble import RandomForestClassifier\n",
    "from sklearn import datasets\n",
    "from sklearn.model_selection import train_test_split\n",
    "import numpy as np\n",
    "import matplotlib.pyplot as plt"
   ]
  },
  {
   "cell_type": "code",
   "execution_count": 9,
   "metadata": {},
   "outputs": [
    {
     "data": {
      "text/plain": [
       "(100, 2)"
      ]
     },
     "execution_count": 9,
     "metadata": {},
     "output_type": "execute_result"
    }
   ],
   "source": [
    "# 1. make toy data\n",
    "# 초승달 모양의 비선형적 데이터를 만들어줌\n",
    "# noise 없으면 완전 초승달 모양으로 나옴\n",
    "X,y = datasets.make_moons(n_samples = 100,noise= 0.25,random_state=1)\n",
    "X.shape"
   ]
  },
  {
   "cell_type": "code",
   "execution_count": 6,
   "metadata": {},
   "outputs": [
    {
     "data": {
      "text/plain": [
       "<matplotlib.collections.PathCollection at 0x269de7a4198>"
      ]
     },
     "execution_count": 6,
     "metadata": {},
     "output_type": "execute_result"
    },
    {
     "data": {
      "image/png": "[encoded data removed]",
      "text/plain": [
       "<Figure size 432x288 with 1 Axes>"
      ]
     },
     "metadata": {
      "needs_background": "light"
     },
     "output_type": "display_data"
    }
   ],
   "source": [
    "plt.scatter(X[:,0],X[:,1], edgecolors='red',s=50,c=y)"
   ]
  },
  {
   "cell_type": "code",
   "execution_count": 73,
   "metadata": {},
   "outputs": [],
   "source": [
    "# 1.2 데이터 분할\n",
    "X_train,X_test,y_train,y_test = train_test_split(X,y,test_size=0.2,random_state=1001)"
   ]
  },
  {
   "cell_type": "code",
   "execution_count": 12,
   "metadata": {},
   "outputs": [
    {
     "data": {
      "text/plain": [
       "RandomForestClassifier(bootstrap=True, class_weight=None, criterion='gini',\n",
       "                       max_depth=None, max_features='auto', max_leaf_nodes=None,\n",
       "                       min_impurity_decrease=0.0, min_impurity_split=None,\n",
       "                       min_samples_leaf=1, min_samples_split=2,\n",
       "                       min_weight_fraction_leaf=0.0, n_estimators=5,\n",
       "                       n_jobs=None, oob_score=False, random_state=1, verbose=0,\n",
       "                       warm_start=False)"
      ]
     },
     "execution_count": 12,
     "metadata": {},
     "output_type": "execute_result"
    }
   ],
   "source": [
    "# 2. RF modeling\n",
    "RF = RandomForestClassifier(n_estimators=5,random_state=1)\n",
    "RF.fit(X_train,y_train)  # max_features='auto'(sqrt(n))"
   ]
  },
  {
   "cell_type": "code",
   "execution_count": 15,
   "metadata": {},
   "outputs": [
    {
     "data": {
      "text/plain": [
       "(0.9625, 0.95)"
      ]
     },
     "execution_count": 15,
     "metadata": {},
     "output_type": "execute_result"
    }
   ],
   "source": [
    "RF.score(X_train,y_train),RF.score(X_test,y_test)"
   ]
  },
  {
   "cell_type": "code",
   "execution_count": 13,
   "metadata": {},
   "outputs": [
    {
     "data": {
      "text/plain": [
       "[DecisionTreeClassifier(class_weight=None, criterion='gini', max_depth=None,\n",
       "                        max_features='auto', max_leaf_nodes=None,\n",
       "                        min_impurity_decrease=0.0, min_impurity_split=None,\n",
       "                        min_samples_leaf=1, min_samples_split=2,\n",
       "                        min_weight_fraction_leaf=0.0, presort=False,\n",
       "                        random_state=1791095845, splitter='best'),\n",
       " DecisionTreeClassifier(class_weight=None, criterion='gini', max_depth=None,\n",
       "                        max_features='auto', max_leaf_nodes=None,\n",
       "                        min_impurity_decrease=0.0, min_impurity_split=None,\n",
       "                        min_samples_leaf=1, min_samples_split=2,\n",
       "                        min_weight_fraction_leaf=0.0, presort=False,\n",
       "                        random_state=2135392491, splitter='best'),\n",
       " DecisionTreeClassifier(class_weight=None, criterion='gini', max_depth=None,\n",
       "                        max_features='auto', max_leaf_nodes=None,\n",
       "                        min_impurity_decrease=0.0, min_impurity_split=None,\n",
       "                        min_samples_leaf=1, min_samples_split=2,\n",
       "                        min_weight_fraction_leaf=0.0, presort=False,\n",
       "                        random_state=946286476, splitter='best'),\n",
       " DecisionTreeClassifier(class_weight=None, criterion='gini', max_depth=None,\n",
       "                        max_features='auto', max_leaf_nodes=None,\n",
       "                        min_impurity_decrease=0.0, min_impurity_split=None,\n",
       "                        min_samples_leaf=1, min_samples_split=2,\n",
       "                        min_weight_fraction_leaf=0.0, presort=False,\n",
       "                        random_state=1857819720, splitter='best'),\n",
       " DecisionTreeClassifier(class_weight=None, criterion='gini', max_depth=None,\n",
       "                        max_features='auto', max_leaf_nodes=None,\n",
       "                        min_impurity_decrease=0.0, min_impurity_split=None,\n",
       "                        min_samples_leaf=1, min_samples_split=2,\n",
       "                        min_weight_fraction_leaf=0.0, presort=False,\n",
       "                        random_state=491263, splitter='best')]"
      ]
     },
     "execution_count": 13,
     "metadata": {},
     "output_type": "execute_result"
    }
   ],
   "source": [
    "RF.estimators_"
   ]
  },
  {
   "cell_type": "code",
   "execution_count": 16,
   "metadata": {},
   "outputs": [],
   "source": [
    "from sklearn.tree import export_graphviz\n",
    "import graphviz"
   ]
  },
  {
   "cell_type": "code",
   "execution_count": 17,
   "metadata": {},
   "outputs": [],
   "source": [
    "export_graphviz(RF.estimators_[0], out_file='rf0.dot', rounded=True, proportion=False, filled=True, precision=2)"
   ]
  },
  {
   "cell_type": "code",
   "execution_count": 18,
   "metadata": {},
   "outputs": [
    {
     "data": {
      "image/svg+xml": [
       "<?xml version=\"1.0\" encoding=\"UTF-8\" standalone=\"no\"?>\r\n",
       "<!DOCTYPE svg PUBLIC \"-//W3C//DTD SVG 1.1//EN\"\r\n",
       " \"http://www.w3.org/Graphics/SVG/1.1/DTD/svg11.dtd\">\r\n",
       "<!-- Generated by graphviz version 2.38.0 (20140413.2041)\r\n",
       " -->\r\n",
       "<!-- Title: Tree Pages: 1 -->\r\n",
       "<svg width=\"477pt\" height=\"685pt\"\r\n",
       " viewBox=\"0.00 0.00 477.00 685.00\" xmlns=\"http://www.w3.org/2000/svg\" xmlns:xlink=\"http://www.w3.org/1999/xlink\">\r\n",
       "<g id=\"graph0\" class=\"graph\" transform=\"scale(1 1) rotate(0) translate(4 681)\">\r\n",
       "<title>Tree</title>\r\n",
       "<polygon fill=\"white\" stroke=\"none\" points=\"-4,4 -4,-681 473,-681 473,4 -4,4\"/>\r\n",
       "<!-- 0 -->\r\n",
       "<g id=\"node1\" class=\"node\"><title>0</title>\r\n",
       "<path fill=\"#fbede3\" stroke=\"black\" d=\"M277,-677C277,-677 188,-677 188,-677 182,-677 176,-671 176,-665 176,-665 176,-621 176,-621 176,-615 182,-609 188,-609 188,-609 277,-609 277,-609 283,-609 289,-615 289,-621 289,-621 289,-665 289,-665 289,-671 283,-677 277,-677\"/>\r\n",
       "<text text-anchor=\"middle\" x=\"232.5\" y=\"-661.8\" font-family=\"Helvetica,sans-Serif\" font-size=\"14.00\">X[1] &lt;= 0.2</text>\r\n",
       "<text text-anchor=\"middle\" x=\"232.5\" y=\"-646.8\" font-family=\"Helvetica,sans-Serif\" font-size=\"14.00\">gini = 0.5</text>\r\n",
       "<text text-anchor=\"middle\" x=\"232.5\" y=\"-631.8\" font-family=\"Helvetica,sans-Serif\" font-size=\"14.00\">samples = 50</text>\r\n",
       "<text text-anchor=\"middle\" x=\"232.5\" y=\"-616.8\" font-family=\"Helvetica,sans-Serif\" font-size=\"14.00\">value = [43, 37]</text>\r\n",
       "</g>\r\n",
       "<!-- 1 -->\r\n",
       "<g id=\"node2\" class=\"node\"><title>1</title>\r\n",
       "<path fill=\"#55abe9\" stroke=\"black\" d=\"M212,-573C212,-573 131,-573 131,-573 125,-573 119,-567 119,-561 119,-561 119,-517 119,-517 119,-511 125,-505 131,-505 131,-505 212,-505 212,-505 218,-505 224,-511 224,-517 224,-517 224,-561 224,-561 224,-567 218,-573 212,-573\"/>\r\n",
       "<text text-anchor=\"middle\" x=\"171.5\" y=\"-557.8\" font-family=\"Helvetica,sans-Serif\" font-size=\"14.00\">X[1] &lt;= &#45;0.05</text>\r\n",
       "<text text-anchor=\"middle\" x=\"171.5\" y=\"-542.8\" font-family=\"Helvetica,sans-Serif\" font-size=\"14.00\">gini = 0.22</text>\r\n",
       "<text text-anchor=\"middle\" x=\"171.5\" y=\"-527.8\" font-family=\"Helvetica,sans-Serif\" font-size=\"14.00\">samples = 22</text>\r\n",
       "<text text-anchor=\"middle\" x=\"171.5\" y=\"-512.8\" font-family=\"Helvetica,sans-Serif\" font-size=\"14.00\">value = [4, 28]</text>\r\n",
       "</g>\r\n",
       "<!-- 0&#45;&gt;1 -->\r\n",
       "<g id=\"edge1\" class=\"edge\"><title>0&#45;&gt;1</title>\r\n",
       "<path fill=\"none\" stroke=\"black\" d=\"M212.695,-608.884C207.581,-600.332 202.008,-591.013 196.661,-582.072\"/>\r\n",
       "<polygon fill=\"black\" stroke=\"black\" points=\"199.551,-580.085 191.414,-573.299 193.543,-583.678 199.551,-580.085\"/>\r\n",
       "<text text-anchor=\"middle\" x=\"185.316\" y=\"-593.844\" font-family=\"Helvetica,sans-Serif\" font-size=\"14.00\">True</text>\r\n",
       "</g>\r\n",
       "<!-- 12 -->\r\n",
       "<g id=\"node13\" class=\"node\"><title>12</title>\r\n",
       "<path fill=\"#eb9e67\" stroke=\"black\" d=\"M335,-573C335,-573 254,-573 254,-573 248,-573 242,-567 242,-561 242,-561 242,-517 242,-517 242,-511 248,-505 254,-505 254,-505 335,-505 335,-505 341,-505 347,-511 347,-517 347,-517 347,-561 347,-561 347,-567 341,-573 335,-573\"/>\r\n",
       "<text text-anchor=\"middle\" x=\"294.5\" y=\"-557.8\" font-family=\"Helvetica,sans-Serif\" font-size=\"14.00\">X[1] &lt;= 0.7</text>\r\n",
       "<text text-anchor=\"middle\" x=\"294.5\" y=\"-542.8\" font-family=\"Helvetica,sans-Serif\" font-size=\"14.00\">gini = 0.3</text>\r\n",
       "<text text-anchor=\"middle\" x=\"294.5\" y=\"-527.8\" font-family=\"Helvetica,sans-Serif\" font-size=\"14.00\">samples = 28</text>\r\n",
       "<text text-anchor=\"middle\" x=\"294.5\" y=\"-512.8\" font-family=\"Helvetica,sans-Serif\" font-size=\"14.00\">value = [39, 9]</text>\r\n",
       "</g>\r\n",
       "<!-- 0&#45;&gt;12 -->\r\n",
       "<g id=\"edge12\" class=\"edge\"><title>0&#45;&gt;12</title>\r\n",
       "<path fill=\"none\" stroke=\"black\" d=\"M252.63,-608.884C257.827,-600.332 263.492,-591.013 268.927,-582.072\"/>\r\n",
       "<polygon fill=\"black\" stroke=\"black\" points=\"272.056,-583.663 274.259,-573.299 266.074,-580.027 272.056,-583.663\"/>\r\n",
       "<text text-anchor=\"middle\" x=\"280.183\" y=\"-593.887\" font-family=\"Helvetica,sans-Serif\" font-size=\"14.00\">False</text>\r\n",
       "</g>\r\n",
       "<!-- 2 -->\r\n",
       "<g id=\"node3\" class=\"node\"><title>2</title>\r\n",
       "<path fill=\"#399de5\" stroke=\"black\" d=\"M93,-461.5C93,-461.5 12,-461.5 12,-461.5 6,-461.5 0,-455.5 0,-449.5 0,-449.5 0,-420.5 0,-420.5 0,-414.5 6,-408.5 12,-408.5 12,-408.5 93,-408.5 93,-408.5 99,-408.5 105,-414.5 105,-420.5 105,-420.5 105,-449.5 105,-449.5 105,-455.5 99,-461.5 93,-461.5\"/>\r\n",
       "<text text-anchor=\"middle\" x=\"52.5\" y=\"-446.3\" font-family=\"Helvetica,sans-Serif\" font-size=\"14.00\">gini = 0.0</text>\r\n",
       "<text text-anchor=\"middle\" x=\"52.5\" y=\"-431.3\" font-family=\"Helvetica,sans-Serif\" font-size=\"14.00\">samples = 15</text>\r\n",
       "<text text-anchor=\"middle\" x=\"52.5\" y=\"-416.3\" font-family=\"Helvetica,sans-Serif\" font-size=\"14.00\">value = [0, 20]</text>\r\n",
       "</g>\r\n",
       "<!-- 1&#45;&gt;2 -->\r\n",
       "<g id=\"edge2\" class=\"edge\"><title>1&#45;&gt;2</title>\r\n",
       "<path fill=\"none\" stroke=\"black\" d=\"M132.864,-504.884C119.135,-493.116 103.709,-479.894 90.0706,-468.203\"/>\r\n",
       "<polygon fill=\"black\" stroke=\"black\" points=\"92.1436,-465.37 82.2733,-461.52 87.5881,-470.685 92.1436,-465.37\"/>\r\n",
       "</g>\r\n",
       "<!-- 3 -->\r\n",
       "<g id=\"node4\" class=\"node\"><title>3</title>\r\n",
       "<path fill=\"#9ccef2\" stroke=\"black\" d=\"M210,-469C210,-469 135,-469 135,-469 129,-469 123,-463 123,-457 123,-457 123,-413 123,-413 123,-407 129,-401 135,-401 135,-401 210,-401 210,-401 216,-401 222,-407 222,-413 222,-413 222,-457 222,-457 222,-463 216,-469 210,-469\"/>\r\n",
       "<text text-anchor=\"middle\" x=\"172.5\" y=\"-453.8\" font-family=\"Helvetica,sans-Serif\" font-size=\"14.00\">X[1] &lt;= &#45;0.04</text>\r\n",
       "<text text-anchor=\"middle\" x=\"172.5\" y=\"-438.8\" font-family=\"Helvetica,sans-Serif\" font-size=\"14.00\">gini = 0.44</text>\r\n",
       "<text text-anchor=\"middle\" x=\"172.5\" y=\"-423.8\" font-family=\"Helvetica,sans-Serif\" font-size=\"14.00\">samples = 7</text>\r\n",
       "<text text-anchor=\"middle\" x=\"172.5\" y=\"-408.8\" font-family=\"Helvetica,sans-Serif\" font-size=\"14.00\">value = [4, 8]</text>\r\n",
       "</g>\r\n",
       "<!-- 1&#45;&gt;3 -->\r\n",
       "<g id=\"edge3\" class=\"edge\"><title>1&#45;&gt;3</title>\r\n",
       "<path fill=\"none\" stroke=\"black\" d=\"M171.825,-504.884C171.904,-496.778 171.99,-487.982 172.074,-479.472\"/>\r\n",
       "<polygon fill=\"black\" stroke=\"black\" points=\"175.575,-479.333 172.174,-469.299 168.576,-479.265 175.575,-479.333\"/>\r\n",
       "</g>\r\n",
       "<!-- 4 -->\r\n",
       "<g id=\"node5\" class=\"node\"><title>4</title>\r\n",
       "<path fill=\"#e58139\" stroke=\"black\" d=\"M93,-357.5C93,-357.5 20,-357.5 20,-357.5 14,-357.5 8,-351.5 8,-345.5 8,-345.5 8,-316.5 8,-316.5 8,-310.5 14,-304.5 20,-304.5 20,-304.5 93,-304.5 93,-304.5 99,-304.5 105,-310.5 105,-316.5 105,-316.5 105,-345.5 105,-345.5 105,-351.5 99,-357.5 93,-357.5\"/>\r\n",
       "<text text-anchor=\"middle\" x=\"56.5\" y=\"-342.3\" font-family=\"Helvetica,sans-Serif\" font-size=\"14.00\">gini = 0.0</text>\r\n",
       "<text text-anchor=\"middle\" x=\"56.5\" y=\"-327.3\" font-family=\"Helvetica,sans-Serif\" font-size=\"14.00\">samples = 1</text>\r\n",
       "<text text-anchor=\"middle\" x=\"56.5\" y=\"-312.3\" font-family=\"Helvetica,sans-Serif\" font-size=\"14.00\">value = [1, 0]</text>\r\n",
       "</g>\r\n",
       "<!-- 3&#45;&gt;4 -->\r\n",
       "<g id=\"edge4\" class=\"edge\"><title>3&#45;&gt;4</title>\r\n",
       "<path fill=\"none\" stroke=\"black\" d=\"M134.838,-400.884C121.455,-389.116 106.418,-375.894 93.1234,-364.203\"/>\r\n",
       "<polygon fill=\"black\" stroke=\"black\" points=\"95.3436,-361.495 85.5227,-357.52 90.7212,-366.752 95.3436,-361.495\"/>\r\n",
       "</g>\r\n",
       "<!-- 5 -->\r\n",
       "<g id=\"node6\" class=\"node\"><title>5</title>\r\n",
       "<path fill=\"#83c2ef\" stroke=\"black\" d=\"M210,-365C210,-365 135,-365 135,-365 129,-365 123,-359 123,-353 123,-353 123,-309 123,-309 123,-303 129,-297 135,-297 135,-297 210,-297 210,-297 216,-297 222,-303 222,-309 222,-309 222,-353 222,-353 222,-359 216,-365 210,-365\"/>\r\n",
       "<text text-anchor=\"middle\" x=\"172.5\" y=\"-349.8\" font-family=\"Helvetica,sans-Serif\" font-size=\"14.00\">X[0] &lt;= &#45;0.52</text>\r\n",
       "<text text-anchor=\"middle\" x=\"172.5\" y=\"-334.8\" font-family=\"Helvetica,sans-Serif\" font-size=\"14.00\">gini = 0.4</text>\r\n",
       "<text text-anchor=\"middle\" x=\"172.5\" y=\"-319.8\" font-family=\"Helvetica,sans-Serif\" font-size=\"14.00\">samples = 6</text>\r\n",
       "<text text-anchor=\"middle\" x=\"172.5\" y=\"-304.8\" font-family=\"Helvetica,sans-Serif\" font-size=\"14.00\">value = [3, 8]</text>\r\n",
       "</g>\r\n",
       "<!-- 3&#45;&gt;5 -->\r\n",
       "<g id=\"edge5\" class=\"edge\"><title>3&#45;&gt;5</title>\r\n",
       "<path fill=\"none\" stroke=\"black\" d=\"M172.5,-400.884C172.5,-392.778 172.5,-383.982 172.5,-375.472\"/>\r\n",
       "<polygon fill=\"black\" stroke=\"black\" points=\"176,-375.299 172.5,-365.299 169,-375.299 176,-375.299\"/>\r\n",
       "</g>\r\n",
       "<!-- 6 -->\r\n",
       "<g id=\"node7\" class=\"node\"><title>6</title>\r\n",
       "<path fill=\"#e58139\" stroke=\"black\" d=\"M151,-253.5C151,-253.5 78,-253.5 78,-253.5 72,-253.5 66,-247.5 66,-241.5 66,-241.5 66,-212.5 66,-212.5 66,-206.5 72,-200.5 78,-200.5 78,-200.5 151,-200.5 151,-200.5 157,-200.5 163,-206.5 163,-212.5 163,-212.5 163,-241.5 163,-241.5 163,-247.5 157,-253.5 151,-253.5\"/>\r\n",
       "<text text-anchor=\"middle\" x=\"114.5\" y=\"-238.3\" font-family=\"Helvetica,sans-Serif\" font-size=\"14.00\">gini = 0.0</text>\r\n",
       "<text text-anchor=\"middle\" x=\"114.5\" y=\"-223.3\" font-family=\"Helvetica,sans-Serif\" font-size=\"14.00\">samples = 1</text>\r\n",
       "<text text-anchor=\"middle\" x=\"114.5\" y=\"-208.3\" font-family=\"Helvetica,sans-Serif\" font-size=\"14.00\">value = [2, 0]</text>\r\n",
       "</g>\r\n",
       "<!-- 5&#45;&gt;6 -->\r\n",
       "<g id=\"edge6\" class=\"edge\"><title>5&#45;&gt;6</title>\r\n",
       "<path fill=\"none\" stroke=\"black\" d=\"M153.669,-296.884C147.415,-285.886 140.439,-273.617 134.127,-262.517\"/>\r\n",
       "<polygon fill=\"black\" stroke=\"black\" points=\"136.997,-260.483 129.011,-253.52 130.912,-263.943 136.997,-260.483\"/>\r\n",
       "</g>\r\n",
       "<!-- 7 -->\r\n",
       "<g id=\"node8\" class=\"node\"><title>7</title>\r\n",
       "<path fill=\"#52a9e8\" stroke=\"black\" d=\"M266,-261C266,-261 193,-261 193,-261 187,-261 181,-255 181,-249 181,-249 181,-205 181,-205 181,-199 187,-193 193,-193 193,-193 266,-193 266,-193 272,-193 278,-199 278,-205 278,-205 278,-249 278,-249 278,-255 272,-261 266,-261\"/>\r\n",
       "<text text-anchor=\"middle\" x=\"229.5\" y=\"-245.8\" font-family=\"Helvetica,sans-Serif\" font-size=\"14.00\">X[0] &lt;= 0.69</text>\r\n",
       "<text text-anchor=\"middle\" x=\"229.5\" y=\"-230.8\" font-family=\"Helvetica,sans-Serif\" font-size=\"14.00\">gini = 0.2</text>\r\n",
       "<text text-anchor=\"middle\" x=\"229.5\" y=\"-215.8\" font-family=\"Helvetica,sans-Serif\" font-size=\"14.00\">samples = 5</text>\r\n",
       "<text text-anchor=\"middle\" x=\"229.5\" y=\"-200.8\" font-family=\"Helvetica,sans-Serif\" font-size=\"14.00\">value = [1, 8]</text>\r\n",
       "</g>\r\n",
       "<!-- 5&#45;&gt;7 -->\r\n",
       "<g id=\"edge7\" class=\"edge\"><title>5&#45;&gt;7</title>\r\n",
       "<path fill=\"none\" stroke=\"black\" d=\"M191.006,-296.884C195.785,-288.332 200.993,-279.013 205.989,-270.072\"/>\r\n",
       "<polygon fill=\"black\" stroke=\"black\" points=\"209.069,-271.736 210.892,-261.299 202.958,-268.321 209.069,-271.736\"/>\r\n",
       "</g>\r\n",
       "<!-- 8 -->\r\n",
       "<g id=\"node9\" class=\"node\"><title>8</title>\r\n",
       "<path fill=\"#399de5\" stroke=\"black\" d=\"M208,-149.5C208,-149.5 135,-149.5 135,-149.5 129,-149.5 123,-143.5 123,-137.5 123,-137.5 123,-108.5 123,-108.5 123,-102.5 129,-96.5 135,-96.5 135,-96.5 208,-96.5 208,-96.5 214,-96.5 220,-102.5 220,-108.5 220,-108.5 220,-137.5 220,-137.5 220,-143.5 214,-149.5 208,-149.5\"/>\r\n",
       "<text text-anchor=\"middle\" x=\"171.5\" y=\"-134.3\" font-family=\"Helvetica,sans-Serif\" font-size=\"14.00\">gini = 0.0</text>\r\n",
       "<text text-anchor=\"middle\" x=\"171.5\" y=\"-119.3\" font-family=\"Helvetica,sans-Serif\" font-size=\"14.00\">samples = 3</text>\r\n",
       "<text text-anchor=\"middle\" x=\"171.5\" y=\"-104.3\" font-family=\"Helvetica,sans-Serif\" font-size=\"14.00\">value = [0, 5]</text>\r\n",
       "</g>\r\n",
       "<!-- 7&#45;&gt;8 -->\r\n",
       "<g id=\"edge8\" class=\"edge\"><title>7&#45;&gt;8</title>\r\n",
       "<path fill=\"none\" stroke=\"black\" d=\"M210.669,-192.884C204.415,-181.886 197.439,-169.617 191.127,-158.517\"/>\r\n",
       "<polygon fill=\"black\" stroke=\"black\" points=\"193.997,-156.483 186.011,-149.52 187.912,-159.943 193.997,-156.483\"/>\r\n",
       "</g>\r\n",
       "<!-- 9 -->\r\n",
       "<g id=\"node10\" class=\"node\"><title>9</title>\r\n",
       "<path fill=\"#7bbeee\" stroke=\"black\" d=\"M323,-157C323,-157 250,-157 250,-157 244,-157 238,-151 238,-145 238,-145 238,-101 238,-101 238,-95 244,-89 250,-89 250,-89 323,-89 323,-89 329,-89 335,-95 335,-101 335,-101 335,-145 335,-145 335,-151 329,-157 323,-157\"/>\r\n",
       "<text text-anchor=\"middle\" x=\"286.5\" y=\"-141.8\" font-family=\"Helvetica,sans-Serif\" font-size=\"14.00\">X[0] &lt;= 1.39</text>\r\n",
       "<text text-anchor=\"middle\" x=\"286.5\" y=\"-126.8\" font-family=\"Helvetica,sans-Serif\" font-size=\"14.00\">gini = 0.38</text>\r\n",
       "<text text-anchor=\"middle\" x=\"286.5\" y=\"-111.8\" font-family=\"Helvetica,sans-Serif\" font-size=\"14.00\">samples = 2</text>\r\n",
       "<text text-anchor=\"middle\" x=\"286.5\" y=\"-96.8\" font-family=\"Helvetica,sans-Serif\" font-size=\"14.00\">value = [1, 3]</text>\r\n",
       "</g>\r\n",
       "<!-- 7&#45;&gt;9 -->\r\n",
       "<g id=\"edge9\" class=\"edge\"><title>7&#45;&gt;9</title>\r\n",
       "<path fill=\"none\" stroke=\"black\" d=\"M248.006,-192.884C252.785,-184.332 257.993,-175.013 262.989,-166.072\"/>\r\n",
       "<polygon fill=\"black\" stroke=\"black\" points=\"266.069,-167.736 267.892,-157.299 259.958,-164.321 266.069,-167.736\"/>\r\n",
       "</g>\r\n",
       "<!-- 10 -->\r\n",
       "<g id=\"node11\" class=\"node\"><title>10</title>\r\n",
       "<path fill=\"#e58139\" stroke=\"black\" d=\"M265,-53C265,-53 192,-53 192,-53 186,-53 180,-47 180,-41 180,-41 180,-12 180,-12 180,-6 186,-0 192,-0 192,-0 265,-0 265,-0 271,-0 277,-6 277,-12 277,-12 277,-41 277,-41 277,-47 271,-53 265,-53\"/>\r\n",
       "<text text-anchor=\"middle\" x=\"228.5\" y=\"-37.8\" font-family=\"Helvetica,sans-Serif\" font-size=\"14.00\">gini = 0.0</text>\r\n",
       "<text text-anchor=\"middle\" x=\"228.5\" y=\"-22.8\" font-family=\"Helvetica,sans-Serif\" font-size=\"14.00\">samples = 1</text>\r\n",
       "<text text-anchor=\"middle\" x=\"228.5\" y=\"-7.8\" font-family=\"Helvetica,sans-Serif\" font-size=\"14.00\">value = [1, 0]</text>\r\n",
       "</g>\r\n",
       "<!-- 9&#45;&gt;10 -->\r\n",
       "<g id=\"edge10\" class=\"edge\"><title>9&#45;&gt;10</title>\r\n",
       "<path fill=\"none\" stroke=\"black\" d=\"M266.214,-88.9485C260.824,-80.1664 254.992,-70.6629 249.561,-61.815\"/>\r\n",
       "<polygon fill=\"black\" stroke=\"black\" points=\"252.51,-59.9287 244.296,-53.2367 246.544,-63.5903 252.51,-59.9287\"/>\r\n",
       "</g>\r\n",
       "<!-- 11 -->\r\n",
       "<g id=\"node12\" class=\"node\"><title>11</title>\r\n",
       "<path fill=\"#399de5\" stroke=\"black\" d=\"M380,-53C380,-53 307,-53 307,-53 301,-53 295,-47 295,-41 295,-41 295,-12 295,-12 295,-6 301,-0 307,-0 307,-0 380,-0 380,-0 386,-0 392,-6 392,-12 392,-12 392,-41 392,-41 392,-47 386,-53 380,-53\"/>\r\n",
       "<text text-anchor=\"middle\" x=\"343.5\" y=\"-37.8\" font-family=\"Helvetica,sans-Serif\" font-size=\"14.00\">gini = 0.0</text>\r\n",
       "<text text-anchor=\"middle\" x=\"343.5\" y=\"-22.8\" font-family=\"Helvetica,sans-Serif\" font-size=\"14.00\">samples = 1</text>\r\n",
       "<text text-anchor=\"middle\" x=\"343.5\" y=\"-7.8\" font-family=\"Helvetica,sans-Serif\" font-size=\"14.00\">value = [0, 3]</text>\r\n",
       "</g>\r\n",
       "<!-- 9&#45;&gt;11 -->\r\n",
       "<g id=\"edge11\" class=\"edge\"><title>9&#45;&gt;11</title>\r\n",
       "<path fill=\"none\" stroke=\"black\" d=\"M306.436,-88.9485C311.733,-80.1664 317.465,-70.6629 322.802,-61.815\"/>\r\n",
       "<polygon fill=\"black\" stroke=\"black\" points=\"325.808,-63.6074 327.976,-53.2367 319.814,-59.9919 325.808,-63.6074\"/>\r\n",
       "</g>\r\n",
       "<!-- 13 -->\r\n",
       "<g id=\"node14\" class=\"node\"><title>13</title>\r\n",
       "<path fill=\"#f1ba92\" stroke=\"black\" d=\"M334,-469C334,-469 253,-469 253,-469 247,-469 241,-463 241,-457 241,-457 241,-413 241,-413 241,-407 247,-401 253,-401 253,-401 334,-401 334,-401 340,-401 346,-407 346,-413 346,-413 346,-457 346,-457 346,-463 340,-469 334,-469\"/>\r\n",
       "<text text-anchor=\"middle\" x=\"293.5\" y=\"-453.8\" font-family=\"Helvetica,sans-Serif\" font-size=\"14.00\">X[0] &lt;= 1.41</text>\r\n",
       "<text text-anchor=\"middle\" x=\"293.5\" y=\"-438.8\" font-family=\"Helvetica,sans-Serif\" font-size=\"14.00\">gini = 0.43</text>\r\n",
       "<text text-anchor=\"middle\" x=\"293.5\" y=\"-423.8\" font-family=\"Helvetica,sans-Serif\" font-size=\"14.00\">samples = 17</text>\r\n",
       "<text text-anchor=\"middle\" x=\"293.5\" y=\"-408.8\" font-family=\"Helvetica,sans-Serif\" font-size=\"14.00\">value = [20, 9]</text>\r\n",
       "</g>\r\n",
       "<!-- 12&#45;&gt;13 -->\r\n",
       "<g id=\"edge13\" class=\"edge\"><title>12&#45;&gt;13</title>\r\n",
       "<path fill=\"none\" stroke=\"black\" d=\"M294.175,-504.884C294.096,-496.778 294.01,-487.982 293.926,-479.472\"/>\r\n",
       "<polygon fill=\"black\" stroke=\"black\" points=\"297.424,-479.265 293.826,-469.299 290.425,-479.333 297.424,-479.265\"/>\r\n",
       "</g>\r\n",
       "<!-- 16 -->\r\n",
       "<g id=\"node17\" class=\"node\"><title>16</title>\r\n",
       "<path fill=\"#e58139\" stroke=\"black\" d=\"M457,-461.5C457,-461.5 376,-461.5 376,-461.5 370,-461.5 364,-455.5 364,-449.5 364,-449.5 364,-420.5 364,-420.5 364,-414.5 370,-408.5 376,-408.5 376,-408.5 457,-408.5 457,-408.5 463,-408.5 469,-414.5 469,-420.5 469,-420.5 469,-449.5 469,-449.5 469,-455.5 463,-461.5 457,-461.5\"/>\r\n",
       "<text text-anchor=\"middle\" x=\"416.5\" y=\"-446.3\" font-family=\"Helvetica,sans-Serif\" font-size=\"14.00\">gini = 0.0</text>\r\n",
       "<text text-anchor=\"middle\" x=\"416.5\" y=\"-431.3\" font-family=\"Helvetica,sans-Serif\" font-size=\"14.00\">samples = 11</text>\r\n",
       "<text text-anchor=\"middle\" x=\"416.5\" y=\"-416.3\" font-family=\"Helvetica,sans-Serif\" font-size=\"14.00\">value = [19, 0]</text>\r\n",
       "</g>\r\n",
       "<!-- 12&#45;&gt;16 -->\r\n",
       "<g id=\"edge16\" class=\"edge\"><title>12&#45;&gt;16</title>\r\n",
       "<path fill=\"none\" stroke=\"black\" d=\"M334.11,-504.884C348.185,-493.116 364,-479.894 377.982,-468.203\"/>\r\n",
       "<polygon fill=\"black\" stroke=\"black\" points=\"380.549,-470.619 385.976,-461.52 376.059,-465.249 380.549,-470.619\"/>\r\n",
       "</g>\r\n",
       "<!-- 14 -->\r\n",
       "<g id=\"node15\" class=\"node\"><title>14</title>\r\n",
       "<path fill=\"#e58139\" stroke=\"black\" d=\"M333,-357.5C333,-357.5 252,-357.5 252,-357.5 246,-357.5 240,-351.5 240,-345.5 240,-345.5 240,-316.5 240,-316.5 240,-310.5 246,-304.5 252,-304.5 252,-304.5 333,-304.5 333,-304.5 339,-304.5 345,-310.5 345,-316.5 345,-316.5 345,-345.5 345,-345.5 345,-351.5 339,-357.5 333,-357.5\"/>\r\n",
       "<text text-anchor=\"middle\" x=\"292.5\" y=\"-342.3\" font-family=\"Helvetica,sans-Serif\" font-size=\"14.00\">gini = 0.0</text>\r\n",
       "<text text-anchor=\"middle\" x=\"292.5\" y=\"-327.3\" font-family=\"Helvetica,sans-Serif\" font-size=\"14.00\">samples = 13</text>\r\n",
       "<text text-anchor=\"middle\" x=\"292.5\" y=\"-312.3\" font-family=\"Helvetica,sans-Serif\" font-size=\"14.00\">value = [20, 0]</text>\r\n",
       "</g>\r\n",
       "<!-- 13&#45;&gt;14 -->\r\n",
       "<g id=\"edge14\" class=\"edge\"><title>13&#45;&gt;14</title>\r\n",
       "<path fill=\"none\" stroke=\"black\" d=\"M293.175,-400.884C293.072,-390.326 292.957,-378.597 292.852,-367.854\"/>\r\n",
       "<polygon fill=\"black\" stroke=\"black\" points=\"296.348,-367.485 292.75,-357.52 289.348,-367.554 296.348,-367.485\"/>\r\n",
       "</g>\r\n",
       "<!-- 15 -->\r\n",
       "<g id=\"node16\" class=\"node\"><title>15</title>\r\n",
       "<path fill=\"#399de5\" stroke=\"black\" d=\"M448,-357.5C448,-357.5 375,-357.5 375,-357.5 369,-357.5 363,-351.5 363,-345.5 363,-345.5 363,-316.5 363,-316.5 363,-310.5 369,-304.5 375,-304.5 375,-304.5 448,-304.5 448,-304.5 454,-304.5 460,-310.5 460,-316.5 460,-316.5 460,-345.5 460,-345.5 460,-351.5 454,-357.5 448,-357.5\"/>\r\n",
       "<text text-anchor=\"middle\" x=\"411.5\" y=\"-342.3\" font-family=\"Helvetica,sans-Serif\" font-size=\"14.00\">gini = 0.0</text>\r\n",
       "<text text-anchor=\"middle\" x=\"411.5\" y=\"-327.3\" font-family=\"Helvetica,sans-Serif\" font-size=\"14.00\">samples = 4</text>\r\n",
       "<text text-anchor=\"middle\" x=\"411.5\" y=\"-312.3\" font-family=\"Helvetica,sans-Serif\" font-size=\"14.00\">value = [0, 9]</text>\r\n",
       "</g>\r\n",
       "<!-- 13&#45;&gt;15 -->\r\n",
       "<g id=\"edge15\" class=\"edge\"><title>13&#45;&gt;15</title>\r\n",
       "<path fill=\"none\" stroke=\"black\" d=\"M331.811,-400.884C345.425,-389.116 360.721,-375.894 374.245,-364.203\"/>\r\n",
       "<polygon fill=\"black\" stroke=\"black\" points=\"376.7,-366.707 381.977,-357.52 372.123,-361.412 376.7,-366.707\"/>\r\n",
       "</g>\r\n",
       "</g>\r\n",
       "</svg>\r\n"
      ],
      "text/plain": [
       "<graphviz.files.Source at 0x269df98d4e0>"
      ]
     },
     "execution_count": 18,
     "metadata": {},
     "output_type": "execute_result"
    }
   ],
   "source": [
    "with open(\"rf0.dot\") as f:\n",
    "    a = f.read()\n",
    "graphviz.Source(a)"
   ]
  },
  {
   "cell_type": "code",
   "execution_count": 74,
   "metadata": {},
   "outputs": [],
   "source": [
    "# 1. 데이터 불러오기\n",
    "iris_data = datasets.load_iris()\n",
    "\n",
    "X = iris_data['data']\n",
    "y = iris_data['target']\n",
    "\n",
    "X_train,X_test,y_train,y_test=train_test_split(X,y,test_size=0.25,random_state=1001)"
   ]
  },
  {
   "cell_type": "code",
   "execution_count": 75,
   "metadata": {},
   "outputs": [
    {
     "data": {
      "text/plain": [
       "'1.000,0.974'"
      ]
     },
     "execution_count": 75,
     "metadata": {},
     "output_type": "execute_result"
    }
   ],
   "source": [
    "# 2. modeling\n",
    "RF_iris = RandomForestClassifier(n_estimators=10)\n",
    "RF_iris.fit(X_train,y_train)\n",
    "'{:.3f},{:.3f}'.format(RF_iris.score(X_train,y_train),RF_iris.score(X_test,y_test))\n"
   ]
  },
  {
   "cell_type": "code",
   "execution_count": 86,
   "metadata": {},
   "outputs": [],
   "source": [
    "train_acc=[]\n",
    "test_acc=[]\n",
    "n_estimators = range(1,201,5)\n",
    "\n",
    "for n_estimator in n_estimators:\n",
    "    RF = RandomForestClassifier(n_estimators=n_estimator)\n",
    "    RF.fit(X_train,y_train)\n",
    "    \n",
    "    train_acc.append(RF.score(X_train,y_train))\n",
    "    test_acc.append(RF.score(X_test,y_test))"
   ]
  },
  {
   "cell_type": "code",
   "execution_count": 87,
   "metadata": {},
   "outputs": [
    {
     "data": {
      "text/plain": [
       "[<matplotlib.lines.Line2D at 0x269e2c28c18>]"
      ]
     },
     "execution_count": 87,
     "metadata": {},
     "output_type": "execute_result"
    },
    {
     "data": {
      "image/png": "[encoded data removed]",
      "text/plain": [
       "<Figure size 1440x720 with 1 Axes>"
      ]
     },
     "metadata": {
      "needs_background": "light"
     },
     "output_type": "display_data"
    }
   ],
   "source": [
    "plt.figure(figsize=(20,10))\n",
    "plt.plot(n_estimators,train_acc)\n",
    "plt.plot(n_estimators,test_acc)"
   ]
  },
  {
   "cell_type": "code",
   "execution_count": 88,
   "metadata": {},
   "outputs": [
    {
     "data": {
      "text/plain": [
       "array([0.10067952, 0.04499078, 0.49649511, 0.3578346 ])"
      ]
     },
     "execution_count": 88,
     "metadata": {},
     "output_type": "execute_result"
    }
   ],
   "source": [
    "# 변수 중요도\n",
    "RF_iris.feature_importances_"
   ]
  },
  {
   "cell_type": "code",
   "execution_count": null,
   "metadata": {},
   "outputs": [],
   "source": []
  }
 ],
 "metadata": {
  "kernelspec": {
   "display_name": "Python 3",
   "language": "python",
   "name": "python3"
  },
  "language_info": {
   "codemirror_mode": {
    "name": "ipython",
    "version": 3
   },
   "file_extension": ".py",
   "mimetype": "text/x-python",
   "name": "python",
   "nbconvert_exporter": "python",
   "pygments_lexer": "ipython3",
   "version": "3.7.3"
  }
 },
 "nbformat": 4,
 "nbformat_minor": 4
}
